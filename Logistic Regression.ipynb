{
 "cells": [
  {
   "cell_type": "markdown",
   "metadata": {},
   "source": [
    "# Logistic Regression\n",
    "\n",
    "In this notebook, I will be deploying a logistic regression model to classify loan applicants as a \"good\" credit risk vs a \"bad\" credit risk and will be using the GermanCredit data set http://archive.ics.uci.edu/ml/machinelearning-databases/statlog/german data dictionary at\n",
    "http://archive.ics.uci.edu/ml/datasets/Statlog+%28German+Credit+Data%29"
   ]
  },
  {
   "cell_type": "markdown",
   "metadata": {},
   "source": [
    "\n",
    "\n",
    "### Load data and check head\n",
    "\n"
   ]
  },
  {
   "cell_type": "code",
   "execution_count": 22,
   "metadata": {},
   "outputs": [
    {
     "data": {
      "text/html": [
       "<table>\n",
       "<thead><tr><th scope=col>V1</th><th scope=col>V2</th><th scope=col>V3</th><th scope=col>V4</th><th scope=col>V5</th><th scope=col>V6</th><th scope=col>V7</th><th scope=col>V8</th><th scope=col>V9</th><th scope=col>V10</th><th scope=col>...</th><th scope=col>V12</th><th scope=col>V13</th><th scope=col>V14</th><th scope=col>V15</th><th scope=col>V16</th><th scope=col>V17</th><th scope=col>V18</th><th scope=col>V19</th><th scope=col>V20</th><th scope=col>V21</th></tr></thead>\n",
       "<tbody>\n",
       "\t<tr><td>A11 </td><td> 6  </td><td>A34 </td><td>A43 </td><td>1169</td><td>A65 </td><td>A75 </td><td>4   </td><td>A93 </td><td>A101</td><td>... </td><td>A121</td><td>67  </td><td>A143</td><td>A152</td><td>2   </td><td>A173</td><td>1   </td><td>A192</td><td>A201</td><td>1   </td></tr>\n",
       "\t<tr><td>A12 </td><td>48  </td><td>A32 </td><td>A43 </td><td>5951</td><td>A61 </td><td>A73 </td><td>2   </td><td>A92 </td><td>A101</td><td>... </td><td>A121</td><td>22  </td><td>A143</td><td>A152</td><td>1   </td><td>A173</td><td>1   </td><td>A191</td><td>A201</td><td>2   </td></tr>\n",
       "\t<tr><td>A14 </td><td>12  </td><td>A34 </td><td>A46 </td><td>2096</td><td>A61 </td><td>A74 </td><td>2   </td><td>A93 </td><td>A101</td><td>... </td><td>A121</td><td>49  </td><td>A143</td><td>A152</td><td>1   </td><td>A172</td><td>2   </td><td>A191</td><td>A201</td><td>1   </td></tr>\n",
       "\t<tr><td>A11 </td><td>42  </td><td>A32 </td><td>A42 </td><td>7882</td><td>A61 </td><td>A74 </td><td>2   </td><td>A93 </td><td>A103</td><td>... </td><td>A122</td><td>45  </td><td>A143</td><td>A153</td><td>1   </td><td>A173</td><td>2   </td><td>A191</td><td>A201</td><td>1   </td></tr>\n",
       "\t<tr><td>A11 </td><td>24  </td><td>A33 </td><td>A40 </td><td>4870</td><td>A61 </td><td>A73 </td><td>3   </td><td>A93 </td><td>A101</td><td>... </td><td>A124</td><td>53  </td><td>A143</td><td>A153</td><td>2   </td><td>A173</td><td>2   </td><td>A191</td><td>A201</td><td>2   </td></tr>\n",
       "\t<tr><td>A14 </td><td>36  </td><td>A32 </td><td>A46 </td><td>9055</td><td>A65 </td><td>A73 </td><td>2   </td><td>A93 </td><td>A101</td><td>... </td><td>A124</td><td>35  </td><td>A143</td><td>A153</td><td>1   </td><td>A172</td><td>2   </td><td>A192</td><td>A201</td><td>1   </td></tr>\n",
       "</tbody>\n",
       "</table>\n"
      ],
      "text/latex": [
       "\\begin{tabular}{r|lllllllllllllllllllll}\n",
       " V1 & V2 & V3 & V4 & V5 & V6 & V7 & V8 & V9 & V10 & ... & V12 & V13 & V14 & V15 & V16 & V17 & V18 & V19 & V20 & V21\\\\\n",
       "\\hline\n",
       "\t A11  &  6   & A34  & A43  & 1169 & A65  & A75  & 4    & A93  & A101 & ...  & A121 & 67   & A143 & A152 & 2    & A173 & 1    & A192 & A201 & 1   \\\\\n",
       "\t A12  & 48   & A32  & A43  & 5951 & A61  & A73  & 2    & A92  & A101 & ...  & A121 & 22   & A143 & A152 & 1    & A173 & 1    & A191 & A201 & 2   \\\\\n",
       "\t A14  & 12   & A34  & A46  & 2096 & A61  & A74  & 2    & A93  & A101 & ...  & A121 & 49   & A143 & A152 & 1    & A172 & 2    & A191 & A201 & 1   \\\\\n",
       "\t A11  & 42   & A32  & A42  & 7882 & A61  & A74  & 2    & A93  & A103 & ...  & A122 & 45   & A143 & A153 & 1    & A173 & 2    & A191 & A201 & 1   \\\\\n",
       "\t A11  & 24   & A33  & A40  & 4870 & A61  & A73  & 3    & A93  & A101 & ...  & A124 & 53   & A143 & A153 & 2    & A173 & 2    & A191 & A201 & 2   \\\\\n",
       "\t A14  & 36   & A32  & A46  & 9055 & A65  & A73  & 2    & A93  & A101 & ...  & A124 & 35   & A143 & A153 & 1    & A172 & 2    & A192 & A201 & 1   \\\\\n",
       "\\end{tabular}\n"
      ],
      "text/markdown": [
       "\n",
       "V1 | V2 | V3 | V4 | V5 | V6 | V7 | V8 | V9 | V10 | ... | V12 | V13 | V14 | V15 | V16 | V17 | V18 | V19 | V20 | V21 | \n",
       "|---|---|---|---|---|---|\n",
       "| A11  |  6   | A34  | A43  | 1169 | A65  | A75  | 4    | A93  | A101 | ...  | A121 | 67   | A143 | A152 | 2    | A173 | 1    | A192 | A201 | 1    | \n",
       "| A12  | 48   | A32  | A43  | 5951 | A61  | A73  | 2    | A92  | A101 | ...  | A121 | 22   | A143 | A152 | 1    | A173 | 1    | A191 | A201 | 2    | \n",
       "| A14  | 12   | A34  | A46  | 2096 | A61  | A74  | 2    | A93  | A101 | ...  | A121 | 49   | A143 | A152 | 1    | A172 | 2    | A191 | A201 | 1    | \n",
       "| A11  | 42   | A32  | A42  | 7882 | A61  | A74  | 2    | A93  | A103 | ...  | A122 | 45   | A143 | A153 | 1    | A173 | 2    | A191 | A201 | 1    | \n",
       "| A11  | 24   | A33  | A40  | 4870 | A61  | A73  | 3    | A93  | A101 | ...  | A124 | 53   | A143 | A153 | 2    | A173 | 2    | A191 | A201 | 2    | \n",
       "| A14  | 36   | A32  | A46  | 9055 | A65  | A73  | 2    | A93  | A101 | ...  | A124 | 35   | A143 | A153 | 1    | A172 | 2    | A192 | A201 | 1    | \n",
       "\n",
       "\n"
      ],
      "text/plain": [
       "  V1  V2 V3  V4  V5   V6  V7  V8 V9  V10  ... V12  V13 V14  V15  V16 V17  V18\n",
       "1 A11  6 A34 A43 1169 A65 A75 4  A93 A101 ... A121 67  A143 A152 2   A173 1  \n",
       "2 A12 48 A32 A43 5951 A61 A73 2  A92 A101 ... A121 22  A143 A152 1   A173 1  \n",
       "3 A14 12 A34 A46 2096 A61 A74 2  A93 A101 ... A121 49  A143 A152 1   A172 2  \n",
       "4 A11 42 A32 A42 7882 A61 A74 2  A93 A103 ... A122 45  A143 A153 1   A173 2  \n",
       "5 A11 24 A33 A40 4870 A61 A73 3  A93 A101 ... A124 53  A143 A153 2   A173 2  \n",
       "6 A14 36 A32 A46 9055 A65 A73 2  A93 A101 ... A124 35  A143 A153 1   A172 2  \n",
       "  V19  V20  V21\n",
       "1 A192 A201 1  \n",
       "2 A191 A201 2  \n",
       "3 A191 A201 1  \n",
       "4 A191 A201 1  \n",
       "5 A191 A201 2  \n",
       "6 A192 A201 1  "
      ]
     },
     "metadata": {},
     "output_type": "display_data"
    }
   ],
   "source": [
    "credit <- read.table(\"germancredit.txt\")\n",
    "head(credit)"
   ]
  },
  {
   "cell_type": "markdown",
   "metadata": {},
   "source": [
    "\n",
    "\n",
    "### Convert response to 1's and 0's\n",
    "\n",
    "Since binomial family of `glm` function recognizes 0 and 1 as the classfication values, so our first step is to convert 1s and 2s to 0s and 1s as a factor for the response variable.\n",
    "\n"
   ]
  },
  {
   "cell_type": "code",
   "execution_count": 23,
   "metadata": {},
   "outputs": [
    {
     "data": {
      "text/html": [
       "<table>\n",
       "<thead><tr><th scope=col>V1</th><th scope=col>V2</th><th scope=col>V3</th><th scope=col>V4</th><th scope=col>V5</th><th scope=col>V6</th><th scope=col>V7</th><th scope=col>V8</th><th scope=col>V9</th><th scope=col>V10</th><th scope=col>...</th><th scope=col>V12</th><th scope=col>V13</th><th scope=col>V14</th><th scope=col>V15</th><th scope=col>V16</th><th scope=col>V17</th><th scope=col>V18</th><th scope=col>V19</th><th scope=col>V20</th><th scope=col>V21</th></tr></thead>\n",
       "<tbody>\n",
       "\t<tr><td>A11 </td><td> 6  </td><td>A34 </td><td>A43 </td><td>1169</td><td>A65 </td><td>A75 </td><td>4   </td><td>A93 </td><td>A101</td><td>... </td><td>A121</td><td>67  </td><td>A143</td><td>A152</td><td>2   </td><td>A173</td><td>1   </td><td>A192</td><td>A201</td><td>Good</td></tr>\n",
       "\t<tr><td>A12 </td><td>48  </td><td>A32 </td><td>A43 </td><td>5951</td><td>A61 </td><td>A73 </td><td>2   </td><td>A92 </td><td>A101</td><td>... </td><td>A121</td><td>22  </td><td>A143</td><td>A152</td><td>1   </td><td>A173</td><td>1   </td><td>A191</td><td>A201</td><td>Bad </td></tr>\n",
       "\t<tr><td>A14 </td><td>12  </td><td>A34 </td><td>A46 </td><td>2096</td><td>A61 </td><td>A74 </td><td>2   </td><td>A93 </td><td>A101</td><td>... </td><td>A121</td><td>49  </td><td>A143</td><td>A152</td><td>1   </td><td>A172</td><td>2   </td><td>A191</td><td>A201</td><td>Good</td></tr>\n",
       "\t<tr><td>A11 </td><td>42  </td><td>A32 </td><td>A42 </td><td>7882</td><td>A61 </td><td>A74 </td><td>2   </td><td>A93 </td><td>A103</td><td>... </td><td>A122</td><td>45  </td><td>A143</td><td>A153</td><td>1   </td><td>A173</td><td>2   </td><td>A191</td><td>A201</td><td>Good</td></tr>\n",
       "\t<tr><td>A11 </td><td>24  </td><td>A33 </td><td>A40 </td><td>4870</td><td>A61 </td><td>A73 </td><td>3   </td><td>A93 </td><td>A101</td><td>... </td><td>A124</td><td>53  </td><td>A143</td><td>A153</td><td>2   </td><td>A173</td><td>2   </td><td>A191</td><td>A201</td><td>Bad </td></tr>\n",
       "\t<tr><td>A14 </td><td>36  </td><td>A32 </td><td>A46 </td><td>9055</td><td>A65 </td><td>A73 </td><td>2   </td><td>A93 </td><td>A101</td><td>... </td><td>A124</td><td>35  </td><td>A143</td><td>A153</td><td>1   </td><td>A172</td><td>2   </td><td>A192</td><td>A201</td><td>Good</td></tr>\n",
       "</tbody>\n",
       "</table>\n"
      ],
      "text/latex": [
       "\\begin{tabular}{r|lllllllllllllllllllll}\n",
       " V1 & V2 & V3 & V4 & V5 & V6 & V7 & V8 & V9 & V10 & ... & V12 & V13 & V14 & V15 & V16 & V17 & V18 & V19 & V20 & V21\\\\\n",
       "\\hline\n",
       "\t A11  &  6   & A34  & A43  & 1169 & A65  & A75  & 4    & A93  & A101 & ...  & A121 & 67   & A143 & A152 & 2    & A173 & 1    & A192 & A201 & Good\\\\\n",
       "\t A12  & 48   & A32  & A43  & 5951 & A61  & A73  & 2    & A92  & A101 & ...  & A121 & 22   & A143 & A152 & 1    & A173 & 1    & A191 & A201 & Bad \\\\\n",
       "\t A14  & 12   & A34  & A46  & 2096 & A61  & A74  & 2    & A93  & A101 & ...  & A121 & 49   & A143 & A152 & 1    & A172 & 2    & A191 & A201 & Good\\\\\n",
       "\t A11  & 42   & A32  & A42  & 7882 & A61  & A74  & 2    & A93  & A103 & ...  & A122 & 45   & A143 & A153 & 1    & A173 & 2    & A191 & A201 & Good\\\\\n",
       "\t A11  & 24   & A33  & A40  & 4870 & A61  & A73  & 3    & A93  & A101 & ...  & A124 & 53   & A143 & A153 & 2    & A173 & 2    & A191 & A201 & Bad \\\\\n",
       "\t A14  & 36   & A32  & A46  & 9055 & A65  & A73  & 2    & A93  & A101 & ...  & A124 & 35   & A143 & A153 & 1    & A172 & 2    & A192 & A201 & Good\\\\\n",
       "\\end{tabular}\n"
      ],
      "text/markdown": [
       "\n",
       "V1 | V2 | V3 | V4 | V5 | V6 | V7 | V8 | V9 | V10 | ... | V12 | V13 | V14 | V15 | V16 | V17 | V18 | V19 | V20 | V21 | \n",
       "|---|---|---|---|---|---|\n",
       "| A11  |  6   | A34  | A43  | 1169 | A65  | A75  | 4    | A93  | A101 | ...  | A121 | 67   | A143 | A152 | 2    | A173 | 1    | A192 | A201 | Good | \n",
       "| A12  | 48   | A32  | A43  | 5951 | A61  | A73  | 2    | A92  | A101 | ...  | A121 | 22   | A143 | A152 | 1    | A173 | 1    | A191 | A201 | Bad  | \n",
       "| A14  | 12   | A34  | A46  | 2096 | A61  | A74  | 2    | A93  | A101 | ...  | A121 | 49   | A143 | A152 | 1    | A172 | 2    | A191 | A201 | Good | \n",
       "| A11  | 42   | A32  | A42  | 7882 | A61  | A74  | 2    | A93  | A103 | ...  | A122 | 45   | A143 | A153 | 1    | A173 | 2    | A191 | A201 | Good | \n",
       "| A11  | 24   | A33  | A40  | 4870 | A61  | A73  | 3    | A93  | A101 | ...  | A124 | 53   | A143 | A153 | 2    | A173 | 2    | A191 | A201 | Bad  | \n",
       "| A14  | 36   | A32  | A46  | 9055 | A65  | A73  | 2    | A93  | A101 | ...  | A124 | 35   | A143 | A153 | 1    | A172 | 2    | A192 | A201 | Good | \n",
       "\n",
       "\n"
      ],
      "text/plain": [
       "  V1  V2 V3  V4  V5   V6  V7  V8 V9  V10  ... V12  V13 V14  V15  V16 V17  V18\n",
       "1 A11  6 A34 A43 1169 A65 A75 4  A93 A101 ... A121 67  A143 A152 2   A173 1  \n",
       "2 A12 48 A32 A43 5951 A61 A73 2  A92 A101 ... A121 22  A143 A152 1   A173 1  \n",
       "3 A14 12 A34 A46 2096 A61 A74 2  A93 A101 ... A121 49  A143 A152 1   A172 2  \n",
       "4 A11 42 A32 A42 7882 A61 A74 2  A93 A103 ... A122 45  A143 A153 1   A173 2  \n",
       "5 A11 24 A33 A40 4870 A61 A73 3  A93 A101 ... A124 53  A143 A153 2   A173 2  \n",
       "6 A14 36 A32 A46 9055 A65 A73 2  A93 A101 ... A124 35  A143 A153 1   A172 2  \n",
       "  V19  V20  V21 \n",
       "1 A192 A201 Good\n",
       "2 A191 A201 Bad \n",
       "3 A191 A201 Good\n",
       "4 A191 A201 Good\n",
       "5 A191 A201 Bad \n",
       "6 A192 A201 Good"
      ]
     },
     "metadata": {},
     "output_type": "display_data"
    }
   ],
   "source": [
    "credit$V21[credit$V21==1]<-0\n",
    "credit$V21[credit$V21==2]<-1\n",
    "credit$V21 <- factor(credit$V21,levels=c(0,1),labels=c(\"Good\", \"Bad\"))\n",
    "head(credit)"
   ]
  },
  {
   "cell_type": "code",
   "execution_count": 24,
   "metadata": {},
   "outputs": [
    {
     "data": {
      "text/plain": [
       "\n",
       "Good  Bad \n",
       " 700  300 "
      ]
     },
     "metadata": {},
     "output_type": "display_data"
    }
   ],
   "source": [
    "table(credit$V21)"
   ]
  },
  {
   "cell_type": "markdown",
   "metadata": {},
   "source": [
    "\n",
    "\n",
    "The dataset is biased towards \"good\" credit risk. This is not neccesarily a bad thing because we can really dive into the features that lead to an applicant being a \"bad\" credit risk.\n",
    "\n"
   ]
  },
  {
   "cell_type": "markdown",
   "metadata": {},
   "source": [
    "\n",
    "\n",
    "### Check summary of data\n",
    "\n"
   ]
  },
  {
   "cell_type": "code",
   "execution_count": 25,
   "metadata": {},
   "outputs": [
    {
     "data": {
      "text/plain": [
       "   V1            V2         V3            V4            V5          V6     \n",
       " A11:274   Min.   : 4.0   A30: 40   A43    :280   Min.   :  250   A61:603  \n",
       " A12:269   1st Qu.:12.0   A31: 49   A40    :234   1st Qu.: 1366   A62:103  \n",
       " A13: 63   Median :18.0   A32:530   A42    :181   Median : 2320   A63: 63  \n",
       " A14:394   Mean   :20.9   A33: 88   A41    :103   Mean   : 3271   A64: 48  \n",
       "           3rd Qu.:24.0   A34:293   A49    : 97   3rd Qu.: 3972   A65:183  \n",
       "           Max.   :72.0             A46    : 50   Max.   :18424            \n",
       "                                    (Other): 55                            \n",
       "   V7            V8          V9        V10           V11          V12     \n",
       " A71: 62   Min.   :1.000   A91: 50   A101:907   Min.   :1.000   A121:282  \n",
       " A72:172   1st Qu.:2.000   A92:310   A102: 41   1st Qu.:2.000   A122:232  \n",
       " A73:339   Median :3.000   A93:548   A103: 52   Median :3.000   A123:332  \n",
       " A74:174   Mean   :2.973   A94: 92              Mean   :2.845   A124:154  \n",
       " A75:253   3rd Qu.:4.000                        3rd Qu.:4.000             \n",
       "           Max.   :4.000                        Max.   :4.000             \n",
       "                                                                          \n",
       "      V13          V14        V15           V16          V17     \n",
       " Min.   :19.00   A141:139   A151:179   Min.   :1.000   A171: 22  \n",
       " 1st Qu.:27.00   A142: 47   A152:713   1st Qu.:1.000   A172:200  \n",
       " Median :33.00   A143:814   A153:108   Median :1.000   A173:630  \n",
       " Mean   :35.55                         Mean   :1.407   A174:148  \n",
       " 3rd Qu.:42.00                         3rd Qu.:2.000             \n",
       " Max.   :75.00                         Max.   :4.000             \n",
       "                                                                 \n",
       "      V18          V19        V20        V21     \n",
       " Min.   :1.000   A191:596   A201:963   Good:700  \n",
       " 1st Qu.:1.000   A192:404   A202: 37   Bad :300  \n",
       " Median :1.000                                   \n",
       " Mean   :1.155                                   \n",
       " 3rd Qu.:1.000                                   \n",
       " Max.   :2.000                                   \n",
       "                                                 "
      ]
     },
     "metadata": {},
     "output_type": "display_data"
    }
   ],
   "source": [
    "summary(credit)"
   ]
  },
  {
   "cell_type": "markdown",
   "metadata": {},
   "source": [
    "\n",
    "\n",
    "### Check str of data\n",
    "\n"
   ]
  },
  {
   "cell_type": "code",
   "execution_count": 26,
   "metadata": {},
   "outputs": [
    {
     "name": "stdout",
     "output_type": "stream",
     "text": [
      "'data.frame':\t1000 obs. of  21 variables:\n",
      " $ V1 : Factor w/ 4 levels \"A11\",\"A12\",\"A13\",..: 1 2 4 1 1 4 4 2 4 2 ...\n",
      " $ V2 : int  6 48 12 42 24 36 24 36 12 30 ...\n",
      " $ V3 : Factor w/ 5 levels \"A30\",\"A31\",\"A32\",..: 5 3 5 3 4 3 3 3 3 5 ...\n",
      " $ V4 : Factor w/ 10 levels \"A40\",\"A41\",\"A410\",..: 5 5 8 4 1 8 4 2 5 1 ...\n",
      " $ V5 : int  1169 5951 2096 7882 4870 9055 2835 6948 3059 5234 ...\n",
      " $ V6 : Factor w/ 5 levels \"A61\",\"A62\",\"A63\",..: 5 1 1 1 1 5 3 1 4 1 ...\n",
      " $ V7 : Factor w/ 5 levels \"A71\",\"A72\",\"A73\",..: 5 3 4 4 3 3 5 3 4 1 ...\n",
      " $ V8 : int  4 2 2 2 3 2 3 2 2 4 ...\n",
      " $ V9 : Factor w/ 4 levels \"A91\",\"A92\",\"A93\",..: 3 2 3 3 3 3 3 3 1 4 ...\n",
      " $ V10: Factor w/ 3 levels \"A101\",\"A102\",..: 1 1 1 3 1 1 1 1 1 1 ...\n",
      " $ V11: int  4 2 3 4 4 4 4 2 4 2 ...\n",
      " $ V12: Factor w/ 4 levels \"A121\",\"A122\",..: 1 1 1 2 4 4 2 3 1 3 ...\n",
      " $ V13: int  67 22 49 45 53 35 53 35 61 28 ...\n",
      " $ V14: Factor w/ 3 levels \"A141\",\"A142\",..: 3 3 3 3 3 3 3 3 3 3 ...\n",
      " $ V15: Factor w/ 3 levels \"A151\",\"A152\",..: 2 2 2 3 3 3 2 1 2 2 ...\n",
      " $ V16: int  2 1 1 1 2 1 1 1 1 2 ...\n",
      " $ V17: Factor w/ 4 levels \"A171\",\"A172\",..: 3 3 2 3 3 2 3 4 2 4 ...\n",
      " $ V18: int  1 1 2 2 2 2 1 1 1 1 ...\n",
      " $ V19: Factor w/ 2 levels \"A191\",\"A192\": 2 1 1 1 1 2 1 2 1 1 ...\n",
      " $ V20: Factor w/ 2 levels \"A201\",\"A202\": 1 1 1 1 1 1 1 1 1 1 ...\n",
      " $ V21: Factor w/ 2 levels \"Good\",\"Bad\": 1 2 1 1 2 1 1 1 1 2 ...\n"
     ]
    }
   ],
   "source": [
    "str(credit)"
   ]
  },
  {
   "cell_type": "markdown",
   "metadata": {},
   "source": [
    "\n",
    "\n",
    "### Initial logistic regression model with all features present\n",
    "\n",
    "To build a logistic regression model we must use the `glm` function. For our logistic regression `glm` model, I will use the `binomial` family with a `logit` link.\n",
    "\n"
   ]
  },
  {
   "cell_type": "code",
   "execution_count": 27,
   "metadata": {},
   "outputs": [
    {
     "data": {
      "text/plain": [
       "\n",
       "Call:\n",
       "glm(formula = V21 ~ ., family = binomial(link = \"logit\"), data = credit)\n",
       "\n",
       "Deviance Residuals: \n",
       "    Min       1Q   Median       3Q      Max  \n",
       "-2.3410  -0.6994  -0.3752   0.7095   2.6116  \n",
       "\n",
       "Coefficients:\n",
       "              Estimate Std. Error z value Pr(>|z|)    \n",
       "(Intercept)  4.005e-01  1.084e+00   0.369 0.711869    \n",
       "V1A12       -3.749e-01  2.179e-01  -1.720 0.085400 .  \n",
       "V1A13       -9.657e-01  3.692e-01  -2.616 0.008905 ** \n",
       "V1A14       -1.712e+00  2.322e-01  -7.373 1.66e-13 ***\n",
       "V2           2.786e-02  9.296e-03   2.997 0.002724 ** \n",
       "V3A31        1.434e-01  5.489e-01   0.261 0.793921    \n",
       "V3A32       -5.861e-01  4.305e-01  -1.362 0.173348    \n",
       "V3A33       -8.532e-01  4.717e-01  -1.809 0.070470 .  \n",
       "V3A34       -1.436e+00  4.399e-01  -3.264 0.001099 ** \n",
       "V4A41       -1.666e+00  3.743e-01  -4.452 8.51e-06 ***\n",
       "V4A410      -1.489e+00  7.764e-01  -1.918 0.055163 .  \n",
       "V4A42       -7.916e-01  2.610e-01  -3.033 0.002421 ** \n",
       "V4A43       -8.916e-01  2.471e-01  -3.609 0.000308 ***\n",
       "V4A44       -5.228e-01  7.623e-01  -0.686 0.492831    \n",
       "V4A45       -2.164e-01  5.500e-01  -0.393 0.694000    \n",
       "V4A46        3.628e-02  3.965e-01   0.092 0.927082    \n",
       "V4A48       -2.059e+00  1.212e+00  -1.699 0.089297 .  \n",
       "V4A49       -7.401e-01  3.339e-01  -2.216 0.026668 *  \n",
       "V5           1.283e-04  4.444e-05   2.887 0.003894 ** \n",
       "V6A62       -3.577e-01  2.861e-01  -1.250 0.211130    \n",
       "V6A63       -3.761e-01  4.011e-01  -0.938 0.348476    \n",
       "V6A64       -1.339e+00  5.249e-01  -2.551 0.010729 *  \n",
       "V6A65       -9.467e-01  2.625e-01  -3.607 0.000310 ***\n",
       "V7A72       -6.691e-02  4.270e-01  -0.157 0.875475    \n",
       "V7A73       -1.828e-01  4.105e-01  -0.445 0.656049    \n",
       "V7A74       -8.310e-01  4.455e-01  -1.866 0.062110 .  \n",
       "V7A75       -2.766e-01  4.134e-01  -0.669 0.503410    \n",
       "V8           3.301e-01  8.828e-02   3.739 0.000185 ***\n",
       "V9A92       -2.755e-01  3.865e-01  -0.713 0.476040    \n",
       "V9A93       -8.161e-01  3.799e-01  -2.148 0.031718 *  \n",
       "V9A94       -3.671e-01  4.537e-01  -0.809 0.418448    \n",
       "V10A102      4.360e-01  4.101e-01   1.063 0.287700    \n",
       "V10A103     -9.786e-01  4.243e-01  -2.307 0.021072 *  \n",
       "V11          4.776e-03  8.641e-02   0.055 0.955920    \n",
       "V12A122      2.814e-01  2.534e-01   1.111 0.266630    \n",
       "V12A123      1.945e-01  2.360e-01   0.824 0.409743    \n",
       "V12A124      7.304e-01  4.245e-01   1.721 0.085308 .  \n",
       "V13         -1.454e-02  9.222e-03  -1.576 0.114982    \n",
       "V14A142     -1.232e-01  4.119e-01  -0.299 0.764878    \n",
       "V14A143     -6.463e-01  2.391e-01  -2.703 0.006871 ** \n",
       "V15A152     -4.436e-01  2.347e-01  -1.890 0.058715 .  \n",
       "V15A153     -6.839e-01  4.770e-01  -1.434 0.151657    \n",
       "V16          2.721e-01  1.895e-01   1.436 0.151109    \n",
       "V17A172      5.361e-01  6.796e-01   0.789 0.430160    \n",
       "V17A173      5.547e-01  6.549e-01   0.847 0.397015    \n",
       "V17A174      4.795e-01  6.623e-01   0.724 0.469086    \n",
       "V18          2.647e-01  2.492e-01   1.062 0.288249    \n",
       "V19A192     -3.000e-01  2.013e-01  -1.491 0.136060    \n",
       "V20A202     -1.392e+00  6.258e-01  -2.225 0.026095 *  \n",
       "---\n",
       "Signif. codes:  0 '***' 0.001 '**' 0.01 '*' 0.05 '.' 0.1 ' ' 1\n",
       "\n",
       "(Dispersion parameter for binomial family taken to be 1)\n",
       "\n",
       "    Null deviance: 1221.73  on 999  degrees of freedom\n",
       "Residual deviance:  895.82  on 951  degrees of freedom\n",
       "AIC: 993.82\n",
       "\n",
       "Number of Fisher Scoring iterations: 5\n"
      ]
     },
     "metadata": {},
     "output_type": "display_data"
    }
   ],
   "source": [
    "logistic_regression_model_all_features <- glm(V21 ~.,family=binomial(link = \"logit\"),data=credit)\n",
    "summary(logistic_regression_model_all_features)"
   ]
  },
  {
   "cell_type": "markdown",
   "metadata": {
    "collapsed": true
   },
   "source": [
    "\n",
    "\n",
    "### All features Logistic Regression model Commentary\n",
    "\n",
    "From the p-values provided above, we can see that features V1A14, V4A41, V4A43, V6A65, and V8 are the most statistically significant features for predicting credit risk. The next group of significant features includes V1A13, V2, V3A34, V4A42, V5, and V14A143. Our final group of statistically significant features includes V4A49, V6A64, V9A93, V10A103, and V20A202. I will only consider features with a significance of p-value less than 0.05 (sparing the reader from a proper 50 page report). Next lets take a look at the reduced model which only includes the statistically significant features, but first, let's do some feature engineering to isolate the significant factors listed above from the non-significant factors.\n",
    "\n"
   ]
  },
  {
   "cell_type": "markdown",
   "metadata": {},
   "source": [
    "\n",
    "\n",
    "### Feature Engineering\n",
    "\n"
   ]
  },
  {
   "cell_type": "code",
   "execution_count": 28,
   "metadata": {},
   "outputs": [
    {
     "data": {
      "text/html": [
       "<table>\n",
       "<thead><tr><th scope=col>V1</th><th scope=col>V2</th><th scope=col>V3</th><th scope=col>V4</th><th scope=col>V5</th><th scope=col>V6</th><th scope=col>V7</th><th scope=col>V8</th><th scope=col>V9</th><th scope=col>V10</th><th scope=col>...</th><th scope=col>V12</th><th scope=col>V13</th><th scope=col>V14</th><th scope=col>V15</th><th scope=col>V16</th><th scope=col>V17</th><th scope=col>V18</th><th scope=col>V19</th><th scope=col>V20</th><th scope=col>V21</th></tr></thead>\n",
       "<tbody>\n",
       "\t<tr><td>A11 </td><td> 6  </td><td>A34 </td><td>A43 </td><td>1169</td><td>A65 </td><td>A75 </td><td>4   </td><td>A93 </td><td>A101</td><td>... </td><td>A121</td><td>67  </td><td>A143</td><td>A152</td><td>2   </td><td>A173</td><td>1   </td><td>A192</td><td>A201</td><td>Good</td></tr>\n",
       "\t<tr><td>A12 </td><td>48  </td><td>A32 </td><td>A43 </td><td>5951</td><td>A61 </td><td>A73 </td><td>2   </td><td>A92 </td><td>A101</td><td>... </td><td>A121</td><td>22  </td><td>A143</td><td>A152</td><td>1   </td><td>A173</td><td>1   </td><td>A191</td><td>A201</td><td>Bad </td></tr>\n",
       "\t<tr><td>A14 </td><td>12  </td><td>A34 </td><td>A46 </td><td>2096</td><td>A61 </td><td>A74 </td><td>2   </td><td>A93 </td><td>A101</td><td>... </td><td>A121</td><td>49  </td><td>A143</td><td>A152</td><td>1   </td><td>A172</td><td>2   </td><td>A191</td><td>A201</td><td>Good</td></tr>\n",
       "\t<tr><td>A11 </td><td>42  </td><td>A32 </td><td>A42 </td><td>7882</td><td>A61 </td><td>A74 </td><td>2   </td><td>A93 </td><td>A103</td><td>... </td><td>A122</td><td>45  </td><td>A143</td><td>A153</td><td>1   </td><td>A173</td><td>2   </td><td>A191</td><td>A201</td><td>Good</td></tr>\n",
       "\t<tr><td>A11 </td><td>24  </td><td>A33 </td><td>A40 </td><td>4870</td><td>A61 </td><td>A73 </td><td>3   </td><td>A93 </td><td>A101</td><td>... </td><td>A124</td><td>53  </td><td>A143</td><td>A153</td><td>2   </td><td>A173</td><td>2   </td><td>A191</td><td>A201</td><td>Bad </td></tr>\n",
       "\t<tr><td>A14 </td><td>36  </td><td>A32 </td><td>A46 </td><td>9055</td><td>A65 </td><td>A73 </td><td>2   </td><td>A93 </td><td>A101</td><td>... </td><td>A124</td><td>35  </td><td>A143</td><td>A153</td><td>1   </td><td>A172</td><td>2   </td><td>A192</td><td>A201</td><td>Good</td></tr>\n",
       "</tbody>\n",
       "</table>\n"
      ],
      "text/latex": [
       "\\begin{tabular}{r|lllllllllllllllllllll}\n",
       " V1 & V2 & V3 & V4 & V5 & V6 & V7 & V8 & V9 & V10 & ... & V12 & V13 & V14 & V15 & V16 & V17 & V18 & V19 & V20 & V21\\\\\n",
       "\\hline\n",
       "\t A11  &  6   & A34  & A43  & 1169 & A65  & A75  & 4    & A93  & A101 & ...  & A121 & 67   & A143 & A152 & 2    & A173 & 1    & A192 & A201 & Good\\\\\n",
       "\t A12  & 48   & A32  & A43  & 5951 & A61  & A73  & 2    & A92  & A101 & ...  & A121 & 22   & A143 & A152 & 1    & A173 & 1    & A191 & A201 & Bad \\\\\n",
       "\t A14  & 12   & A34  & A46  & 2096 & A61  & A74  & 2    & A93  & A101 & ...  & A121 & 49   & A143 & A152 & 1    & A172 & 2    & A191 & A201 & Good\\\\\n",
       "\t A11  & 42   & A32  & A42  & 7882 & A61  & A74  & 2    & A93  & A103 & ...  & A122 & 45   & A143 & A153 & 1    & A173 & 2    & A191 & A201 & Good\\\\\n",
       "\t A11  & 24   & A33  & A40  & 4870 & A61  & A73  & 3    & A93  & A101 & ...  & A124 & 53   & A143 & A153 & 2    & A173 & 2    & A191 & A201 & Bad \\\\\n",
       "\t A14  & 36   & A32  & A46  & 9055 & A65  & A73  & 2    & A93  & A101 & ...  & A124 & 35   & A143 & A153 & 1    & A172 & 2    & A192 & A201 & Good\\\\\n",
       "\\end{tabular}\n"
      ],
      "text/markdown": [
       "\n",
       "V1 | V2 | V3 | V4 | V5 | V6 | V7 | V8 | V9 | V10 | ... | V12 | V13 | V14 | V15 | V16 | V17 | V18 | V19 | V20 | V21 | \n",
       "|---|---|---|---|---|---|\n",
       "| A11  |  6   | A34  | A43  | 1169 | A65  | A75  | 4    | A93  | A101 | ...  | A121 | 67   | A143 | A152 | 2    | A173 | 1    | A192 | A201 | Good | \n",
       "| A12  | 48   | A32  | A43  | 5951 | A61  | A73  | 2    | A92  | A101 | ...  | A121 | 22   | A143 | A152 | 1    | A173 | 1    | A191 | A201 | Bad  | \n",
       "| A14  | 12   | A34  | A46  | 2096 | A61  | A74  | 2    | A93  | A101 | ...  | A121 | 49   | A143 | A152 | 1    | A172 | 2    | A191 | A201 | Good | \n",
       "| A11  | 42   | A32  | A42  | 7882 | A61  | A74  | 2    | A93  | A103 | ...  | A122 | 45   | A143 | A153 | 1    | A173 | 2    | A191 | A201 | Good | \n",
       "| A11  | 24   | A33  | A40  | 4870 | A61  | A73  | 3    | A93  | A101 | ...  | A124 | 53   | A143 | A153 | 2    | A173 | 2    | A191 | A201 | Bad  | \n",
       "| A14  | 36   | A32  | A46  | 9055 | A65  | A73  | 2    | A93  | A101 | ...  | A124 | 35   | A143 | A153 | 1    | A172 | 2    | A192 | A201 | Good | \n",
       "\n",
       "\n"
      ],
      "text/plain": [
       "  V1  V2 V3  V4  V5   V6  V7  V8 V9  V10  ... V12  V13 V14  V15  V16 V17  V18\n",
       "1 A11  6 A34 A43 1169 A65 A75 4  A93 A101 ... A121 67  A143 A152 2   A173 1  \n",
       "2 A12 48 A32 A43 5951 A61 A73 2  A92 A101 ... A121 22  A143 A152 1   A173 1  \n",
       "3 A14 12 A34 A46 2096 A61 A74 2  A93 A101 ... A121 49  A143 A152 1   A172 2  \n",
       "4 A11 42 A32 A42 7882 A61 A74 2  A93 A103 ... A122 45  A143 A153 1   A173 2  \n",
       "5 A11 24 A33 A40 4870 A61 A73 3  A93 A101 ... A124 53  A143 A153 2   A173 2  \n",
       "6 A14 36 A32 A46 9055 A65 A73 2  A93 A101 ... A124 35  A143 A153 1   A172 2  \n",
       "  V19  V20  V21 \n",
       "1 A192 A201 Good\n",
       "2 A191 A201 Bad \n",
       "3 A191 A201 Good\n",
       "4 A191 A201 Good\n",
       "5 A191 A201 Bad \n",
       "6 A192 A201 Good"
      ]
     },
     "metadata": {},
     "output_type": "display_data"
    }
   ],
   "source": [
    "# make copy of original dataframe\n",
    "credit_engineered <- cbind(credit)\n",
    "head(credit_engineered)"
   ]
  },
  {
   "cell_type": "markdown",
   "metadata": {},
   "source": [
    "\n",
    "\n",
    "Our first engineered feature will be if feature V1 is > 2:\n",
    "\n"
   ]
  },
  {
   "cell_type": "code",
   "execution_count": 29,
   "metadata": {},
   "outputs": [
    {
     "data": {
      "text/html": [
       "<ol class=list-inline>\n",
       "\t<li>A11</li>\n",
       "\t<li>A12</li>\n",
       "\t<li>A14</li>\n",
       "\t<li>A11</li>\n",
       "\t<li>A11</li>\n",
       "\t<li>A14</li>\n",
       "</ol>\n"
      ],
      "text/latex": [
       "\\begin{enumerate*}\n",
       "\\item A11\n",
       "\\item A12\n",
       "\\item A14\n",
       "\\item A11\n",
       "\\item A11\n",
       "\\item A14\n",
       "\\end{enumerate*}\n"
      ],
      "text/markdown": [
       "1. A11\n",
       "2. A12\n",
       "3. A14\n",
       "4. A11\n",
       "5. A11\n",
       "6. A14\n",
       "\n",
       "\n"
      ],
      "text/plain": [
       "[1] A11 A12 A14 A11 A11 A14\n",
       "Levels: A11 A12 A13 A14"
      ]
     },
     "metadata": {},
     "output_type": "display_data"
    }
   ],
   "source": [
    "head(credit_engineered$V1)"
   ]
  },
  {
   "cell_type": "code",
   "execution_count": 30,
   "metadata": {},
   "outputs": [
    {
     "data": {
      "text/html": [
       "<ol class=list-inline>\n",
       "\t<li>1</li>\n",
       "\t<li>2</li>\n",
       "\t<li>4</li>\n",
       "\t<li>1</li>\n",
       "\t<li>1</li>\n",
       "\t<li>4</li>\n",
       "</ol>\n"
      ],
      "text/latex": [
       "\\begin{enumerate*}\n",
       "\\item 1\n",
       "\\item 2\n",
       "\\item 4\n",
       "\\item 1\n",
       "\\item 1\n",
       "\\item 4\n",
       "\\end{enumerate*}\n"
      ],
      "text/markdown": [
       "1. 1\n",
       "2. 2\n",
       "3. 4\n",
       "4. 1\n",
       "5. 1\n",
       "6. 4\n",
       "\n",
       "\n"
      ],
      "text/plain": [
       "[1] 1 2 4 1 1 4"
      ]
     },
     "metadata": {},
     "output_type": "display_data"
    }
   ],
   "source": [
    "head(as.integer(credit_engineered$V1))"
   ]
  },
  {
   "cell_type": "code",
   "execution_count": 31,
   "metadata": {},
   "outputs": [
    {
     "data": {
      "text/html": [
       "<ol class=list-inline>\n",
       "\t<li>0</li>\n",
       "\t<li>0</li>\n",
       "\t<li>1</li>\n",
       "\t<li>0</li>\n",
       "\t<li>0</li>\n",
       "\t<li>1</li>\n",
       "</ol>\n"
      ],
      "text/latex": [
       "\\begin{enumerate*}\n",
       "\\item 0\n",
       "\\item 0\n",
       "\\item 1\n",
       "\\item 0\n",
       "\\item 0\n",
       "\\item 1\n",
       "\\end{enumerate*}\n"
      ],
      "text/markdown": [
       "1. 0\n",
       "2. 0\n",
       "3. 1\n",
       "4. 0\n",
       "5. 0\n",
       "6. 1\n",
       "\n",
       "\n"
      ],
      "text/plain": [
       "[1] 0 0 1 0 0 1"
      ]
     },
     "metadata": {},
     "output_type": "display_data"
    }
   ],
   "source": [
    "# feature V1 - first must convert to integer\n",
    "credit_engineered$V1 <- ifelse(as.integer(credit_engineered$V1) > 2, 1,0)\n",
    "head(credit_engineered$V1)"
   ]
  },
  {
   "cell_type": "markdown",
   "metadata": {},
   "source": [
    "\n",
    "\n",
    "Our second engineered feature will be if feature V3 is equal to V3A34:\n",
    "\n"
   ]
  },
  {
   "cell_type": "code",
   "execution_count": 32,
   "metadata": {},
   "outputs": [
    {
     "data": {
      "text/html": [
       "<ol class=list-inline>\n",
       "\t<li>A34</li>\n",
       "\t<li>A32</li>\n",
       "\t<li>A34</li>\n",
       "\t<li>A32</li>\n",
       "\t<li>A33</li>\n",
       "\t<li>A32</li>\n",
       "</ol>\n"
      ],
      "text/latex": [
       "\\begin{enumerate*}\n",
       "\\item A34\n",
       "\\item A32\n",
       "\\item A34\n",
       "\\item A32\n",
       "\\item A33\n",
       "\\item A32\n",
       "\\end{enumerate*}\n"
      ],
      "text/markdown": [
       "1. A34\n",
       "2. A32\n",
       "3. A34\n",
       "4. A32\n",
       "5. A33\n",
       "6. A32\n",
       "\n",
       "\n"
      ],
      "text/plain": [
       "[1] A34 A32 A34 A32 A33 A32\n",
       "Levels: A30 A31 A32 A33 A34"
      ]
     },
     "metadata": {},
     "output_type": "display_data"
    }
   ],
   "source": [
    "head(credit_engineered$V3)"
   ]
  },
  {
   "cell_type": "code",
   "execution_count": 33,
   "metadata": {},
   "outputs": [
    {
     "data": {
      "text/html": [
       "<ol class=list-inline>\n",
       "\t<li>5</li>\n",
       "\t<li>3</li>\n",
       "\t<li>5</li>\n",
       "\t<li>3</li>\n",
       "\t<li>4</li>\n",
       "\t<li>3</li>\n",
       "</ol>\n"
      ],
      "text/latex": [
       "\\begin{enumerate*}\n",
       "\\item 5\n",
       "\\item 3\n",
       "\\item 5\n",
       "\\item 3\n",
       "\\item 4\n",
       "\\item 3\n",
       "\\end{enumerate*}\n"
      ],
      "text/markdown": [
       "1. 5\n",
       "2. 3\n",
       "3. 5\n",
       "4. 3\n",
       "5. 4\n",
       "6. 3\n",
       "\n",
       "\n"
      ],
      "text/plain": [
       "[1] 5 3 5 3 4 3"
      ]
     },
     "metadata": {},
     "output_type": "display_data"
    }
   ],
   "source": [
    "# A34 = 5\n",
    "head(as.integer(credit_engineered$V3))"
   ]
  },
  {
   "cell_type": "code",
   "execution_count": 34,
   "metadata": {},
   "outputs": [
    {
     "data": {
      "text/html": [
       "<ol class=list-inline>\n",
       "\t<li>1</li>\n",
       "\t<li>0</li>\n",
       "\t<li>1</li>\n",
       "\t<li>0</li>\n",
       "\t<li>0</li>\n",
       "\t<li>0</li>\n",
       "</ol>\n"
      ],
      "text/latex": [
       "\\begin{enumerate*}\n",
       "\\item 1\n",
       "\\item 0\n",
       "\\item 1\n",
       "\\item 0\n",
       "\\item 0\n",
       "\\item 0\n",
       "\\end{enumerate*}\n"
      ],
      "text/markdown": [
       "1. 1\n",
       "2. 0\n",
       "3. 1\n",
       "4. 0\n",
       "5. 0\n",
       "6. 0\n",
       "\n",
       "\n"
      ],
      "text/plain": [
       "[1] 1 0 1 0 0 0"
      ]
     },
     "metadata": {},
     "output_type": "display_data"
    }
   ],
   "source": [
    "# feature V3 - first must convert to integer\n",
    "credit_engineered$V3 <- ifelse(as.integer(credit_engineered$V3) == 5, 1,0)\n",
    "head(credit_engineered$V3)"
   ]
  },
  {
   "cell_type": "markdown",
   "metadata": {},
   "source": [
    "\n",
    "\n",
    "Our third engineered feature will be if feature V4 is equal to V4A41, V4A43, or V4A42:\n",
    "\n"
   ]
  },
  {
   "cell_type": "code",
   "execution_count": 35,
   "metadata": {},
   "outputs": [
    {
     "data": {
      "text/html": [
       "<ol class=list-inline>\n",
       "\t<li>A43</li>\n",
       "\t<li>A43</li>\n",
       "\t<li>A46</li>\n",
       "\t<li>A42</li>\n",
       "\t<li>A40</li>\n",
       "\t<li>A46</li>\n",
       "\t<li>A42</li>\n",
       "\t<li>A41</li>\n",
       "\t<li>A43</li>\n",
       "\t<li>A40</li>\n",
       "\t<li>A40</li>\n",
       "\t<li>A49</li>\n",
       "\t<li>A43</li>\n",
       "\t<li>A40</li>\n",
       "\t<li>A40</li>\n",
       "</ol>\n"
      ],
      "text/latex": [
       "\\begin{enumerate*}\n",
       "\\item A43\n",
       "\\item A43\n",
       "\\item A46\n",
       "\\item A42\n",
       "\\item A40\n",
       "\\item A46\n",
       "\\item A42\n",
       "\\item A41\n",
       "\\item A43\n",
       "\\item A40\n",
       "\\item A40\n",
       "\\item A49\n",
       "\\item A43\n",
       "\\item A40\n",
       "\\item A40\n",
       "\\end{enumerate*}\n"
      ],
      "text/markdown": [
       "1. A43\n",
       "2. A43\n",
       "3. A46\n",
       "4. A42\n",
       "5. A40\n",
       "6. A46\n",
       "7. A42\n",
       "8. A41\n",
       "9. A43\n",
       "10. A40\n",
       "11. A40\n",
       "12. A49\n",
       "13. A43\n",
       "14. A40\n",
       "15. A40\n",
       "\n",
       "\n"
      ],
      "text/plain": [
       " [1] A43 A43 A46 A42 A40 A46 A42 A41 A43 A40 A40 A49 A43 A40 A40\n",
       "Levels: A40 A41 A410 A42 A43 A44 A45 A46 A48 A49"
      ]
     },
     "metadata": {},
     "output_type": "display_data"
    }
   ],
   "source": [
    "head(credit_engineered$V4, 15)"
   ]
  },
  {
   "cell_type": "code",
   "execution_count": 36,
   "metadata": {},
   "outputs": [
    {
     "data": {
      "text/html": [
       "<ol class=list-inline>\n",
       "\t<li>5</li>\n",
       "\t<li>5</li>\n",
       "\t<li>8</li>\n",
       "\t<li>4</li>\n",
       "\t<li>1</li>\n",
       "\t<li>8</li>\n",
       "\t<li>4</li>\n",
       "\t<li>2</li>\n",
       "\t<li>5</li>\n",
       "\t<li>1</li>\n",
       "\t<li>1</li>\n",
       "\t<li>10</li>\n",
       "\t<li>5</li>\n",
       "\t<li>1</li>\n",
       "\t<li>1</li>\n",
       "</ol>\n"
      ],
      "text/latex": [
       "\\begin{enumerate*}\n",
       "\\item 5\n",
       "\\item 5\n",
       "\\item 8\n",
       "\\item 4\n",
       "\\item 1\n",
       "\\item 8\n",
       "\\item 4\n",
       "\\item 2\n",
       "\\item 5\n",
       "\\item 1\n",
       "\\item 1\n",
       "\\item 10\n",
       "\\item 5\n",
       "\\item 1\n",
       "\\item 1\n",
       "\\end{enumerate*}\n"
      ],
      "text/markdown": [
       "1. 5\n",
       "2. 5\n",
       "3. 8\n",
       "4. 4\n",
       "5. 1\n",
       "6. 8\n",
       "7. 4\n",
       "8. 2\n",
       "9. 5\n",
       "10. 1\n",
       "11. 1\n",
       "12. 10\n",
       "13. 5\n",
       "14. 1\n",
       "15. 1\n",
       "\n",
       "\n"
      ],
      "text/plain": [
       " [1]  5  5  8  4  1  8  4  2  5  1  1 10  5  1  1"
      ]
     },
     "metadata": {},
     "output_type": "display_data"
    }
   ],
   "source": [
    "# A43 = 5 , A41 = 2 , A42 = 4\n",
    "\n",
    "head(as.integer(credit_engineered$V4), 15)"
   ]
  },
  {
   "cell_type": "code",
   "execution_count": 37,
   "metadata": {},
   "outputs": [
    {
     "data": {
      "text/html": [
       "<ol class=list-inline>\n",
       "\t<li>1</li>\n",
       "\t<li>1</li>\n",
       "\t<li>0</li>\n",
       "\t<li>1</li>\n",
       "\t<li>0</li>\n",
       "\t<li>0</li>\n",
       "\t<li>1</li>\n",
       "\t<li>1</li>\n",
       "\t<li>1</li>\n",
       "\t<li>0</li>\n",
       "\t<li>0</li>\n",
       "\t<li>1</li>\n",
       "\t<li>1</li>\n",
       "\t<li>0</li>\n",
       "\t<li>0</li>\n",
       "</ol>\n"
      ],
      "text/latex": [
       "\\begin{enumerate*}\n",
       "\\item 1\n",
       "\\item 1\n",
       "\\item 0\n",
       "\\item 1\n",
       "\\item 0\n",
       "\\item 0\n",
       "\\item 1\n",
       "\\item 1\n",
       "\\item 1\n",
       "\\item 0\n",
       "\\item 0\n",
       "\\item 1\n",
       "\\item 1\n",
       "\\item 0\n",
       "\\item 0\n",
       "\\end{enumerate*}\n"
      ],
      "text/markdown": [
       "1. 1\n",
       "2. 1\n",
       "3. 0\n",
       "4. 1\n",
       "5. 0\n",
       "6. 0\n",
       "7. 1\n",
       "8. 1\n",
       "9. 1\n",
       "10. 0\n",
       "11. 0\n",
       "12. 1\n",
       "13. 1\n",
       "14. 0\n",
       "15. 0\n",
       "\n",
       "\n"
      ],
      "text/plain": [
       " [1] 1 1 0 1 0 0 1 1 1 0 0 1 1 0 0"
      ]
     },
     "metadata": {},
     "output_type": "display_data"
    }
   ],
   "source": [
    "credit_engineered$V4 <- ifelse(as.integer(credit_engineered$V4) == 5 | \n",
    "                               as.integer(credit_engineered$V4) == 2 |\n",
    "                               as.integer(credit_engineered$V4) == 4 |\n",
    "                               as.integer(credit_engineered$V4) == 10, 1,0)\n",
    "head(as.integer(credit_engineered$V4), 15)"
   ]
  },
  {
   "cell_type": "markdown",
   "metadata": {},
   "source": [
    "\n",
    "\n",
    "Our fourth engineered feature will be if feature V6 is equal to A65.\n",
    "\n"
   ]
  },
  {
   "cell_type": "code",
   "execution_count": 38,
   "metadata": {},
   "outputs": [
    {
     "data": {
      "text/html": [
       "<ol class=list-inline>\n",
       "\t<li>A65</li>\n",
       "\t<li>A61</li>\n",
       "\t<li>A61</li>\n",
       "\t<li>A61</li>\n",
       "\t<li>A61</li>\n",
       "\t<li>A65</li>\n",
       "\t<li>A63</li>\n",
       "\t<li>A61</li>\n",
       "\t<li>A64</li>\n",
       "\t<li>A61</li>\n",
       "</ol>\n"
      ],
      "text/latex": [
       "\\begin{enumerate*}\n",
       "\\item A65\n",
       "\\item A61\n",
       "\\item A61\n",
       "\\item A61\n",
       "\\item A61\n",
       "\\item A65\n",
       "\\item A63\n",
       "\\item A61\n",
       "\\item A64\n",
       "\\item A61\n",
       "\\end{enumerate*}\n"
      ],
      "text/markdown": [
       "1. A65\n",
       "2. A61\n",
       "3. A61\n",
       "4. A61\n",
       "5. A61\n",
       "6. A65\n",
       "7. A63\n",
       "8. A61\n",
       "9. A64\n",
       "10. A61\n",
       "\n",
       "\n"
      ],
      "text/plain": [
       " [1] A65 A61 A61 A61 A61 A65 A63 A61 A64 A61\n",
       "Levels: A61 A62 A63 A64 A65"
      ]
     },
     "metadata": {},
     "output_type": "display_data"
    }
   ],
   "source": [
    "head(credit_engineered$V6, 10)"
   ]
  },
  {
   "cell_type": "code",
   "execution_count": 39,
   "metadata": {},
   "outputs": [
    {
     "data": {
      "text/html": [
       "<ol class=list-inline>\n",
       "\t<li>5</li>\n",
       "\t<li>1</li>\n",
       "\t<li>1</li>\n",
       "\t<li>1</li>\n",
       "\t<li>1</li>\n",
       "\t<li>5</li>\n",
       "\t<li>3</li>\n",
       "\t<li>1</li>\n",
       "\t<li>4</li>\n",
       "\t<li>1</li>\n",
       "</ol>\n"
      ],
      "text/latex": [
       "\\begin{enumerate*}\n",
       "\\item 5\n",
       "\\item 1\n",
       "\\item 1\n",
       "\\item 1\n",
       "\\item 1\n",
       "\\item 5\n",
       "\\item 3\n",
       "\\item 1\n",
       "\\item 4\n",
       "\\item 1\n",
       "\\end{enumerate*}\n"
      ],
      "text/markdown": [
       "1. 5\n",
       "2. 1\n",
       "3. 1\n",
       "4. 1\n",
       "5. 1\n",
       "6. 5\n",
       "7. 3\n",
       "8. 1\n",
       "9. 4\n",
       "10. 1\n",
       "\n",
       "\n"
      ],
      "text/plain": [
       " [1] 5 1 1 1 1 5 3 1 4 1"
      ]
     },
     "metadata": {},
     "output_type": "display_data"
    }
   ],
   "source": [
    "# A65 = 5, A64 = 4\n",
    "head(as.integer(credit_engineered$V6), 10)"
   ]
  },
  {
   "cell_type": "code",
   "execution_count": 40,
   "metadata": {},
   "outputs": [
    {
     "data": {
      "text/html": [
       "<ol class=list-inline>\n",
       "\t<li>1</li>\n",
       "\t<li>0</li>\n",
       "\t<li>0</li>\n",
       "\t<li>0</li>\n",
       "\t<li>0</li>\n",
       "\t<li>1</li>\n",
       "\t<li>0</li>\n",
       "\t<li>0</li>\n",
       "\t<li>1</li>\n",
       "\t<li>0</li>\n",
       "</ol>\n"
      ],
      "text/latex": [
       "\\begin{enumerate*}\n",
       "\\item 1\n",
       "\\item 0\n",
       "\\item 0\n",
       "\\item 0\n",
       "\\item 0\n",
       "\\item 1\n",
       "\\item 0\n",
       "\\item 0\n",
       "\\item 1\n",
       "\\item 0\n",
       "\\end{enumerate*}\n"
      ],
      "text/markdown": [
       "1. 1\n",
       "2. 0\n",
       "3. 0\n",
       "4. 0\n",
       "5. 0\n",
       "6. 1\n",
       "7. 0\n",
       "8. 0\n",
       "9. 1\n",
       "10. 0\n",
       "\n",
       "\n"
      ],
      "text/plain": [
       " [1] 1 0 0 0 0 1 0 0 1 0"
      ]
     },
     "metadata": {},
     "output_type": "display_data"
    }
   ],
   "source": [
    "# feature V6 - first must convert to integer\n",
    "credit_engineered$V6 <- ifelse(as.integer(credit_engineered$V6) == 5 |\n",
    "                               as.integer(credit_engineered$V6) == 4, 1,0)\n",
    "head(credit_engineered$V6, 10)"
   ]
  },
  {
   "cell_type": "markdown",
   "metadata": {},
   "source": [
    "\n",
    "\n",
    "Our fifth engineered feature will be if feature V9 is equal to A93.\n",
    "\n"
   ]
  },
  {
   "cell_type": "code",
   "execution_count": 41,
   "metadata": {},
   "outputs": [
    {
     "data": {
      "text/html": [
       "<ol class=list-inline>\n",
       "\t<li>A93</li>\n",
       "\t<li>A92</li>\n",
       "\t<li>A93</li>\n",
       "\t<li>A93</li>\n",
       "\t<li>A93</li>\n",
       "\t<li>A93</li>\n",
       "</ol>\n"
      ],
      "text/latex": [
       "\\begin{enumerate*}\n",
       "\\item A93\n",
       "\\item A92\n",
       "\\item A93\n",
       "\\item A93\n",
       "\\item A93\n",
       "\\item A93\n",
       "\\end{enumerate*}\n"
      ],
      "text/markdown": [
       "1. A93\n",
       "2. A92\n",
       "3. A93\n",
       "4. A93\n",
       "5. A93\n",
       "6. A93\n",
       "\n",
       "\n"
      ],
      "text/plain": [
       "[1] A93 A92 A93 A93 A93 A93\n",
       "Levels: A91 A92 A93 A94"
      ]
     },
     "metadata": {},
     "output_type": "display_data"
    }
   ],
   "source": [
    "head(credit_engineered$V9)"
   ]
  },
  {
   "cell_type": "code",
   "execution_count": 42,
   "metadata": {},
   "outputs": [
    {
     "data": {
      "text/html": [
       "<ol class=list-inline>\n",
       "\t<li>3</li>\n",
       "\t<li>2</li>\n",
       "\t<li>3</li>\n",
       "\t<li>3</li>\n",
       "\t<li>3</li>\n",
       "\t<li>3</li>\n",
       "</ol>\n"
      ],
      "text/latex": [
       "\\begin{enumerate*}\n",
       "\\item 3\n",
       "\\item 2\n",
       "\\item 3\n",
       "\\item 3\n",
       "\\item 3\n",
       "\\item 3\n",
       "\\end{enumerate*}\n"
      ],
      "text/markdown": [
       "1. 3\n",
       "2. 2\n",
       "3. 3\n",
       "4. 3\n",
       "5. 3\n",
       "6. 3\n",
       "\n",
       "\n"
      ],
      "text/plain": [
       "[1] 3 2 3 3 3 3"
      ]
     },
     "metadata": {},
     "output_type": "display_data"
    }
   ],
   "source": [
    "# A93 = 3\n",
    "head(as.integer(credit_engineered$V9))"
   ]
  },
  {
   "cell_type": "code",
   "execution_count": 43,
   "metadata": {},
   "outputs": [
    {
     "data": {
      "text/html": [
       "<ol class=list-inline>\n",
       "\t<li>1</li>\n",
       "\t<li>0</li>\n",
       "\t<li>1</li>\n",
       "\t<li>1</li>\n",
       "\t<li>1</li>\n",
       "\t<li>1</li>\n",
       "</ol>\n"
      ],
      "text/latex": [
       "\\begin{enumerate*}\n",
       "\\item 1\n",
       "\\item 0\n",
       "\\item 1\n",
       "\\item 1\n",
       "\\item 1\n",
       "\\item 1\n",
       "\\end{enumerate*}\n"
      ],
      "text/markdown": [
       "1. 1\n",
       "2. 0\n",
       "3. 1\n",
       "4. 1\n",
       "5. 1\n",
       "6. 1\n",
       "\n",
       "\n"
      ],
      "text/plain": [
       "[1] 1 0 1 1 1 1"
      ]
     },
     "metadata": {},
     "output_type": "display_data"
    }
   ],
   "source": [
    "# feature V9 - first must convert to integer\n",
    "credit_engineered$V9 <- ifelse(as.integer(credit_engineered$V9) == 3, 1,0)\n",
    "head(credit_engineered$V9)"
   ]
  },
  {
   "cell_type": "markdown",
   "metadata": {},
   "source": [
    "\n",
    "\n",
    "Our sixth engineered feature will be if feature V10 is equal to A103\n",
    "\n"
   ]
  },
  {
   "cell_type": "code",
   "execution_count": 44,
   "metadata": {},
   "outputs": [
    {
     "data": {
      "text/html": [
       "<ol class=list-inline>\n",
       "\t<li>A101</li>\n",
       "\t<li>A101</li>\n",
       "\t<li>A101</li>\n",
       "\t<li>A103</li>\n",
       "\t<li>A101</li>\n",
       "\t<li>A101</li>\n",
       "</ol>\n"
      ],
      "text/latex": [
       "\\begin{enumerate*}\n",
       "\\item A101\n",
       "\\item A101\n",
       "\\item A101\n",
       "\\item A103\n",
       "\\item A101\n",
       "\\item A101\n",
       "\\end{enumerate*}\n"
      ],
      "text/markdown": [
       "1. A101\n",
       "2. A101\n",
       "3. A101\n",
       "4. A103\n",
       "5. A101\n",
       "6. A101\n",
       "\n",
       "\n"
      ],
      "text/plain": [
       "[1] A101 A101 A101 A103 A101 A101\n",
       "Levels: A101 A102 A103"
      ]
     },
     "metadata": {},
     "output_type": "display_data"
    }
   ],
   "source": [
    "head(credit_engineered$V10)"
   ]
  },
  {
   "cell_type": "code",
   "execution_count": 45,
   "metadata": {},
   "outputs": [
    {
     "data": {
      "text/html": [
       "<ol class=list-inline>\n",
       "\t<li>1</li>\n",
       "\t<li>1</li>\n",
       "\t<li>1</li>\n",
       "\t<li>3</li>\n",
       "\t<li>1</li>\n",
       "\t<li>1</li>\n",
       "</ol>\n"
      ],
      "text/latex": [
       "\\begin{enumerate*}\n",
       "\\item 1\n",
       "\\item 1\n",
       "\\item 1\n",
       "\\item 3\n",
       "\\item 1\n",
       "\\item 1\n",
       "\\end{enumerate*}\n"
      ],
      "text/markdown": [
       "1. 1\n",
       "2. 1\n",
       "3. 1\n",
       "4. 3\n",
       "5. 1\n",
       "6. 1\n",
       "\n",
       "\n"
      ],
      "text/plain": [
       "[1] 1 1 1 3 1 1"
      ]
     },
     "metadata": {},
     "output_type": "display_data"
    }
   ],
   "source": [
    "# A103 = 3\n",
    "head(as.integer(credit_engineered$V10))"
   ]
  },
  {
   "cell_type": "code",
   "execution_count": 46,
   "metadata": {},
   "outputs": [
    {
     "data": {
      "text/html": [
       "<ol class=list-inline>\n",
       "\t<li>0</li>\n",
       "\t<li>0</li>\n",
       "\t<li>0</li>\n",
       "\t<li>1</li>\n",
       "\t<li>0</li>\n",
       "\t<li>0</li>\n",
       "</ol>\n"
      ],
      "text/latex": [
       "\\begin{enumerate*}\n",
       "\\item 0\n",
       "\\item 0\n",
       "\\item 0\n",
       "\\item 1\n",
       "\\item 0\n",
       "\\item 0\n",
       "\\end{enumerate*}\n"
      ],
      "text/markdown": [
       "1. 0\n",
       "2. 0\n",
       "3. 0\n",
       "4. 1\n",
       "5. 0\n",
       "6. 0\n",
       "\n",
       "\n"
      ],
      "text/plain": [
       "[1] 0 0 0 1 0 0"
      ]
     },
     "metadata": {},
     "output_type": "display_data"
    }
   ],
   "source": [
    "# feature V10 - first must convert to integer\n",
    "credit_engineered$V10 <- ifelse(as.integer(credit_engineered$V10) == 3, 1,0)\n",
    "head(credit_engineered$V10)"
   ]
  },
  {
   "cell_type": "markdown",
   "metadata": {},
   "source": [
    "\n",
    "\n",
    "Our seventh engineered feature will be if feature V14 is equal to A143.\n",
    "\n"
   ]
  },
  {
   "cell_type": "code",
   "execution_count": 47,
   "metadata": {},
   "outputs": [
    {
     "data": {
      "text/html": [
       "<ol class=list-inline>\n",
       "\t<li>A143</li>\n",
       "\t<li>A143</li>\n",
       "\t<li>A143</li>\n",
       "\t<li>A143</li>\n",
       "\t<li>A143</li>\n",
       "\t<li>A143</li>\n",
       "\t<li>A143</li>\n",
       "\t<li>A143</li>\n",
       "\t<li>A143</li>\n",
       "\t<li>A143</li>\n",
       "\t<li>A143</li>\n",
       "\t<li>A143</li>\n",
       "\t<li>A143</li>\n",
       "\t<li>A143</li>\n",
       "\t<li>A143</li>\n",
       "\t<li>A143</li>\n",
       "\t<li>A143</li>\n",
       "\t<li>A141</li>\n",
       "\t<li>A143</li>\n",
       "\t<li>A143</li>\n",
       "\t<li>A143</li>\n",
       "\t<li>A143</li>\n",
       "\t<li>A143</li>\n",
       "\t<li>A143</li>\n",
       "\t<li>A143</li>\n",
       "\t<li>A141</li>\n",
       "\t<li>A143</li>\n",
       "\t<li>A143</li>\n",
       "\t<li>A143</li>\n",
       "\t<li>A143</li>\n",
       "</ol>\n"
      ],
      "text/latex": [
       "\\begin{enumerate*}\n",
       "\\item A143\n",
       "\\item A143\n",
       "\\item A143\n",
       "\\item A143\n",
       "\\item A143\n",
       "\\item A143\n",
       "\\item A143\n",
       "\\item A143\n",
       "\\item A143\n",
       "\\item A143\n",
       "\\item A143\n",
       "\\item A143\n",
       "\\item A143\n",
       "\\item A143\n",
       "\\item A143\n",
       "\\item A143\n",
       "\\item A143\n",
       "\\item A141\n",
       "\\item A143\n",
       "\\item A143\n",
       "\\item A143\n",
       "\\item A143\n",
       "\\item A143\n",
       "\\item A143\n",
       "\\item A143\n",
       "\\item A141\n",
       "\\item A143\n",
       "\\item A143\n",
       "\\item A143\n",
       "\\item A143\n",
       "\\end{enumerate*}\n"
      ],
      "text/markdown": [
       "1. A143\n",
       "2. A143\n",
       "3. A143\n",
       "4. A143\n",
       "5. A143\n",
       "6. A143\n",
       "7. A143\n",
       "8. A143\n",
       "9. A143\n",
       "10. A143\n",
       "11. A143\n",
       "12. A143\n",
       "13. A143\n",
       "14. A143\n",
       "15. A143\n",
       "16. A143\n",
       "17. A143\n",
       "18. A141\n",
       "19. A143\n",
       "20. A143\n",
       "21. A143\n",
       "22. A143\n",
       "23. A143\n",
       "24. A143\n",
       "25. A143\n",
       "26. A141\n",
       "27. A143\n",
       "28. A143\n",
       "29. A143\n",
       "30. A143\n",
       "\n",
       "\n"
      ],
      "text/plain": [
       " [1] A143 A143 A143 A143 A143 A143 A143 A143 A143 A143 A143 A143 A143 A143 A143\n",
       "[16] A143 A143 A141 A143 A143 A143 A143 A143 A143 A143 A141 A143 A143 A143 A143\n",
       "Levels: A141 A142 A143"
      ]
     },
     "metadata": {},
     "output_type": "display_data"
    }
   ],
   "source": [
    "head(credit_engineered$V14,30)"
   ]
  },
  {
   "cell_type": "code",
   "execution_count": 48,
   "metadata": {},
   "outputs": [
    {
     "data": {
      "text/html": [
       "<ol class=list-inline>\n",
       "\t<li>3</li>\n",
       "\t<li>3</li>\n",
       "\t<li>3</li>\n",
       "\t<li>3</li>\n",
       "\t<li>3</li>\n",
       "\t<li>3</li>\n",
       "\t<li>3</li>\n",
       "\t<li>3</li>\n",
       "\t<li>3</li>\n",
       "\t<li>3</li>\n",
       "\t<li>3</li>\n",
       "\t<li>3</li>\n",
       "\t<li>3</li>\n",
       "\t<li>3</li>\n",
       "\t<li>3</li>\n",
       "\t<li>3</li>\n",
       "\t<li>3</li>\n",
       "\t<li>1</li>\n",
       "\t<li>3</li>\n",
       "\t<li>3</li>\n",
       "\t<li>3</li>\n",
       "\t<li>3</li>\n",
       "\t<li>3</li>\n",
       "\t<li>3</li>\n",
       "\t<li>3</li>\n",
       "\t<li>1</li>\n",
       "\t<li>3</li>\n",
       "\t<li>3</li>\n",
       "\t<li>3</li>\n",
       "\t<li>3</li>\n",
       "</ol>\n"
      ],
      "text/latex": [
       "\\begin{enumerate*}\n",
       "\\item 3\n",
       "\\item 3\n",
       "\\item 3\n",
       "\\item 3\n",
       "\\item 3\n",
       "\\item 3\n",
       "\\item 3\n",
       "\\item 3\n",
       "\\item 3\n",
       "\\item 3\n",
       "\\item 3\n",
       "\\item 3\n",
       "\\item 3\n",
       "\\item 3\n",
       "\\item 3\n",
       "\\item 3\n",
       "\\item 3\n",
       "\\item 1\n",
       "\\item 3\n",
       "\\item 3\n",
       "\\item 3\n",
       "\\item 3\n",
       "\\item 3\n",
       "\\item 3\n",
       "\\item 3\n",
       "\\item 1\n",
       "\\item 3\n",
       "\\item 3\n",
       "\\item 3\n",
       "\\item 3\n",
       "\\end{enumerate*}\n"
      ],
      "text/markdown": [
       "1. 3\n",
       "2. 3\n",
       "3. 3\n",
       "4. 3\n",
       "5. 3\n",
       "6. 3\n",
       "7. 3\n",
       "8. 3\n",
       "9. 3\n",
       "10. 3\n",
       "11. 3\n",
       "12. 3\n",
       "13. 3\n",
       "14. 3\n",
       "15. 3\n",
       "16. 3\n",
       "17. 3\n",
       "18. 1\n",
       "19. 3\n",
       "20. 3\n",
       "21. 3\n",
       "22. 3\n",
       "23. 3\n",
       "24. 3\n",
       "25. 3\n",
       "26. 1\n",
       "27. 3\n",
       "28. 3\n",
       "29. 3\n",
       "30. 3\n",
       "\n",
       "\n"
      ],
      "text/plain": [
       " [1] 3 3 3 3 3 3 3 3 3 3 3 3 3 3 3 3 3 1 3 3 3 3 3 3 3 1 3 3 3 3"
      ]
     },
     "metadata": {},
     "output_type": "display_data"
    }
   ],
   "source": [
    "# A143 = 3\n",
    "head(as.integer(credit_engineered$V14),30)"
   ]
  },
  {
   "cell_type": "code",
   "execution_count": 49,
   "metadata": {},
   "outputs": [
    {
     "data": {
      "text/html": [
       "<ol class=list-inline>\n",
       "\t<li>1</li>\n",
       "\t<li>1</li>\n",
       "\t<li>1</li>\n",
       "\t<li>1</li>\n",
       "\t<li>1</li>\n",
       "\t<li>1</li>\n",
       "\t<li>1</li>\n",
       "\t<li>1</li>\n",
       "\t<li>1</li>\n",
       "\t<li>1</li>\n",
       "\t<li>1</li>\n",
       "\t<li>1</li>\n",
       "\t<li>1</li>\n",
       "\t<li>1</li>\n",
       "\t<li>1</li>\n",
       "\t<li>1</li>\n",
       "\t<li>1</li>\n",
       "\t<li>0</li>\n",
       "\t<li>1</li>\n",
       "\t<li>1</li>\n",
       "\t<li>1</li>\n",
       "\t<li>1</li>\n",
       "\t<li>1</li>\n",
       "\t<li>1</li>\n",
       "\t<li>1</li>\n",
       "\t<li>0</li>\n",
       "\t<li>1</li>\n",
       "\t<li>1</li>\n",
       "\t<li>1</li>\n",
       "\t<li>1</li>\n",
       "</ol>\n"
      ],
      "text/latex": [
       "\\begin{enumerate*}\n",
       "\\item 1\n",
       "\\item 1\n",
       "\\item 1\n",
       "\\item 1\n",
       "\\item 1\n",
       "\\item 1\n",
       "\\item 1\n",
       "\\item 1\n",
       "\\item 1\n",
       "\\item 1\n",
       "\\item 1\n",
       "\\item 1\n",
       "\\item 1\n",
       "\\item 1\n",
       "\\item 1\n",
       "\\item 1\n",
       "\\item 1\n",
       "\\item 0\n",
       "\\item 1\n",
       "\\item 1\n",
       "\\item 1\n",
       "\\item 1\n",
       "\\item 1\n",
       "\\item 1\n",
       "\\item 1\n",
       "\\item 0\n",
       "\\item 1\n",
       "\\item 1\n",
       "\\item 1\n",
       "\\item 1\n",
       "\\end{enumerate*}\n"
      ],
      "text/markdown": [
       "1. 1\n",
       "2. 1\n",
       "3. 1\n",
       "4. 1\n",
       "5. 1\n",
       "6. 1\n",
       "7. 1\n",
       "8. 1\n",
       "9. 1\n",
       "10. 1\n",
       "11. 1\n",
       "12. 1\n",
       "13. 1\n",
       "14. 1\n",
       "15. 1\n",
       "16. 1\n",
       "17. 1\n",
       "18. 0\n",
       "19. 1\n",
       "20. 1\n",
       "21. 1\n",
       "22. 1\n",
       "23. 1\n",
       "24. 1\n",
       "25. 1\n",
       "26. 0\n",
       "27. 1\n",
       "28. 1\n",
       "29. 1\n",
       "30. 1\n",
       "\n",
       "\n"
      ],
      "text/plain": [
       " [1] 1 1 1 1 1 1 1 1 1 1 1 1 1 1 1 1 1 0 1 1 1 1 1 1 1 0 1 1 1 1"
      ]
     },
     "metadata": {},
     "output_type": "display_data"
    }
   ],
   "source": [
    "# feature V14 - first must convert to integer\n",
    "credit_engineered$V14 <- ifelse(as.integer(credit_engineered$V14) == 3, 1,0)\n",
    "head(credit_engineered$V14,30)"
   ]
  },
  {
   "cell_type": "markdown",
   "metadata": {},
   "source": [
    "\n",
    "\n",
    "Our last engineered feature will be if V20 is equal to A202\n",
    "\n"
   ]
  },
  {
   "cell_type": "code",
   "execution_count": 50,
   "metadata": {},
   "outputs": [
    {
     "data": {
      "text/html": [
       "<ol class=list-inline>\n",
       "\t<li>A201</li>\n",
       "\t<li>A201</li>\n",
       "\t<li>A201</li>\n",
       "\t<li>A201</li>\n",
       "\t<li>A201</li>\n",
       "\t<li>A201</li>\n",
       "\t<li>A201</li>\n",
       "\t<li>A201</li>\n",
       "\t<li>A201</li>\n",
       "\t<li>A201</li>\n",
       "\t<li>A201</li>\n",
       "\t<li>A201</li>\n",
       "\t<li>A201</li>\n",
       "\t<li>A201</li>\n",
       "\t<li>A201</li>\n",
       "\t<li>A201</li>\n",
       "\t<li>A201</li>\n",
       "\t<li>A201</li>\n",
       "\t<li>A201</li>\n",
       "\t<li>A201</li>\n",
       "\t<li>A201</li>\n",
       "\t<li>A201</li>\n",
       "\t<li>A202</li>\n",
       "\t<li>A201</li>\n",
       "\t<li>A202</li>\n",
       "\t<li>A201</li>\n",
       "\t<li>A201</li>\n",
       "\t<li>A201</li>\n",
       "\t<li>A201</li>\n",
       "\t<li>A201</li>\n",
       "</ol>\n"
      ],
      "text/latex": [
       "\\begin{enumerate*}\n",
       "\\item A201\n",
       "\\item A201\n",
       "\\item A201\n",
       "\\item A201\n",
       "\\item A201\n",
       "\\item A201\n",
       "\\item A201\n",
       "\\item A201\n",
       "\\item A201\n",
       "\\item A201\n",
       "\\item A201\n",
       "\\item A201\n",
       "\\item A201\n",
       "\\item A201\n",
       "\\item A201\n",
       "\\item A201\n",
       "\\item A201\n",
       "\\item A201\n",
       "\\item A201\n",
       "\\item A201\n",
       "\\item A201\n",
       "\\item A201\n",
       "\\item A202\n",
       "\\item A201\n",
       "\\item A202\n",
       "\\item A201\n",
       "\\item A201\n",
       "\\item A201\n",
       "\\item A201\n",
       "\\item A201\n",
       "\\end{enumerate*}\n"
      ],
      "text/markdown": [
       "1. A201\n",
       "2. A201\n",
       "3. A201\n",
       "4. A201\n",
       "5. A201\n",
       "6. A201\n",
       "7. A201\n",
       "8. A201\n",
       "9. A201\n",
       "10. A201\n",
       "11. A201\n",
       "12. A201\n",
       "13. A201\n",
       "14. A201\n",
       "15. A201\n",
       "16. A201\n",
       "17. A201\n",
       "18. A201\n",
       "19. A201\n",
       "20. A201\n",
       "21. A201\n",
       "22. A201\n",
       "23. A202\n",
       "24. A201\n",
       "25. A202\n",
       "26. A201\n",
       "27. A201\n",
       "28. A201\n",
       "29. A201\n",
       "30. A201\n",
       "\n",
       "\n"
      ],
      "text/plain": [
       " [1] A201 A201 A201 A201 A201 A201 A201 A201 A201 A201 A201 A201 A201 A201 A201\n",
       "[16] A201 A201 A201 A201 A201 A201 A201 A202 A201 A202 A201 A201 A201 A201 A201\n",
       "Levels: A201 A202"
      ]
     },
     "metadata": {},
     "output_type": "display_data"
    }
   ],
   "source": [
    "head(credit_engineered$V20,30)"
   ]
  },
  {
   "cell_type": "code",
   "execution_count": 51,
   "metadata": {},
   "outputs": [
    {
     "data": {
      "text/html": [
       "<ol class=list-inline>\n",
       "\t<li>1</li>\n",
       "\t<li>1</li>\n",
       "\t<li>1</li>\n",
       "\t<li>1</li>\n",
       "\t<li>1</li>\n",
       "\t<li>1</li>\n",
       "\t<li>1</li>\n",
       "\t<li>1</li>\n",
       "\t<li>1</li>\n",
       "\t<li>1</li>\n",
       "\t<li>1</li>\n",
       "\t<li>1</li>\n",
       "\t<li>1</li>\n",
       "\t<li>1</li>\n",
       "\t<li>1</li>\n",
       "\t<li>1</li>\n",
       "\t<li>1</li>\n",
       "\t<li>1</li>\n",
       "\t<li>1</li>\n",
       "\t<li>1</li>\n",
       "\t<li>1</li>\n",
       "\t<li>1</li>\n",
       "\t<li>2</li>\n",
       "\t<li>1</li>\n",
       "\t<li>2</li>\n",
       "\t<li>1</li>\n",
       "\t<li>1</li>\n",
       "\t<li>1</li>\n",
       "\t<li>1</li>\n",
       "\t<li>1</li>\n",
       "</ol>\n"
      ],
      "text/latex": [
       "\\begin{enumerate*}\n",
       "\\item 1\n",
       "\\item 1\n",
       "\\item 1\n",
       "\\item 1\n",
       "\\item 1\n",
       "\\item 1\n",
       "\\item 1\n",
       "\\item 1\n",
       "\\item 1\n",
       "\\item 1\n",
       "\\item 1\n",
       "\\item 1\n",
       "\\item 1\n",
       "\\item 1\n",
       "\\item 1\n",
       "\\item 1\n",
       "\\item 1\n",
       "\\item 1\n",
       "\\item 1\n",
       "\\item 1\n",
       "\\item 1\n",
       "\\item 1\n",
       "\\item 2\n",
       "\\item 1\n",
       "\\item 2\n",
       "\\item 1\n",
       "\\item 1\n",
       "\\item 1\n",
       "\\item 1\n",
       "\\item 1\n",
       "\\end{enumerate*}\n"
      ],
      "text/markdown": [
       "1. 1\n",
       "2. 1\n",
       "3. 1\n",
       "4. 1\n",
       "5. 1\n",
       "6. 1\n",
       "7. 1\n",
       "8. 1\n",
       "9. 1\n",
       "10. 1\n",
       "11. 1\n",
       "12. 1\n",
       "13. 1\n",
       "14. 1\n",
       "15. 1\n",
       "16. 1\n",
       "17. 1\n",
       "18. 1\n",
       "19. 1\n",
       "20. 1\n",
       "21. 1\n",
       "22. 1\n",
       "23. 2\n",
       "24. 1\n",
       "25. 2\n",
       "26. 1\n",
       "27. 1\n",
       "28. 1\n",
       "29. 1\n",
       "30. 1\n",
       "\n",
       "\n"
      ],
      "text/plain": [
       " [1] 1 1 1 1 1 1 1 1 1 1 1 1 1 1 1 1 1 1 1 1 1 1 2 1 2 1 1 1 1 1"
      ]
     },
     "metadata": {},
     "output_type": "display_data"
    }
   ],
   "source": [
    "# A202 = 3\n",
    "head(as.integer(credit_engineered$V20),30)"
   ]
  },
  {
   "cell_type": "code",
   "execution_count": 52,
   "metadata": {},
   "outputs": [
    {
     "data": {
      "text/html": [
       "<ol class=list-inline>\n",
       "\t<li>0</li>\n",
       "\t<li>0</li>\n",
       "\t<li>0</li>\n",
       "\t<li>0</li>\n",
       "\t<li>0</li>\n",
       "\t<li>0</li>\n",
       "\t<li>0</li>\n",
       "\t<li>0</li>\n",
       "\t<li>0</li>\n",
       "\t<li>0</li>\n",
       "\t<li>0</li>\n",
       "\t<li>0</li>\n",
       "\t<li>0</li>\n",
       "\t<li>0</li>\n",
       "\t<li>0</li>\n",
       "\t<li>0</li>\n",
       "\t<li>0</li>\n",
       "\t<li>0</li>\n",
       "\t<li>0</li>\n",
       "\t<li>0</li>\n",
       "\t<li>0</li>\n",
       "\t<li>0</li>\n",
       "\t<li>1</li>\n",
       "\t<li>0</li>\n",
       "\t<li>1</li>\n",
       "\t<li>0</li>\n",
       "\t<li>0</li>\n",
       "\t<li>0</li>\n",
       "\t<li>0</li>\n",
       "\t<li>0</li>\n",
       "</ol>\n"
      ],
      "text/latex": [
       "\\begin{enumerate*}\n",
       "\\item 0\n",
       "\\item 0\n",
       "\\item 0\n",
       "\\item 0\n",
       "\\item 0\n",
       "\\item 0\n",
       "\\item 0\n",
       "\\item 0\n",
       "\\item 0\n",
       "\\item 0\n",
       "\\item 0\n",
       "\\item 0\n",
       "\\item 0\n",
       "\\item 0\n",
       "\\item 0\n",
       "\\item 0\n",
       "\\item 0\n",
       "\\item 0\n",
       "\\item 0\n",
       "\\item 0\n",
       "\\item 0\n",
       "\\item 0\n",
       "\\item 1\n",
       "\\item 0\n",
       "\\item 1\n",
       "\\item 0\n",
       "\\item 0\n",
       "\\item 0\n",
       "\\item 0\n",
       "\\item 0\n",
       "\\end{enumerate*}\n"
      ],
      "text/markdown": [
       "1. 0\n",
       "2. 0\n",
       "3. 0\n",
       "4. 0\n",
       "5. 0\n",
       "6. 0\n",
       "7. 0\n",
       "8. 0\n",
       "9. 0\n",
       "10. 0\n",
       "11. 0\n",
       "12. 0\n",
       "13. 0\n",
       "14. 0\n",
       "15. 0\n",
       "16. 0\n",
       "17. 0\n",
       "18. 0\n",
       "19. 0\n",
       "20. 0\n",
       "21. 0\n",
       "22. 0\n",
       "23. 1\n",
       "24. 0\n",
       "25. 1\n",
       "26. 0\n",
       "27. 0\n",
       "28. 0\n",
       "29. 0\n",
       "30. 0\n",
       "\n",
       "\n"
      ],
      "text/plain": [
       " [1] 0 0 0 0 0 0 0 0 0 0 0 0 0 0 0 0 0 0 0 0 0 0 1 0 1 0 0 0 0 0"
      ]
     },
     "metadata": {},
     "output_type": "display_data"
    }
   ],
   "source": [
    "# feature V14 - first must convert to integer\n",
    "credit_engineered$V20 <- ifelse(as.integer(credit_engineered$V20) == 2, 1,0)\n",
    "head(credit_engineered$V20,30)"
   ]
  },
  {
   "cell_type": "markdown",
   "metadata": {},
   "source": [
    "\n",
    "\n",
    "### Reduced Logistic Regression model\n",
    "\n",
    "Now that feature engineering is complete, let's build the reduced logistic regression model!\n",
    "\n"
   ]
  },
  {
   "cell_type": "code",
   "execution_count": 53,
   "metadata": {},
   "outputs": [
    {
     "data": {
      "text/plain": [
       "\n",
       "Call:\n",
       "glm(formula = V21 ~ V1 + V4 + V6 + V8 + V2 + V3 + V5 + V14, family = binomial(link = \"logit\"), \n",
       "    data = credit_engineered)\n",
       "\n",
       "Deviance Residuals: \n",
       "    Min       1Q   Median       3Q      Max  \n",
       "-1.9602  -0.7910  -0.4563   0.9168   2.8283  \n",
       "\n",
       "Coefficients:\n",
       "              Estimate Std. Error z value Pr(>|z|)    \n",
       "(Intercept) -5.965e-01  3.432e-01  -1.738 0.082186 .  \n",
       "V1          -1.458e+00  1.727e-01  -8.447  < 2e-16 ***\n",
       "V4          -7.550e-01  1.654e-01  -4.565 4.98e-06 ***\n",
       "V6          -1.022e+00  2.169e-01  -4.712 2.45e-06 ***\n",
       "V8           2.490e-01  7.863e-02   3.166 0.001545 ** \n",
       "V2           2.912e-02  8.364e-03   3.482 0.000499 ***\n",
       "V3          -8.543e-01  1.929e-01  -4.429 9.45e-06 ***\n",
       "V5           7.164e-05  3.711e-05   1.930 0.053565 .  \n",
       "V14         -5.697e-01  1.890e-01  -3.014 0.002580 ** \n",
       "---\n",
       "Signif. codes:  0 '***' 0.001 '**' 0.01 '*' 0.05 '.' 0.1 ' ' 1\n",
       "\n",
       "(Dispersion parameter for binomial family taken to be 1)\n",
       "\n",
       "    Null deviance: 1221.73  on 999  degrees of freedom\n",
       "Residual deviance:  988.36  on 991  degrees of freedom\n",
       "AIC: 1006.4\n",
       "\n",
       "Number of Fisher Scoring iterations: 5\n"
      ]
     },
     "metadata": {},
     "output_type": "display_data"
    }
   ],
   "source": [
    "logistic_regression_model_signif_features <- glm(V21 ~ V1+V4+V6+V8+V2+V3+V5+V14,\n",
    "                                                 family=binomial(link = \"logit\"),data=credit_engineered)\n",
    "summary(logistic_regression_model_signif_features)"
   ]
  },
  {
   "cell_type": "markdown",
   "metadata": {},
   "source": [
    "\n",
    "\n",
    "### Model comparison\n",
    "\n",
    "Since our reduced model is nested (ie it uses a subset of the features used in the first model), we can use the `anova` function to compare the two models. For `glm` models we need to use the chi-square test to do a proper comparison. For more info on the use of chi-square tests to compare a reduced model and a full model, see awesome reference below:\n",
    "\n",
    "reference: https://stats.stackexchange.com/a/59886\n",
    "\n"
   ]
  },
  {
   "cell_type": "code",
   "execution_count": 54,
   "metadata": {},
   "outputs": [
    {
     "data": {
      "text/html": [
       "<table>\n",
       "<thead><tr><th scope=col>Resid. Df</th><th scope=col>Resid. Dev</th><th scope=col>Df</th><th scope=col>Deviance</th><th scope=col>Pr(&gt;Chi)</th></tr></thead>\n",
       "<tbody>\n",
       "\t<tr><td>991         </td><td>988.3614    </td><td>NA          </td><td>      NA    </td><td>          NA</td></tr>\n",
       "\t<tr><td>951         </td><td>895.8178    </td><td>40          </td><td>92.54366    </td><td>4.787124e-06</td></tr>\n",
       "</tbody>\n",
       "</table>\n"
      ],
      "text/latex": [
       "\\begin{tabular}{r|lllll}\n",
       " Resid. Df & Resid. Dev & Df & Deviance & Pr(>Chi)\\\\\n",
       "\\hline\n",
       "\t 991          & 988.3614     & NA           &       NA     &           NA\\\\\n",
       "\t 951          & 895.8178     & 40           & 92.54366     & 4.787124e-06\\\\\n",
       "\\end{tabular}\n"
      ],
      "text/markdown": [
       "\n",
       "Resid. Df | Resid. Dev | Df | Deviance | Pr(>Chi) | \n",
       "|---|---|\n",
       "| 991          | 988.3614     | NA           |       NA     |           NA | \n",
       "| 951          | 895.8178     | 40           | 92.54366     | 4.787124e-06 | \n",
       "\n",
       "\n"
      ],
      "text/plain": [
       "  Resid. Df Resid. Dev Df Deviance Pr(>Chi)    \n",
       "1 991       988.3614   NA       NA           NA\n",
       "2 951       895.8178   40 92.54366 4.787124e-06"
      ]
     },
     "metadata": {},
     "output_type": "display_data"
    }
   ],
   "source": [
    "anova(logistic_regression_model_signif_features, logistic_regression_model_all_features, test=\"Chisq\")"
   ]
  },
  {
   "cell_type": "markdown",
   "metadata": {},
   "source": [
    "\n",
    "\n",
    "Our p-value returned by the chi-square test does not support our hypothesis that a reduced model performs better than the model containing all features - we are losing some valuable information by not including all of the features. Another measure of our \"goodness\" of fit is AIC. We can see from the model comparison below, that there is further evidence to support hypothesis that the model that includes all features is better:\n",
    "\n"
   ]
  },
  {
   "cell_type": "code",
   "execution_count": 55,
   "metadata": {
    "collapsed": true
   },
   "outputs": [],
   "source": [
    "aic1 <- logistic_regression_model_all_features$aic\n",
    "aic2 <- logistic_regression_model_signif_features$aic"
   ]
  },
  {
   "cell_type": "code",
   "execution_count": 56,
   "metadata": {},
   "outputs": [
    {
     "name": "stdout",
     "output_type": "stream",
     "text": [
      "Model2 is 0.188877% as likely to be better than Model1."
     ]
    }
   ],
   "source": [
    "model_c <- (exp((aic1-aic2)/2)*100)\n",
    "cat(\"Model2 is \")\n",
    "cat(model_c)\n",
    "cat(\"% as likely to be better than Model1.\")"
   ]
  },
  {
   "cell_type": "markdown",
   "metadata": {},
   "source": [
    "\n",
    "\n",
    "This concludes part one.\n",
    "\n"
   ]
  },
  {
   "cell_type": "markdown",
   "metadata": {},
   "source": [
    "\n",
    "\n",
    "### Part 2: Predicting credit risks\n",
    "\n",
    "In order to classify credit risks as \"bad\" or \"good\" we must define a threshold value. If the probability predicted by our logistic regression model is above this threshold, we classify the applicant as a \"good\" credit risk. Interestingly enough when I first performed this task, I thought accuracy would be the ideal model selection criteria. ***The assumption that accuracy is the ideal model selection criteria is wrong in the case where we have a binary response frequency of occurence signficantly different from 50/50.***. Our initial exploratory analysis on the response variable found that our dataset is skewed towards \"good\" credit risks 70/30. It makes more sense to use ROC and AUC as our model selection criteria when comparing two different models with binary response frequency of occurence signficantly different from 50/50. Functions mirrored from following reference:\n",
    "\n",
    "reference: http://ethen8181.github.io/machine-learning/unbalanced/unbalanced.html\n",
    "\n"
   ]
  },
  {
   "cell_type": "markdown",
   "metadata": {},
   "source": [
    "\n",
    "\n",
    "### Split the data into 80/20 training & test sets\n",
    "\n"
   ]
  },
  {
   "cell_type": "code",
   "execution_count": 57,
   "metadata": {
    "collapsed": true
   },
   "outputs": [],
   "source": [
    "spec = c(train = .8, test = .2)\n",
    "\n",
    "g = sample(cut(\n",
    "  seq(nrow(credit)), \n",
    "  nrow(credit)*cumsum(c(0,spec)),\n",
    "  labels = names(spec)\n",
    "))\n",
    "\n",
    "split_data_set = split(credit, g)"
   ]
  },
  {
   "cell_type": "code",
   "execution_count": 58,
   "metadata": {},
   "outputs": [
    {
     "data": {
      "text/html": [
       "<strong>$names</strong> = <ol class=list-inline>\n",
       "\t<li>'train'</li>\n",
       "\t<li>'test'</li>\n",
       "</ol>\n"
      ],
      "text/latex": [
       "\\textbf{\\$names} = \\begin{enumerate*}\n",
       "\\item 'train'\n",
       "\\item 'test'\n",
       "\\end{enumerate*}\n"
      ],
      "text/markdown": [
       "**$names** = 1. 'train'\n",
       "2. 'test'\n",
       "\n",
       "\n"
      ],
      "text/plain": [
       "$names\n",
       "[1] \"train\" \"test\" \n"
      ]
     },
     "metadata": {},
     "output_type": "display_data"
    }
   ],
   "source": [
    "attributes(split_data_set)"
   ]
  },
  {
   "cell_type": "code",
   "execution_count": 59,
   "metadata": {},
   "outputs": [
    {
     "data": {
      "text/html": [
       "<dl class=dl-horizontal>\n",
       "\t<dt>train</dt>\n",
       "\t\t<dd>0.8</dd>\n",
       "\t<dt>test</dt>\n",
       "\t\t<dd>0.2</dd>\n",
       "</dl>\n"
      ],
      "text/latex": [
       "\\begin{description*}\n",
       "\\item[train] 0.8\n",
       "\\item[test] 0.2\n",
       "\\end{description*}\n"
      ],
      "text/markdown": [
       "train\n",
       ":   0.8test\n",
       ":   0.2\n",
       "\n"
      ],
      "text/plain": [
       "train  test \n",
       "  0.8   0.2 "
      ]
     },
     "metadata": {},
     "output_type": "display_data"
    }
   ],
   "source": [
    "sapply(split_data_set, nrow)/nrow(credit)"
   ]
  },
  {
   "cell_type": "markdown",
   "metadata": {},
   "source": [
    "split_data_set$train is training data.\n",
    "\n",
    "split_data_set$test is test data."
   ]
  },
  {
   "cell_type": "markdown",
   "metadata": {},
   "source": [
    "\n",
    "\n",
    "### Train logistic regression model\n",
    "\n"
   ]
  },
  {
   "cell_type": "code",
   "execution_count": 60,
   "metadata": {
    "collapsed": true
   },
   "outputs": [],
   "source": [
    "logistic_regression_model_all_train <- glm( V21 ~ ., data = split_data_set$train, family = binomial(logit))"
   ]
  },
  {
   "cell_type": "markdown",
   "metadata": {},
   "source": [
    "\n",
    "\n",
    "### Make predictions on test set\n",
    "\n"
   ]
  },
  {
   "cell_type": "code",
   "execution_count": 61,
   "metadata": {
    "collapsed": true
   },
   "outputs": [],
   "source": [
    "split_data_set$test$predictions  <- predict(logistic_regression_model_all_train, newdata = split_data_set$test, type = \"response\")"
   ]
  },
  {
   "cell_type": "code",
   "execution_count": 62,
   "metadata": {},
   "outputs": [
    {
     "data": {
      "text/html": [
       "<table>\n",
       "<thead><tr><th></th><th scope=col>V1</th><th scope=col>V2</th><th scope=col>V3</th><th scope=col>V4</th><th scope=col>V5</th><th scope=col>V6</th><th scope=col>V7</th><th scope=col>V8</th><th scope=col>V9</th><th scope=col>V10</th><th scope=col>...</th><th scope=col>V13</th><th scope=col>V14</th><th scope=col>V15</th><th scope=col>V16</th><th scope=col>V17</th><th scope=col>V18</th><th scope=col>V19</th><th scope=col>V20</th><th scope=col>V21</th><th scope=col>predictions</th></tr></thead>\n",
       "<tbody>\n",
       "\t<tr><th scope=row>1</th><td>A11        </td><td> 6         </td><td>A34        </td><td>A43        </td><td> 1169      </td><td>A65        </td><td>A75        </td><td>4          </td><td>A93        </td><td>A101       </td><td>...        </td><td>67         </td><td>A143       </td><td>A152       </td><td>2          </td><td>A173       </td><td>1          </td><td>A192       </td><td>A201       </td><td>Good       </td><td>0.039000507</td></tr>\n",
       "\t<tr><th scope=row>12</th><td>A11        </td><td>48         </td><td>A32        </td><td>A49        </td><td> 4308      </td><td>A61        </td><td>A72        </td><td>3          </td><td>A92        </td><td>A101       </td><td>...        </td><td>24         </td><td>A143       </td><td>A151       </td><td>1          </td><td>A173       </td><td>1          </td><td>A191       </td><td>A201       </td><td>Bad        </td><td>0.901763402</td></tr>\n",
       "\t<tr><th scope=row>19</th><td>A12        </td><td>24         </td><td>A32        </td><td>A41        </td><td>12579      </td><td>A61        </td><td>A75        </td><td>4          </td><td>A92        </td><td>A101       </td><td>...        </td><td>44         </td><td>A143       </td><td>A153       </td><td>1          </td><td>A174       </td><td>1          </td><td>A192       </td><td>A201       </td><td>Bad        </td><td>0.619150554</td></tr>\n",
       "\t<tr><th scope=row>22</th><td>A11        </td><td> 6         </td><td>A32        </td><td>A43        </td><td> 2647      </td><td>A63        </td><td>A73        </td><td>2          </td><td>A93        </td><td>A101       </td><td>...        </td><td>44         </td><td>A143       </td><td>A151       </td><td>1          </td><td>A173       </td><td>2          </td><td>A191       </td><td>A201       </td><td>Good       </td><td>0.211521054</td></tr>\n",
       "\t<tr><th scope=row>25</th><td>A14        </td><td>10         </td><td>A34        </td><td>A42        </td><td> 2069      </td><td>A65        </td><td>A73        </td><td>2          </td><td>A94        </td><td>A101       </td><td>...        </td><td>26         </td><td>A143       </td><td>A152       </td><td>2          </td><td>A173       </td><td>1          </td><td>A191       </td><td>A202       </td><td>Good       </td><td>0.008929756</td></tr>\n",
       "\t<tr><th scope=row>33</th><td>A12        </td><td>18         </td><td>A32        </td><td>A40        </td><td> 5866      </td><td>A62        </td><td>A73        </td><td>2          </td><td>A93        </td><td>A101       </td><td>...        </td><td>30         </td><td>A143       </td><td>A152       </td><td>2          </td><td>A173       </td><td>1          </td><td>A192       </td><td>A201       </td><td>Good       </td><td>0.447561280</td></tr>\n",
       "</tbody>\n",
       "</table>\n"
      ],
      "text/latex": [
       "\\begin{tabular}{r|llllllllllllllllllllll}\n",
       "  & V1 & V2 & V3 & V4 & V5 & V6 & V7 & V8 & V9 & V10 & ... & V13 & V14 & V15 & V16 & V17 & V18 & V19 & V20 & V21 & predictions\\\\\n",
       "\\hline\n",
       "\t1 & A11         &  6          & A34         & A43         &  1169       & A65         & A75         & 4           & A93         & A101        & ...         & 67          & A143        & A152        & 2           & A173        & 1           & A192        & A201        & Good        & 0.039000507\\\\\n",
       "\t12 & A11         & 48          & A32         & A49         &  4308       & A61         & A72         & 3           & A92         & A101        & ...         & 24          & A143        & A151        & 1           & A173        & 1           & A191        & A201        & Bad         & 0.901763402\\\\\n",
       "\t19 & A12         & 24          & A32         & A41         & 12579       & A61         & A75         & 4           & A92         & A101        & ...         & 44          & A143        & A153        & 1           & A174        & 1           & A192        & A201        & Bad         & 0.619150554\\\\\n",
       "\t22 & A11         &  6          & A32         & A43         &  2647       & A63         & A73         & 2           & A93         & A101        & ...         & 44          & A143        & A151        & 1           & A173        & 2           & A191        & A201        & Good        & 0.211521054\\\\\n",
       "\t25 & A14         & 10          & A34         & A42         &  2069       & A65         & A73         & 2           & A94         & A101        & ...         & 26          & A143        & A152        & 2           & A173        & 1           & A191        & A202        & Good        & 0.008929756\\\\\n",
       "\t33 & A12         & 18          & A32         & A40         &  5866       & A62         & A73         & 2           & A93         & A101        & ...         & 30          & A143        & A152        & 2           & A173        & 1           & A192        & A201        & Good        & 0.447561280\\\\\n",
       "\\end{tabular}\n"
      ],
      "text/markdown": [
       "\n",
       "| <!--/--> | V1 | V2 | V3 | V4 | V5 | V6 | V7 | V8 | V9 | V10 | ... | V13 | V14 | V15 | V16 | V17 | V18 | V19 | V20 | V21 | predictions | \n",
       "|---|---|---|---|---|---|\n",
       "| 1 | A11         |  6          | A34         | A43         |  1169       | A65         | A75         | 4           | A93         | A101        | ...         | 67          | A143        | A152        | 2           | A173        | 1           | A192        | A201        | Good        | 0.039000507 | \n",
       "| 12 | A11         | 48          | A32         | A49         |  4308       | A61         | A72         | 3           | A92         | A101        | ...         | 24          | A143        | A151        | 1           | A173        | 1           | A191        | A201        | Bad         | 0.901763402 | \n",
       "| 19 | A12         | 24          | A32         | A41         | 12579       | A61         | A75         | 4           | A92         | A101        | ...         | 44          | A143        | A153        | 1           | A174        | 1           | A192        | A201        | Bad         | 0.619150554 | \n",
       "| 22 | A11         |  6          | A32         | A43         |  2647       | A63         | A73         | 2           | A93         | A101        | ...         | 44          | A143        | A151        | 1           | A173        | 2           | A191        | A201        | Good        | 0.211521054 | \n",
       "| 25 | A14         | 10          | A34         | A42         |  2069       | A65         | A73         | 2           | A94         | A101        | ...         | 26          | A143        | A152        | 2           | A173        | 1           | A191        | A202        | Good        | 0.008929756 | \n",
       "| 33 | A12         | 18          | A32         | A40         |  5866       | A62         | A73         | 2           | A93         | A101        | ...         | 30          | A143        | A152        | 2           | A173        | 1           | A192        | A201        | Good        | 0.447561280 | \n",
       "\n",
       "\n"
      ],
      "text/plain": [
       "   V1  V2 V3  V4  V5    V6  V7  V8 V9  V10  ... V13 V14  V15  V16 V17  V18 V19 \n",
       "1  A11  6 A34 A43  1169 A65 A75 4  A93 A101 ... 67  A143 A152 2   A173 1   A192\n",
       "12 A11 48 A32 A49  4308 A61 A72 3  A92 A101 ... 24  A143 A151 1   A173 1   A191\n",
       "19 A12 24 A32 A41 12579 A61 A75 4  A92 A101 ... 44  A143 A153 1   A174 1   A192\n",
       "22 A11  6 A32 A43  2647 A63 A73 2  A93 A101 ... 44  A143 A151 1   A173 2   A191\n",
       "25 A14 10 A34 A42  2069 A65 A73 2  A94 A101 ... 26  A143 A152 2   A173 1   A191\n",
       "33 A12 18 A32 A40  5866 A62 A73 2  A93 A101 ... 30  A143 A152 2   A173 1   A192\n",
       "   V20  V21  predictions\n",
       "1  A201 Good 0.039000507\n",
       "12 A201 Bad  0.901763402\n",
       "19 A201 Bad  0.619150554\n",
       "22 A201 Good 0.211521054\n",
       "25 A202 Good 0.008929756\n",
       "33 A201 Good 0.447561280"
      ]
     },
     "metadata": {},
     "output_type": "display_data"
    }
   ],
   "source": [
    "head(split_data_set$test)"
   ]
  },
  {
   "cell_type": "markdown",
   "metadata": {},
   "source": [
    "\n",
    "\n",
    "### Model evaluation\n",
    "\n",
    "I used the following function as a starting point to make a pretty jitter plot of our model's confusion matrix. As a preliminary step, let's transform our response variable from \"good\" \"bad\" back to 0 and 1 to feed the correct data to the function.\n",
    "\n"
   ]
  },
  {
   "cell_type": "code",
   "execution_count": 63,
   "metadata": {},
   "outputs": [
    {
     "data": {
      "text/html": [
       "<table>\n",
       "<thead><tr><th></th><th scope=col>V1</th><th scope=col>V2</th><th scope=col>V3</th><th scope=col>V4</th><th scope=col>V5</th><th scope=col>V6</th><th scope=col>V7</th><th scope=col>V8</th><th scope=col>V9</th><th scope=col>V10</th><th scope=col>...</th><th scope=col>V13</th><th scope=col>V14</th><th scope=col>V15</th><th scope=col>V16</th><th scope=col>V17</th><th scope=col>V18</th><th scope=col>V19</th><th scope=col>V20</th><th scope=col>V21</th><th scope=col>predictions</th></tr></thead>\n",
       "<tbody>\n",
       "\t<tr><th scope=row>1</th><td>A11        </td><td> 6         </td><td>A34        </td><td>A43        </td><td> 1169      </td><td>A65        </td><td>A75        </td><td>4          </td><td>A93        </td><td>A101       </td><td>...        </td><td>67         </td><td>A143       </td><td>A152       </td><td>2          </td><td>A173       </td><td>1          </td><td>A192       </td><td>A201       </td><td>0          </td><td>0.039000507</td></tr>\n",
       "\t<tr><th scope=row>12</th><td>A11        </td><td>48         </td><td>A32        </td><td>A49        </td><td> 4308      </td><td>A61        </td><td>A72        </td><td>3          </td><td>A92        </td><td>A101       </td><td>...        </td><td>24         </td><td>A143       </td><td>A151       </td><td>1          </td><td>A173       </td><td>1          </td><td>A191       </td><td>A201       </td><td>1          </td><td>0.901763402</td></tr>\n",
       "\t<tr><th scope=row>19</th><td>A12        </td><td>24         </td><td>A32        </td><td>A41        </td><td>12579      </td><td>A61        </td><td>A75        </td><td>4          </td><td>A92        </td><td>A101       </td><td>...        </td><td>44         </td><td>A143       </td><td>A153       </td><td>1          </td><td>A174       </td><td>1          </td><td>A192       </td><td>A201       </td><td>1          </td><td>0.619150554</td></tr>\n",
       "\t<tr><th scope=row>22</th><td>A11        </td><td> 6         </td><td>A32        </td><td>A43        </td><td> 2647      </td><td>A63        </td><td>A73        </td><td>2          </td><td>A93        </td><td>A101       </td><td>...        </td><td>44         </td><td>A143       </td><td>A151       </td><td>1          </td><td>A173       </td><td>2          </td><td>A191       </td><td>A201       </td><td>0          </td><td>0.211521054</td></tr>\n",
       "\t<tr><th scope=row>25</th><td>A14        </td><td>10         </td><td>A34        </td><td>A42        </td><td> 2069      </td><td>A65        </td><td>A73        </td><td>2          </td><td>A94        </td><td>A101       </td><td>...        </td><td>26         </td><td>A143       </td><td>A152       </td><td>2          </td><td>A173       </td><td>1          </td><td>A191       </td><td>A202       </td><td>0          </td><td>0.008929756</td></tr>\n",
       "\t<tr><th scope=row>33</th><td>A12        </td><td>18         </td><td>A32        </td><td>A40        </td><td> 5866      </td><td>A62        </td><td>A73        </td><td>2          </td><td>A93        </td><td>A101       </td><td>...        </td><td>30         </td><td>A143       </td><td>A152       </td><td>2          </td><td>A173       </td><td>1          </td><td>A192       </td><td>A201       </td><td>0          </td><td>0.447561280</td></tr>\n",
       "</tbody>\n",
       "</table>\n"
      ],
      "text/latex": [
       "\\begin{tabular}{r|llllllllllllllllllllll}\n",
       "  & V1 & V2 & V3 & V4 & V5 & V6 & V7 & V8 & V9 & V10 & ... & V13 & V14 & V15 & V16 & V17 & V18 & V19 & V20 & V21 & predictions\\\\\n",
       "\\hline\n",
       "\t1 & A11         &  6          & A34         & A43         &  1169       & A65         & A75         & 4           & A93         & A101        & ...         & 67          & A143        & A152        & 2           & A173        & 1           & A192        & A201        & 0           & 0.039000507\\\\\n",
       "\t12 & A11         & 48          & A32         & A49         &  4308       & A61         & A72         & 3           & A92         & A101        & ...         & 24          & A143        & A151        & 1           & A173        & 1           & A191        & A201        & 1           & 0.901763402\\\\\n",
       "\t19 & A12         & 24          & A32         & A41         & 12579       & A61         & A75         & 4           & A92         & A101        & ...         & 44          & A143        & A153        & 1           & A174        & 1           & A192        & A201        & 1           & 0.619150554\\\\\n",
       "\t22 & A11         &  6          & A32         & A43         &  2647       & A63         & A73         & 2           & A93         & A101        & ...         & 44          & A143        & A151        & 1           & A173        & 2           & A191        & A201        & 0           & 0.211521054\\\\\n",
       "\t25 & A14         & 10          & A34         & A42         &  2069       & A65         & A73         & 2           & A94         & A101        & ...         & 26          & A143        & A152        & 2           & A173        & 1           & A191        & A202        & 0           & 0.008929756\\\\\n",
       "\t33 & A12         & 18          & A32         & A40         &  5866       & A62         & A73         & 2           & A93         & A101        & ...         & 30          & A143        & A152        & 2           & A173        & 1           & A192        & A201        & 0           & 0.447561280\\\\\n",
       "\\end{tabular}\n"
      ],
      "text/markdown": [
       "\n",
       "| <!--/--> | V1 | V2 | V3 | V4 | V5 | V6 | V7 | V8 | V9 | V10 | ... | V13 | V14 | V15 | V16 | V17 | V18 | V19 | V20 | V21 | predictions | \n",
       "|---|---|---|---|---|---|\n",
       "| 1 | A11         |  6          | A34         | A43         |  1169       | A65         | A75         | 4           | A93         | A101        | ...         | 67          | A143        | A152        | 2           | A173        | 1           | A192        | A201        | 0           | 0.039000507 | \n",
       "| 12 | A11         | 48          | A32         | A49         |  4308       | A61         | A72         | 3           | A92         | A101        | ...         | 24          | A143        | A151        | 1           | A173        | 1           | A191        | A201        | 1           | 0.901763402 | \n",
       "| 19 | A12         | 24          | A32         | A41         | 12579       | A61         | A75         | 4           | A92         | A101        | ...         | 44          | A143        | A153        | 1           | A174        | 1           | A192        | A201        | 1           | 0.619150554 | \n",
       "| 22 | A11         |  6          | A32         | A43         |  2647       | A63         | A73         | 2           | A93         | A101        | ...         | 44          | A143        | A151        | 1           | A173        | 2           | A191        | A201        | 0           | 0.211521054 | \n",
       "| 25 | A14         | 10          | A34         | A42         |  2069       | A65         | A73         | 2           | A94         | A101        | ...         | 26          | A143        | A152        | 2           | A173        | 1           | A191        | A202        | 0           | 0.008929756 | \n",
       "| 33 | A12         | 18          | A32         | A40         |  5866       | A62         | A73         | 2           | A93         | A101        | ...         | 30          | A143        | A152        | 2           | A173        | 1           | A192        | A201        | 0           | 0.447561280 | \n",
       "\n",
       "\n"
      ],
      "text/plain": [
       "   V1  V2 V3  V4  V5    V6  V7  V8 V9  V10  ... V13 V14  V15  V16 V17  V18 V19 \n",
       "1  A11  6 A34 A43  1169 A65 A75 4  A93 A101 ... 67  A143 A152 2   A173 1   A192\n",
       "12 A11 48 A32 A49  4308 A61 A72 3  A92 A101 ... 24  A143 A151 1   A173 1   A191\n",
       "19 A12 24 A32 A41 12579 A61 A75 4  A92 A101 ... 44  A143 A153 1   A174 1   A192\n",
       "22 A11  6 A32 A43  2647 A63 A73 2  A93 A101 ... 44  A143 A151 1   A173 2   A191\n",
       "25 A14 10 A34 A42  2069 A65 A73 2  A94 A101 ... 26  A143 A152 2   A173 1   A191\n",
       "33 A12 18 A32 A40  5866 A62 A73 2  A93 A101 ... 30  A143 A152 2   A173 1   A192\n",
       "   V20  V21 predictions\n",
       "1  A201 0   0.039000507\n",
       "12 A201 1   0.901763402\n",
       "19 A201 1   0.619150554\n",
       "22 A201 0   0.211521054\n",
       "25 A202 0   0.008929756\n",
       "33 A201 0   0.447561280"
      ]
     },
     "metadata": {},
     "output_type": "display_data"
    }
   ],
   "source": [
    "split_data_set$test$V21 <- ifelse(as.integer(split_data_set$test$V21) == 1, 0,1)\n",
    "head(split_data_set$test)"
   ]
  },
  {
   "cell_type": "code",
   "execution_count": 64,
   "metadata": {
    "collapsed": true
   },
   "outputs": [],
   "source": [
    "# reference: https://github.com/ethen8181/machine-learning/blob/master/unbalanced/unbalanced_code/unbalanced_functions.R\n",
    "\n",
    "ConfusionMatrixInfo <- function( data, predict, actual, cutoff )\n",
    "{\n",
    "    # extract the column ;\n",
    "    # relevel making 1 appears on the more commonly seen position in \n",
    "    # a two by two confusion matrix\t\n",
    "    predict <- data[[predict]]\n",
    "    actual  <- relevel( as.factor( data[[actual]] ), \"1\" )\n",
    "\n",
    "    result <- data.table( actual = actual, predict = predict )\n",
    "\n",
    "    # caculating each pred falls into which category for the confusion matrix\n",
    "    result[ , type := ifelse( predict >= cutoff & actual == 1, \"TP\",\n",
    "                      ifelse( predict >= cutoff & actual == 0, \"FP\", \n",
    "                      ifelse( predict <  cutoff & actual == 1, \"FN\", \"TN\" ) ) ) %>% as.factor() ]\n",
    "\n",
    "    # jittering : can spread the points along the x axis \n",
    "    plot <- ggplot( result, aes( actual, predict, color = type ) ) + \n",
    "            geom_violin( fill = \"white\", color = NA ) +\n",
    "            geom_jitter( shape = 1 ) + \n",
    "            geom_hline( yintercept = cutoff, color = \"blue\", alpha = 0.6 ) + \n",
    "            scale_y_continuous( limits = c( 0, 1 ) ) + \n",
    "            scale_color_discrete( breaks = c( \"TP\", \"FN\", \"FP\", \"TN\" ) ) + # ordering of the legend \n",
    "            guides( col = guide_legend( nrow = 2 ) ) + # adjust the legend to have two rows  \n",
    "            ggtitle( sprintf( \"Confusion Matrix with Cutoff at %.2f\", cutoff ) )\n",
    "\n",
    "    return( list( data = result, plot = plot ) )\n",
    "}"
   ]
  },
  {
   "cell_type": "code",
   "execution_count": 65,
   "metadata": {},
   "outputs": [
    {
     "data": {},
     "metadata": {},
     "output_type": "display_data"
    },
    {
     "data": {
      "image/png": "[encoded data removed]",
      "text/plain": [
       "plot without title"
      ]
     },
     "metadata": {},
     "output_type": "display_data"
    }
   ],
   "source": [
    "cm_info <- ConfusionMatrixInfo( data = split_data_set$test, predict = \"predictions\", \n",
    "                                actual = \"V21\", cutoff = .6 )\n",
    "cm_info$plot"
   ]
  },
  {
   "cell_type": "markdown",
   "metadata": {},
   "source": [
    "\n",
    "\n",
    "The plot above shows that if we increase the cutoff point anymore we will misclassify more true positive results and misclassify less false positives - this makes it difficult to observe the effects different thresholds have on our response. All of this further cements the idea that ***we need to use a different model selection criteria other than accuracy to pick the optimal threshold value!***\n",
    "\n"
   ]
  },
  {
   "cell_type": "markdown",
   "metadata": {},
   "source": [
    "\n",
    "\n",
    "### Using ROC for model selection criteria\n",
    "\n",
    "I will borrow another function from ethen to further highlight the need to pick the correct model selection criteria for your specific dataset:\n",
    "\n"
   ]
  },
  {
   "cell_type": "code",
   "execution_count": 66,
   "metadata": {
    "collapsed": true
   },
   "outputs": [],
   "source": [
    "ROCInfo <- function( data, predict, actual, cost.fp, cost.fn )\n",
    "{\n",
    "    # calculate the values using the ROCR library\n",
    "    # true positive, false postive \n",
    "    pred <- prediction( data[[predict]], data[[actual]] )\n",
    "    perf <- performance( pred, \"tpr\", \"fpr\" )\n",
    "    roc_dt <- data.frame( fpr = perf@x.values[[1]], tpr = perf@y.values[[1]] )\n",
    "\n",
    "    # cost with the specified false positive and false negative cost \n",
    "    # false postive rate * number of negative instances * false positive cost + \n",
    "    # false negative rate * number of positive instances * false negative cost\n",
    "    cost <- perf@x.values[[1]] * cost.fp * sum( data[[actual]] == 0 ) + \n",
    "            ( 1 - perf@y.values[[1]] ) * cost.fn * sum( data[[actual]] == 1 )\n",
    "\n",
    "    cost_dt <- data.frame( cutoff = pred@cutoffs[[1]], cost = cost )\n",
    "\n",
    "    # optimal cutoff value, and the corresponding true positive and false positive rate\n",
    "    best_index  <- which.min(cost)\n",
    "    best_cost   <- cost_dt[ best_index, \"cost\" ]\n",
    "    best_tpr    <- roc_dt[ best_index, \"tpr\" ]\n",
    "    best_fpr    <- roc_dt[ best_index, \"fpr\" ]\n",
    "    best_cutoff <- pred@cutoffs[[1]][ best_index ]\n",
    "\n",
    "    # area under the curve\n",
    "    auc <- performance( pred, \"auc\" )@y.values[[1]]\n",
    "\n",
    "    # normalize the cost to assign colors to 1\n",
    "    normalize <- function(v) ( v - min(v) ) / diff( range(v) )\n",
    "\n",
    "    # create color from a palette to assign to the 100 generated threshold between 0 ~ 1\n",
    "    # then normalize each cost and assign colors to it, the higher the blacker\n",
    "    # don't times it by 100, there will be 0 in the vector\n",
    "    col_ramp <- colorRampPalette( c( \"green\", \"orange\", \"red\", \"black\" ) )(100)   \n",
    "    col_by_cost <- col_ramp[ ceiling( normalize(cost) * 99 ) + 1 ]\n",
    "\n",
    "    roc_plot <- ggplot( roc_dt, aes( fpr, tpr ) ) + \n",
    "                geom_line( color = rgb( 0, 0, 1, alpha = 0.3 ) ) +\n",
    "                geom_point( color = col_by_cost, size = 4, alpha = 0.2 ) + \n",
    "                geom_segment( aes( x = 0, y = 0, xend = 1, yend = 1 ), alpha = 0.8, color = \"royalblue\" ) + \n",
    "                labs( title = \"ROC\", x = \"False Postive Rate\", y = \"True Positive Rate\" ) +\n",
    "                geom_hline( yintercept = best_tpr, alpha = 0.8, linetype = \"dashed\", color = \"steelblue4\" ) +\n",
    "                geom_vline( xintercept = best_fpr, alpha = 0.8, linetype = \"dashed\", color = \"steelblue4\" )\n",
    "\n",
    "    cost_plot <- ggplot( cost_dt, aes( cutoff, cost ) ) +\n",
    "                 geom_line( color = \"blue\", alpha = 0.5 ) +\n",
    "                 geom_point( color = col_by_cost, size = 4, alpha = 0.5 ) +\n",
    "                 ggtitle( \"Cost\" ) +\n",
    "                 geom_vline( xintercept = best_cutoff, alpha = 0.8, linetype = \"dashed\", color = \"steelblue4\" ) +\n",
    "                 labs(x=\"Threshold\", y=\"Cost\")\n",
    "\n",
    "    # the main title for the two arranged plot\n",
    "    sub_title <- sprintf( \"Threshold at %.2f - Total Cost = %d, AUC = %.3f\", \n",
    "                          best_cutoff, best_cost, auc )\n",
    "\n",
    "    # arranged into a side by side plot\n",
    "    plot <- arrangeGrob( roc_plot, cost_plot, ncol = 2, \n",
    "                         top = textGrob( sub_title, gp = gpar( fontsize = 16, fontface = \"bold\" ) ) )\n",
    "\n",
    "    return( list( plot  = plot, \n",
    "                  cutoff  = best_cutoff, \n",
    "                  totalcost   = best_cost, \n",
    "                  auc         = auc,\n",
    "                  sensitivity = best_tpr, \n",
    "                  specificity = 1 - best_fpr ) )\n",
    "}"
   ]
  },
  {
   "cell_type": "markdown",
   "metadata": {},
   "source": [
    "\n",
    "\n",
    "### Define the cost of misclassification\n",
    "\n",
    "From the data dictionary, we are told that the cost of *incorrectly identifying a bad customer as good, is 5 times worse than incorrectly classifying a good customer as bad.*. This directly translates into us classifying the cost of a false negative to be 5x worse then a false positive. See reference below for an example that also uses a credit dataset:\n",
    "\n",
    "reference: http://support.sas.com/resources/papers/proceedings17/0942-2017.pdf\n",
    "\n"
   ]
  },
  {
   "cell_type": "code",
   "execution_count": 67,
   "metadata": {},
   "outputs": [
    {
     "data": {
      "image/png": "[encoded data removed]",
      "text/plain": [
       "plot without title"
      ]
     },
     "metadata": {},
     "output_type": "display_data"
    }
   ],
   "source": [
    "cost_fp <- 2\n",
    "cost_fn <- 10\n",
    "roc_info <- ROCInfo(data = cm_info$data, predict = \"predict\", \n",
    "                     actual = \"actual\", cost.fp = cost_fp, cost.fn = cost_fn)\n",
    "grid.draw(roc_info$plot)"
   ]
  },
  {
   "cell_type": "markdown",
   "metadata": {},
   "source": [
    "\n",
    "\n",
    "### Fin!\n",
    "\n",
    "There you have it! We have successfully found the optimal threshold value (0.37) for our logistic regression model that classifies credit loan applicants as either \"Good\" or \"Bad\" credit risk. We can interpret the optimal threshold value in the following way:\n",
    "\n",
    "*If the probability of credit default is higher then 37%, we label the applicant as a \"Bad\" credit risk.*\n",
    "\n",
    "We came to this conclusion by training our logistic regression model on 80% of the dataset, testing on 20% of the dataset, and by using AUC as our model selection criteria. An additional step I could take, but will spare the reader of, is using leave-one-out cross-validation to insure our findings are unbiased."
   ]
  }
 ],
 "metadata": {
  "kernelspec": {
   "display_name": "R",
   "language": "R",
   "name": "ir"
  },
  "language_info": {
   "codemirror_mode": "r",
   "file_extension": ".r",
   "mimetype": "text/x-r-source",
   "name": "R",
   "pygments_lexer": "r",
   "version": "3.4.3"
  }
 },
 "nbformat": 4,
 "nbformat_minor": 2
}
