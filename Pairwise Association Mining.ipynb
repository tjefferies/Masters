{
 "cells": [
  {
   "cell_type": "code",
   "execution_count": 1,
   "metadata": {
    "collapsed": true
   },
   "outputs": [],
   "source": [
    "from collections import defaultdict\n",
    "from itertools import combinations\n",
    "import pandas as pd"
   ]
  },
  {
   "cell_type": "code",
   "execution_count": 2,
   "metadata": {
    "collapsed": true
   },
   "outputs": [],
   "source": [
    "# Confidence threshold\n",
    "THRESHOLD = 0.5\n",
    "\n",
    "# Only consider rules for items appearing at least `MIN_COUNT` times.\n",
    "MIN_COUNT = 5"
   ]
  },
  {
   "cell_type": "code",
   "execution_count": 8,
   "metadata": {
    "collapsed": true
   },
   "outputs": [],
   "source": [
    "class pairwise_association_mining:\n",
    "    def __init__(self, list_of_sets, threshold, min_count):\n",
    "        assert isinstance(list_of_sets, list), \"list_of_sets must be a list of sets\"\n",
    "        assert isinstance(list_of_sets[0], set), \"list_of_sets must be a list of sets\"\n",
    "        assert isinstance(threshold, float) and threshold > 0  and threshold < 1, \"threshold must be between 0 and 1\"\n",
    "        assert isinstance(min_count, int), \"min_count must be an int\"\n",
    "        \n",
    "        self.list_of_sets = list_of_sets\n",
    "        self.threshold = threshold\n",
    "        self.min_count = min_count\n",
    "        \n",
    "        self.pair_counts = defaultdict(int)\n",
    "        self.item_counts = defaultdict(int)\n",
    "        \n",
    "        self.rules = dict()\n",
    "        self.find_assoc_rules()\n",
    "        \n",
    "        self.pairwise_confidence = {pair:self.rules[pair] for pair in self.rules.keys() \\\n",
    "                             if self.item_counts[pair[0]] >= self.min_count}\n",
    "        \n",
    "    def update_pair_counts(self, itemset):\n",
    "        \"\"\"\n",
    "        Updates a dictionary of pair counts for\n",
    "        all pairs of items in a given itemset.\n",
    "        \"\"\"\n",
    "        for a,b in combinations(itemset,2):\n",
    "            self.pair_counts[(a,b)] += 1\n",
    "            self.pair_counts[(b,a)] += 1\n",
    "            \n",
    "    def update_item_counts(self, itemset):\n",
    "        \"\"\"\n",
    "        Updates a dictionary of item counts for\n",
    "        all pairs of items in a given itemset.\n",
    "        \"\"\"\n",
    "        for item in itemset:\n",
    "            self.item_counts[item] += 1\n",
    "            \n",
    "    def filter_rules_by_conf(self):\n",
    "        \"\"\"\n",
    "        Filters out pairs whose confidence is\n",
    "        below the user defined threshold.\n",
    "        \"\"\"\n",
    "        for (a,b) in self.pair_counts:\n",
    "            confidence = self.pair_counts[(a,b)] / self.item_counts[a]\n",
    "            if confidence >= self.threshold:\n",
    "                self.rules[(a,b)] = confidence\n",
    "\n",
    "    def find_assoc_rules(self):\n",
    "        \"\"\"\n",
    "        Set final rules dictionary using\n",
    "        pairs that appear together with\n",
    "        confidence greater than or equal to\n",
    "        the user defined threshold.\n",
    "        \"\"\"\n",
    "        for itemset in self.list_of_sets:\n",
    "            self.update_pair_counts(itemset)\n",
    "            self.update_item_counts(itemset)\n",
    "        rules = self.filter_rules_by_conf()\n",
    "        return rules\n",
    "    \n",
    "    @staticmethod\n",
    "    def gen_rule_str(a, b, val=None, val_fmt='{:.3f}', sep=\" = \"):\n",
    "        text = \"{} => {}\".format(a, b)\n",
    "        if val:\n",
    "            text = \"conf(\" + text + \")\"\n",
    "            text += sep + val_fmt.format(val)\n",
    "        return text\n",
    "\n",
    "    def print_rules(self):\n",
    "        \"\"\"\n",
    "        Pretty print pairwise associations\n",
    "        \"\"\"\n",
    "        from operator import itemgetter\n",
    "        ordered_rules = sorted(self.pairwise_confidence.items(), key=itemgetter(1), reverse=True)\n",
    "        for (a, b), conf_ab in ordered_rules:\n",
    "            print(self.gen_rule_str(a, b, conf_ab))"
   ]
  },
  {
   "cell_type": "code",
   "execution_count": 4,
   "metadata": {
    "collapsed": false
   },
   "outputs": [],
   "source": [
    "def main():\n",
    "    df = pd.read_csv('BreadBasket_DMS.csv')\n",
    "    checkout_list = defaultdict(list)\n",
    "    trans = dict()\n",
    "    for row in df.groupby(by='Transaction').filter(lambda x: len(set(x['Item'])) > 1)[['Transaction','Item']].itertuples():\n",
    "        if \"{}\".format(row.Transaction)+row.Item not in trans:\n",
    "            checkout_list[row.Transaction].append(row.Item)\n",
    "        trans[\"{}\".format(row.Transaction)+row.Item] = None\n",
    "        \n",
    "    grocery_itemset = [set(lst) for lst in checkout_list.values()]\n",
    "    pam = pairwise_association_mining(grocery_itemset, THRESHOLD, MIN_COUNT)\n",
    "    pam.print_rules()"
   ]
  },
  {
   "cell_type": "code",
   "execution_count": 9,
   "metadata": {
    "collapsed": false
   },
   "outputs": [
    {
     "name": "stdout",
     "output_type": "stream",
     "text": [
      "conf(Postcard => Tshirt) = 0.857\n",
      "conf(Extra Salami or Feta => Coffee) = 0.838\n",
      "conf(Mighty Protein => Coffee) = 0.818\n",
      "conf(Keeping It Local => Coffee) = 0.810\n",
      "conf(Basket => Coffee) = 0.800\n",
      "conf(Duck egg => NONE) = 0.750\n",
      "conf(Nomad bag => Bread) = 0.750\n",
      "conf(Toast => Coffee) = 0.737\n",
      "conf(Tartine => Coffee) = 0.690\n",
      "conf(Art Tray => Coffee) = 0.684\n",
      "conf(Salad => Coffee) = 0.681\n",
      "conf(Victorian Sponge => Tea) = 0.667\n",
      "conf(Lemon and coconut => Coffee) = 0.667\n",
      "conf(Crisps => Coffee) = 0.667\n",
      "conf(Granola => Coffee) = 0.654\n",
      "conf(Bakewell => Coffee) = 0.630\n",
      "conf(Medialuna => Coffee) = 0.629\n",
      "conf(Drinking chocolate spoons  => Bread) = 0.625\n",
      "conf(Drinking chocolate spoons  => Coffee) = 0.625\n",
      "conf(Spanish Brunch => Coffee) = 0.613\n",
      "conf(Vegan mincepie => Coffee) = 0.612\n",
      "conf(Eggs => Bread) = 0.609\n",
      "conf(Christmas common => Bread) = 0.600\n",
      "conf(Muesli => Coffee) = 0.600\n",
      "conf(Muesli => Bread) = 0.600\n",
      "conf(Kids biscuit => Coffee) = 0.600\n",
      "conf(Pastry => Coffee) = 0.598\n",
      "conf(Tiffin => Coffee) = 0.593\n",
      "conf(Hearty & Seasonal => Coffee) = 0.587\n",
      "conf(Sandwich => Coffee) = 0.587\n",
      "conf(Cake => Coffee) = 0.585\n",
      "conf(NONE => Coffee) = 0.584\n",
      "conf(Duck egg => Coffee) = 0.583\n",
      "conf(Alfajores => Coffee) = 0.581\n",
      "conf(The Nomad => Coffee) = 0.574\n",
      "conf(Hot chocolate => Coffee) = 0.573\n",
      "conf(Empanadas => Coffee) = 0.571\n",
      "conf(Cookies => Coffee) = 0.567\n",
      "conf(Scone => Coffee) = 0.564\n",
      "conf(Frittata => Coffee) = 0.558\n",
      "conf(Juice => Coffee) = 0.557\n",
      "conf(Chocolates => Coffee) = 0.556\n",
      "conf(Muffin => Coffee) = 0.548\n",
      "conf(Pick and Mix Bowls => Coffee) = 0.545\n",
      "conf(Tshirt => Postcard) = 0.545\n",
      "conf(Brownie => Coffee) = 0.539\n",
      "conf(Jammie Dodgers => Coffee) = 0.534\n",
      "conf(Soup => Coffee) = 0.523\n",
      "conf(Smoothies => Coffee) = 0.521\n",
      "conf(Crisps => Juice) = 0.500\n",
      "conf(Duck egg => Tea) = 0.500\n",
      "conf(Nomad bag => Coffee) = 0.500\n",
      "conf(Duck egg => Spanish Brunch) = 0.500\n",
      "conf(Crisps => Sandwich) = 0.500\n",
      "conf(Lemon and coconut => Bread) = 0.500\n"
     ]
    }
   ],
   "source": [
    "if __name__ == \"__main__\":\n",
    "    main()"
   ]
  },
  {
   "cell_type": "code",
   "execution_count": null,
   "metadata": {
    "collapsed": true
   },
   "outputs": [],
   "source": []
  }
 ],
 "metadata": {
  "anaconda-cloud": {},
  "kernelspec": {
   "display_name": "Python [conda root]",
   "language": "python",
   "name": "conda-root-py"
  },
  "language_info": {
   "codemirror_mode": {
    "name": "ipython",
    "version": 3
   },
   "file_extension": ".py",
   "mimetype": "text/x-python",
   "name": "python",
   "nbconvert_exporter": "python",
   "pygments_lexer": "ipython3",
   "version": "3.5.5"
  }
 },
 "nbformat": 4,
 "nbformat_minor": 2
}
