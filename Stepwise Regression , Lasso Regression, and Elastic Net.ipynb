{
 "cells": [
  {
   "cell_type": "markdown",
   "metadata": {},
   "source": [
    "# Stepwise Regression\n",
    "# Lasso Regression\n",
    "# Elastic Net\n",
    "\n",
    "*Using the crime data set from http://www.statsci.org/data/general/uscrime.txt data dictionary at http://www.statsci.org/data/general/uscrime.html, I will build regression\tmodels using:*\n",
    "1. *Stepwise regression*\n",
    "2. *Lasso*\n",
    "3. *Elastic net*"
   ]
  },
  {
   "cell_type": "markdown",
   "metadata": {},
   "source": [
    "\n",
    "\n",
    "### Load libraries and set seed\n",
    "\n"
   ]
  },
  {
   "cell_type": "code",
   "execution_count": 1,
   "metadata": {},
   "outputs": [
    {
     "name": "stderr",
     "output_type": "stream",
     "text": [
      "Loading required package: Matrix\n",
      "Loading required package: foreach\n",
      "Loaded glmnet 2.0-13\n",
      "\n",
      "Loading required package: lattice\n",
      "Loading required package: ggplot2\n"
     ]
    }
   ],
   "source": [
    "options(jupyter.plot_mimetypes = c(\"text/plain\", \"image/png\" ))\n",
    "library(glmnet)\n",
    "library(caret)\n",
    "set.seed(37)"
   ]
  },
  {
   "cell_type": "markdown",
   "metadata": {},
   "source": [
    "\n",
    "\n",
    "### Load data\n",
    "\n"
   ]
  },
  {
   "cell_type": "code",
   "execution_count": 2,
   "metadata": {},
   "outputs": [],
   "source": [
    "data <- read.table('uscrime.txt', header = TRUE)"
   ]
  },
  {
   "cell_type": "markdown",
   "metadata": {
    "collapsed": true
   },
   "source": [
    "\n",
    "\n",
    "### Check head of data\n",
    "\n"
   ]
  },
  {
   "cell_type": "code",
   "execution_count": 3,
   "metadata": {},
   "outputs": [
    {
     "data": {
      "text/html": [
       "<table>\n",
       "<thead><tr><th scope=col>M</th><th scope=col>So</th><th scope=col>Ed</th><th scope=col>Po1</th><th scope=col>Po2</th><th scope=col>LF</th><th scope=col>M.F</th><th scope=col>Pop</th><th scope=col>NW</th><th scope=col>U1</th><th scope=col>U2</th><th scope=col>Wealth</th><th scope=col>Ineq</th><th scope=col>Prob</th><th scope=col>Time</th><th scope=col>Crime</th></tr></thead>\n",
       "<tbody>\n",
       "\t<tr><td>15.1    </td><td>1       </td><td> 9.1    </td><td> 5.8    </td><td> 5.6    </td><td>0.510   </td><td> 95.0   </td><td> 33     </td><td>30.1    </td><td>0.108   </td><td>4.1     </td><td>3940    </td><td>26.1    </td><td>0.084602</td><td>26.2011 </td><td> 791    </td></tr>\n",
       "\t<tr><td>14.3    </td><td>0       </td><td>11.3    </td><td>10.3    </td><td> 9.5    </td><td>0.583   </td><td>101.2   </td><td> 13     </td><td>10.2    </td><td>0.096   </td><td>3.6     </td><td>5570    </td><td>19.4    </td><td>0.029599</td><td>25.2999 </td><td>1635    </td></tr>\n",
       "\t<tr><td>14.2    </td><td>1       </td><td> 8.9    </td><td> 4.5    </td><td> 4.4    </td><td>0.533   </td><td> 96.9   </td><td> 18     </td><td>21.9    </td><td>0.094   </td><td>3.3     </td><td>3180    </td><td>25.0    </td><td>0.083401</td><td>24.3006 </td><td> 578    </td></tr>\n",
       "\t<tr><td>13.6    </td><td>0       </td><td>12.1    </td><td>14.9    </td><td>14.1    </td><td>0.577   </td><td> 99.4   </td><td>157     </td><td> 8.0    </td><td>0.102   </td><td>3.9     </td><td>6730    </td><td>16.7    </td><td>0.015801</td><td>29.9012 </td><td>1969    </td></tr>\n",
       "\t<tr><td>14.1    </td><td>0       </td><td>12.1    </td><td>10.9    </td><td>10.1    </td><td>0.591   </td><td> 98.5   </td><td> 18     </td><td> 3.0    </td><td>0.091   </td><td>2.0     </td><td>5780    </td><td>17.4    </td><td>0.041399</td><td>21.2998 </td><td>1234    </td></tr>\n",
       "\t<tr><td>12.1    </td><td>0       </td><td>11.0    </td><td>11.8    </td><td>11.5    </td><td>0.547   </td><td> 96.4   </td><td> 25     </td><td> 4.4    </td><td>0.084   </td><td>2.9     </td><td>6890    </td><td>12.6    </td><td>0.034201</td><td>20.9995 </td><td> 682    </td></tr>\n",
       "</tbody>\n",
       "</table>\n"
      ],
      "text/latex": [
       "\\begin{tabular}{r|llllllllllllllll}\n",
       " M & So & Ed & Po1 & Po2 & LF & M.F & Pop & NW & U1 & U2 & Wealth & Ineq & Prob & Time & Crime\\\\\n",
       "\\hline\n",
       "\t 15.1     & 1        &  9.1     &  5.8     &  5.6     & 0.510    &  95.0    &  33      & 30.1     & 0.108    & 4.1      & 3940     & 26.1     & 0.084602 & 26.2011  &  791    \\\\\n",
       "\t 14.3     & 0        & 11.3     & 10.3     &  9.5     & 0.583    & 101.2    &  13      & 10.2     & 0.096    & 3.6      & 5570     & 19.4     & 0.029599 & 25.2999  & 1635    \\\\\n",
       "\t 14.2     & 1        &  8.9     &  4.5     &  4.4     & 0.533    &  96.9    &  18      & 21.9     & 0.094    & 3.3      & 3180     & 25.0     & 0.083401 & 24.3006  &  578    \\\\\n",
       "\t 13.6     & 0        & 12.1     & 14.9     & 14.1     & 0.577    &  99.4    & 157      &  8.0     & 0.102    & 3.9      & 6730     & 16.7     & 0.015801 & 29.9012  & 1969    \\\\\n",
       "\t 14.1     & 0        & 12.1     & 10.9     & 10.1     & 0.591    &  98.5    &  18      &  3.0     & 0.091    & 2.0      & 5780     & 17.4     & 0.041399 & 21.2998  & 1234    \\\\\n",
       "\t 12.1     & 0        & 11.0     & 11.8     & 11.5     & 0.547    &  96.4    &  25      &  4.4     & 0.084    & 2.9      & 6890     & 12.6     & 0.034201 & 20.9995  &  682    \\\\\n",
       "\\end{tabular}\n"
      ],
      "text/markdown": [
       "\n",
       "M | So | Ed | Po1 | Po2 | LF | M.F | Pop | NW | U1 | U2 | Wealth | Ineq | Prob | Time | Crime | \n",
       "|---|---|---|---|---|---|\n",
       "| 15.1     | 1        |  9.1     |  5.8     |  5.6     | 0.510    |  95.0    |  33      | 30.1     | 0.108    | 4.1      | 3940     | 26.1     | 0.084602 | 26.2011  |  791     | \n",
       "| 14.3     | 0        | 11.3     | 10.3     |  9.5     | 0.583    | 101.2    |  13      | 10.2     | 0.096    | 3.6      | 5570     | 19.4     | 0.029599 | 25.2999  | 1635     | \n",
       "| 14.2     | 1        |  8.9     |  4.5     |  4.4     | 0.533    |  96.9    |  18      | 21.9     | 0.094    | 3.3      | 3180     | 25.0     | 0.083401 | 24.3006  |  578     | \n",
       "| 13.6     | 0        | 12.1     | 14.9     | 14.1     | 0.577    |  99.4    | 157      |  8.0     | 0.102    | 3.9      | 6730     | 16.7     | 0.015801 | 29.9012  | 1969     | \n",
       "| 14.1     | 0        | 12.1     | 10.9     | 10.1     | 0.591    |  98.5    |  18      |  3.0     | 0.091    | 2.0      | 5780     | 17.4     | 0.041399 | 21.2998  | 1234     | \n",
       "| 12.1     | 0        | 11.0     | 11.8     | 11.5     | 0.547    |  96.4    |  25      |  4.4     | 0.084    | 2.9      | 6890     | 12.6     | 0.034201 | 20.9995  |  682     | \n",
       "\n",
       "\n"
      ],
      "text/plain": [
       "  M    So Ed   Po1  Po2  LF    M.F   Pop NW   U1    U2  Wealth Ineq Prob    \n",
       "1 15.1 1   9.1  5.8  5.6 0.510  95.0  33 30.1 0.108 4.1 3940   26.1 0.084602\n",
       "2 14.3 0  11.3 10.3  9.5 0.583 101.2  13 10.2 0.096 3.6 5570   19.4 0.029599\n",
       "3 14.2 1   8.9  4.5  4.4 0.533  96.9  18 21.9 0.094 3.3 3180   25.0 0.083401\n",
       "4 13.6 0  12.1 14.9 14.1 0.577  99.4 157  8.0 0.102 3.9 6730   16.7 0.015801\n",
       "5 14.1 0  12.1 10.9 10.1 0.591  98.5  18  3.0 0.091 2.0 5780   17.4 0.041399\n",
       "6 12.1 0  11.0 11.8 11.5 0.547  96.4  25  4.4 0.084 2.9 6890   12.6 0.034201\n",
       "  Time    Crime\n",
       "1 26.2011  791 \n",
       "2 25.2999 1635 \n",
       "3 24.3006  578 \n",
       "4 29.9012 1969 \n",
       "5 21.2998 1234 \n",
       "6 20.9995  682 "
      ]
     },
     "metadata": {},
     "output_type": "display_data"
    }
   ],
   "source": [
    "head(data)"
   ]
  },
  {
   "cell_type": "markdown",
   "metadata": {
    "collapsed": true
   },
   "source": [
    "\n",
    "\n",
    "### Check str of data\n",
    "\n"
   ]
  },
  {
   "cell_type": "code",
   "execution_count": 4,
   "metadata": {},
   "outputs": [
    {
     "name": "stdout",
     "output_type": "stream",
     "text": [
      "'data.frame':\t47 obs. of  16 variables:\n",
      " $ M     : num  15.1 14.3 14.2 13.6 14.1 12.1 12.7 13.1 15.7 14 ...\n",
      " $ So    : int  1 0 1 0 0 0 1 1 1 0 ...\n",
      " $ Ed    : num  9.1 11.3 8.9 12.1 12.1 11 11.1 10.9 9 11.8 ...\n",
      " $ Po1   : num  5.8 10.3 4.5 14.9 10.9 11.8 8.2 11.5 6.5 7.1 ...\n",
      " $ Po2   : num  5.6 9.5 4.4 14.1 10.1 11.5 7.9 10.9 6.2 6.8 ...\n",
      " $ LF    : num  0.51 0.583 0.533 0.577 0.591 0.547 0.519 0.542 0.553 0.632 ...\n",
      " $ M.F   : num  95 101.2 96.9 99.4 98.5 ...\n",
      " $ Pop   : int  33 13 18 157 18 25 4 50 39 7 ...\n",
      " $ NW    : num  30.1 10.2 21.9 8 3 4.4 13.9 17.9 28.6 1.5 ...\n",
      " $ U1    : num  0.108 0.096 0.094 0.102 0.091 0.084 0.097 0.079 0.081 0.1 ...\n",
      " $ U2    : num  4.1 3.6 3.3 3.9 2 2.9 3.8 3.5 2.8 2.4 ...\n",
      " $ Wealth: int  3940 5570 3180 6730 5780 6890 6200 4720 4210 5260 ...\n",
      " $ Ineq  : num  26.1 19.4 25 16.7 17.4 12.6 16.8 20.6 23.9 17.4 ...\n",
      " $ Prob  : num  0.0846 0.0296 0.0834 0.0158 0.0414 ...\n",
      " $ Time  : num  26.2 25.3 24.3 29.9 21.3 ...\n",
      " $ Crime : int  791 1635 578 1969 1234 682 963 1555 856 705 ...\n"
     ]
    }
   ],
   "source": [
    "str(data)"
   ]
  },
  {
   "cell_type": "markdown",
   "metadata": {},
   "source": [
    "\n",
    "\n",
    "## 1. Stepwise Regression\n",
    "\n",
    "First let's perform the stepwise regression. Stepwise regression is a ***greedy algoithm*** ie it is a brute force algorithm that trys all possible regression models (combination of predictive features), calculates the model prediction error, and picks the model (combination of predictive features) that minimizes the prediction error most. From Dr. Sokol's suggestions we'll use stepwise regression as a kind of quick pass at feature selection. More advanced feature selection models that utilize optimization to pick the best model we'll be demonstrated in the sections detailing the use of Lasso regression and Elastic Net.\n",
    "\n"
   ]
  },
  {
   "cell_type": "markdown",
   "metadata": {},
   "source": [
    "\n",
    "\n",
    "### Perform the stepwise regression using `step`\n",
    "\n",
    "Our first regression model in our stepwise regression model selection process is the null model that does not include any predictive features and is only a function of the y-intercept. Naturally, we should expect this model to perform horribly as it is basically a straight line at y=1. The final model we will try is the model containing all predictive features. The `step` function in R will add a single predictive feature at every \"step\", exhausting all predictive feature options until the AIC increases (indicative of a poorer model). Luckily for us, the `step` function in R does all of the model performance comparing under the hood. The final model spit out by the `step` model is the optimal model. This final model will be tested using one final round of 10-fold cross-validation. At this point I will report the final cross-validated model performance. See references below for more on the `step` function:\n",
    "\n",
    "reference: http://www.stat.columbia.edu/~martin/W2024/R10.pdf\n",
    "\n",
    "http://rstudio-pubs-static.s3.amazonaws.com/2899_a9129debf6bd47d2a0501de9c0dc583d.html\n",
    "\n",
    "https://www.rdocumentation.org/packages/stats/versions/3.4.3/topics/step"
   ]
  },
  {
   "cell_type": "code",
   "execution_count": 5,
   "metadata": {
    "scrolled": false
   },
   "outputs": [
    {
     "name": "stdout",
     "output_type": "stream",
     "text": [
      "Start:  AIC=561.02\n",
      "Crime ~ 1\n",
      "\n",
      "         Df Sum of Sq     RSS    AIC\n",
      "+ Po1     1   3253302 3627626 532.94\n",
      "+ Po2     1   3058626 3822302 535.39\n",
      "+ Wealth  1   1340152 5540775 552.84\n",
      "+ Prob    1   1257075 5623853 553.54\n",
      "+ Pop     1    783660 6097267 557.34\n",
      "+ Ed      1    717146 6163781 557.85\n",
      "+ M.F     1    314867 6566061 560.82\n",
      "<none>                6880928 561.02\n",
      "+ LF      1    245446 6635482 561.32\n",
      "+ Ineq    1    220530 6660397 561.49\n",
      "+ U2      1    216354 6664573 561.52\n",
      "+ Time    1    154545 6726383 561.96\n",
      "+ So      1     56527 6824400 562.64\n",
      "+ M       1     55084 6825844 562.65\n",
      "+ U1      1     17533 6863395 562.90\n",
      "+ NW      1      7312 6873615 562.97\n",
      "\n",
      "Step:  AIC=532.94\n",
      "Crime ~ Po1\n",
      "\n",
      "         Df Sum of Sq     RSS    AIC\n",
      "+ Ineq    1    739819 2887807 524.22\n",
      "+ M       1    616741 3010885 526.18\n",
      "+ M.F     1    250522 3377104 531.57\n",
      "+ NW      1    232434 3395192 531.82\n",
      "+ So      1    219098 3408528 532.01\n",
      "+ Wealth  1    180872 3446754 532.53\n",
      "<none>                3627626 532.94\n",
      "+ Po2     1    146167 3481459 533.00\n",
      "+ Prob    1     92278 3535348 533.72\n",
      "+ LF      1     77479 3550147 533.92\n",
      "+ Time    1     43185 3584441 534.37\n",
      "+ U2      1     17848 3609778 534.70\n",
      "+ Pop     1      5666 3621959 534.86\n",
      "+ U1      1      2878 3624748 534.90\n",
      "+ Ed      1       767 3626859 534.93\n",
      "- Po1     1   3253302 6880928 561.02\n",
      "\n",
      "Step:  AIC=524.22\n",
      "Crime ~ Po1 + Ineq\n",
      "\n",
      "         Df Sum of Sq     RSS    AIC\n",
      "+ Ed      1    587050 2300757 515.53\n",
      "+ M.F     1    454545 2433262 518.17\n",
      "+ Prob    1    280690 2607117 521.41\n",
      "+ LF      1    260571 2627236 521.77\n",
      "+ Wealth  1    213937 2673871 522.60\n",
      "+ M       1    181236 2706571 523.17\n",
      "+ Pop     1    130377 2757430 524.04\n",
      "<none>                2887807 524.22\n",
      "+ NW      1     36439 2851369 525.62\n",
      "+ So      1     33738 2854069 525.66\n",
      "+ Po2     1     30673 2857134 525.71\n",
      "+ U1      1      2309 2885498 526.18\n",
      "+ Time    1       497 2887310 526.21\n",
      "+ U2      1       253 2887554 526.21\n",
      "- Ineq    1    739819 3627626 532.94\n",
      "- Po1     1   3772590 6660397 561.49\n",
      "\n",
      "Step:  AIC=515.53\n",
      "Crime ~ Po1 + Ineq + Ed\n",
      "\n",
      "         Df Sum of Sq     RSS    AIC\n",
      "+ M       1    239405 2061353 512.37\n",
      "+ Prob    1    234981 2065776 512.47\n",
      "+ M.F     1    117026 2183731 515.08\n",
      "<none>                2300757 515.53\n",
      "+ Wealth  1     79540 2221218 515.88\n",
      "+ U2      1     62112 2238646 516.25\n",
      "+ Time    1     61770 2238987 516.26\n",
      "+ Po2     1     42584 2258174 516.66\n",
      "+ Pop     1     39319 2261438 516.72\n",
      "+ U1      1      7365 2293392 517.38\n",
      "+ LF      1      7254 2293503 517.39\n",
      "+ NW      1      4210 2296547 517.45\n",
      "+ So      1      4135 2296622 517.45\n",
      "- Ed      1    587050 2887807 524.22\n",
      "- Ineq    1   1326101 3626859 534.93\n",
      "- Po1     1   3782666 6083423 559.23\n",
      "\n",
      "Step:  AIC=512.37\n",
      "Crime ~ Po1 + Ineq + Ed + M\n",
      "\n",
      "         Df Sum of Sq     RSS    AIC\n",
      "+ Prob    1    258063 1803290 508.08\n",
      "+ U2      1    200988 1860365 509.55\n",
      "+ Wealth  1    163378 1897975 510.49\n",
      "<none>                2061353 512.37\n",
      "+ M.F     1     74398 1986955 512.64\n",
      "+ U1      1     50835 2010518 513.20\n",
      "+ Po2     1     45392 2015961 513.32\n",
      "+ Time    1     42746 2018607 513.39\n",
      "+ NW      1     16488 2044865 513.99\n",
      "+ Pop     1      8101 2053251 514.19\n",
      "+ So      1      3189 2058164 514.30\n",
      "+ LF      1      2988 2058365 514.30\n",
      "- M       1    239405 2300757 515.53\n",
      "- Ed      1    645219 2706571 523.17\n",
      "- Ineq    1    864671 2926024 526.83\n",
      "- Po1     1   4000849 6062202 561.07\n",
      "\n",
      "Step:  AIC=508.08\n",
      "Crime ~ Po1 + Ineq + Ed + M + Prob\n",
      "\n",
      "         Df Sum of Sq     RSS    AIC\n",
      "+ U2      1    192233 1611057 504.79\n",
      "+ Wealth  1     86490 1716801 507.77\n",
      "+ M.F     1     84509 1718781 507.83\n",
      "<none>                1803290 508.08\n",
      "+ U1      1     52313 1750977 508.70\n",
      "+ Pop     1     47719 1755571 508.82\n",
      "+ Po2     1     37967 1765323 509.08\n",
      "+ So      1     21971 1781320 509.51\n",
      "+ Time    1     10194 1793096 509.82\n",
      "+ LF      1       990 1802301 510.06\n",
      "+ NW      1       797 1802493 510.06\n",
      "- Prob    1    258063 2061353 512.37\n",
      "- M       1    262486 2065776 512.47\n",
      "- Ed      1    598315 2401605 519.55\n",
      "- Ineq    1    968199 2771489 526.28\n",
      "- Po1     1   3268577 5071868 554.69\n",
      "\n",
      "Step:  AIC=504.79\n",
      "Crime ~ Po1 + Ineq + Ed + M + Prob + U2\n",
      "\n",
      "         Df Sum of Sq     RSS    AIC\n",
      "<none>                1611057 504.79\n",
      "+ Wealth  1     59910 1551147 505.00\n",
      "+ U1      1     54830 1556227 505.16\n",
      "+ Pop     1     51320 1559737 505.26\n",
      "+ M.F     1     30945 1580112 505.87\n",
      "+ Po2     1     25017 1586040 506.05\n",
      "+ So      1     17958 1593098 506.26\n",
      "+ LF      1     13179 1597878 506.40\n",
      "+ Time    1      7159 1603898 506.58\n",
      "+ NW      1       359 1610698 506.78\n",
      "- U2      1    192233 1803290 508.08\n",
      "- Prob    1    249308 1860365 509.55\n",
      "- M       1    400611 2011667 513.22\n",
      "- Ed      1    776207 2387264 521.27\n",
      "- Ineq    1    949221 2560278 524.56\n",
      "- Po1     1   2817067 4428124 550.31\n"
     ]
    }
   ],
   "source": [
    "null_features <- lm(Crime~1,data=data)\n",
    "all_features <- lm(Crime~.,data=data)\n",
    "stepwise_regression_aic <- step(null_features,scope=list(lower=null_features,upper=all_features),\n",
    "                            direction=\"both\", trace=1, k=2)"
   ]
  },
  {
   "cell_type": "code",
   "execution_count": 6,
   "metadata": {},
   "outputs": [
    {
     "data": {
      "text/html": [
       "<table>\n",
       "<thead><tr><th scope=col>Step</th><th scope=col>Df</th><th scope=col>Deviance</th><th scope=col>Resid. Df</th><th scope=col>Resid. Dev</th><th scope=col>AIC</th></tr></thead>\n",
       "<tbody>\n",
       "\t<tr><td>         </td><td>NA       </td><td>       NA</td><td>46       </td><td>6880928  </td><td>561.0235 </td></tr>\n",
       "\t<tr><td>+ Po1    </td><td>-1       </td><td>3253301.8</td><td>45       </td><td>3627626  </td><td>532.9352 </td></tr>\n",
       "\t<tr><td>+ Ineq   </td><td>-1       </td><td> 739818.6</td><td>44       </td><td>2887807  </td><td>524.2154 </td></tr>\n",
       "\t<tr><td>+ Ed     </td><td>-1       </td><td> 587049.8</td><td>43       </td><td>2300757  </td><td>515.5343 </td></tr>\n",
       "\t<tr><td>+ M      </td><td>-1       </td><td> 239404.6</td><td>42       </td><td>2061353  </td><td>512.3701 </td></tr>\n",
       "\t<tr><td>+ Prob   </td><td>-1       </td><td> 258062.5</td><td>41       </td><td>1803290  </td><td>508.0839 </td></tr>\n",
       "\t<tr><td>+ U2     </td><td>-1       </td><td> 192233.4</td><td>40       </td><td>1611057  </td><td>504.7859 </td></tr>\n",
       "</tbody>\n",
       "</table>\n"
      ],
      "text/latex": [
       "\\begin{tabular}{r|llllll}\n",
       " Step & Df & Deviance & Resid. Df & Resid. Dev & AIC\\\\\n",
       "\\hline\n",
       "\t           & NA        &        NA & 46        & 6880928   & 561.0235 \\\\\n",
       "\t + Po1     & -1        & 3253301.8 & 45        & 3627626   & 532.9352 \\\\\n",
       "\t + Ineq    & -1        &  739818.6 & 44        & 2887807   & 524.2154 \\\\\n",
       "\t + Ed      & -1        &  587049.8 & 43        & 2300757   & 515.5343 \\\\\n",
       "\t + M       & -1        &  239404.6 & 42        & 2061353   & 512.3701 \\\\\n",
       "\t + Prob    & -1        &  258062.5 & 41        & 1803290   & 508.0839 \\\\\n",
       "\t + U2      & -1        &  192233.4 & 40        & 1611057   & 504.7859 \\\\\n",
       "\\end{tabular}\n"
      ],
      "text/markdown": [
       "\n",
       "Step | Df | Deviance | Resid. Df | Resid. Dev | AIC | \n",
       "|---|---|---|---|---|---|---|\n",
       "|           | NA        |        NA | 46        | 6880928   | 561.0235  | \n",
       "| + Po1     | -1        | 3253301.8 | 45        | 3627626   | 532.9352  | \n",
       "| + Ineq    | -1        |  739818.6 | 44        | 2887807   | 524.2154  | \n",
       "| + Ed      | -1        |  587049.8 | 43        | 2300757   | 515.5343  | \n",
       "| + M       | -1        |  239404.6 | 42        | 2061353   | 512.3701  | \n",
       "| + Prob    | -1        |  258062.5 | 41        | 1803290   | 508.0839  | \n",
       "| + U2      | -1        |  192233.4 | 40        | 1611057   | 504.7859  | \n",
       "\n",
       "\n"
      ],
      "text/plain": [
       "  Step   Df Deviance  Resid. Df Resid. Dev AIC     \n",
       "1        NA        NA 46        6880928    561.0235\n",
       "2 + Po1  -1 3253301.8 45        3627626    532.9352\n",
       "3 + Ineq -1  739818.6 44        2887807    524.2154\n",
       "4 + Ed   -1  587049.8 43        2300757    515.5343\n",
       "5 + M    -1  239404.6 42        2061353    512.3701\n",
       "6 + Prob -1  258062.5 41        1803290    508.0839\n",
       "7 + U2   -1  192233.4 40        1611057    504.7859"
      ]
     },
     "metadata": {},
     "output_type": "display_data"
    }
   ],
   "source": [
    "stepwise_regression_aic$anova"
   ]
  },
  {
   "cell_type": "markdown",
   "metadata": {},
   "source": [
    "\n",
    "\n",
    "As we can see the AIC is going down for each variable, indicating better model performance with each `step`.\n",
    "\n"
   ]
  },
  {
   "cell_type": "code",
   "execution_count": 7,
   "metadata": {},
   "outputs": [
    {
     "data": {
      "text/plain": [
       "\n",
       "Call:\n",
       "lm(formula = Crime ~ Po1 + Ineq + Ed + M + Prob + U2, data = data)\n",
       "\n",
       "Residuals:\n",
       "    Min      1Q  Median      3Q     Max \n",
       "-470.68  -78.41  -19.68  133.12  556.23 \n",
       "\n",
       "Coefficients:\n",
       "            Estimate Std. Error t value Pr(>|t|)    \n",
       "(Intercept) -5040.50     899.84  -5.602 1.72e-06 ***\n",
       "Po1           115.02      13.75   8.363 2.56e-10 ***\n",
       "Ineq           67.65      13.94   4.855 1.88e-05 ***\n",
       "Ed            196.47      44.75   4.390 8.07e-05 ***\n",
       "M             105.02      33.30   3.154  0.00305 ** \n",
       "Prob        -3801.84    1528.10  -2.488  0.01711 *  \n",
       "U2             89.37      40.91   2.185  0.03483 *  \n",
       "---\n",
       "Signif. codes:  0 '***' 0.001 '**' 0.01 '*' 0.05 '.' 0.1 ' ' 1\n",
       "\n",
       "Residual standard error: 200.7 on 40 degrees of freedom\n",
       "Multiple R-squared:  0.7659,\tAdjusted R-squared:  0.7307 \n",
       "F-statistic: 21.81 on 6 and 40 DF,  p-value: 3.418e-11\n"
      ]
     },
     "metadata": {},
     "output_type": "display_data"
    }
   ],
   "source": [
    "summary(stepwise_regression_aic)"
   ]
  },
  {
   "cell_type": "code",
   "execution_count": 8,
   "metadata": {},
   "outputs": [
    {
     "data": {
      "text/html": [
       "0.730746277796556"
      ],
      "text/latex": [
       "0.730746277796556"
      ],
      "text/markdown": [
       "0.730746277796556"
      ],
      "text/plain": [
       "[1] 0.7307463"
      ]
     },
     "metadata": {},
     "output_type": "display_data"
    }
   ],
   "source": [
    "# optimal model prediction accuracy using AIC model selection criteria\n",
    "\n",
    "summary(stepwise_regression_aic)$adj.r.squared"
   ]
  },
  {
   "cell_type": "code",
   "execution_count": 9,
   "metadata": {},
   "outputs": [
    {
     "data": {
      "text/html": [
       "0.269253722203444"
      ],
      "text/latex": [
       "0.269253722203444"
      ],
      "text/markdown": [
       "0.269253722203444"
      ],
      "text/plain": [
       "[1] 0.2692537"
      ]
     },
     "metadata": {},
     "output_type": "display_data"
    }
   ],
   "source": [
    "# optimal model prediction error using AIC model selection criteria\n",
    "\n",
    "1 - summary(stepwise_regression_aic)$adj.r.squared"
   ]
  },
  {
   "cell_type": "markdown",
   "metadata": {},
   "source": [
    "\n",
    "\n",
    "### Using BIC to select optimal model\n",
    "\n",
    "We can just as easily use Bayesian Information Criteria (BIC) to select ou optimal model. We just change the value of k from k = 2 to k = log(n). We have 47 data points so n = 47 in this case.\n",
    "\n"
   ]
  },
  {
   "cell_type": "code",
   "execution_count": 10,
   "metadata": {},
   "outputs": [
    {
     "name": "stdout",
     "output_type": "stream",
     "text": [
      "Start:  AIC=562.87\n",
      "Crime ~ 1\n",
      "\n",
      "         Df Sum of Sq     RSS    AIC\n",
      "+ Po1     1   3253302 3627626 536.64\n",
      "+ Po2     1   3058626 3822302 539.09\n",
      "+ Wealth  1   1340152 5540775 556.54\n",
      "+ Prob    1   1257075 5623853 557.24\n",
      "+ Pop     1    783660 6097267 561.04\n",
      "+ Ed      1    717146 6163781 561.55\n",
      "<none>                6880928 562.87\n",
      "+ M.F     1    314867 6566061 564.52\n",
      "+ LF      1    245446 6635482 565.02\n",
      "+ Ineq    1    220530 6660397 565.19\n",
      "+ U2      1    216354 6664573 565.22\n",
      "+ Time    1    154545 6726383 565.66\n",
      "+ So      1     56527 6824400 566.34\n",
      "+ M       1     55084 6825844 566.35\n",
      "+ U1      1     17533 6863395 566.60\n",
      "+ NW      1      7312 6873615 566.67\n",
      "\n",
      "Step:  AIC=536.64\n",
      "Crime ~ Po1\n",
      "\n",
      "         Df Sum of Sq     RSS    AIC\n",
      "+ Ineq    1    739819 2887807 529.77\n",
      "+ M       1    616741 3010885 531.73\n",
      "<none>                3627626 536.64\n",
      "+ M.F     1    250522 3377104 537.12\n",
      "+ NW      1    232434 3395192 537.37\n",
      "+ So      1    219098 3408528 537.56\n",
      "+ Wealth  1    180872 3446754 538.08\n",
      "+ Po2     1    146167 3481459 538.55\n",
      "+ Prob    1     92278 3535348 539.27\n",
      "+ LF      1     77479 3550147 539.47\n",
      "+ Time    1     43185 3584441 539.92\n",
      "+ U2      1     17848 3609778 540.25\n",
      "+ Pop     1      5666 3621959 540.41\n",
      "+ U1      1      2878 3624748 540.45\n",
      "+ Ed      1       767 3626859 540.48\n",
      "- Po1     1   3253302 6880928 562.87\n",
      "\n",
      "Step:  AIC=529.77\n",
      "Crime ~ Po1 + Ineq\n",
      "\n",
      "         Df Sum of Sq     RSS    AIC\n",
      "+ Ed      1    587050 2300757 522.93\n",
      "+ M.F     1    454545 2433262 525.57\n",
      "+ Prob    1    280690 2607117 528.81\n",
      "+ LF      1    260571 2627236 529.17\n",
      "<none>                2887807 529.77\n",
      "+ Wealth  1    213937 2673871 530.00\n",
      "+ M       1    181236 2706571 530.57\n",
      "+ Pop     1    130377 2757430 531.44\n",
      "+ NW      1     36439 2851369 533.02\n",
      "+ So      1     33738 2854069 533.06\n",
      "+ Po2     1     30673 2857134 533.11\n",
      "+ U1      1      2309 2885498 533.58\n",
      "+ Time    1       497 2887310 533.61\n",
      "+ U2      1       253 2887554 533.61\n",
      "- Ineq    1    739819 3627626 536.64\n",
      "- Po1     1   3772590 6660397 565.19\n",
      "\n",
      "Step:  AIC=522.93\n",
      "Crime ~ Po1 + Ineq + Ed\n",
      "\n",
      "         Df Sum of Sq     RSS    AIC\n",
      "+ M       1    239405 2061353 521.62\n",
      "+ Prob    1    234981 2065776 521.72\n",
      "<none>                2300757 522.93\n",
      "+ M.F     1    117026 2183731 524.33\n",
      "+ Wealth  1     79540 2221218 525.13\n",
      "+ U2      1     62112 2238646 525.50\n",
      "+ Time    1     61770 2238987 525.51\n",
      "+ Po2     1     42584 2258174 525.91\n",
      "+ Pop     1     39319 2261438 525.97\n",
      "+ U1      1      7365 2293392 526.63\n",
      "+ LF      1      7254 2293503 526.64\n",
      "+ NW      1      4210 2296547 526.70\n",
      "+ So      1      4135 2296622 526.70\n",
      "- Ed      1    587050 2887807 529.77\n",
      "- Ineq    1   1326101 3626859 540.48\n",
      "- Po1     1   3782666 6083423 564.78\n",
      "\n",
      "Step:  AIC=521.62\n",
      "Crime ~ Po1 + Ineq + Ed + M\n",
      "\n",
      "         Df Sum of Sq     RSS    AIC\n",
      "+ Prob    1    258063 1803290 519.18\n",
      "+ U2      1    200988 1860365 520.65\n",
      "+ Wealth  1    163378 1897975 521.59\n",
      "<none>                2061353 521.62\n",
      "- M       1    239405 2300757 522.93\n",
      "+ M.F     1     74398 1986955 523.74\n",
      "+ U1      1     50835 2010518 524.30\n",
      "+ Po2     1     45392 2015961 524.42\n",
      "+ Time    1     42746 2018607 524.49\n",
      "+ NW      1     16488 2044865 525.09\n",
      "+ Pop     1      8101 2053251 525.29\n",
      "+ So      1      3189 2058164 525.40\n",
      "+ LF      1      2988 2058365 525.40\n",
      "- Ed      1    645219 2706571 530.57\n",
      "- Ineq    1    864671 2926024 534.23\n",
      "- Po1     1   4000849 6062202 568.47\n",
      "\n",
      "Step:  AIC=519.18\n",
      "Crime ~ Po1 + Ineq + Ed + M + Prob\n",
      "\n",
      "         Df Sum of Sq     RSS    AIC\n",
      "+ U2      1    192233 1611057 517.74\n",
      "<none>                1803290 519.18\n",
      "+ Wealth  1     86490 1716801 520.72\n",
      "+ M.F     1     84509 1718781 520.78\n",
      "- Prob    1    258063 2061353 521.62\n",
      "+ U1      1     52313 1750977 521.65\n",
      "- M       1    262486 2065776 521.72\n",
      "+ Pop     1     47719 1755571 521.77\n",
      "+ Po2     1     37967 1765323 522.03\n",
      "+ So      1     21971 1781320 522.46\n",
      "+ Time    1     10194 1793096 522.77\n",
      "+ LF      1       990 1802301 523.01\n",
      "+ NW      1       797 1802493 523.01\n",
      "- Ed      1    598315 2401605 528.80\n",
      "- Ineq    1    968199 2771489 535.53\n",
      "- Po1     1   3268577 5071868 563.94\n",
      "\n",
      "Step:  AIC=517.74\n",
      "Crime ~ Po1 + Ineq + Ed + M + Prob + U2\n",
      "\n",
      "         Df Sum of Sq     RSS    AIC\n",
      "<none>                1611057 517.74\n",
      "- U2      1    192233 1803290 519.18\n",
      "+ Wealth  1     59910 1551147 519.81\n",
      "+ U1      1     54830 1556227 519.96\n",
      "+ Pop     1     51320 1559737 520.07\n",
      "- Prob    1    249308 1860365 520.65\n",
      "+ M.F     1     30945 1580112 520.68\n",
      "+ Po2     1     25017 1586040 520.85\n",
      "+ So      1     17958 1593098 521.06\n",
      "+ LF      1     13179 1597878 521.20\n",
      "+ Time    1      7159 1603898 521.38\n",
      "+ NW      1       359 1610698 521.58\n",
      "- M       1    400611 2011667 524.32\n",
      "- Ed      1    776207 2387264 532.37\n",
      "- Ineq    1    949221 2560278 535.66\n",
      "- Po1     1   2817067 4428124 561.41\n"
     ]
    }
   ],
   "source": [
    "stepwise_regression_bic <- step(null_features,scope=list(lower=null_features,upper=all_features),\n",
    "                            direction=\"both\", trace=1, k=log(47))"
   ]
  },
  {
   "cell_type": "code",
   "execution_count": 11,
   "metadata": {},
   "outputs": [
    {
     "data": {
      "text/html": [
       "<table>\n",
       "<thead><tr><th scope=col>Step</th><th scope=col>Df</th><th scope=col>Deviance</th><th scope=col>Resid. Df</th><th scope=col>Resid. Dev</th><th scope=col>AIC</th></tr></thead>\n",
       "<tbody>\n",
       "\t<tr><td>         </td><td>NA       </td><td>       NA</td><td>46       </td><td>6880928  </td><td>562.8736 </td></tr>\n",
       "\t<tr><td>+ Po1    </td><td>-1       </td><td>3253301.8</td><td>45       </td><td>3627626  </td><td>536.6355 </td></tr>\n",
       "\t<tr><td>+ Ineq   </td><td>-1       </td><td> 739818.6</td><td>44       </td><td>2887807  </td><td>529.7659 </td></tr>\n",
       "\t<tr><td>+ Ed     </td><td>-1       </td><td> 587049.8</td><td>43       </td><td>2300757  </td><td>522.9349 </td></tr>\n",
       "\t<tr><td>+ M      </td><td>-1       </td><td> 239404.6</td><td>42       </td><td>2061353  </td><td>521.6208 </td></tr>\n",
       "\t<tr><td>+ Prob   </td><td>-1       </td><td> 258062.5</td><td>41       </td><td>1803290  </td><td>519.1848 </td></tr>\n",
       "\t<tr><td>+ U2     </td><td>-1       </td><td> 192233.4</td><td>40       </td><td>1611057  </td><td>517.7369 </td></tr>\n",
       "</tbody>\n",
       "</table>\n"
      ],
      "text/latex": [
       "\\begin{tabular}{r|llllll}\n",
       " Step & Df & Deviance & Resid. Df & Resid. Dev & AIC\\\\\n",
       "\\hline\n",
       "\t           & NA        &        NA & 46        & 6880928   & 562.8736 \\\\\n",
       "\t + Po1     & -1        & 3253301.8 & 45        & 3627626   & 536.6355 \\\\\n",
       "\t + Ineq    & -1        &  739818.6 & 44        & 2887807   & 529.7659 \\\\\n",
       "\t + Ed      & -1        &  587049.8 & 43        & 2300757   & 522.9349 \\\\\n",
       "\t + M       & -1        &  239404.6 & 42        & 2061353   & 521.6208 \\\\\n",
       "\t + Prob    & -1        &  258062.5 & 41        & 1803290   & 519.1848 \\\\\n",
       "\t + U2      & -1        &  192233.4 & 40        & 1611057   & 517.7369 \\\\\n",
       "\\end{tabular}\n"
      ],
      "text/markdown": [
       "\n",
       "Step | Df | Deviance | Resid. Df | Resid. Dev | AIC | \n",
       "|---|---|---|---|---|---|---|\n",
       "|           | NA        |        NA | 46        | 6880928   | 562.8736  | \n",
       "| + Po1     | -1        | 3253301.8 | 45        | 3627626   | 536.6355  | \n",
       "| + Ineq    | -1        |  739818.6 | 44        | 2887807   | 529.7659  | \n",
       "| + Ed      | -1        |  587049.8 | 43        | 2300757   | 522.9349  | \n",
       "| + M       | -1        |  239404.6 | 42        | 2061353   | 521.6208  | \n",
       "| + Prob    | -1        |  258062.5 | 41        | 1803290   | 519.1848  | \n",
       "| + U2      | -1        |  192233.4 | 40        | 1611057   | 517.7369  | \n",
       "\n",
       "\n"
      ],
      "text/plain": [
       "  Step   Df Deviance  Resid. Df Resid. Dev AIC     \n",
       "1        NA        NA 46        6880928    562.8736\n",
       "2 + Po1  -1 3253301.8 45        3627626    536.6355\n",
       "3 + Ineq -1  739818.6 44        2887807    529.7659\n",
       "4 + Ed   -1  587049.8 43        2300757    522.9349\n",
       "5 + M    -1  239404.6 42        2061353    521.6208\n",
       "6 + Prob -1  258062.5 41        1803290    519.1848\n",
       "7 + U2   -1  192233.4 40        1611057    517.7369"
      ]
     },
     "metadata": {},
     "output_type": "display_data"
    }
   ],
   "source": [
    "stepwise_regression_bic$anova"
   ]
  },
  {
   "cell_type": "code",
   "execution_count": 12,
   "metadata": {},
   "outputs": [
    {
     "data": {
      "text/html": [
       "0.730746277796556"
      ],
      "text/latex": [
       "0.730746277796556"
      ],
      "text/markdown": [
       "0.730746277796556"
      ],
      "text/plain": [
       "[1] 0.7307463"
      ]
     },
     "metadata": {},
     "output_type": "display_data"
    }
   ],
   "source": [
    "# optimal model prediction accuracy using BIC model selection criteria\n",
    "\n",
    "summary(stepwise_regression_bic)$adj.r.squared"
   ]
  },
  {
   "cell_type": "code",
   "execution_count": 13,
   "metadata": {},
   "outputs": [
    {
     "data": {
      "text/html": [
       "0.269253722203444"
      ],
      "text/latex": [
       "0.269253722203444"
      ],
      "text/markdown": [
       "0.269253722203444"
      ],
      "text/plain": [
       "[1] 0.2692537"
      ]
     },
     "metadata": {},
     "output_type": "display_data"
    }
   ],
   "source": [
    "# optimal model prediction error using BIC model selection criteria\n",
    "\n",
    "1 - summary(stepwise_regression_bic)$adj.r.squared"
   ]
  },
  {
   "cell_type": "code",
   "execution_count": 14,
   "metadata": {},
   "outputs": [
    {
     "data": {
      "text/html": [
       "TRUE"
      ],
      "text/latex": [
       "TRUE"
      ],
      "text/markdown": [
       "TRUE"
      ],
      "text/plain": [
       "[1] TRUE"
      ]
     },
     "metadata": {},
     "output_type": "display_data"
    }
   ],
   "source": [
    "summary(stepwise_regression_bic)$adj.r.squared == summary(stepwise_regression_aic)$adj.r.squared"
   ]
  },
  {
   "cell_type": "markdown",
   "metadata": {},
   "source": [
    "\n",
    "\n",
    "We get the exact same performance using the model selected by BIC as AIC criteria. If using less factors is preferred, usually  BIC is the selection criteria to go with.\n",
    "\n"
   ]
  },
  {
   "cell_type": "markdown",
   "metadata": {},
   "source": [
    "\n",
    "\n",
    "### Cross-validation on final model chosen by stepwise regression\n",
    "\n",
    "Now that we have a winner-winner chicken dinner model, let's use leave-one-out cross-validation to report a more \"realistic\" model performance. \"LOOCV\" is the `trainControl` parameter we use for leave-one-out cross-validation.\n",
    "\n"
   ]
  },
  {
   "cell_type": "code",
   "execution_count": 48,
   "metadata": {},
   "outputs": [],
   "source": [
    "# set cross_validation parameters\n",
    "train_control<- trainControl(method=\"LOOCV\")\n",
    "\n",
    "# train model using caret\n",
    "reduced_regression_stepwise_features_cv <- train(formula(stepwise_regression_bic),data,method = \"lm\",trControl=train_control)"
   ]
  },
  {
   "cell_type": "code",
   "execution_count": 49,
   "metadata": {},
   "outputs": [
    {
     "data": {
      "text/plain": [
       "Linear Regression \n",
       "\n",
       "47 samples\n",
       " 6 predictor\n",
       "\n",
       "No pre-processing\n",
       "Resampling: Leave-One-Out Cross-Validation \n",
       "Summary of sample sizes: 46, 46, 46, 46, 46, 46, ... \n",
       "Resampling results:\n",
       "\n",
       "  RMSE      Rsquared   MAE     \n",
       "  221.0758  0.6706867  165.5131\n",
       "\n",
       "Tuning parameter 'intercept' was held constant at a value of TRUE"
      ]
     },
     "metadata": {},
     "output_type": "display_data"
    }
   ],
   "source": [
    "reduced_regression_stepwise_features_cv"
   ]
  },
  {
   "cell_type": "markdown",
   "metadata": {},
   "source": [
    "\n",
    "\n",
    "There you have it! We have successfully used step regression to find our optimal predictive features:\n",
    "\n",
    "* Po1\n",
    "* Ineq\n",
    "* Ed\n",
    "* M\n",
    "* Prob\n",
    "* U2"
   ]
  },
  {
   "cell_type": "markdown",
   "metadata": {},
   "source": [
    "\n",
    "\n",
    "## 2. Lasso Regression\n",
    "\n",
    "Recall from the lessons that Lasso regression is a variable selection model that solves a constrained optimization problem under the hood to pick the best subset of available predictive features:\n",
    "\n",
    "$$\n",
    "Min \\: \\: \\:  \\sum_{i=1}^{n} \\left ( y_{i} -\\left ( a_{0} + a_{1}x_{1i} + a_{2}x_{2i} + \\cdots +a_{j}x_{ij}\\right )\\right)^{2}\n",
    "$$\n",
    "$$\n",
    "S.t. \\: \\: \\:  \\sum_{i=1}^{j} \\left | a_{i} \\right | \\, \\leq \\tau\n",
    "$$\n",
    "\n",
    "Basically our coefficients are constrained by the parameter tau. We parameterize tau and try different values to acheive an optimal model. Luckily for us, Lasso regression can be implemented using the `glmnet` function in R. Varying the value of tau and observing the change in model performance is done under the hood for us. To perform Lasso regression using the `glmnet` function, we hold our parameter `alpha` equal to 1. Before we can use the `glmnet` function, we must scale our data. To accomplish this, I will use z-scaling. \n",
    "\n"
   ]
  },
  {
   "cell_type": "markdown",
   "metadata": {},
   "source": [
    "\n",
    "\n",
    "### Scale the data\n",
    "\n",
    "To insure that model coefficients are on the same scale, let's first z-scale each ***numerical*** feature in our dataset. Z-scaling insures that our mean is 0 and our standard deviation is 1 for each feature in the dataset. The formula for z-scaling can be found below:\n",
    "\n",
    "$$\n",
    "z = \\frac{\\left (x - \\mu_{p}   \\right )}{\\sigma_{p}}\n",
    "$$\n",
    "\n",
    "where p is the feature being scaled. Once we have our scaled ***numerical*** features, let's add back in our response and our categorical variables.\n",
    "\n"
   ]
  },
  {
   "cell_type": "code",
   "execution_count": 40,
   "metadata": {},
   "outputs": [
    {
     "data": {
      "text/html": [
       "<table>\n",
       "<thead><tr><th scope=col>M</th><th scope=col>So</th><th scope=col>Ed</th><th scope=col>Po1</th><th scope=col>Po2</th><th scope=col>LF</th><th scope=col>M.F</th><th scope=col>Pop</th><th scope=col>NW</th><th scope=col>U1</th><th scope=col>U2</th><th scope=col>Wealth</th><th scope=col>Ineq</th><th scope=col>Prob</th><th scope=col>Time</th><th scope=col>Crime</th></tr></thead>\n",
       "<tbody>\n",
       "\t<tr><td> 0.9886930  </td><td>1           </td><td>-1.3085099  </td><td>-0.9085105  </td><td>-0.8666988  </td><td>-1.2667456  </td><td>-1.12060499 </td><td>-0.09500679 </td><td> 1.943738564</td><td> 0.69510600 </td><td> 0.8313680  </td><td>-1.3616094  </td><td> 1.6793638  </td><td> 1.6497631  </td><td>-0.05599367 </td><td> 791        </td></tr>\n",
       "\t<tr><td> 0.3521372  </td><td>0           </td><td> 0.6580587  </td><td> 0.6056737  </td><td> 0.5280852  </td><td> 0.5396568  </td><td> 0.98341752 </td><td>-0.62033844 </td><td> 0.008483424</td><td> 0.02950365 </td><td> 0.2393332  </td><td> 0.3276683  </td><td> 0.0000000  </td><td>-0.7693365  </td><td>-0.18315796 </td><td>1635        </td></tr>\n",
       "\t<tr><td> 0.2725678  </td><td>1           </td><td>-1.4872888  </td><td>-1.3459415  </td><td>-1.2958632  </td><td>-0.6976051  </td><td>-0.47582390 </td><td>-0.48900552 </td><td> 1.146296747</td><td>-0.08143007 </td><td>-0.1158877  </td><td>-2.1492481  </td><td> 1.4036474  </td><td> 1.5969416  </td><td>-0.32416470 </td><td> 578        </td></tr>\n",
       "\t<tr><td>-0.2048491  </td><td>0           </td><td> 1.3731746  </td><td> 2.1535064  </td><td> 2.1732150  </td><td> 0.3911854  </td><td> 0.37257228 </td><td> 3.16204944 </td><td>-0.205464381</td><td> 0.36230482 </td><td> 0.5945541  </td><td> 1.5298536  </td><td>-0.6767585  </td><td>-1.3761895  </td><td> 0.46611085 </td><td>1969        </td></tr>\n",
       "\t<tr><td> 0.1929983  </td><td>0           </td><td> 1.3731746  </td><td> 0.8075649  </td><td> 0.7426673  </td><td> 0.7376187  </td><td> 0.06714965 </td><td>-0.48900552 </td><td>-0.691709391</td><td>-0.24783066 </td><td>-1.6551781  </td><td> 0.5453053  </td><td>-0.5013026  </td><td>-0.2503580  </td><td>-0.74759413 </td><td>1234        </td></tr>\n",
       "\t<tr><td>-1.3983912  </td><td>0           </td><td> 0.3898903  </td><td> 1.1104017  </td><td> 1.2433590  </td><td>-0.3511718  </td><td>-0.64550313 </td><td>-0.30513945 </td><td>-0.555560788</td><td>-0.63609870 </td><td>-0.5895155  </td><td> 1.6956723  </td><td>-1.7044289  </td><td>-0.5669349  </td><td>-0.78996812 </td><td> 682        </td></tr>\n",
       "</tbody>\n",
       "</table>\n"
      ],
      "text/latex": [
       "\\begin{tabular}{r|llllllllllllllll}\n",
       " M & So & Ed & Po1 & Po2 & LF & M.F & Pop & NW & U1 & U2 & Wealth & Ineq & Prob & Time & Crime\\\\\n",
       "\\hline\n",
       "\t  0.9886930   & 1            & -1.3085099   & -0.9085105   & -0.8666988   & -1.2667456   & -1.12060499  & -0.09500679  &  1.943738564 &  0.69510600  &  0.8313680   & -1.3616094   &  1.6793638   &  1.6497631   & -0.05599367  &  791        \\\\\n",
       "\t  0.3521372   & 0            &  0.6580587   &  0.6056737   &  0.5280852   &  0.5396568   &  0.98341752  & -0.62033844  &  0.008483424 &  0.02950365  &  0.2393332   &  0.3276683   &  0.0000000   & -0.7693365   & -0.18315796  & 1635        \\\\\n",
       "\t  0.2725678   & 1            & -1.4872888   & -1.3459415   & -1.2958632   & -0.6976051   & -0.47582390  & -0.48900552  &  1.146296747 & -0.08143007  & -0.1158877   & -2.1492481   &  1.4036474   &  1.5969416   & -0.32416470  &  578        \\\\\n",
       "\t -0.2048491   & 0            &  1.3731746   &  2.1535064   &  2.1732150   &  0.3911854   &  0.37257228  &  3.16204944  & -0.205464381 &  0.36230482  &  0.5945541   &  1.5298536   & -0.6767585   & -1.3761895   &  0.46611085  & 1969        \\\\\n",
       "\t  0.1929983   & 0            &  1.3731746   &  0.8075649   &  0.7426673   &  0.7376187   &  0.06714965  & -0.48900552  & -0.691709391 & -0.24783066  & -1.6551781   &  0.5453053   & -0.5013026   & -0.2503580   & -0.74759413  & 1234        \\\\\n",
       "\t -1.3983912   & 0            &  0.3898903   &  1.1104017   &  1.2433590   & -0.3511718   & -0.64550313  & -0.30513945  & -0.555560788 & -0.63609870  & -0.5895155   &  1.6956723   & -1.7044289   & -0.5669349   & -0.78996812  &  682        \\\\\n",
       "\\end{tabular}\n"
      ],
      "text/markdown": [
       "\n",
       "M | So | Ed | Po1 | Po2 | LF | M.F | Pop | NW | U1 | U2 | Wealth | Ineq | Prob | Time | Crime | \n",
       "|---|---|---|---|---|---|\n",
       "|  0.9886930   | 1            | -1.3085099   | -0.9085105   | -0.8666988   | -1.2667456   | -1.12060499  | -0.09500679  |  1.943738564 |  0.69510600  |  0.8313680   | -1.3616094   |  1.6793638   |  1.6497631   | -0.05599367  |  791         | \n",
       "|  0.3521372   | 0            |  0.6580587   |  0.6056737   |  0.5280852   |  0.5396568   |  0.98341752  | -0.62033844  |  0.008483424 |  0.02950365  |  0.2393332   |  0.3276683   |  0.0000000   | -0.7693365   | -0.18315796  | 1635         | \n",
       "|  0.2725678   | 1            | -1.4872888   | -1.3459415   | -1.2958632   | -0.6976051   | -0.47582390  | -0.48900552  |  1.146296747 | -0.08143007  | -0.1158877   | -2.1492481   |  1.4036474   |  1.5969416   | -0.32416470  |  578         | \n",
       "| -0.2048491   | 0            |  1.3731746   |  2.1535064   |  2.1732150   |  0.3911854   |  0.37257228  |  3.16204944  | -0.205464381 |  0.36230482  |  0.5945541   |  1.5298536   | -0.6767585   | -1.3761895   |  0.46611085  | 1969         | \n",
       "|  0.1929983   | 0            |  1.3731746   |  0.8075649   |  0.7426673   |  0.7376187   |  0.06714965  | -0.48900552  | -0.691709391 | -0.24783066  | -1.6551781   |  0.5453053   | -0.5013026   | -0.2503580   | -0.74759413  | 1234         | \n",
       "| -1.3983912   | 0            |  0.3898903   |  1.1104017   |  1.2433590   | -0.3511718   | -0.64550313  | -0.30513945  | -0.555560788 | -0.63609870  | -0.5895155   |  1.6956723   | -1.7044289   | -0.5669349   | -0.78996812  |  682         | \n",
       "\n",
       "\n"
      ],
      "text/plain": [
       "  M          So Ed         Po1        Po2        LF         M.F        \n",
       "1  0.9886930 1  -1.3085099 -0.9085105 -0.8666988 -1.2667456 -1.12060499\n",
       "2  0.3521372 0   0.6580587  0.6056737  0.5280852  0.5396568  0.98341752\n",
       "3  0.2725678 1  -1.4872888 -1.3459415 -1.2958632 -0.6976051 -0.47582390\n",
       "4 -0.2048491 0   1.3731746  2.1535064  2.1732150  0.3911854  0.37257228\n",
       "5  0.1929983 0   1.3731746  0.8075649  0.7426673  0.7376187  0.06714965\n",
       "6 -1.3983912 0   0.3898903  1.1104017  1.2433590 -0.3511718 -0.64550313\n",
       "  Pop         NW           U1          U2         Wealth     Ineq      \n",
       "1 -0.09500679  1.943738564  0.69510600  0.8313680 -1.3616094  1.6793638\n",
       "2 -0.62033844  0.008483424  0.02950365  0.2393332  0.3276683  0.0000000\n",
       "3 -0.48900552  1.146296747 -0.08143007 -0.1158877 -2.1492481  1.4036474\n",
       "4  3.16204944 -0.205464381  0.36230482  0.5945541  1.5298536 -0.6767585\n",
       "5 -0.48900552 -0.691709391 -0.24783066 -1.6551781  0.5453053 -0.5013026\n",
       "6 -0.30513945 -0.555560788 -0.63609870 -0.5895155  1.6956723 -1.7044289\n",
       "  Prob       Time        Crime\n",
       "1  1.6497631 -0.05599367  791 \n",
       "2 -0.7693365 -0.18315796 1635 \n",
       "3  1.5969416 -0.32416470  578 \n",
       "4 -1.3761895  0.46611085 1969 \n",
       "5 -0.2503580 -0.74759413 1234 \n",
       "6 -0.5669349 -0.78996812  682 "
      ]
     },
     "metadata": {},
     "output_type": "display_data"
    }
   ],
   "source": [
    "scaled_data <- as.data.frame(apply(data[,c(-2,-16)], 2, scale))\n",
    "scaled_data <- cbind(scaled_data, data$So, data$Crime)\n",
    "colnames(scaled_data)[15] <- \"So\"\n",
    "colnames(scaled_data)[16] <- \"Crime\"\n",
    "scaled_data <- scaled_data[,c(1,15,2,3,4,5,6,7,8,9,10,11,12,13,14,16)]\n",
    "head(scaled_data)"
   ]
  },
  {
   "cell_type": "markdown",
   "metadata": {},
   "source": [
    "\n",
    "\n",
    "### Cross-validated Lasso Regression using `glmnet`\n",
    "\n",
    "In order to use `glmnet` we must first transform our underlying data object to a matrix rather than a dataframe. I will use 5-fold cross-validation in an effort to eliminate bias.\n",
    "\n"
   ]
  },
  {
   "cell_type": "code",
   "execution_count": 41,
   "metadata": {},
   "outputs": [],
   "source": [
    "feature_matrix <- as.matrix(scaled_data[-16])\n",
    "response_matrix <- as.matrix(scaled_data$Crime)"
   ]
  },
  {
   "cell_type": "code",
   "execution_count": 50,
   "metadata": {},
   "outputs": [],
   "source": [
    "Lasso_regression <- cv.glmnet(x=feature_matrix, y=response_matrix, alpha=1, nfolds=5, type.measure='mse',family='gaussian')"
   ]
  },
  {
   "cell_type": "markdown",
   "metadata": {},
   "source": [
    "\n",
    "\n",
    "### Coefficients returned by Lasso regression\n",
    "\n",
    "We can use the `coef` function to examine the coefficients returned by our Lasso regression model.\n",
    "\n"
   ]
  },
  {
   "cell_type": "code",
   "execution_count": 51,
   "metadata": {},
   "outputs": [
    {
     "data": {
      "text/plain": [
       "16 x 1 sparse Matrix of class \"dgCMatrix\"\n",
       "                    1\n",
       "(Intercept) 894.04865\n",
       "M           103.66132\n",
       "So           32.41958\n",
       "Ed          173.09241\n",
       "Po1         296.62268\n",
       "Po2           .      \n",
       "LF            .      \n",
       "M.F          52.65592\n",
       "Pop         -17.56833\n",
       "NW           13.84601\n",
       "U1          -69.23520\n",
       "U2          113.82743\n",
       "Wealth       50.96794\n",
       "Ineq        246.80851\n",
       "Prob        -88.83419\n",
       "Time          .      "
      ]
     },
     "metadata": {},
     "output_type": "display_data"
    }
   ],
   "source": [
    "coef(Lasso_regression, s=Lasso_regression$lambda.min)"
   ]
  },
  {
   "cell_type": "markdown",
   "metadata": {},
   "source": [
    "\n",
    "\n",
    "### Linear regression with significant variables returned by Lasso\n",
    "\n",
    "Now that our Lasso regression has found the optimal subset of predictive features, let's build a linear regression model and observe the model performance measured as R*2.\n",
    "\n"
   ]
  },
  {
   "cell_type": "code",
   "execution_count": 70,
   "metadata": {},
   "outputs": [
    {
     "data": {
      "text/plain": [
       "Linear Regression \n",
       "\n",
       "47 samples\n",
       "12 predictors\n",
       "\n",
       "No pre-processing\n",
       "Resampling: Leave-One-Out Cross-Validation \n",
       "Summary of sample sizes: 46, 46, 46, 46, 46, 46, ... \n",
       "Resampling results:\n",
       "\n",
       "  RMSE      Rsquared   MAE     \n",
       "  244.8839  0.6048887  194.1645\n",
       "\n",
       "Tuning parameter 'intercept' was held constant at a value of TRUE"
      ]
     },
     "metadata": {},
     "output_type": "display_data"
    }
   ],
   "source": [
    "reduced_regression_Lasso_features <- train(Crime ~ M+So+Ed+Po1+M.F+Pop+NW+U1+U2+Wealth+Ineq+Prob,data,method = \"lm\",trControl=train_control)\n",
    "reduced_regression_Lasso_features"
   ]
  },
  {
   "cell_type": "code",
   "execution_count": null,
   "metadata": {},
   "outputs": [],
   "source": [
    "summary(reduced_regression_Lasso_features)"
   ]
  },
  {
   "cell_type": "markdown",
   "metadata": {},
   "source": [
    "\n",
    "\n",
    "Our linear regression model chosen by the Lasso regression predictive feature selection process performs slightly worse then the model chosen by the stepwise regression predictive feature selection approach. However, notice the significant features. If we remove all non-significant features from our model we are left with the exact same optimal model outputted by our stepwise regression predictive feature selection approach! Using a greedy approach like stepwise regression provides a nice sanity check for any model's outputted by constrained optimization driven approaches like Lasso regression (for smallish datasets where a greedy approach is not too terribly computationally expensive). This specific dataset may be an exception to the general rule of thumb, but as Dr. Sokol pointed out in the lectures, constrained optimization driven methods like Lasso regression often perform better then greedy approaches. This concludes the Lasso regression section.\n",
    "\n"
   ]
  },
  {
   "cell_type": "markdown",
   "metadata": {},
   "source": [
    "\n",
    "\n",
    "## 3. Elastic Net\n",
    "\n",
    "Now that we have looked at stepwise regression and Lasso regression, let's take a gander at the elastic net capability contained within the `glmnet` function. The only difference between Lasso and elastic net within the context of the `glmnet` is our choice of the parameter `alpha`. For elastic net we vary `alpha` to try and solve the constrained optimization problem:\n",
    "\n",
    "$$\n",
    "Min \\: \\: \\:  \\sum_{i=1}^{n} \\left ( y_{i} -\\left ( a_{0} + a_{1}x_{1i} + a_{2}x_{2i} + \\cdots +a_{j}x_{ij}\\right )\\right)^{2}\n",
    "$$\n",
    "$$\n",
    "S.t.\\: \\: \\: \\lambda \\sum_{i=1}^{j} \\left | a_{i} \\right | + \\left ( 1-\\lambda  \\right )\\sum_{i=1}^{j}\\: a_{i}^{2} \\, \\leq \\tau\n",
    "$$\n",
    "\n",
    "For our purposes I will vary alpha between 0.01 and 1.0. The same scaled dataset from the Lasso regression section will be used.\n",
    "\n",
    "***Disclaimer:*** depending on your computer, this may take a second or two to run."
   ]
  },
  {
   "cell_type": "code",
   "execution_count": 56,
   "metadata": {},
   "outputs": [],
   "source": [
    "r_squared_tracker <- rep(0,100)\n",
    "\n",
    "for (i in 1:100) {\n",
    "    \n",
    "    elastic_net_regression <- cv.glmnet(x=feature_matrix, y=response_matrix, alpha=i/100, nfolds=5, type.measure='mse',family='gaussian')\n",
    "    r_squared_tracker[i] <- elastic_net_regression$glmnet.fit$dev.ratio[which(elastic_net_regression$glmnet.fit$lambda == elastic_net_regression$lambda.min)]\n",
    "}\n"
   ]
  },
  {
   "cell_type": "markdown",
   "metadata": {},
   "source": [
    "\n",
    "\n",
    "### Best value of alpha\n",
    "\n",
    "Let's find the maximum R^2 value of our r_squared_tracker and report the corresponding alpha value.\n",
    "\n"
   ]
  },
  {
   "cell_type": "code",
   "execution_count": 59,
   "metadata": {},
   "outputs": [
    {
     "data": {
      "text/html": [
       "0.802977750957085"
      ],
      "text/latex": [
       "0.802977750957085"
      ],
      "text/markdown": [
       "0.802977750957085"
      ],
      "text/plain": [
       "[1] 0.8029778"
      ]
     },
     "metadata": {},
     "output_type": "display_data"
    }
   ],
   "source": [
    "max(r_squared_tracker)"
   ]
  },
  {
   "cell_type": "code",
   "execution_count": 61,
   "metadata": {},
   "outputs": [
    {
     "data": {
      "text/html": [
       "0.4"
      ],
      "text/latex": [
       "0.4"
      ],
      "text/markdown": [
       "0.4"
      ],
      "text/plain": [
       "[1] 0.4"
      ]
     },
     "metadata": {},
     "output_type": "display_data"
    }
   ],
   "source": [
    "optimal_alpha <- (which.max(r_squared_tracker)-1)/length(r_squared_tracker)\n",
    "optimal_alpha"
   ]
  },
  {
   "cell_type": "markdown",
   "metadata": {},
   "source": [
    "\n",
    "\n",
    "This is by far the best r_squared value we have been able to gleam from this particular dataset. However our results are more then likely overfitting to random effects. Let's rerun the cross-validated elastic net using our optimal alpha value.\n",
    "\n"
   ]
  },
  {
   "cell_type": "markdown",
   "metadata": {},
   "source": [
    "\n",
    "\n",
    "### Cross-validated elastic net using optimal alpha value\n",
    "\n"
   ]
  },
  {
   "cell_type": "code",
   "execution_count": 65,
   "metadata": {},
   "outputs": [],
   "source": [
    "elastic_net_regression_optimal_alpha <- cv.glmnet(x=feature_matrix, y=response_matrix, alpha=optimal_alpha, nfolds=5, type.measure='mse',family='gaussian')"
   ]
  },
  {
   "cell_type": "markdown",
   "metadata": {},
   "source": [
    "\n",
    "\n",
    "### Optimal alpha value elastic net model coefficients\n",
    "\n"
   ]
  },
  {
   "cell_type": "code",
   "execution_count": 66,
   "metadata": {},
   "outputs": [
    {
     "data": {
      "text/plain": [
       "16 x 1 sparse Matrix of class \"dgCMatrix\"\n",
       "                     1\n",
       "(Intercept) 886.836984\n",
       "M            89.861035\n",
       "So           53.603859\n",
       "Ed          135.649191\n",
       "Po1         218.664243\n",
       "Po2          65.166278\n",
       "LF            4.804134\n",
       "M.F          62.972357\n",
       "Pop           .       \n",
       "NW           17.172927\n",
       "U1          -51.133968\n",
       "U2           87.786691\n",
       "Wealth       27.001069\n",
       "Ineq        188.509244\n",
       "Prob        -86.992561\n",
       "Time          .       "
      ]
     },
     "metadata": {},
     "output_type": "display_data"
    }
   ],
   "source": [
    "coef(elastic_net_regression_optimal_alpha, s= elastic_net_regression_optimal_alpha$lambda.min)"
   ]
  },
  {
   "cell_type": "markdown",
   "metadata": {},
   "source": [
    "\n",
    "\n",
    "Notice the optimal elastic net model is using more of the predictive features then either the Lasso regression or the stepwise regression. To do a proper comparison between the three models let's run our standard LOOCV regression model using these predictive features.\n",
    "\n"
   ]
  },
  {
   "cell_type": "code",
   "execution_count": 69,
   "metadata": {},
   "outputs": [
    {
     "data": {
      "text/plain": [
       "Linear Regression \n",
       "\n",
       "47 samples\n",
       "13 predictors\n",
       "\n",
       "No pre-processing\n",
       "Resampling: Leave-One-Out Cross-Validation \n",
       "Summary of sample sizes: 46, 46, 46, 46, 46, 46, ... \n",
       "Resampling results:\n",
       "\n",
       "  RMSE      Rsquared   MAE     \n",
       "  254.0771  0.5830473  199.5026\n",
       "\n",
       "Tuning parameter 'intercept' was held constant at a value of TRUE"
      ]
     },
     "metadata": {},
     "output_type": "display_data"
    }
   ],
   "source": [
    "reduced_regression_elastic_net <- train(Crime ~ M+So+Ed+Po1+Po2+LF+M.F+NW+U1+U2+Wealth+Ineq+Prob,data,method = \"lm\",trControl=train_control)\n",
    "reduced_regression_elastic_net"
   ]
  },
  {
   "cell_type": "code",
   "execution_count": null,
   "metadata": {},
   "outputs": [],
   "source": [
    "summary(reduced_regression_elastic_net)"
   ]
  },
  {
   "cell_type": "markdown",
   "metadata": {},
   "source": [
    "\n",
    "\n",
    "Even more dismal then the optimal model chosen by Lasso regression. However, if we remove the non-significant features from our model we notice the same set of predictive features gleamed from our stepwise-regression model:\n",
    "\n",
    "* Po1\n",
    "* Ineq\n",
    "* Ed\n",
    "* M\n",
    "* Prob\n",
    "* U2"
   ]
  },
  {
   "cell_type": "markdown",
   "metadata": {},
   "source": [
    "\n",
    "\n",
    "### Fin!\n",
    "\n",
    "In this notebook three different approaches to predictive feature selection were demonstrated:\n",
    "1. Stepwise regression\n",
    "2. Lasso regression\n",
    "3. Elastic Net\n",
    "\n",
    "Each of the three approaches has their strengthes and weaknesses, but as a general rule of thumb, stepwise regression and other greedy predictive feature selection approaches like backwards or forward elimination should be used for exploratory analysis or on small datasets like this one that are not too computationally expensive. Slower models like Lasso or elastic net generally provide better results, but at a higher computational cost. Leveraging all three models allows for the optimal selection of predictive features."
   ]
  }
 ],
 "metadata": {
  "anaconda-cloud": {},
  "kernelspec": {
   "display_name": "R",
   "language": "R",
   "name": "ir"
  },
  "language_info": {
   "codemirror_mode": "r",
   "file_extension": ".r",
   "mimetype": "text/x-r-source",
   "name": "R",
   "pygments_lexer": "r",
   "version": "3.4.3"
  }
 },
 "nbformat": 4,
 "nbformat_minor": 2
}
