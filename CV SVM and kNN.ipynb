{
 "cells": [
  {
   "cell_type": "markdown",
   "metadata": {},
   "source": [
    "# Cross-validated SVM and kNN\n",
    "___"
   ]
  },
  {
   "cell_type": "markdown",
   "metadata": {},
   "source": [
    "*Using the same credit card data set https://archive.ics.uci.edu/ml/datasets/Credit+Approval, I will use cross-validation and the `ksvm` / `kknn` functions to find a good classifier*\n",
    "___\n",
    "\n"
   ]
  },
  {
   "cell_type": "markdown",
   "metadata": {},
   "source": [
    "\n",
    "\n",
    "### Cross validation\n",
    "\n",
    "To perfrom k-fold cross validation we must perform the following steps:\n",
    "\n",
    "* Preprocess data (scaling, standardization, remove NULLs, etc.)\n",
    "* Split the data into a training/test set (80% training-20% test or 70% training-30% test are common choices)\n",
    "    * Normally, we would not split the data to do k-fold cross validation, but I am interested in doing a comparison between the model produced by cv.kknn and the popular R package `caret`\n",
    "* Pick a value for k\n",
    "* Train/validate given model of choice\n",
    "* Make predictions on our test set of data\n",
    "    * If comparing multiple models of different kinds use model performance on test set of data to pick optimal model\n",
    "        * This verbage confused me for the longest time, but I stand by my decision to split the data in this case. My reason being I need an 80% training/validation set of data to build two different models using k-fold cross validation and a new set of data (never seen by the models) to objectively compare the differences in the cv.kknn and the `caret` methods for doing cross-validation.\n",
    "\n"
   ]
  },
  {
   "cell_type": "code",
   "execution_count": 1,
   "metadata": {},
   "outputs": [
    {
     "name": "stderr",
     "output_type": "stream",
     "text": [
      "Loading required package: lattice\n",
      "Warning message:\n",
      "\"package 'lattice' was built under R version 3.4.3\"Loading required package: ggplot2\n",
      "\n",
      "Attaching package: 'kernlab'\n",
      "\n",
      "The following object is masked from 'package:ggplot2':\n",
      "\n",
      "    alpha\n",
      "\n",
      "Warning message:\n",
      "\"package 'kknn' was built under R version 3.4.2\"\n",
      "Attaching package: 'kknn'\n",
      "\n",
      "The following object is masked from 'package:caret':\n",
      "\n",
      "    contr.dummy\n",
      "\n"
     ]
    }
   ],
   "source": [
    "# Load libraries and set seed\n",
    "\n",
    "library(caret)\n",
    "library(kernlab)\n",
    "library(kknn)\n",
    "\n",
    "require(caret)\n",
    "require(kernlab)\n",
    "require(kknn)"
   ]
  },
  {
   "cell_type": "code",
   "execution_count": 2,
   "metadata": {
    "collapsed": true
   },
   "outputs": [],
   "source": [
    "set.seed(37)"
   ]
  },
  {
   "cell_type": "markdown",
   "metadata": {},
   "source": [
    "\n",
    "\n",
    "### Load data\n",
    "\n"
   ]
  },
  {
   "cell_type": "code",
   "execution_count": 3,
   "metadata": {
    "collapsed": true
   },
   "outputs": [],
   "source": [
    "data <- read.table(\"credit_card_data-headers.txt\", stringsAsFactors = FALSE, \n",
    "                   header = TRUE)"
   ]
  },
  {
   "cell_type": "markdown",
   "metadata": {},
   "source": [
    "\n",
    "\n",
    "### Check head of R DataFrame\n",
    "\n"
   ]
  },
  {
   "cell_type": "code",
   "execution_count": 4,
   "metadata": {},
   "outputs": [
    {
     "data": {
      "text/html": [
       "<table>\n",
       "<thead><tr><th scope=col>A1</th><th scope=col>A2</th><th scope=col>A3</th><th scope=col>A8</th><th scope=col>A9</th><th scope=col>A10</th><th scope=col>A11</th><th scope=col>A12</th><th scope=col>A14</th><th scope=col>A15</th><th scope=col>R1</th></tr></thead>\n",
       "<tbody>\n",
       "\t<tr><td>1    </td><td>30.83</td><td>0.000</td><td>1.25 </td><td>1    </td><td>0    </td><td>1    </td><td>1    </td><td>202  </td><td>  0  </td><td>1    </td></tr>\n",
       "\t<tr><td>0    </td><td>58.67</td><td>4.460</td><td>3.04 </td><td>1    </td><td>0    </td><td>6    </td><td>1    </td><td> 43  </td><td>560  </td><td>1    </td></tr>\n",
       "\t<tr><td>0    </td><td>24.50</td><td>0.500</td><td>1.50 </td><td>1    </td><td>1    </td><td>0    </td><td>1    </td><td>280  </td><td>824  </td><td>1    </td></tr>\n",
       "\t<tr><td>1    </td><td>27.83</td><td>1.540</td><td>3.75 </td><td>1    </td><td>0    </td><td>5    </td><td>0    </td><td>100  </td><td>  3  </td><td>1    </td></tr>\n",
       "\t<tr><td>1    </td><td>20.17</td><td>5.625</td><td>1.71 </td><td>1    </td><td>1    </td><td>0    </td><td>1    </td><td>120  </td><td>  0  </td><td>1    </td></tr>\n",
       "\t<tr><td>1    </td><td>32.08</td><td>4.000</td><td>2.50 </td><td>1    </td><td>1    </td><td>0    </td><td>0    </td><td>360  </td><td>  0  </td><td>1    </td></tr>\n",
       "</tbody>\n",
       "</table>\n"
      ],
      "text/latex": [
       "\\begin{tabular}{r|lllllllllll}\n",
       " A1 & A2 & A3 & A8 & A9 & A10 & A11 & A12 & A14 & A15 & R1\\\\\n",
       "\\hline\n",
       "\t 1     & 30.83 & 0.000 & 1.25  & 1     & 0     & 1     & 1     & 202   &   0   & 1    \\\\\n",
       "\t 0     & 58.67 & 4.460 & 3.04  & 1     & 0     & 6     & 1     &  43   & 560   & 1    \\\\\n",
       "\t 0     & 24.50 & 0.500 & 1.50  & 1     & 1     & 0     & 1     & 280   & 824   & 1    \\\\\n",
       "\t 1     & 27.83 & 1.540 & 3.75  & 1     & 0     & 5     & 0     & 100   &   3   & 1    \\\\\n",
       "\t 1     & 20.17 & 5.625 & 1.71  & 1     & 1     & 0     & 1     & 120   &   0   & 1    \\\\\n",
       "\t 1     & 32.08 & 4.000 & 2.50  & 1     & 1     & 0     & 0     & 360   &   0   & 1    \\\\\n",
       "\\end{tabular}\n"
      ],
      "text/markdown": [
       "\n",
       "A1 | A2 | A3 | A8 | A9 | A10 | A11 | A12 | A14 | A15 | R1 | \n",
       "|---|---|---|---|---|---|\n",
       "| 1     | 30.83 | 0.000 | 1.25  | 1     | 0     | 1     | 1     | 202   |   0   | 1     | \n",
       "| 0     | 58.67 | 4.460 | 3.04  | 1     | 0     | 6     | 1     |  43   | 560   | 1     | \n",
       "| 0     | 24.50 | 0.500 | 1.50  | 1     | 1     | 0     | 1     | 280   | 824   | 1     | \n",
       "| 1     | 27.83 | 1.540 | 3.75  | 1     | 0     | 5     | 0     | 100   |   3   | 1     | \n",
       "| 1     | 20.17 | 5.625 | 1.71  | 1     | 1     | 0     | 1     | 120   |   0   | 1     | \n",
       "| 1     | 32.08 | 4.000 | 2.50  | 1     | 1     | 0     | 0     | 360   |   0   | 1     | \n",
       "\n",
       "\n"
      ],
      "text/plain": [
       "  A1 A2    A3    A8   A9 A10 A11 A12 A14 A15 R1\n",
       "1 1  30.83 0.000 1.25 1  0   1   1   202   0 1 \n",
       "2 0  58.67 4.460 3.04 1  0   6   1    43 560 1 \n",
       "3 0  24.50 0.500 1.50 1  1   0   1   280 824 1 \n",
       "4 1  27.83 1.540 3.75 1  0   5   0   100   3 1 \n",
       "5 1  20.17 5.625 1.71 1  1   0   1   120   0 1 \n",
       "6 1  32.08 4.000 2.50 1  1   0   0   360   0 1 "
      ]
     },
     "metadata": {},
     "output_type": "display_data"
    }
   ],
   "source": [
    "head(data)"
   ]
  },
  {
   "cell_type": "markdown",
   "metadata": {},
   "source": [
    "\n",
    "\n",
    "### Check str of R DataFrame object\n",
    "\n"
   ]
  },
  {
   "cell_type": "code",
   "execution_count": 5,
   "metadata": {},
   "outputs": [
    {
     "name": "stdout",
     "output_type": "stream",
     "text": [
      "'data.frame':\t654 obs. of  11 variables:\n",
      " $ A1 : int  1 0 0 1 1 1 1 0 1 1 ...\n",
      " $ A2 : num  30.8 58.7 24.5 27.8 20.2 ...\n",
      " $ A3 : num  0 4.46 0.5 1.54 5.62 ...\n",
      " $ A8 : num  1.25 3.04 1.5 3.75 1.71 ...\n",
      " $ A9 : int  1 1 1 1 1 1 1 1 1 1 ...\n",
      " $ A10: int  0 0 1 0 1 1 1 1 1 1 ...\n",
      " $ A11: int  1 6 0 5 0 0 0 0 0 0 ...\n",
      " $ A12: int  1 1 1 0 1 0 0 1 1 0 ...\n",
      " $ A14: int  202 43 280 100 120 360 164 80 180 52 ...\n",
      " $ A15: int  0 560 824 3 0 0 31285 1349 314 1442 ...\n",
      " $ R1 : int  1 1 1 1 1 1 1 1 1 1 ...\n"
     ]
    }
   ],
   "source": [
    "str(data)"
   ]
  },
  {
   "cell_type": "markdown",
   "metadata": {},
   "source": [
    "\n",
    "\n",
    "### Check summary of R DataFrame object\n",
    "\n"
   ]
  },
  {
   "cell_type": "code",
   "execution_count": 6,
   "metadata": {},
   "outputs": [
    {
     "data": {
      "text/plain": [
       "       A1               A2              A3               A8        \n",
       " Min.   :0.0000   Min.   :13.75   Min.   : 0.000   Min.   : 0.000  \n",
       " 1st Qu.:0.0000   1st Qu.:22.58   1st Qu.: 1.040   1st Qu.: 0.165  \n",
       " Median :1.0000   Median :28.46   Median : 2.855   Median : 1.000  \n",
       " Mean   :0.6896   Mean   :31.58   Mean   : 4.831   Mean   : 2.242  \n",
       " 3rd Qu.:1.0000   3rd Qu.:38.25   3rd Qu.: 7.438   3rd Qu.: 2.615  \n",
       " Max.   :1.0000   Max.   :80.25   Max.   :28.000   Max.   :28.500  \n",
       "       A9              A10              A11              A12        \n",
       " Min.   :0.0000   Min.   :0.0000   Min.   : 0.000   Min.   :0.0000  \n",
       " 1st Qu.:0.0000   1st Qu.:0.0000   1st Qu.: 0.000   1st Qu.:0.0000  \n",
       " Median :1.0000   Median :1.0000   Median : 0.000   Median :1.0000  \n",
       " Mean   :0.5352   Mean   :0.5612   Mean   : 2.498   Mean   :0.5382  \n",
       " 3rd Qu.:1.0000   3rd Qu.:1.0000   3rd Qu.: 3.000   3rd Qu.:1.0000  \n",
       " Max.   :1.0000   Max.   :1.0000   Max.   :67.000   Max.   :1.0000  \n",
       "      A14               A15               R1        \n",
       " Min.   :   0.00   Min.   :     0   Min.   :0.0000  \n",
       " 1st Qu.:  70.75   1st Qu.:     0   1st Qu.:0.0000  \n",
       " Median : 160.00   Median :     5   Median :0.0000  \n",
       " Mean   : 180.08   Mean   :  1013   Mean   :0.4526  \n",
       " 3rd Qu.: 271.00   3rd Qu.:   399   3rd Qu.:1.0000  \n",
       " Max.   :2000.00   Max.   :100000   Max.   :1.0000  "
      ]
     },
     "metadata": {},
     "output_type": "display_data"
    }
   ],
   "source": [
    "summary(data)"
   ]
  },
  {
   "cell_type": "markdown",
   "metadata": {},
   "source": [
    "\n",
    "\n",
    "### Split data into training and test set\n",
    "\n",
    "I went with an 80/20 split for my data. I picked this split over 70/30 because I am using k-fold repeated cross validation (cv) to train/validate the model and want to insure the model has as much data as possible in the training/validation stage.\n",
    "\n"
   ]
  },
  {
   "cell_type": "code",
   "execution_count": 7,
   "metadata": {
    "collapsed": true
   },
   "outputs": [],
   "source": [
    "training_set <- createDataPartition(y = data$R1, p= 0.8, list = FALSE)\n",
    "training <- data[training_set,]\n",
    "testing <- data[-training_set,]\n",
    "testing_attributes <- testing[,-11]\n",
    "testing_correct_responses <- testing$R1"
   ]
  },
  {
   "cell_type": "markdown",
   "metadata": {},
   "source": [
    "\n",
    "\n",
    "### k-fold cross validation using cv.kknn\n",
    "\n",
    "I decided to only explore different values of k and left the kernel set to the default 'rectangular'.\n",
    "\n"
   ]
  },
  {
   "cell_type": "code",
   "execution_count": 8,
   "metadata": {
    "collapsed": true
   },
   "outputs": [],
   "source": [
    "# init 0's vector for model accuracy\n",
    "\n",
    "knn_model_cv_accuracy_tracker <- rep(0,60)\n",
    "\n",
    "for (k in 1:60) {\n",
    "    \n",
    "    # build cross-validated kNN model\n",
    "    knn_model_cv <- cv.kknn(R1~.,training,\n",
    "                                        kcv=10,\n",
    "                                        k=k,\n",
    "                                        scale=TRUE)\n",
    "    \n",
    "    # init 0's vector for model predictions\n",
    "    knn_model_cv_predictions <- as.integer(knn_model_cv[[1]][,2] + 0.5)\n",
    "    \n",
    "    # add cross-validated kNN model k's accuracy to the tracker\n",
    "    knn_model_cv_accuracy_tracker[k] <- sum(knn_model_cv_predictions == training$R1)\n",
    "}"
   ]
  },
  {
   "cell_type": "markdown",
   "metadata": {},
   "source": [
    "\n",
    "\n",
    "### Optimal kNN model accuracy on training/validation set\n",
    "\n"
   ]
  },
  {
   "cell_type": "code",
   "execution_count": 9,
   "metadata": {},
   "outputs": [
    {
     "data": {
      "text/html": [
       "0.853053435114504"
      ],
      "text/latex": [
       "0.853053435114504"
      ],
      "text/markdown": [
       "0.853053435114504"
      ],
      "text/plain": [
       "[1] 0.8530534"
      ]
     },
     "metadata": {},
     "output_type": "display_data"
    }
   ],
   "source": [
    "max(knn_model_cv_accuracy_tracker) / length(training$R1)"
   ]
  },
  {
   "cell_type": "markdown",
   "metadata": {},
   "source": [
    "\n",
    "\n",
    "### Optimal kNN model error on training/validation set\n",
    "\n"
   ]
  },
  {
   "cell_type": "code",
   "execution_count": 10,
   "metadata": {},
   "outputs": [
    {
     "data": {
      "text/html": [
       "0.146946564885496"
      ],
      "text/latex": [
       "0.146946564885496"
      ],
      "text/markdown": [
       "0.146946564885496"
      ],
      "text/plain": [
       "[1] 0.1469466"
      ]
     },
     "metadata": {},
     "output_type": "display_data"
    }
   ],
   "source": [
    "1 - max(knn_model_cv_accuracy_tracker) / length(training$R1)"
   ]
  },
  {
   "cell_type": "markdown",
   "metadata": {},
   "source": [
    "\n",
    "\n",
    "### Optimal k value (k as in kNN)\n",
    "\n"
   ]
  },
  {
   "cell_type": "code",
   "execution_count": 11,
   "metadata": {},
   "outputs": [
    {
     "data": {
      "text/html": [
       "34"
      ],
      "text/latex": [
       "34"
      ],
      "text/markdown": [
       "34"
      ],
      "text/plain": [
       "[1] 34"
      ]
     },
     "metadata": {},
     "output_type": "display_data"
    }
   ],
   "source": [
    "which(knn_model_cv_accuracy_tracker==max(knn_model_cv_accuracy_tracker))"
   ]
  },
  {
   "cell_type": "markdown",
   "metadata": {},
   "source": [
    "\n",
    "\n",
    "### Plot kNN model accuracy vs k number of neighbors\n",
    "\n"
   ]
  },
  {
   "cell_type": "code",
   "execution_count": 12,
   "metadata": {},
   "outputs": [
    {
     "data": {
      "image/png": "[encoded data removed]",
      "text/plain": [
       "Plot with title \"10-fold CV kNN Model Accuracy vs k Nearest Neighbors\""
      ]
     },
     "metadata": {},
     "output_type": "display_data"
    }
   ],
   "source": [
    "plot(c(1:60),knn_model_cv_accuracy_tracker/length(training$R1), type ='b', \n",
    "     main ='10-fold CV kNN Model Accuracy vs k Nearest Neighbors', \n",
    "     xlab = 'k Nearest Neighbors', ylab = 'Model Accuracy')"
   ]
  },
  {
   "cell_type": "markdown",
   "metadata": {},
   "source": [
    "\n",
    "\n",
    "### Making predictions on test set using optimal k\n",
    "\n"
   ]
  },
  {
   "cell_type": "code",
   "execution_count": 13,
   "metadata": {
    "collapsed": true
   },
   "outputs": [],
   "source": [
    "# init 0's vector for predictions\n",
    "cv_kknn_final_test_model_pred <- rep(0,(nrow(testing)))\n",
    "\n",
    "for (i in 1:nrow(testing)){\n",
    "\n",
    "    # data[-i] removes row i of data when finding k nearest neighbors in training\n",
    "    # else a perfect match between data point and itself would exist in test\n",
    "\n",
    "    cv_kknn_final_test_model=kknn(R1~.,testing[-i,],testing[i,],\n",
    "                                  k=which(knn_model_cv_accuracy_tracker==max(knn_model_cv_accuracy_tracker)), \n",
    "                                  scale = TRUE)\n",
    "\n",
    "    cv_kknn_final_test_model_pred[i] <- as.integer(fitted(cv_kknn_final_test_model)+0.5)\n",
    "  }\n",
    "cv_kknn_final_test_model_accuracy = sum(cv_kknn_final_test_model_pred == testing[,11]) / nrow(testing)"
   ]
  },
  {
   "cell_type": "markdown",
   "metadata": {},
   "source": [
    "\n",
    "\n",
    "### Optimal kNN model accuracy on test set\n",
    "\n"
   ]
  },
  {
   "cell_type": "code",
   "execution_count": 14,
   "metadata": {},
   "outputs": [
    {
     "data": {
      "text/html": [
       "0.869230769230769"
      ],
      "text/latex": [
       "0.869230769230769"
      ],
      "text/markdown": [
       "0.869230769230769"
      ],
      "text/plain": [
       "[1] 0.8692308"
      ]
     },
     "metadata": {},
     "output_type": "display_data"
    }
   ],
   "source": [
    "cv_kknn_final_test_model_accuracy"
   ]
  },
  {
   "cell_type": "markdown",
   "metadata": {},
   "source": [
    "\n",
    "\n",
    "### Optimal kNN model error on test set\n",
    "\n"
   ]
  },
  {
   "cell_type": "code",
   "execution_count": 15,
   "metadata": {},
   "outputs": [
    {
     "data": {
      "text/html": [
       "0.130769230769231"
      ],
      "text/latex": [
       "0.130769230769231"
      ],
      "text/markdown": [
       "0.130769230769231"
      ],
      "text/plain": [
       "[1] 0.1307692"
      ]
     },
     "metadata": {},
     "output_type": "display_data"
    }
   ],
   "source": [
    "1 - cv_kknn_final_test_model_accuracy"
   ]
  },
  {
   "cell_type": "markdown",
   "metadata": {},
   "source": [
    "\n",
    "\n",
    "### Difference between test and training set accuracy\n",
    "\n",
    "Answers the question:\n",
    "\n",
    "*** Is our model capable of abstracting to new data points? Or is it overfitting to the training dataset?***\n",
    "\n"
   ]
  },
  {
   "cell_type": "code",
   "execution_count": 16,
   "metadata": {},
   "outputs": [
    {
     "data": {
      "text/html": [
       "0.0161773341162654"
      ],
      "text/latex": [
       "0.0161773341162654"
      ],
      "text/markdown": [
       "0.0161773341162654"
      ],
      "text/plain": [
       "[1] 0.01617733"
      ]
     },
     "metadata": {},
     "output_type": "display_data"
    }
   ],
   "source": [
    "cv_kknn_final_test_model_accuracy - \n",
    "(max(knn_model_cv_accuracy_tracker) / length(training$R1))"
   ]
  },
  {
   "cell_type": "markdown",
   "metadata": {},
   "source": [
    "\n",
    "\n",
    "### cv.kknn commentary\n",
    "\n",
    "Interesting. Our model performed better on the test set of data then on the training/validation set. This is probably due to the randomness of the data split. Lets rerun the whole process for k [1,20].\n",
    "\n",
    "*** Is the optimal model built with 100% of the data points overfitting the data? ***\n",
    "\n"
   ]
  },
  {
   "cell_type": "code",
   "execution_count": 17,
   "metadata": {
    "collapsed": true
   },
   "outputs": [],
   "source": [
    "# init 0's vector for predictions\n",
    "knn_optimal_model_pred <- rep(0,(nrow(data)))\n",
    "\n",
    "for (i in 1:nrow(data)){\n",
    "\n",
    "    # data[-i] removes row i of data when finding k nearest neighbors in training\n",
    "    # else a perfect match between data point and itself would exist in test\n",
    "\n",
    "    knn_optimal_model_pred=kknn(R1~.,data[-i,],data[i,],k=12, scale = TRUE)\n",
    "\n",
    "    knn_optimal_model_pred[i] <- as.integer(fitted(knn_optimal_model_pred)+0.5)\n",
    "  }\n",
    "knn_optimal_model_accuracy = sum(knn_optimal_model_pred == data[,11]) / nrow(data)"
   ]
  },
  {
   "cell_type": "code",
   "execution_count": 18,
   "metadata": {},
   "outputs": [
    {
     "data": {
      "text/html": [
       "0.853211009174312"
      ],
      "text/latex": [
       "0.853211009174312"
      ],
      "text/markdown": [
       "0.853211009174312"
      ],
      "text/plain": [
       "[1] 0.853211"
      ]
     },
     "metadata": {},
     "output_type": "display_data"
    }
   ],
   "source": [
    "knn_optimal_model_accuracy"
   ]
  },
  {
   "cell_type": "markdown",
   "metadata": {},
   "source": [
    "\n",
    "\n",
    "### k-fold cross validation using cv.kknn k [1,20]\n",
    "\n"
   ]
  },
  {
   "cell_type": "code",
   "execution_count": 19,
   "metadata": {
    "collapsed": true
   },
   "outputs": [],
   "source": [
    "# init 0's vector for model accuracy\n",
    "\n",
    "knn_model_cv_accuracy_tracker <- rep(0,20)\n",
    "\n",
    "for (k in 1:20) {\n",
    "    \n",
    "    # build cross-validated kNN model\n",
    "    knn_model_cv <- cv.kknn(R1~.,training,\n",
    "                                        kcv=10,\n",
    "                                        k=k,\n",
    "                                        scale=TRUE)\n",
    "    \n",
    "    # init 0's vector for model predictions\n",
    "    knn_model_cv_predictions <- as.integer(knn_model_cv[[1]][,2] + 0.5)\n",
    "    \n",
    "    # add cross-validated kNN model k's accuracy to the tracker\n",
    "    knn_model_cv_accuracy_tracker[k] <- sum(knn_model_cv_predictions == training$R1)\n",
    "}"
   ]
  },
  {
   "cell_type": "markdown",
   "metadata": {},
   "source": [
    "\n",
    "\n",
    "### Optimal kNN model accuracy on training/validation set\n",
    "\n"
   ]
  },
  {
   "cell_type": "code",
   "execution_count": 20,
   "metadata": {},
   "outputs": [
    {
     "data": {
      "text/html": [
       "0.841603053435115"
      ],
      "text/latex": [
       "0.841603053435115"
      ],
      "text/markdown": [
       "0.841603053435115"
      ],
      "text/plain": [
       "[1] 0.8416031"
      ]
     },
     "metadata": {},
     "output_type": "display_data"
    }
   ],
   "source": [
    "max(knn_model_cv_accuracy_tracker) / length(training$R1)"
   ]
  },
  {
   "cell_type": "markdown",
   "metadata": {},
   "source": [
    "\n",
    "\n",
    "### Optimal kNN model error on training/validation set\n",
    "\n"
   ]
  },
  {
   "cell_type": "code",
   "execution_count": 21,
   "metadata": {},
   "outputs": [
    {
     "data": {
      "text/html": [
       "0.158396946564885"
      ],
      "text/latex": [
       "0.158396946564885"
      ],
      "text/markdown": [
       "0.158396946564885"
      ],
      "text/plain": [
       "[1] 0.1583969"
      ]
     },
     "metadata": {},
     "output_type": "display_data"
    }
   ],
   "source": [
    "1 - max(knn_model_cv_accuracy_tracker) / length(training$R1)"
   ]
  },
  {
   "cell_type": "markdown",
   "metadata": {},
   "source": [
    "\n",
    "\n",
    "### Optimal k value (k as in kNN)\n",
    "\n"
   ]
  },
  {
   "cell_type": "code",
   "execution_count": 22,
   "metadata": {},
   "outputs": [
    {
     "data": {
      "text/html": [
       "12"
      ],
      "text/latex": [
       "12"
      ],
      "text/markdown": [
       "12"
      ],
      "text/plain": [
       "[1] 12"
      ]
     },
     "metadata": {},
     "output_type": "display_data"
    }
   ],
   "source": [
    "which(knn_model_cv_accuracy_tracker==max(knn_model_cv_accuracy_tracker))"
   ]
  },
  {
   "cell_type": "markdown",
   "metadata": {},
   "source": [
    "\n",
    "\n",
    "### Plot kNN model accuracy vs k number of neighbors\n",
    "\n"
   ]
  },
  {
   "cell_type": "code",
   "execution_count": 23,
   "metadata": {},
   "outputs": [
    {
     "data": {
      "image/png": "[encoded data removed]",
      "text/plain": [
       "Plot with title \"10-fold CV kNN Model Accuracy vs k Nearest Neighbors\""
      ]
     },
     "metadata": {},
     "output_type": "display_data"
    }
   ],
   "source": [
    "plot(c(1:20),knn_model_cv_accuracy_tracker/length(training$R1), type ='b', \n",
    "     main ='10-fold CV kNN Model Accuracy vs k Nearest Neighbors', \n",
    "     xlab = 'k Nearest Neighbors', ylab = 'Model Accuracy')"
   ]
  },
  {
   "cell_type": "markdown",
   "metadata": {},
   "source": [
    "\n",
    "\n",
    "### Difference between optimal model accuracy (all data) and optimal model accuracy (cross-validation)\n",
    "\n",
    "We compare model's using the validation set of data (if data is split).\n",
    "\n"
   ]
  },
  {
   "cell_type": "code",
   "execution_count": 24,
   "metadata": {
    "collapsed": true
   },
   "outputs": [],
   "source": [
    "difference_as_a_percentage <- (knn_optimal_model_accuracy - (max(knn_model_cv_accuracy_tracker)\n",
    "                                                                 / length(training$R1))) * 100"
   ]
  },
  {
   "cell_type": "code",
   "execution_count": 25,
   "metadata": {},
   "outputs": [
    {
     "name": "stdout",
     "output_type": "stream",
     "text": [
      "1.16% difference in model accuracy between kNN model run on 100% of dataset and \n",
      "    cross validated kNN model run on 80% of dataset"
     ]
    }
   ],
   "source": [
    "cat(format(round(difference_as_a_percentage, 2), nsmall = 2))\n",
    "cat(\"% difference in model accuracy between kNN model run on 100% of dataset and \n",
    "    cross validated kNN model run on 80% of dataset\")"
   ]
  },
  {
   "cell_type": "markdown",
   "metadata": {},
   "source": [
    "\n",
    "\n",
    "### Commentary\n",
    "\n",
    "Let's recap how we compared the model outputs using all the data and 80% of the data:\n",
    "\n",
    "\n",
    "1. Different kNN models were tested on the entire dataset using varying values of k [1,20]\n",
    "    * k and corresponding model accuracy were tracked\n",
    "    * An optimal model was found with k = 12\n",
    "    * Optimal model accuracy was found to be 0.853   \n",
    "2. Different kNN models were tested using a cross-validation approach\n",
    "    * Raw data was split 80/20 into training/validation and test sets\n",
    "    * Different values of k [1,20] were tested on the 80% training/validation dataset\n",
    "    * An optimal model was found with k = 12       \n",
    "3. Using the optimal model (k = 12) found in step 2, we tested the model performance on the 20% test set of data\n",
    "    * Model accuracy was found to be 0.823       \n",
    "4. Optimal model accuracies from steps 1 and 3 were compared\n",
    "    * A ~1% difference between the two models was observed\n",
    "    \n",
    "    \n",
    "*** So what does this 1% represent? ***\n",
    "\n",
    "The observed 1% difference between the two models is how much our optimal model built using all of the data is overfitting the dataset. Considering we are building the model with 100% of the dataset, this percentage of overfitting is not that bad!\n",
    "\n"
   ]
  },
  {
   "cell_type": "markdown",
   "metadata": {},
   "source": [
    "\n",
    "\n",
    "## Cross-validated kNN alternate method: `caret`\n",
    "\n"
   ]
  },
  {
   "cell_type": "markdown",
   "metadata": {},
   "source": [
    "\n",
    "\n",
    "### Create k nearest neighbor model using k-fold repeated cv using `caret`\n",
    "\n",
    "* To perform k-fold cross validation I used the popular R package `caret` \n",
    "\n",
    "The documentation for `caret` can be found here: https://cran.r-project.org/web/packages/caret/caret.pdf\n",
    "\n",
    "Specifically, I am using the `train` function which can be found starting on page 154 of the .pdf linked above.\n",
    "\n",
    "* `train` is a general purpose function provided in `caret` that allows the user to train a variety of models\n",
    "    * For the full list of models available by tag in the `train` function, checkout the following reference: http://topepo.github.io/caret/train-models-by-tag.html\n",
    "\n",
    "For our specific use case (subclass 'formula') of `train` we are interested in the following parameters:\n",
    "\n",
    "* `x` is a binary datatype (R factor object) followed by the attributes we'd like to predict x using\n",
    "    * ~. in R means use all attributes\n",
    "    \n",
    "    \n",
    "* `data` is the source data that our response and attributes come from (training/validation set)\n",
    "\n",
    "\n",
    "* `method` is a parameter used to define the type of model we would like to train ('knn' in this case)\n",
    "    \n",
    "    \n",
    "* `trControl` is a list of values that define how this function acts (how we define the cross validation to take place)\n",
    "    * I set up cross-validation based on https://stackoverflow.com/q/28451376\n",
    "    \n",
    "    \n",
    "* `preProcess` allows us to preProcess our data using a vector of tags\n",
    "    * more info on options for the preProcess `method` parameter can be found on page 113 of the `caret` documentation .pdf\n",
    "    * \"scale\" sets the standard deviation of all points equal reference: https://www.biomedware.com/files/documentation/boundaryseer/Preparing_data/Methods_for_data_standardization.htm\n",
    "\n",
    "\n",
    "* `tuneLength` is an integer denoting the amount of granularity in the tuning parameter grid. By default, this argument is the number of levels for each tuning parameters that should be generated by the `train` function. In layman terms, this means 'what is the max number of k (k as in kNN) values to try' when tuning the model\n",
    "\n"
   ]
  },
  {
   "cell_type": "code",
   "execution_count": 26,
   "metadata": {
    "collapsed": true
   },
   "outputs": [],
   "source": [
    "# Setup k-fold cross validation with knn model with k=10 (k refering to k in cross-validation NOT knn)\n",
    "\n",
    "train_control<- trainControl(method=\"repeatedcv\", number=10, repeats=5)\n",
    "\n",
    "caret_knn_model_10_fold_cv <- train(as.factor(R1) ~., data = training, method = \"knn\",\n",
    "                 trControl=train_control,\n",
    "                 preProcess = c(\"scale\"),\n",
    "                 tuneLength = 29)"
   ]
  },
  {
   "cell_type": "markdown",
   "metadata": {},
   "source": [
    "\n",
    "\n",
    "### Print cv kNN model results\n",
    "\n"
   ]
  },
  {
   "cell_type": "code",
   "execution_count": 27,
   "metadata": {},
   "outputs": [
    {
     "name": "stdout",
     "output_type": "stream",
     "text": [
      "k-Nearest Neighbors \n",
      "\n",
      "524 samples\n",
      " 10 predictor\n",
      "  2 classes: '0', '1' \n",
      "\n",
      "Pre-processing: scaled (10) \n",
      "Resampling: Cross-Validated (10 fold, repeated 5 times) \n",
      "Summary of sample sizes: 472, 471, 471, 472, 472, 472, ... \n",
      "Resampling results across tuning parameters:\n",
      "\n",
      "  k   Accuracy   Kappa    \n",
      "   5  0.8191322  0.6363346\n",
      "   7  0.8309316  0.6615418\n",
      "   9  0.8321081  0.6628818\n",
      "  11  0.8301917  0.6586653\n",
      "  13  0.8371078  0.6720412\n",
      "  15  0.8332396  0.6638544\n",
      "  17  0.8328477  0.6629052\n",
      "  19  0.8302059  0.6569871\n",
      "  21  0.8378254  0.6720484\n",
      "  23  0.8409246  0.6780943\n",
      "  25  0.8371365  0.6706556\n",
      "  27  0.8382105  0.6725970\n",
      "  29  0.8401336  0.6763269\n",
      "  31  0.8386169  0.6729879\n",
      "  33  0.8363383  0.6680574\n",
      "  35  0.8371147  0.6692671\n",
      "  37  0.8371220  0.6693287\n",
      "  39  0.8386390  0.6721438\n",
      "  41  0.8405330  0.6759110\n",
      "  43  0.8390018  0.6727847\n",
      "  45  0.8382323  0.6709577\n",
      "  47  0.8378332  0.6701464\n",
      "  49  0.8397420  0.6738233\n",
      "  51  0.8408814  0.6762534\n",
      "  53  0.8408666  0.6761772\n",
      "  55  0.8381960  0.6707041\n",
      "  57  0.8362947  0.6667474\n",
      "  59  0.8332396  0.6603208\n",
      "  61  0.8328622  0.6595395\n",
      "\n",
      "Accuracy was used to select the optimal model using  the largest value.\n",
      "The final value used for the model was k = 23.\n"
     ]
    }
   ],
   "source": [
    "print(caret_knn_model_10_fold_cv)"
   ]
  },
  {
   "cell_type": "markdown",
   "metadata": {},
   "source": [
    "\n",
    "\n",
    "### Plot cv kNN model results\n",
    "\n"
   ]
  },
  {
   "cell_type": "code",
   "execution_count": 28,
   "metadata": {},
   "outputs": [
    {
     "data": {},
     "metadata": {},
     "output_type": "display_data"
    },
    {
     "data": {
      "image/png": "[encoded data removed]",
      "text/plain": [
       "plot without title"
      ]
     },
     "metadata": {},
     "output_type": "display_data"
    }
   ],
   "source": [
    "plot(caret_knn_model_10_fold_cv, \n",
    "     main=\"10-fold Cross Validated kNN Model Accuracy Vs. Number of Neighbors\", \n",
    "     xlab=\"k Nearest Neighbors\", ylab=\"Model Accuracy\")"
   ]
  },
  {
   "cell_type": "markdown",
   "metadata": {},
   "source": [
    "\n",
    "\n",
    "### Extracting important attributes from cross validated kNN model\n",
    "\n",
    "reference: https://www.analyticsvidhya.com/blog/2016/12/practical-guide-to-implement-machine-learning-with-caret-package-in-r-with-practice-problem/\n",
    "\n"
   ]
  },
  {
   "cell_type": "code",
   "execution_count": 29,
   "metadata": {},
   "outputs": [
    {
     "data": {},
     "metadata": {},
     "output_type": "display_data"
    },
    {
     "data": {
      "image/png": "[encoded data removed]",
      "text/plain": [
       "plot without title"
      ]
     },
     "metadata": {},
     "output_type": "display_data"
    }
   ],
   "source": [
    "plot(varImp(object=caret_knn_model_10_fold_cv), \n",
    "     main=\"10-fold Cross Validated kNN Model Attribute Importance\")"
   ]
  },
  {
   "cell_type": "markdown",
   "metadata": {},
   "source": [
    "\n",
    "\n",
    "Attribute A9 is our most important for predicting the response.\n",
    "\n"
   ]
  },
  {
   "cell_type": "markdown",
   "metadata": {},
   "source": [
    "\n",
    "\n",
    "### Now that we know our optimal value of k = 23, lets build one final model using all our training data this time\n",
    "\n",
    "This time I will build the kNN model using the kNN function with k = 23,\n",
    "\n"
   ]
  },
  {
   "cell_type": "code",
   "execution_count": 30,
   "metadata": {},
   "outputs": [
    {
     "data": {
      "text/html": [
       "0.82824427480916"
      ],
      "text/latex": [
       "0.82824427480916"
      ],
      "text/markdown": [
       "0.82824427480916"
      ],
      "text/plain": [
       "[1] 0.8282443"
      ]
     },
     "metadata": {},
     "output_type": "display_data"
    }
   ],
   "source": [
    "# init 0's vector for predictions\n",
    "caret_knn_final_train_model_pred <- rep(0,(nrow(training)))\n",
    "\n",
    "for (i in 1:nrow(training)){\n",
    "\n",
    "    # data[-i] removes row i of data when finding k nearest neighbors in training\n",
    "    # else a perfect match between data point and itself would exist in test\n",
    "\n",
    "    caret_knn_final_train_model=kknn(R1~.,training[-i,],training[i,],k=23, scale = TRUE)\n",
    "\n",
    "    caret_knn_final_train_model_pred[i] <- as.integer(fitted(caret_knn_final_train_model)+0.5)\n",
    "  }\n",
    "caret_knn_final_train_model_accuracy = sum(caret_knn_final_train_model_pred == training[,11]) / nrow(training)\n",
    "caret_knn_final_train_model_accuracy"
   ]
  },
  {
   "cell_type": "markdown",
   "metadata": {},
   "source": [
    "\n",
    "\n",
    "### Making predictions on test set\n",
    "\n"
   ]
  },
  {
   "cell_type": "code",
   "execution_count": 31,
   "metadata": {},
   "outputs": [
    {
     "data": {
      "text/html": [
       "0.869230769230769"
      ],
      "text/latex": [
       "0.869230769230769"
      ],
      "text/markdown": [
       "0.869230769230769"
      ],
      "text/plain": [
       "[1] 0.8692308"
      ]
     },
     "metadata": {},
     "output_type": "display_data"
    }
   ],
   "source": [
    "# init 0's vector for predictions\n",
    "caret_knn_final_test_model_pred <- rep(0,(nrow(testing)))\n",
    "\n",
    "for (i in 1:nrow(testing)){\n",
    "\n",
    "    # data[-i] removes row i of data when finding k nearest neighbors in training\n",
    "    # else a perfect match between data point and itself would exist in test\n",
    "\n",
    "    caret_knn_final_test_model=kknn(R1~.,testing[-i,],testing[i,],k=23, scale = TRUE)\n",
    "\n",
    "    caret_knn_final_test_model_pred[i] <- as.integer(fitted(caret_knn_final_test_model)+0.5)\n",
    "  }\n",
    "caret_knn_final_test_model_accuracy = sum(caret_knn_final_test_model_pred == testing[,11]) / nrow(testing)\n",
    "caret_knn_final_test_model_accuracy"
   ]
  },
  {
   "cell_type": "markdown",
   "metadata": {},
   "source": [
    "\n",
    "\n",
    "### Confusion matrix\n",
    "\n",
    "reference: https://machinelearningmastery.com/how-to-estimate-model-accuracy-in-r-using-the-caret-package/\n",
    "\n"
   ]
  },
  {
   "cell_type": "code",
   "execution_count": 32,
   "metadata": {},
   "outputs": [
    {
     "data": {
      "text/plain": [
       "Confusion Matrix and Statistics\n",
       "\n",
       "          Reference\n",
       "Prediction  0  1\n",
       "         0 71 15\n",
       "         1  2 42\n",
       "                                          \n",
       "               Accuracy : 0.8692          \n",
       "                 95% CI : (0.7989, 0.9219)\n",
       "    No Information Rate : 0.5615          \n",
       "    P-Value [Acc > NIR] : 3.929e-14       \n",
       "                                          \n",
       "                  Kappa : 0.7276          \n",
       " Mcnemar's Test P-Value : 0.003609        \n",
       "                                          \n",
       "            Sensitivity : 0.9726          \n",
       "            Specificity : 0.7368          \n",
       "         Pos Pred Value : 0.8256          \n",
       "         Neg Pred Value : 0.9545          \n",
       "             Prevalence : 0.5615          \n",
       "         Detection Rate : 0.5462          \n",
       "   Detection Prevalence : 0.6615          \n",
       "      Balanced Accuracy : 0.8547          \n",
       "                                          \n",
       "       'Positive' Class : 0               \n",
       "                                          "
      ]
     },
     "metadata": {},
     "output_type": "display_data"
    }
   ],
   "source": [
    "confusionMatrix(caret_knn_final_test_model_pred, testing_correct_responses)"
   ]
  },
  {
   "cell_type": "markdown",
   "metadata": {
    "collapsed": true
   },
   "source": [
    "\n",
    "\n",
    "### Comparing optimal models found using `cv.knn` and `caret` k [1,60]\n",
    "\n",
    "We compare models using the test set of data.\n",
    "\n"
   ]
  },
  {
   "cell_type": "code",
   "execution_count": 33,
   "metadata": {
    "collapsed": true
   },
   "outputs": [],
   "source": [
    "difference_as_a_percentage <- (caret_knn_final_test_model_accuracy \n",
    "                               - cv_kknn_final_test_model_accuracy) * 100"
   ]
  },
  {
   "cell_type": "code",
   "execution_count": 34,
   "metadata": {},
   "outputs": [
    {
     "name": "stdout",
     "output_type": "stream",
     "text": [
      "0.00% difference in model accuracy between caret optimal model and cv.kknn optimal model"
     ]
    }
   ],
   "source": [
    "cat(format(round(difference_as_a_percentage, 2), nsmall = 2))\n",
    "cat(\"% difference in model accuracy between caret optimal model and cv.kknn optimal model\")"
   ]
  },
  {
   "cell_type": "markdown",
   "metadata": {},
   "source": [
    "\n",
    "\n",
    "### Commentary\n",
    "\n",
    "Given the random seed of 37 and an 80/20 split of our raw data, we have reached an optimal model accuracy of 86.92% using both the `cv.kknn` and `caret` packages from R.\n",
    "\n",
    "The final values of k used in the optimal models are (k = 34 for `cv.kknn` and k = 23 for the `caret` packages 'rectangular' kernel for both). The differences in the value of k are more then likely attributable to the differences in how each package solves the underlying optimization problem. Given a choice of the two methodologies, I would pick the `caret` method because it provides a standardized syntax for training over 200+ types of machine learning models, the built-in `caret` datatypes allow for easier comparisons between different models and I also prefer the flexibility `caret` provides to fine tune different hyperparameters / pre-processing methods."
   ]
  }
 ],
 "metadata": {
  "kernelspec": {
   "display_name": "R",
   "language": "R",
   "name": "ir"
  },
  "language_info": {
   "codemirror_mode": "r",
   "file_extension": ".r",
   "mimetype": "text/x-r-source",
   "name": "R",
   "pygments_lexer": "r",
   "version": "3.4.3"
  }
 },
 "nbformat": 4,
 "nbformat_minor": 2
}
