{
 "cells": [
  {
   "cell_type": "markdown",
   "metadata": {},
   "source": [
    "# Treatment Effect\n",
    "\n",
    "This notebook covers the following topics:\n",
    "\n",
    "1. Correlation vs. Causality\n",
    "2. Selection Bias\n",
    "3. Randomized Controlled Experiment and the Difference Estimator\n",
    "4. Star Experiment: Effect of Small Class Size\n",
    "5. Natural Experiments and Difference-in-Difference Estimator"
   ]
  },
  {
   "cell_type": "code",
   "execution_count": 1,
   "metadata": {
    "collapsed": true
   },
   "outputs": [],
   "source": [
    "options(warn=-1)"
   ]
  },
  {
   "cell_type": "code",
   "execution_count": 2,
   "metadata": {
    "collapsed": false
   },
   "outputs": [
    {
     "name": "stderr",
     "output_type": "stream",
     "text": [
      "Loading required package: Ecfun\n",
      "\n",
      "Attaching package: ‘Ecfun’\n",
      "\n",
      "The following object is masked from ‘package:base’:\n",
      "\n",
      "    sign\n",
      "\n",
      "\n",
      "Attaching package: ‘Ecdat’\n",
      "\n",
      "The following object is masked from ‘package:datasets’:\n",
      "\n",
      "    Orange\n",
      "\n",
      "\n",
      "Attaching package: ‘dplyr’\n",
      "\n",
      "The following objects are masked from ‘package:stats’:\n",
      "\n",
      "    filter, lag\n",
      "\n",
      "The following objects are masked from ‘package:base’:\n",
      "\n",
      "    intersect, setdiff, setequal, union\n",
      "\n"
     ]
    }
   ],
   "source": [
    "library(Ecdat)\n",
    "library(dplyr)"
   ]
  },
  {
   "cell_type": "markdown",
   "metadata": {},
   "source": [
    "## Correlation\n",
    "\n",
    "Correlation is a measure of the linear relationship between two variables.\n",
    "\n",
    "The (sample) correlation between two variables X and Y is:\n",
    "\n",
    "$$\n",
    "Corr \\left(X,Y\\right) = \\frac{\\sum_{i=1}^{n} \\left(x_{i} - \\bar{x}\\right)\\left(y_{i} - \\bar{y}\\right)}{\\sqrt{\\sum_{i=1}^{n} \\left(x_{i} - \\bar{x}\\right)^2}\\sqrt{\\sum_{i=1}^{n}\\left(y_{i} - \\bar{y}\\right)^{2}}}\n",
    "$$\n",
    "\n",
    "Measures of correlation $Corr(X,Y)$ always range between -1 and 1\n",
    "\n",
    "$$\n",
    "-1 \\leq Corr(X,Y) \\leq 1\n",
    "$$\n",
    "\n",
    "If $Y=X^{2}$ and $X\\:\\varepsilon\\: \\left[-10,10\\right]$ then the correlation between X and Y is 0.\n",
    "* They are uncorrelated even though they are perfectly related\n",
    "\n",
    "### Strong correlation between A and B\n",
    "\n",
    "If *A* and *B* are strongly correlated there could be several reasons why:\n",
    "* *A* causes *B*\n",
    "* *B* causes *A*\n",
    "    * Be careful about declaring [reverse causality](https://en.wikipedia.org/wiki/Correlation_does_not_imply_causation#B_causes_A_(reverse_causation_or_reverse_causality)!\n",
    "* *A* and *B* are caused by some other factor *C*\n",
    "* A transitive relationship where *A* causes *C* which in turn causes *B*\n",
    "* *A* and *B* are correlated by chance\n",
    "\n",
    "### Post Hoc Ergo Propter Hoc\n",
    "\n",
    "Latin: *\"after this, therefore because of this\"*\n",
    "* Logical fallacy that if A happened and then B happened then A must have caused B to happen\n",
    "\n",
    "Be careful drawing conclusions based solely on order of events.\n",
    "\n",
    "### Causation\n",
    "\n",
    "To establish causation:\n",
    "1. In time, the hypothesized cause must precede its anticipated effect\n",
    "2. The change in cause must lead to a change in effect\n",
    "3. Must discount all other plausible explanations, other than the one proposed, that could explain the relationship\n",
    "\n",
    "[reference](https://www.sciencedirect.com/science/article/pii/S0272775712000684)\n",
    "\n",
    "### Why do we need to establish causality?\n",
    "\n",
    "* Required in fields like medicine\n",
    "* Causal models are used to build theories\n",
    "* Need to determine causal impact of making changes to existing operations"
   ]
  },
  {
   "cell_type": "markdown",
   "metadata": {},
   "source": [
    "## Selection bias\n",
    "\n",
    "Selection bias occurs when individuals are selected for treatment without proper randomization.\n",
    "* Self-selection:\n",
    "    * Ex: a university offers a program to measure and improve teaching effectiveness that allows faculty to opt in - it could be the case that those faculty who did this program were already very effective teachers and wanted to become even more effective.\n",
    "* Voluntary response bias\n",
    "    * Ex: callers to a radio show are folks who are already interested in the topic. This sample over-represents people who are already in that topic. They may not be representative of the population.\n",
    "* Nonresponse bias\n",
    "    * If non-respondents differ from resspondents\n",
    "    * Often a problem in surveys where response rate can be very low\n",
    "    \n",
    "### Assumptions in OLS estimation when estimating slope coefficient\n",
    "\n",
    "* $Y=b_{0} + b_{1}X + \\varepsilon$\n",
    "* When we regress $Y$ on $X$, $Y=b_{0} + b_{1}X + \\varepsilon$, we use the OLS estimator to estimate $b_{1}$\n",
    "\n",
    "$$\n",
    "b_{OLS} = \\frac{Cov\\left[X,Y\\right]}{Cov\\left[X,X\\right]} = \\frac{Cov\\left(b_{0} + b_{1}X + e, X\\right)}{Cov\\left[X,X\\right]}\n",
    "$$\n",
    "\n",
    "$$\n",
    "=\\frac{b_{1}Cov\\left[X,X\\right] + Cov\\left[e,X\\right]}{Cov\\left[X,X\\right]} = b_{1} + \\frac{Cov\\left[e,X\\right]}{Cov\\left[X,X\\right]}\n",
    "$$\n",
    "\n",
    "* Orthogonality Assumption: $Cov\\left(e,X\\right)=0$\n",
    "* When $X$ and $e$ are uncorrelated, $b_{OLS}$ is a good estimate of $b_{1}$\n",
    "* When $X$ and $e$ are correlated, $b_{OLS}$ is not a good estimate of $b_{1}$\n",
    "\n",
    "### Assumptions in linear regression model\n",
    "\n",
    "* $Y=b_{0} + b_{1}X + e$\n",
    "* When we regress $Y$ on $X$, $Y=b_{0}+b_{1}X+e$, we use the OLS estimator to estimate $b_{1}$:\n",
    "* When X is a dummy variable,\n",
    "\n",
    "$$\n",
    "b_{OLS} = b_{1} + \\frac{Cov\\left[e,X\\right]}{Cov\\left[X,X\\right]} = b_{1} + \\left(\\bar{e}_{1} - \\bar{e}_{0}\\right)\n",
    "$$\n",
    "\n",
    "* $b_{1}$ is called the ***treatment effect***\n",
    "* $\\left(\\bar{e}_{1} - \\bar{e}_{0}\\right)$ is termed as the ***selection bias***\n",
    "    * When $\\left(\\bar{e}_{1} - \\bar{e}_{0}\\right) = 0$, $b_{OLS}$ is a good estimate of $b_{1}$\n",
    "    * When $\\left(\\bar{e}_{1} - \\bar{e}_{0}\\right) \\neq 0$, $b_{OLS}$ is a bad estimate of $b_{1}$\n",
    "\n",
    "### How can selection bias be controlled?\n",
    "\n",
    "* ***Randomized controlled experiment:*** Random assignment of test subjects and control groups, we can prevent selection bias.\n",
    "    * Used in agriculture and medicine\n",
    "    * Increasingly being used in business settings\n",
    "\n",
    "* ***Natural Experiment***\n",
    "* Add ***control variables*** (weaker approach)"
   ]
  },
  {
   "cell_type": "markdown",
   "metadata": {},
   "source": [
    "## Randomized controlled experiment\n",
    "\n",
    "Designing a randomized controlled experiment follows this pattern:\n",
    "1. A psuedorandom number *PRN* is sampled from a uniform distribution\n",
    "2. If $PRN < 0.5$, the observation or subject is added to the control group $d=0$\n",
    "3. If $PRN \\geq 0.5$, the observation or subject is added to the test group $d=1$\n",
    "\n",
    "### Regression model\n",
    "\n",
    "* Define indicator variable $d$ as:\n",
    "\n",
    "$$\n",
    "d_{i} = \\left\\{\n",
    "\\begin{array}{ll}\n",
    "  1 \\: \\: \\text{individual i in treatment group}\\\\\n",
    "  0 \\: \\: \\text{individual i in treatment group}\\\\\n",
    "\\end{array}\n",
    "\\right.\n",
    "$$\n",
    "\n",
    "* Regression model is:\n",
    "\n",
    "$$\n",
    "y_{i} = b_{0} + b_{1}d_{i} + e_{i}\n",
    "$$\n",
    "\n",
    "where $i=1,\\ldots,N$\n",
    "\n",
    "*i* is one of the *N* individuals in the study\n",
    "\n",
    "* Regression functions are:\n",
    "\n",
    "$$\n",
    "E\\left(y_{i}\\right) = \\left\\{\n",
    "\\begin{array}{ll}\n",
    "  b_{0} + b_{1} \\: \\: \\text{individual i in treatment group, i.e.,}\\,d_{i}=1\\\\\n",
    "  b_{0} \\: \\: \\text{individual i in control group, i.e.,}\\,d_{i}=0\\\\\n",
    "\\end{array}\n",
    "\\right.\n",
    "$$\n",
    "\n",
    "### Regression Model (Difference Estimator)\n",
    "\n",
    "The OLS estimator for $b_{1}$, the treatment effect is:\n",
    "\n",
    "$$\n",
    "b_{OLS} = \\frac{Cov\\left[X,Y\\right]}{Cov\\left[X,X\\right]} = \\frac{\\sum_{i=1}^{N}\\left(d_{i} - \\bar{d}\\right) \\left(y_{i} - \\bar{y}\\right)}{\\sum_{i=1}^{N}\\left(d_{i} - \\bar{d}\\right)^{2}} = \\bar{y}_{1} - \\bar{y}_{0}\n",
    "$$\n",
    "\n",
    "with:\n",
    "\n",
    "$$\n",
    "\\bar{y}_{1} = \\sum_{i=1}^{N_{1}} \\frac{y_{i}}{N_{1}}\n",
    "$$\n",
    "\n",
    "and\n",
    "\n",
    "$$\n",
    "\\bar{y}_{0} = \\sum_{i=1}^{N_{0}} \\frac{y_{i}}{N_{0}}\n",
    "$$\n",
    "\n",
    "where:\n",
    "* $N_{1}=$ # of observations in the treatment group\n",
    "* $N_{0}=$ # of observations in the control group\n",
    "\n",
    "$b_{OLS}$ is called the ***difference estimator*** because it is the difference between the sample means of the treatment and control groups.\n",
    "\n",
    "We can also rewrite $b_{OLS}$ as:\n",
    "\n",
    "$$\n",
    "b_{OLS} = \\frac{\\sum_{i=1}^{N}\\left(d_{i} - \\bar{d}\\right) \\left(e_{i} - \\bar{e}\\right)}{\\sum_{i=1}^{N}\\left(d_{i} - \\bar{d}\\right)^{2}} = b_{1} + \\left(\\bar{e}_{1} - \\bar{e}_{0}\\right)\n",
    "$$\n",
    "\n",
    "* If we allow individuals to self-select into treatment and control groups, then $E\\left(\\bar{e}_{1}\\right) - E\\left(\\bar{e}_{0}\\right)$ is the selection bias in the estimation of the treatment effect\n",
    "* By using random assignment of individuals to treatment and control groups, we have no systematic differences between the two groups, except for the treatment itself\n",
    "* By using random assignment, our goal is an ***unbiased OLS estimator***:\n",
    "\n",
    "$$\n",
    "E\\left(\\bar{e}_{1} - \\bar{e}_{0}\\right) = E\\left(\\bar{e}_{1}\\right) - E\\left(\\bar{e}_{0}\\right) = 0\n",
    "$$"
   ]
  },
  {
   "cell_type": "markdown",
   "metadata": {},
   "source": [
    "## STAR Experiment\n",
    "\n",
    "The [STAR Experiment](http://piketty.pse.ens.fr/files/Krueger1999.pdf) is the only large-scale randomized controlled experiment applied to the education system in the United States. The researchers were testing a hypothesis that class size had an effect on educational outcome. Both students *and* teachers were randomly assigned to one of three groups:\n",
    "1. Small classes (13-17 students)\n",
    "2. Regular-sized classes (22-27 students)\n",
    "3. Regular-sized classes with a TA\n",
    "\n",
    "The data collected from the STAR experiment is present in the R package `Ecdat`."
   ]
  },
  {
   "cell_type": "raw",
   "metadata": {},
   "source": [
    "help(Star)"
   ]
  },
  {
   "cell_type": "code",
   "execution_count": 3,
   "metadata": {
    "collapsed": false
   },
   "outputs": [],
   "source": [
    "df <- dplyr::filter(Ecdat::Star,\n",
    "                    classk==\"small.class\"|classk==\"regular\")"
   ]
  },
  {
   "cell_type": "code",
   "execution_count": 4,
   "metadata": {
    "collapsed": false
   },
   "outputs": [
    {
     "data": {
      "text/html": [
       "<table>\n",
       "<thead><tr><th scope=col>tmathssk</th><th scope=col>treadssk</th><th scope=col>classk</th><th scope=col>totexpk</th><th scope=col>sex</th><th scope=col>freelunk</th><th scope=col>race</th><th scope=col>schidkn</th></tr></thead>\n",
       "<tbody>\n",
       "\t<tr><td>473        </td><td>447        </td><td>small.class</td><td> 7         </td><td>girl       </td><td>no         </td><td>white      </td><td>63         </td></tr>\n",
       "\t<tr><td>536        </td><td>450        </td><td>small.class</td><td>21         </td><td>girl       </td><td>no         </td><td>black      </td><td>20         </td></tr>\n",
       "\t<tr><td>559        </td><td>448        </td><td>regular    </td><td>16         </td><td>boy        </td><td>no         </td><td>white      </td><td>69         </td></tr>\n",
       "\t<tr><td>489        </td><td>447        </td><td>small.class</td><td> 5         </td><td>boy        </td><td>yes        </td><td>white      </td><td>79         </td></tr>\n",
       "\t<tr><td>454        </td><td>431        </td><td>regular    </td><td> 8         </td><td>boy        </td><td>yes        </td><td>white      </td><td> 5         </td></tr>\n",
       "\t<tr><td>500        </td><td>451        </td><td>regular    </td><td> 3         </td><td>girl       </td><td>no         </td><td>white      </td><td>56         </td></tr>\n",
       "</tbody>\n",
       "</table>\n"
      ],
      "text/latex": [
       "\\begin{tabular}{r|llllllll}\n",
       " tmathssk & treadssk & classk & totexpk & sex & freelunk & race & schidkn\\\\\n",
       "\\hline\n",
       "\t 473         & 447         & small.class &  7          & girl        & no          & white       & 63         \\\\\n",
       "\t 536         & 450         & small.class & 21          & girl        & no          & black       & 20         \\\\\n",
       "\t 559         & 448         & regular     & 16          & boy         & no          & white       & 69         \\\\\n",
       "\t 489         & 447         & small.class &  5          & boy         & yes         & white       & 79         \\\\\n",
       "\t 454         & 431         & regular     &  8          & boy         & yes         & white       &  5         \\\\\n",
       "\t 500         & 451         & regular     &  3          & girl        & no          & white       & 56         \\\\\n",
       "\\end{tabular}\n"
      ],
      "text/markdown": [
       "\n",
       "tmathssk | treadssk | classk | totexpk | sex | freelunk | race | schidkn | \n",
       "|---|---|---|---|---|---|\n",
       "| 473         | 447         | small.class |  7          | girl        | no          | white       | 63          | \n",
       "| 536         | 450         | small.class | 21          | girl        | no          | black       | 20          | \n",
       "| 559         | 448         | regular     | 16          | boy         | no          | white       | 69          | \n",
       "| 489         | 447         | small.class |  5          | boy         | yes         | white       | 79          | \n",
       "| 454         | 431         | regular     |  8          | boy         | yes         | white       |  5          | \n",
       "| 500         | 451         | regular     |  3          | girl        | no          | white       | 56          | \n",
       "\n",
       "\n"
      ],
      "text/plain": [
       "  tmathssk treadssk classk      totexpk sex  freelunk race  schidkn\n",
       "1 473      447      small.class  7      girl no       white 63     \n",
       "2 536      450      small.class 21      girl no       black 20     \n",
       "3 559      448      regular     16      boy  no       white 69     \n",
       "4 489      447      small.class  5      boy  yes      white 79     \n",
       "5 454      431      regular      8      boy  yes      white  5     \n",
       "6 500      451      regular      3      girl no       white 56     "
      ]
     },
     "metadata": {},
     "output_type": "display_data"
    }
   ],
   "source": [
    "head(df)"
   ]
  },
  {
   "cell_type": "markdown",
   "metadata": {},
   "source": [
    "Let's make a new variable called `totalscore` that is the sum of the `tmathssk` and `treadssk` variables.\n",
    "\n",
    "Let's also create four dummy variables:\n",
    "\n",
    "$$\n",
    "small = \\left\\{\n",
    "\\begin{array}{ll}\n",
    "  1 \\: \\: \\text{if classk = small.class}\\\\\n",
    "  0 \\: \\: \\text{otherwise}\\\\\n",
    "\\end{array}\n",
    "\\right.\n",
    "$$\n",
    "\n",
    "$$\n",
    "boy = \\left\\{\n",
    "\\begin{array}{ll}\n",
    "  1 \\: \\: \\text{if sex = boy}\\\\\n",
    "  0 \\: \\: \\text{otherwise}\\\\\n",
    "\\end{array}\n",
    "\\right.\n",
    "$$\n",
    "\n",
    "$$\n",
    "whiteother = \\left\\{\n",
    "\\begin{array}{ll}\n",
    "  1 \\: \\: \\text{if race = white or race=other}\\\\\n",
    "  0 \\: \\: \\text{otherwise}\\\\\n",
    "\\end{array}\n",
    "\\right.\n",
    "$$\n",
    "\n",
    "$$\n",
    "freelunch = \\left\\{\n",
    "\\begin{array}{ll}\n",
    "  1 \\: \\: \\text{if freelunk = yes}\\\\\n",
    "  0 \\: \\: \\text{otherwise}\\\\\n",
    "\\end{array}\n",
    "\\right.\n",
    "$$"
   ]
  },
  {
   "cell_type": "code",
   "execution_count": 5,
   "metadata": {
    "collapsed": false
   },
   "outputs": [],
   "source": [
    "df$totalscore <- df$tmathssk + df$treadssk\n",
    "df$small <- ifelse(df$classk==\"small.class\", 1, 0)\n",
    "df$boy <- ifelse(df$sex==\"boy\", 1, 0)\n",
    "df$whiteother <- ifelse(df$race==\"white\"|df$race==\"other\", 1, 0)\n",
    "df$freelunch <- ifelse(df$freelunk==\"yes\", 1, 0)"
   ]
  },
  {
   "cell_type": "code",
   "execution_count": 6,
   "metadata": {
    "collapsed": false
   },
   "outputs": [
    {
     "data": {
      "text/html": [
       "<table>\n",
       "<thead><tr><th scope=col>tmathssk</th><th scope=col>treadssk</th><th scope=col>classk</th><th scope=col>totexpk</th><th scope=col>sex</th><th scope=col>freelunk</th><th scope=col>race</th><th scope=col>schidkn</th><th scope=col>totalscore</th><th scope=col>small</th><th scope=col>boy</th><th scope=col>whiteother</th><th scope=col>freelunch</th></tr></thead>\n",
       "<tbody>\n",
       "\t<tr><td>473        </td><td>447        </td><td>small.class</td><td> 7         </td><td>girl       </td><td>no         </td><td>white      </td><td>63         </td><td> 920       </td><td>1          </td><td>0          </td><td>1          </td><td>0          </td></tr>\n",
       "\t<tr><td>536        </td><td>450        </td><td>small.class</td><td>21         </td><td>girl       </td><td>no         </td><td>black      </td><td>20         </td><td> 986       </td><td>1          </td><td>0          </td><td>0          </td><td>0          </td></tr>\n",
       "\t<tr><td>559        </td><td>448        </td><td>regular    </td><td>16         </td><td>boy        </td><td>no         </td><td>white      </td><td>69         </td><td>1007       </td><td>0          </td><td>1          </td><td>1          </td><td>0          </td></tr>\n",
       "\t<tr><td>489        </td><td>447        </td><td>small.class</td><td> 5         </td><td>boy        </td><td>yes        </td><td>white      </td><td>79         </td><td> 936       </td><td>1          </td><td>1          </td><td>1          </td><td>1          </td></tr>\n",
       "\t<tr><td>454        </td><td>431        </td><td>regular    </td><td> 8         </td><td>boy        </td><td>yes        </td><td>white      </td><td> 5         </td><td> 885       </td><td>0          </td><td>1          </td><td>1          </td><td>1          </td></tr>\n",
       "\t<tr><td>500        </td><td>451        </td><td>regular    </td><td> 3         </td><td>girl       </td><td>no         </td><td>white      </td><td>56         </td><td> 951       </td><td>0          </td><td>0          </td><td>1          </td><td>0          </td></tr>\n",
       "</tbody>\n",
       "</table>\n"
      ],
      "text/latex": [
       "\\begin{tabular}{r|lllllllllllll}\n",
       " tmathssk & treadssk & classk & totexpk & sex & freelunk & race & schidkn & totalscore & small & boy & whiteother & freelunch\\\\\n",
       "\\hline\n",
       "\t 473         & 447         & small.class &  7          & girl        & no          & white       & 63          &  920        & 1           & 0           & 1           & 0          \\\\\n",
       "\t 536         & 450         & small.class & 21          & girl        & no          & black       & 20          &  986        & 1           & 0           & 0           & 0          \\\\\n",
       "\t 559         & 448         & regular     & 16          & boy         & no          & white       & 69          & 1007        & 0           & 1           & 1           & 0          \\\\\n",
       "\t 489         & 447         & small.class &  5          & boy         & yes         & white       & 79          &  936        & 1           & 1           & 1           & 1          \\\\\n",
       "\t 454         & 431         & regular     &  8          & boy         & yes         & white       &  5          &  885        & 0           & 1           & 1           & 1          \\\\\n",
       "\t 500         & 451         & regular     &  3          & girl        & no          & white       & 56          &  951        & 0           & 0           & 1           & 0          \\\\\n",
       "\\end{tabular}\n"
      ],
      "text/markdown": [
       "\n",
       "tmathssk | treadssk | classk | totexpk | sex | freelunk | race | schidkn | totalscore | small | boy | whiteother | freelunch | \n",
       "|---|---|---|---|---|---|\n",
       "| 473         | 447         | small.class |  7          | girl        | no          | white       | 63          |  920        | 1           | 0           | 1           | 0           | \n",
       "| 536         | 450         | small.class | 21          | girl        | no          | black       | 20          |  986        | 1           | 0           | 0           | 0           | \n",
       "| 559         | 448         | regular     | 16          | boy         | no          | white       | 69          | 1007        | 0           | 1           | 1           | 0           | \n",
       "| 489         | 447         | small.class |  5          | boy         | yes         | white       | 79          |  936        | 1           | 1           | 1           | 1           | \n",
       "| 454         | 431         | regular     |  8          | boy         | yes         | white       |  5          |  885        | 0           | 1           | 1           | 1           | \n",
       "| 500         | 451         | regular     |  3          | girl        | no          | white       | 56          |  951        | 0           | 0           | 1           | 0           | \n",
       "\n",
       "\n"
      ],
      "text/plain": [
       "  tmathssk treadssk classk      totexpk sex  freelunk race  schidkn totalscore\n",
       "1 473      447      small.class  7      girl no       white 63       920      \n",
       "2 536      450      small.class 21      girl no       black 20       986      \n",
       "3 559      448      regular     16      boy  no       white 69      1007      \n",
       "4 489      447      small.class  5      boy  yes      white 79       936      \n",
       "5 454      431      regular      8      boy  yes      white  5       885      \n",
       "6 500      451      regular      3      girl no       white 56       951      \n",
       "  small boy whiteother freelunch\n",
       "1 1     0   1          0        \n",
       "2 1     0   0          0        \n",
       "3 0     1   1          0        \n",
       "4 1     1   1          1        \n",
       "5 0     1   1          1        \n",
       "6 0     0   1          0        "
      ]
     },
     "metadata": {},
     "output_type": "display_data"
    }
   ],
   "source": [
    "head(df)"
   ]
  },
  {
   "cell_type": "markdown",
   "metadata": {},
   "source": [
    "### Check for Random Assignment\n",
    "\n",
    "* Apply logistic regression on `small` using the other factors and check if there are any significant coefficients\n",
    "* We should not expect to see any significant coefficients"
   ]
  },
  {
   "cell_type": "code",
   "execution_count": 7,
   "metadata": {
    "collapsed": true
   },
   "outputs": [],
   "source": [
    "small_log_regression_a <- glm(small~boy+whiteother+totexpk+freelunch,\n",
    "                              family=binomial(link='logit'),\n",
    "                              data=df)"
   ]
  },
  {
   "cell_type": "code",
   "execution_count": 8,
   "metadata": {
    "collapsed": false
   },
   "outputs": [
    {
     "data": {
      "text/html": [
       "<table>\n",
       "<thead><tr><th></th><th scope=col>Estimate</th><th scope=col>Std. Error</th><th scope=col>z value</th><th scope=col>Pr(&gt;|z|)</th></tr></thead>\n",
       "<tbody>\n",
       "\t<tr><th scope=row>(Intercept)</th><td>-0.144373768</td><td>0.101497348 </td><td>-1.42243882 </td><td>0.1548989   </td></tr>\n",
       "\t<tr><th scope=row>boy</th><td>-0.001546021</td><td>0.065744501 </td><td>-0.02351560 </td><td>0.9812390   </td></tr>\n",
       "\t<tr><th scope=row>whiteother</th><td> 0.037724954</td><td>0.079115207 </td><td> 0.47683569 </td><td>0.6334791   </td></tr>\n",
       "\t<tr><th scope=row>totexpk</th><td>-0.003007123</td><td>0.005793192 </td><td>-0.51907876 </td><td>0.6037058   </td></tr>\n",
       "\t<tr><th scope=row>freelunch</th><td> 0.006739089</td><td>0.073265741 </td><td> 0.09198145 </td><td>0.9267128   </td></tr>\n",
       "</tbody>\n",
       "</table>\n"
      ],
      "text/latex": [
       "\\begin{tabular}{r|llll}\n",
       "  & Estimate & Std. Error & z value & Pr(>\\textbar{}z\\textbar{})\\\\\n",
       "\\hline\n",
       "\t(Intercept) & -0.144373768 & 0.101497348  & -1.42243882  & 0.1548989   \\\\\n",
       "\tboy & -0.001546021 & 0.065744501  & -0.02351560  & 0.9812390   \\\\\n",
       "\twhiteother &  0.037724954 & 0.079115207  &  0.47683569  & 0.6334791   \\\\\n",
       "\ttotexpk & -0.003007123 & 0.005793192  & -0.51907876  & 0.6037058   \\\\\n",
       "\tfreelunch &  0.006739089 & 0.073265741  &  0.09198145  & 0.9267128   \\\\\n",
       "\\end{tabular}\n"
      ],
      "text/markdown": [
       "\n",
       "| <!--/--> | Estimate | Std. Error | z value | Pr(>|z|) | \n",
       "|---|---|---|---|---|\n",
       "| (Intercept) | -0.144373768 | 0.101497348  | -1.42243882  | 0.1548989    | \n",
       "| boy | -0.001546021 | 0.065744501  | -0.02351560  | 0.9812390    | \n",
       "| whiteother |  0.037724954 | 0.079115207  |  0.47683569  | 0.6334791    | \n",
       "| totexpk | -0.003007123 | 0.005793192  | -0.51907876  | 0.6037058    | \n",
       "| freelunch |  0.006739089 | 0.073265741  |  0.09198145  | 0.9267128    | \n",
       "\n",
       "\n"
      ],
      "text/plain": [
       "            Estimate     Std. Error  z value     Pr(>|z|) \n",
       "(Intercept) -0.144373768 0.101497348 -1.42243882 0.1548989\n",
       "boy         -0.001546021 0.065744501 -0.02351560 0.9812390\n",
       "whiteother   0.037724954 0.079115207  0.47683569 0.6334791\n",
       "totexpk     -0.003007123 0.005793192 -0.51907876 0.6037058\n",
       "freelunch    0.006739089 0.073265741  0.09198145 0.9267128"
      ]
     },
     "metadata": {},
     "output_type": "display_data"
    }
   ],
   "source": [
    "summary(small_log_regression_a)$coefficients"
   ]
  },
  {
   "cell_type": "markdown",
   "metadata": {},
   "source": [
    "None of the coefficients are significant so we can be confident that this randomized controlled experiment truly used random assignment."
   ]
  },
  {
   "cell_type": "markdown",
   "metadata": {},
   "source": [
    "### Summary stats\n",
    "\n",
    "Now let's look at some aggregate measures across the two class sizes."
   ]
  },
  {
   "cell_type": "code",
   "execution_count": 9,
   "metadata": {
    "collapsed": false
   },
   "outputs": [
    {
     "data": {
      "text/plain": [
       "   totalscore          boy          whiteother       totexpk      \n",
       " Min.   : 635.0   Min.   :0.000   Min.   :0.000   Min.   : 0.000  \n",
       " 1st Qu.: 866.0   1st Qu.:0.000   1st Qu.:0.000   1st Qu.: 4.000  \n",
       " Median : 912.0   Median :1.000   Median :1.000   Median : 9.000  \n",
       " Mean   : 917.9   Mean   :0.514   Mean   :0.682   Mean   : 9.078  \n",
       " 3rd Qu.: 961.0   3rd Qu.:1.000   3rd Qu.:1.000   3rd Qu.:13.000  \n",
       " Max.   :1229.0   Max.   :1.000   Max.   :1.000   Max.   :24.000  \n",
       "   freelunch     \n",
       " Min.   :0.0000  \n",
       " 1st Qu.:0.0000  \n",
       " Median :0.0000  \n",
       " Mean   :0.4745  \n",
       " 3rd Qu.:1.0000  \n",
       " Max.   :1.0000  "
      ]
     },
     "metadata": {},
     "output_type": "display_data"
    }
   ],
   "source": [
    "summary(df[which(df$small==0),c('totalscore','boy','whiteother','totexpk','freelunch')])"
   ]
  },
  {
   "cell_type": "code",
   "execution_count": 10,
   "metadata": {
    "collapsed": false
   },
   "outputs": [
    {
     "data": {
      "text/plain": [
       "   totalscore          boy           whiteother        totexpk      \n",
       " Min.   : 747.0   Min.   :0.0000   Min.   :0.0000   Min.   : 0.000  \n",
       " 1st Qu.: 878.0   1st Qu.:0.0000   1st Qu.:0.0000   1st Qu.: 4.000  \n",
       " Median : 924.0   Median :1.0000   Median :1.0000   Median : 8.000  \n",
       " Mean   : 932.1   Mean   :0.5141   Mean   :0.6884   Mean   : 8.991  \n",
       " 3rd Qu.: 981.0   3rd Qu.:1.0000   3rd Qu.:1.0000   3rd Qu.:13.000  \n",
       " Max.   :1253.0   Max.   :1.0000   Max.   :1.0000   Max.   :27.000  \n",
       "   freelunch     \n",
       " Min.   :0.0000  \n",
       " 1st Qu.:0.0000  \n",
       " Median :0.0000  \n",
       " Mean   :0.4732  \n",
       " 3rd Qu.:1.0000  \n",
       " Max.   :1.0000  "
      ]
     },
     "metadata": {},
     "output_type": "display_data"
    }
   ],
   "source": [
    "summary(df[which(df$small==1),c('totalscore','boy','whiteother','totexpk','freelunch')])"
   ]
  },
  {
   "cell_type": "markdown",
   "metadata": {},
   "source": [
    "We can see that the composition of each class with respect to gender, race, teacher experience, and student income (measured using `freelunch`) is more or less equal across small classes and regular sized classes. Let's boxplot the `totalscore` vs. `small` to visualize the difference in outcome."
   ]
  },
  {
   "cell_type": "code",
   "execution_count": 11,
   "metadata": {
    "collapsed": false
   },
   "outputs": [
    {
     "data": {
      "image/png": "[encoded data removed]",
      "text/plain": [
       "Plot with title “Boxplot for Test Scores vs. Class Size”"
      ]
     },
     "metadata": {},
     "output_type": "display_data"
    }
   ],
   "source": [
    "boxplot(totalscore~small,df, names = c('Regular-sized', 'Small'), main='Boxplot for Test Scores vs. Class Size', ylab='Test Scores', xlab='Class Size')"
   ]
  },
  {
   "cell_type": "markdown",
   "metadata": {},
   "source": [
    "We can see visually that there appears to be a discernible bump in total test score performance for students in small classes vs. those in regular-sized classes. Let's see if the difference is statistically significant by building a linear regression model:\n",
    "\n",
    "$$\n",
    "totalscore = b_{0} + b_{1}small + e\n",
    "$$"
   ]
  },
  {
   "cell_type": "code",
   "execution_count": 12,
   "metadata": {
    "collapsed": false
   },
   "outputs": [
    {
     "data": {
      "text/html": [
       "<table>\n",
       "<thead><tr><th></th><th scope=col>Estimate</th><th scope=col>Std. Error</th><th scope=col>t value</th><th scope=col>Pr(&gt;|t|)</th></tr></thead>\n",
       "<tbody>\n",
       "\t<tr><th scope=row>(Intercept)</th><td>917.94200   </td><td>1.670154    </td><td>549.615229  </td><td>0.000000e+00</td></tr>\n",
       "\t<tr><th scope=row>small</th><td> 14.10878   </td><td>2.451242    </td><td>  5.755767  </td><td>9.319685e-09</td></tr>\n",
       "</tbody>\n",
       "</table>\n"
      ],
      "text/latex": [
       "\\begin{tabular}{r|llll}\n",
       "  & Estimate & Std. Error & t value & Pr(>\\textbar{}t\\textbar{})\\\\\n",
       "\\hline\n",
       "\t(Intercept) & 917.94200    & 1.670154     & 549.615229   & 0.000000e+00\\\\\n",
       "\tsmall &  14.10878    & 2.451242     &   5.755767   & 9.319685e-09\\\\\n",
       "\\end{tabular}\n"
      ],
      "text/markdown": [
       "\n",
       "| <!--/--> | Estimate | Std. Error | t value | Pr(>|t|) | \n",
       "|---|---|\n",
       "| (Intercept) | 917.94200    | 1.670154     | 549.615229   | 0.000000e+00 | \n",
       "| small |  14.10878    | 2.451242     |   5.755767   | 9.319685e-09 | \n",
       "\n",
       "\n"
      ],
      "text/plain": [
       "            Estimate  Std. Error t value    Pr(>|t|)    \n",
       "(Intercept) 917.94200 1.670154   549.615229 0.000000e+00\n",
       "small        14.10878 2.451242     5.755767 9.319685e-09"
      ]
     },
     "metadata": {},
     "output_type": "display_data"
    }
   ],
   "source": [
    "score_linear_regression_a <- lm(totalscore~small,df)\n",
    "summary(score_linear_regression_a)$coefficients"
   ]
  },
  {
   "cell_type": "markdown",
   "metadata": {},
   "source": [
    "The regression above simply tells us what we already know from looking at the aggregate statistics:\n",
    "* Students in regular-sized classes have expected test scores of $917.94$\n",
    "* Students in small classes have expected test scores of $917.94 + 14.11 = 932.05$\n",
    "\n",
    "The coefficient value $b_{1}$ is referred to as the ***difference estimator*** and is equal to $14.11$. We can interpret this value as the difference in test score outcome if a student were moved from a regular-sized class to a small class, holding all other factors constant.\n",
    "\n",
    "Let's add teacher experience `totexpk` to the regression model:\n",
    "\n",
    "$$\n",
    "totalscore = b_{0} + b_{1}small + b_{2}totexpk + e\n",
    "$$"
   ]
  },
  {
   "cell_type": "code",
   "execution_count": 13,
   "metadata": {
    "collapsed": false
   },
   "outputs": [
    {
     "data": {
      "text/html": [
       "<table>\n",
       "<thead><tr><th></th><th scope=col>Estimate</th><th scope=col>Std. Error</th><th scope=col>t value</th><th scope=col>Pr(&gt;|t|)</th></tr></thead>\n",
       "<tbody>\n",
       "\t<tr><th scope=row>(Intercept)</th><td>907.429284  </td><td>2.5487122   </td><td>356.034425  </td><td>0.000000e+00</td></tr>\n",
       "\t<tr><th scope=row>small</th><td> 14.209798  </td><td>2.4419559   </td><td>  5.819023  </td><td>6.417707e-09</td></tr>\n",
       "\t<tr><th scope=row>totexpk</th><td>  1.158043  </td><td>0.2126839   </td><td>  5.444903  </td><td>5.517691e-08</td></tr>\n",
       "</tbody>\n",
       "</table>\n"
      ],
      "text/latex": [
       "\\begin{tabular}{r|llll}\n",
       "  & Estimate & Std. Error & t value & Pr(>\\textbar{}t\\textbar{})\\\\\n",
       "\\hline\n",
       "\t(Intercept) & 907.429284   & 2.5487122    & 356.034425   & 0.000000e+00\\\\\n",
       "\tsmall &  14.209798   & 2.4419559    &   5.819023   & 6.417707e-09\\\\\n",
       "\ttotexpk &   1.158043   & 0.2126839    &   5.444903   & 5.517691e-08\\\\\n",
       "\\end{tabular}\n"
      ],
      "text/markdown": [
       "\n",
       "| <!--/--> | Estimate | Std. Error | t value | Pr(>|t|) | \n",
       "|---|---|---|\n",
       "| (Intercept) | 907.429284   | 2.5487122    | 356.034425   | 0.000000e+00 | \n",
       "| small |  14.209798   | 2.4419559    |   5.819023   | 6.417707e-09 | \n",
       "| totexpk |   1.158043   | 0.2126839    |   5.444903   | 5.517691e-08 | \n",
       "\n",
       "\n"
      ],
      "text/plain": [
       "            Estimate   Std. Error t value    Pr(>|t|)    \n",
       "(Intercept) 907.429284 2.5487122  356.034425 0.000000e+00\n",
       "small        14.209798 2.4419559    5.819023 6.417707e-09\n",
       "totexpk       1.158043 0.2126839    5.444903 5.517691e-08"
      ]
     },
     "metadata": {},
     "output_type": "display_data"
    }
   ],
   "source": [
    "score_linear_regression_b <- lm(totalscore~small+totexpk,df)\n",
    "summary(score_linear_regression_b)$coefficients"
   ]
  },
  {
   "cell_type": "markdown",
   "metadata": {},
   "source": [
    "Each additional year of teacher experience adds $1.16$ points to the `totalscore`. Notice we are getting a slight bump in our difference estimator from $14.11$ to $14.21$ holding all other variables constant.\n",
    "\n",
    "The effect of having a small class size is equivalent to having a teacher with $\\frac{14.21}{1.16} \\approx $ 12 additional years of teaching experience! Oh the irony of learning this in a MOOC!"
   ]
  },
  {
   "cell_type": "markdown",
   "metadata": {},
   "source": [
    "## Natural experiments\n",
    "\n",
    "A natural experiment is based on observational study data from real world conditions. We approximate what would have happened in a randomized controlled experiment.\n",
    "* In a natural experiment, the subjects who might be undergoing treatment are ***not able to choose if they are in a treatment or control group***\n",
    "* The choice is made by an external agent or factor\n",
    "    * Some subjects must be in the treatment group while others are in the control group for a natural experiment to work\n",
    "    * Ex: weather event, policy change, etc.\n",
    "\n",
    "Researchers compare the average change over time of the Y variable for the treatment group to the average change over time of the Y variable for the control group. This comparison is called ***difference-in-difference***.\n",
    "* Panel data is used to measure these differences\n",
    "\n",
    "### Examples of natural experiments\n",
    "\n",
    "A treatment (manipulation/event) that just happened; not intenionally designed as an experiment:\n",
    "* A law that changed the tax rate for some subjects, but not others\n",
    "* A hurricane that hits a few stores among a large sample of stores\n",
    "* A mobile carrier implements an unlimited data plan in some cities but not others\n",
    "* Minimum wage is changed in one state but not another\n",
    "\n",
    "### Counterfactual\n",
    "\n",
    "When we are interested in estimating the causal impact of a treatment, we need to compare the outcome with the intervention to *what would have happened without the intervention*, i.e., a ***counterfactual***.\n",
    "* The \"control group\" needs to be such that it is more or less similar to the \"treatment group\".\n",
    "* If we can't establish counterfactuals, it is impossible to estimate treatment effects properly.\n",
    "\n",
    "### An example of a natural experiment\n",
    "\n",
    "[reference](https://www.sciencedirect.com/science/article/pii/S0167718713001252)\n",
    "\n",
    "* Sales tax is lowered in NYC\n",
    "* Neighboring states do not change sales tax for local stores\n",
    "* We want to estimate the difference in purchase behavior between NYC and nearby states\n",
    "* We measure sales in stores in NYC and nearby stores\n",
    "* Lower local sales tax could result in:\n",
    "    * Stronger tendency to buy locally\n",
    "    * Lower internet sales\n",
    "    \n",
    "### Difference-in-Difference (D-in-D)\n",
    "\n",
    "Consider time $t_{1}$ and time $t_{2}$, where $t_{!}$ occurs before the \"treatment\" and $t_{2}$ occurs after the \"treatment\". Let's call $t_{1}$ \"Before\" and $t_{2}$ \"After\" - we are measuring the average value of the dependent variable (Y).\n",
    "* $A=$ average value of the dependent variable for the control group measured at time $t_{1}$\n",
    "* $B=$ average value of the dependent variable for the treatment group measured at time $t_{1}$\n",
    "* $C=$ average value of the dependent variable for the control group measured at time $t_{2}$\n",
    "* $D=$ average value of the dependent variable for the treatment group measured at time $t_{2}$\n",
    "\n",
    "|   | Before | After | Difference |\n",
    "| --- | --- | --- | --- |\n",
    "| Control | A | C | C-A |\n",
    "| Treated | B | D | D-B |\n",
    "\n",
    "* For the ***control group***, the difference of the average Y values at time $t_{2}$ (After) and time $t_{1}$, (Before) = $C-A$\n",
    "* For the ***treatment group***, the difference of the average Y values at time $t_{2}$ (After) and time $t_{1}$, (Before) = $D-B$\n",
    "\n",
    "The difference between these values is called ***difference-in-difference***.\n",
    "\n",
    "$$\n",
    "\\text{Diff-in-Diff} = \\left(D-B\\right) - \\left(C-A\\right)\n",
    "$$\n",
    "\n",
    "#### Graphically\n",
    "\n",
    "<img src=\"diff-in-diff.png\">\n",
    "\n",
    "### How do we estimate the diff-in-diff using regression?\n",
    "\n",
    "For the NYC example above, we first create two dummy variables:\n",
    "\n",
    "$$\n",
    "NYC = \\left\\{\n",
    "\\begin{array}{ll}\n",
    "  1 \\: \\: \\text{if observation is from store in NYC}\\\\\n",
    "  0 \\: \\: \\text{otherwise}\\\\\n",
    "\\end{array}\n",
    "\\right.\n",
    "$$\n",
    "\n",
    "$$\n",
    "After = \\left\\{\n",
    "\\begin{array}{ll}\n",
    "  1 \\: \\: \\text{if observation is in the After time period}\\\\\n",
    "  0 \\: \\: \\text{otherwise}\\\\\n",
    "\\end{array}\n",
    "\\right.\n",
    "$$\n",
    "\n",
    "Define $NYCAfter = NYC*After$, which is an interaction variable.\n",
    "* We observe sales at stores in NYC (treatment) and sales at stores in surrounding areas (control) before and after NYC lowered its sales tax\n",
    "* Regression model:\n",
    "$$\n",
    "\\text{sales = }b_{0} + b_{!}NYC + b_{2}After + b_{3}NYCAfter\n",
    "$$\n",
    "\n",
    "#### Graphically\n",
    "<img src=\"diff-in-diff2.png\">\n",
    "\n",
    "|   | Before | After | Difference (After - Before) |\n",
    "| --- | --- | --- | --- |\n",
    "| Control | $b_{0}$ | $b_{0} + b_{2}$ | $b_{2}$ |\n",
    "| Treated | $b_{0} + b_{1}$ | $b_{0} + b_{1} + b_{2} + b_{3}$ | $b_{2}+ b_{3}$ |\n",
    "\n",
    "$$\n",
    "\\text{Diff-in-Diff} = \\left(b_{2} + b_{3}\\right) - \\left(b_{2}\\right) = b_{3}\n",
    "$$\n",
    "\n",
    "$b_{3}$ is the coefficient of the interaction term `NYCAfter`\n",
    "\n",
    "### Steps in Natural Experiment\n",
    "\n",
    "1. Understand the treatmen (manipulation/event) that just happened\n",
    "2. Check if we can theoretically argue that the treatment appears as if it were randomly assigned\n",
    "    * assignment orthogonal to unobservable factors, $X$ orthogonal to $\\varepsilon$\n",
    "3. Check to see if there is a control/treatment group\n",
    "4. Check empirical evidence to see the two groups are roughly the same before the experiment\n",
    "5. Analyze the treatment effect using the difference-in-difference estimator"
   ]
  }
 ],
 "metadata": {
  "anaconda-cloud": {},
  "kernelspec": {
   "display_name": "R",
   "language": "R",
   "name": "ir"
  },
  "language_info": {
   "codemirror_mode": "r",
   "file_extension": ".r",
   "mimetype": "text/x-r-source",
   "name": "R",
   "pygments_lexer": "r",
   "version": "3.3.2"
  }
 },
 "nbformat": 4,
 "nbformat_minor": 2
}
