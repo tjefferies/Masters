{
 "cells": [
  {
   "cell_type": "markdown",
   "metadata": {},
   "source": [
    "# Logistic Regression\n",
    "\n",
    "In this notebook the following topics are covered:\n",
    "\n",
    "1. Odds\n",
    "2. Dependent Binary Variables\n",
    "3. Logistic Regression\n",
    "4. Applied Logistic Regression on `Default` Dataset\n",
    "5. Predictions and Confusion Matrix\n",
    "6. Sensitivity, Specificity, and the ROC Curve"
   ]
  },
  {
   "cell_type": "code",
   "execution_count": 111,
   "metadata": {},
   "outputs": [],
   "source": [
    "set.seed(37)\n",
    "options(warn=-1)"
   ]
  },
  {
   "cell_type": "markdown",
   "metadata": {},
   "source": [
    "## Odds\n",
    "\n",
    "*Odds* are one way to express the likelihood that an event will take place (Ex: horse winning a race).\n",
    "\n",
    "* Odds can be expressed as *X to Y* , *X:Y* or *X/Y*\n",
    "* Gambling odds are called ***odds against*** or the probability that an event will not happen is greater than the probability it will\n",
    "    * 10 to 1 odds means for every \\$1 you bet, you'll be paid $10*1$ or $10 if you win\n",
    "* This notebook deals with ***odds for*** or the probability that an event will occur\n",
    "\n",
    "*Odds* are a ratio of probabilities\n",
    "\n",
    "***Odds for*** is a ratio = $\\frac{\\text{probability that the event will happen}}{\\text{probability that the event will not happen}}$\n",
    "\n",
    "Let *p*=probability that the event happens $$\\text{Odds for = }\\frac{p}{(1-p)}$$\n",
    "\n",
    "As an example, let's consider the case of *Odds for* is 2:1\n",
    "\n",
    "$$\n",
    "\\begin{align*}\n",
    "\\frac{2}{1} &= \\frac{p}{(1-p)} \\\\ \n",
    "2(1-p) &= p\\\\ \n",
    "2-2p &= p\\\\ \n",
    "2 &=3p\\\\\n",
    "\\frac{2}{3} &= p\n",
    "\\end{align*}\n",
    "$$\n",
    "\n",
    "Thus the probability the event will happen is $\\frac{2}{3}$ or 66.67%. Conversely the probability the event will not happen is $1 - \\frac{2}{3} = 1 - 0.6667 = \\frac{1}{3} = 0.333$ or 33.33%\n",
    "\n",
    "So if we know the *Odds for* we can use the equation\n",
    "\n",
    "$$\\text{Odds for = }\\frac{p}{(1-p)}$$\n",
    "\n",
    "to find the probability *p* and if we are given *p*, we can use the equation\n",
    "\n",
    "$$p = \\frac{\\text{Odds for}}{1 + \\text{Odds for}}$$ to find the *Odds for*.\n",
    "\n",
    "Some example *Odds for* are shown in the table below:\n",
    "\n",
    "| Odds | *Odds for* | *p*  | (1-*p*) |\n",
    "|------|------------|------|---------|\n",
    "| 2:1  | 2/1 = 2    | 0.67 | 0.33    |\n",
    "| 3:2  | 3/2 = 1.5  | 0.6  | 0.4     |\n",
    "| 3:1  | 3/1 = 3    | 0.75 | 0.25    |\n",
    "| 4:1  | 4/1 = 4    | 0.8  | 0.2     |\n",
    "| 9:1  | 9/1 = 9    | 0.9  | 0.1     |\n",
    "| 10:1 | 10/1 = 10  | 0.91 | 0.09    |\n",
    "| 1:2  | 1/2 = 0.5  | 0.33 | 0.67    |\n",
    "| 1:3  | 1/3 = 0.33 | 0.25 | 0.75    |\n",
    "| 2:3  | 2/3 = 0.67 | 0.4  | 0.6     |\n",
    "| 1:4  | 1/4 = 0.25 | 0.2  | 0.8     |\n",
    "\n",
    "***Ex 1:***\n",
    "\n",
    "A betting site shows the *odds against* that the Patriots will win the next super bowl as 5:1. What is the probability of the Patriots winning the next super bowl?\n",
    "\n",
    "5:1 odds against is 1:5 odds for or 0.2\n",
    "\n",
    "$$\n",
    "\\begin{align*}\n",
    "\\frac{1}{5} &= \\frac{p}{(1-p)} \\\\ \n",
    "1(1-p) &= 5p\\\\ \n",
    "1-p &= 5p\\\\ \n",
    "1 &=6p\\\\\n",
    "\\frac{1}{6} &= p\n",
    "\\end{align*}\n",
    "$$\n",
    "\n",
    "So the probability *p* of the Patriots winning the super bowl is $p=\\frac{1}{6}$ or 16.67%.\n",
    "\n",
    "***Ex 2:***\n",
    "\n",
    "Team Brazil has a 12.5% probabilty of winning the next world cup. What is the *odds for* Team Brazil winning the next World Cup?\n",
    "\n",
    "Using our equation...\n",
    "\n",
    "$$\n",
    "\\begin{align*}\n",
    "p = \\frac{\\text{Odds for}}{1 + \\text{Odds for}} \\\\ \n",
    "0.125 = \\frac{\\text{Odds for}}{1 + \\text{Odds for}}\\\\ \n",
    "0.125(1 + \\text{Odds for}) &= \\text{Odds for}\\\\ \n",
    "0.125 + 0.125\\text{Odds for} &= \\text{Odds for}\\\\\n",
    "\\frac{1}{8} &= \\frac{7}{8}\\text{Odds for}\\\\\n",
    "\\frac{1}{8} * \\frac{8}{7} &= \\text{Odds for}\\\\\n",
    "\\frac{1}{7} &= \\text{Odds for}\n",
    "\\end{align*}\n",
    "$$\n",
    "\n",
    "So the *odds for* Team Brazil winning the next World Cup are 1:7."
   ]
  },
  {
   "cell_type": "markdown",
   "metadata": {},
   "source": [
    "## Dependent Binary Variables\n",
    "\n",
    "Examples include:\n",
    "* Whether student gets an A in a class\n",
    "* Whether a customer will default on loan or not\n",
    "* Whether someone is infected with a disease or not\n",
    "\n",
    "In the following synthetic dataset, a `Grade` of 1 indicates that a student got an A on the exam. `Hours` refers to the amount of hours a student spent studying for the exam."
   ]
  },
  {
   "cell_type": "code",
   "execution_count": 112,
   "metadata": {},
   "outputs": [],
   "source": [
    "grades <- read.csv('GradesR.csv')"
   ]
  },
  {
   "cell_type": "code",
   "execution_count": 113,
   "metadata": {},
   "outputs": [
    {
     "name": "stdout",
     "output_type": "stream",
     "text": [
      "'data.frame':\t100 obs. of  3 variables:\n",
      " $ Student: int  1 2 3 4 5 6 7 8 9 10 ...\n",
      " $ Grade  : int  0 0 0 0 0 0 0 0 0 0 ...\n",
      " $ Hours  : int  38 30 40 40 52 23 61 32 43 32 ...\n"
     ]
    }
   ],
   "source": [
    "str(grades)"
   ]
  },
  {
   "cell_type": "code",
   "execution_count": 114,
   "metadata": {},
   "outputs": [
    {
     "data": {
      "text/html": [
       "<table>\n",
       "<thead><tr><th scope=col>Student</th><th scope=col>Grade</th><th scope=col>Hours</th></tr></thead>\n",
       "<tbody>\n",
       "\t<tr><td>1 </td><td>0 </td><td>38</td></tr>\n",
       "\t<tr><td>2 </td><td>0 </td><td>30</td></tr>\n",
       "\t<tr><td>3 </td><td>0 </td><td>40</td></tr>\n",
       "\t<tr><td>4 </td><td>0 </td><td>40</td></tr>\n",
       "\t<tr><td>5 </td><td>0 </td><td>52</td></tr>\n",
       "\t<tr><td>6 </td><td>0 </td><td>23</td></tr>\n",
       "</tbody>\n",
       "</table>\n"
      ],
      "text/latex": [
       "\\begin{tabular}{r|lll}\n",
       " Student & Grade & Hours\\\\\n",
       "\\hline\n",
       "\t 1  & 0  & 38\\\\\n",
       "\t 2  & 0  & 30\\\\\n",
       "\t 3  & 0  & 40\\\\\n",
       "\t 4  & 0  & 40\\\\\n",
       "\t 5  & 0  & 52\\\\\n",
       "\t 6  & 0  & 23\\\\\n",
       "\\end{tabular}\n"
      ],
      "text/markdown": [
       "\n",
       "Student | Grade | Hours | \n",
       "|---|---|---|---|---|---|\n",
       "| 1  | 0  | 38 | \n",
       "| 2  | 0  | 30 | \n",
       "| 3  | 0  | 40 | \n",
       "| 4  | 0  | 40 | \n",
       "| 5  | 0  | 52 | \n",
       "| 6  | 0  | 23 | \n",
       "\n",
       "\n"
      ],
      "text/plain": [
       "  Student Grade Hours\n",
       "1 1       0     38   \n",
       "2 2       0     30   \n",
       "3 3       0     40   \n",
       "4 4       0     40   \n",
       "5 5       0     52   \n",
       "6 6       0     23   "
      ]
     },
     "metadata": {},
     "output_type": "display_data"
    }
   ],
   "source": [
    "head(grades)"
   ]
  },
  {
   "cell_type": "markdown",
   "metadata": {},
   "source": [
    "Let's make a boxplot of `Hours` as a function of `Grade` and look for discernible differences in studying hours between those who got an A on the exam and those who did not."
   ]
  },
  {
   "cell_type": "code",
   "execution_count": 115,
   "metadata": {},
   "outputs": [
    {
     "data": {
      "image/png": "[encoded data removed]",
      "text/plain": [
       "Plot with title \"Boxplot for Study Hours vs. Grade\""
      ]
     },
     "metadata": {},
     "output_type": "display_data"
    }
   ],
   "source": [
    "boxplot(Hours~Grade,grades, names = c('<0.9', '>=0.9'), main='Boxplot for Study Hours vs. Grade', ylab='Study Hours', xlab='Grade')"
   ]
  },
  {
   "cell_type": "markdown",
   "metadata": {},
   "source": [
    "It's pretty clear that those who got an A on the exam studied for many more hours than those who did not! This is supported by the fact that the maximum hours spent studying by students who did not receive an A is equal to the median studying hours of the students who did receive an A.\n",
    "\n",
    "Now let's regress `Grade` as a function of `Hours` and motivate the need for logistic regression!"
   ]
  },
  {
   "cell_type": "code",
   "execution_count": 116,
   "metadata": {},
   "outputs": [
    {
     "data": {
      "text/plain": [
       "\n",
       "Call:\n",
       "lm(formula = Grade ~ Hours, data = grades)\n",
       "\n",
       "Residuals:\n",
       "    Min      1Q  Median      3Q     Max \n",
       "-0.7630 -0.3060 -0.0284  0.2883  0.8862 \n",
       "\n",
       "Coefficients:\n",
       "             Estimate Std. Error t value Pr(>|t|)    \n",
       "(Intercept) -0.364520   0.111263  -3.276  0.00146 ** \n",
       "Hours        0.017084   0.002084   8.197 9.61e-13 ***\n",
       "---\n",
       "Signif. codes:  0 '***' 0.001 '**' 0.01 '*' 0.05 '.' 0.1 ' ' 1\n",
       "\n",
       "Residual standard error: 0.3889 on 98 degrees of freedom\n",
       "Multiple R-squared:  0.4068,\tAdjusted R-squared:  0.4007 \n",
       "F-statistic:  67.2 on 1 and 98 DF,  p-value: 9.606e-13\n"
      ]
     },
     "metadata": {},
     "output_type": "display_data"
    }
   ],
   "source": [
    "grades_linear_model <- lm(Grade~Hours, grades)\n",
    "summary(grades_linear_model)"
   ]
  },
  {
   "cell_type": "code",
   "execution_count": 117,
   "metadata": {},
   "outputs": [
    {
     "data": {
      "image/png": "[encoded data removed]",
      "text/plain": [
       "plot without title"
      ]
     },
     "metadata": {},
     "output_type": "display_data"
    }
   ],
   "source": [
    "with(grades, plot(Hours, Grade))\n",
    "abline(grades_linear_model, col=\"red\")"
   ]
  },
  {
   "cell_type": "markdown",
   "metadata": {},
   "source": [
    "We can clearly see from the poor $R^{2}$ value and from the plot above that linear regression will not work if we are trying to predict the probability of a student getting an A on the exam based on the number of hours they spent studying! The graph also reveals another interesting fact:\n",
    "\n",
    "We can have values less than 0 or greater than 1 which does not make sense because probabilities must always be $\\left [0,1 \\right]$ The need for a new regression approach targeted for binary classification should now be very clear."
   ]
  },
  {
   "cell_type": "markdown",
   "metadata": {},
   "source": [
    "## Logistic Regression\n",
    "\n",
    "We motivated the need for a regression approach to model qualitative classification problems with an outcome of either 0 or 1. Enter logistic regression!\n",
    "\n",
    "Our outcome from logistic regression is the ***probability*** of a data point belonging to one class or another.\n",
    "* Implies our outcome is always $\\left [0,1 \\right]$\n",
    "\n",
    "Logistic regression is performed in R with the `glm` [function](https://cran.r-project.org/web/packages/HSAUR/vignettes/Ch_logistic_regression_glm.pdf) called with a binomial `logit` function. Notice the difference in functions plotted below:"
   ]
  },
  {
   "cell_type": "code",
   "execution_count": 118,
   "metadata": {},
   "outputs": [],
   "source": [
    "grades_logistic_regression_a <- glm(Grade ~Hours,family=binomial(link='logit'),data=grades)"
   ]
  },
  {
   "cell_type": "code",
   "execution_count": 119,
   "metadata": {},
   "outputs": [
    {
     "data": {
      "text/plain": [
       "\n",
       "Call:\n",
       "glm(formula = Grade ~ Hours, family = binomial(link = \"logit\"), \n",
       "    data = grades)\n",
       "\n",
       "Deviance Residuals: \n",
       "    Min       1Q   Median       3Q      Max  \n",
       "-1.9605  -0.7154  -0.1654   0.6558   2.2682  \n",
       "\n",
       "Coefficients:\n",
       "            Estimate Std. Error z value Pr(>|z|)    \n",
       "(Intercept) -5.62929    1.12613  -4.999 5.77e-07 ***\n",
       "Hours        0.11201    0.02196   5.100 3.40e-07 ***\n",
       "---\n",
       "Signif. codes:  0 '***' 0.001 '**' 0.01 '*' 0.05 '.' 0.1 ' ' 1\n",
       "\n",
       "(Dispersion parameter for binomial family taken to be 1)\n",
       "\n",
       "    Null deviance: 138.589  on 99  degrees of freedom\n",
       "Residual deviance:  87.744  on 98  degrees of freedom\n",
       "AIC: 91.744\n",
       "\n",
       "Number of Fisher Scoring iterations: 5\n"
      ]
     },
     "metadata": {},
     "output_type": "display_data"
    }
   ],
   "source": [
    "summary(grades_logistic_regression_a)"
   ]
  },
  {
   "cell_type": "code",
   "execution_count": 120,
   "metadata": {},
   "outputs": [],
   "source": [
    "f <- function (x) 1 / (1 + exp(5.62929 - 0.11201 * x))"
   ]
  },
  {
   "cell_type": "code",
   "execution_count": 121,
   "metadata": {},
   "outputs": [
    {
     "data": {
      "image/png": "[encoded data removed]",
      "text/plain": [
       "plot without title"
      ]
     },
     "metadata": {},
     "output_type": "display_data"
    }
   ],
   "source": [
    "with(grades, plot(Hours, Grade))\n",
    "x <- -100 : 100\n",
    "lines(x, f(x), type = \"l\", col=\"blue\")\n",
    "abline(grades_linear_model, col=\"red\")\n",
    "legend('right', legend=c(\"Linear Regression\", \"Logistic Regression\"),\n",
    "       col=c(\"red\", \"blue\"), lty=1:1, cex=0.8)\n",
    "abline(v=55, col=\"blue\", lty=2)"
   ]
  },
  {
   "cell_type": "markdown",
   "metadata": {},
   "source": [
    "Notice the difference between the blue and red lines plotted on the graph above? It appears as if there is a natural left-right boundary on the blue S shape curve. This boundary is the threshold that classifies those students who got an A on the exam vs. those who did not!\n",
    "\n",
    "A dashed line has been superimposed onto the graph at the 55 hour mark to make this point crystal clear - we can see those who studied less than 55 hours typically did not get an A with the exception of a few outliers. These results match up well to the boxplots created above."
   ]
  },
  {
   "cell_type": "markdown",
   "metadata": {},
   "source": [
    "## Logistic Function\n",
    "\n",
    "The logistic function is used to give us the probability of a data point belonging to a certain class.\n",
    "\n",
    "Let $p(x) = Pr\\left (y=1 \\, | \\, x\\right )$\n",
    "* Probability that $y=1$ given a value of *x*\n",
    "\n",
    "The logistic function is defined as:\n",
    "\n",
    "$$\n",
    "p(x) = \\frac{e^{b_{0} + b_{1}x}}{1+e^{b_{0} + b_{1}x}}\n",
    "$$\n",
    "\n",
    "The logistic function always spits out a value $\\left [0,1 \\right]$ for all values of x $\\left (-\\infty,+\\infty \\right)$\n",
    "\n",
    "Let $p = p(x)$ to simplify the notation:\n",
    "\n",
    "$$\n",
    "p = \\frac{e^{b_{0} + b_{1}x}}{1+e^{b_{0} + b_{1}x}}\n",
    "$$\n",
    "\n",
    "So then $q=1-p$ can be written as:\n",
    "\n",
    "$$\n",
    "q= 1-p = 1 -\\frac{e^{b_{0} + b_{1}x}}{1+e^{b_{0} + b_{1}x}} = \\frac{1}{1+e^{b_{0} + b_{1}x}}\n",
    "$$\n",
    "\n",
    "Substituting these derivations into our equation for $\\text{Odds for = }\\frac{p}{(1-p)}$ we arrive at:\n",
    "\n",
    "$$\n",
    "\\text{Odds for = }\\frac{p}{(1-p)} = e^{b_{0} + b_{1}x}\n",
    "$$\n",
    "\n",
    "Taking the natural logs on both sides, we get:\n",
    "\n",
    "$$\n",
    "log\\left(\\frac{p}{(1-p)}\\right) = log\\left(e^{b_{0} + b_{1}x}\\right) = b_{0} + b_{1}x\n",
    "$$\n",
    "\n",
    "And finally, since $\\text{Odds for = }\\frac{p}{(1-p)}$, we get: $log\\left(\\frac{p}{(1-p)}\\right)$ the log of odds, or \"logit\".\n",
    "\n",
    "***logit model***:\n",
    "\n",
    "$$\n",
    "log\\left(\\frac{p}{(1-p)}\\right) = b_{0} + b_{1}x\n",
    "$$\n",
    "\n",
    "* The right side of this equation is exactly the same as all of the linear regression models already explored!"
   ]
  },
  {
   "cell_type": "markdown",
   "metadata": {},
   "source": [
    "## Why Transform from Probability to Log Odds?\n",
    "\n",
    "1. It is difficult to model a variable that has a restricted range $\\left [0,1 \\right]$\n",
    "    * Transforming to Log Odds circumvents this restriction and allows us to model log odds in the range $\\left (-\\infty,+\\infty \\right)$\n",
    "    \n",
    "2. Log Odds has an easy interpretation\n",
    "\n",
    "***logit model***:\n",
    "\n",
    "$$\n",
    "log\\left(\\frac{p}{(1-p)}\\right) = b_{0} + b_{1}x\n",
    "$$\n",
    "\n",
    "* As *x* increases by 1 unit, the natural log of the odds increases by $b_{1}$\n",
    "    * Equal to the odds increasing by a factor of $e^{b_{1}} \\text{~} 100*b_{1}$%"
   ]
  },
  {
   "cell_type": "code",
   "execution_count": 122,
   "metadata": {},
   "outputs": [],
   "source": [
    "q <- function (x) return (x/(1-x))\n",
    "ln <- function (x) return (log(x))"
   ]
  },
  {
   "cell_type": "code",
   "execution_count": 123,
   "metadata": {},
   "outputs": [],
   "source": [
    "x<- c(.001,.01,.05,.1,.15,.2,.25,.3,.35,.4,.45,.5,.55,.6,.65,.7,.75,.8,.85,.9,.95,.999,.9999)"
   ]
  },
  {
   "cell_type": "code",
   "execution_count": 124,
   "metadata": {},
   "outputs": [
    {
     "data": {
      "image/png": "[encoded data removed]",
      "text/plain": [
       "plot without title"
      ]
     },
     "metadata": {},
     "output_type": "display_data"
    }
   ],
   "source": [
    "plot(x,ln(q(x)), type = \"l\", col=\"blue\", ylab = 'Log Odds')\n",
    "lines(x, q(x), type = \"l\", col=\"red\")\n",
    "legend('topleft', legend=c(\"Odds\", \"Log Odds\"),\n",
    "       col=c(\"red\", \"blue\"), lty=1:1, cex=0.8)"
   ]
  },
  {
   "cell_type": "markdown",
   "metadata": {},
   "source": [
    "Notice how our Log Odds function output ranges from $\\left (-\\infty,+\\infty \\right)$ while our Odds function is incapable of outputting negative values of x."
   ]
  },
  {
   "cell_type": "code",
   "execution_count": 125,
   "metadata": {},
   "outputs": [
    {
     "data": {
      "image/png": "[encoded data removed]",
      "text/plain": [
       "Plot with title \"Log Odds vs. Odds\""
      ]
     },
     "metadata": {},
     "output_type": "display_data"
    }
   ],
   "source": [
    "plot(q(x)[0:20],ln(q(x))[0:20], type = \"l\", col=\"black\", xlab = 'Odds', ylab = 'Log Odds', main = 'Log Odds vs. Odds')"
   ]
  },
  {
   "cell_type": "markdown",
   "metadata": {},
   "source": [
    "Notice how our Log Odds function plateaus while Odds continues towards infinity, just like any other logarithmic function."
   ]
  },
  {
   "cell_type": "markdown",
   "metadata": {},
   "source": [
    "## Applied Logistic Regression\n",
    "\n",
    "Now that we have the theory taken care of - let's apply logistic regression to the `Default` dataset in the `ISLR` package!"
   ]
  },
  {
   "cell_type": "code",
   "execution_count": 126,
   "metadata": {},
   "outputs": [],
   "source": [
    "library(ggplot2)\n",
    "library(ISLR)\n",
    "data(Default)"
   ]
  },
  {
   "cell_type": "code",
   "execution_count": 127,
   "metadata": {},
   "outputs": [
    {
     "name": "stdout",
     "output_type": "stream",
     "text": [
      "'data.frame':\t10000 obs. of  4 variables:\n",
      " $ default: Factor w/ 2 levels \"No\",\"Yes\": 1 1 1 1 1 1 1 1 1 1 ...\n",
      " $ student: Factor w/ 2 levels \"No\",\"Yes\": 1 2 1 1 1 2 1 2 1 1 ...\n",
      " $ balance: num  730 817 1074 529 786 ...\n",
      " $ income : num  44362 12106 31767 35704 38463 ...\n"
     ]
    }
   ],
   "source": [
    "str(Default)"
   ]
  },
  {
   "cell_type": "code",
   "execution_count": 128,
   "metadata": {},
   "outputs": [
    {
     "data": {
      "text/html": [
       "<table>\n",
       "<thead><tr><th scope=col>default</th><th scope=col>student</th><th scope=col>balance</th><th scope=col>income</th></tr></thead>\n",
       "<tbody>\n",
       "\t<tr><td>No       </td><td>No       </td><td> 729.5265</td><td>44361.625</td></tr>\n",
       "\t<tr><td>No       </td><td>Yes      </td><td> 817.1804</td><td>12106.135</td></tr>\n",
       "\t<tr><td>No       </td><td>No       </td><td>1073.5492</td><td>31767.139</td></tr>\n",
       "\t<tr><td>No       </td><td>No       </td><td> 529.2506</td><td>35704.494</td></tr>\n",
       "\t<tr><td>No       </td><td>No       </td><td> 785.6559</td><td>38463.496</td></tr>\n",
       "\t<tr><td>No       </td><td>Yes      </td><td> 919.5885</td><td> 7491.559</td></tr>\n",
       "</tbody>\n",
       "</table>\n"
      ],
      "text/latex": [
       "\\begin{tabular}{r|llll}\n",
       " default & student & balance & income\\\\\n",
       "\\hline\n",
       "\t No        & No        &  729.5265 & 44361.625\\\\\n",
       "\t No        & Yes       &  817.1804 & 12106.135\\\\\n",
       "\t No        & No        & 1073.5492 & 31767.139\\\\\n",
       "\t No        & No        &  529.2506 & 35704.494\\\\\n",
       "\t No        & No        &  785.6559 & 38463.496\\\\\n",
       "\t No        & Yes       &  919.5885 &  7491.559\\\\\n",
       "\\end{tabular}\n"
      ],
      "text/markdown": [
       "\n",
       "default | student | balance | income | \n",
       "|---|---|---|---|---|---|\n",
       "| No        | No        |  729.5265 | 44361.625 | \n",
       "| No        | Yes       |  817.1804 | 12106.135 | \n",
       "| No        | No        | 1073.5492 | 31767.139 | \n",
       "| No        | No        |  529.2506 | 35704.494 | \n",
       "| No        | No        |  785.6559 | 38463.496 | \n",
       "| No        | Yes       |  919.5885 |  7491.559 | \n",
       "\n",
       "\n"
      ],
      "text/plain": [
       "  default student balance   income   \n",
       "1 No      No       729.5265 44361.625\n",
       "2 No      Yes      817.1804 12106.135\n",
       "3 No      No      1073.5492 31767.139\n",
       "4 No      No       529.2506 35704.494\n",
       "5 No      No       785.6559 38463.496\n",
       "6 No      Yes      919.5885  7491.559"
      ]
     },
     "metadata": {},
     "output_type": "display_data"
    }
   ],
   "source": [
    "head(Default)"
   ]
  },
  {
   "cell_type": "markdown",
   "metadata": {},
   "source": [
    "`default` is our target variable in this example. First lets create a copy of the data and make dummy variables for both `default` and `student`."
   ]
  },
  {
   "cell_type": "code",
   "execution_count": 129,
   "metadata": {},
   "outputs": [
    {
     "data": {
      "text/html": [
       "<table>\n",
       "<thead><tr><th scope=col>default</th><th scope=col>student</th><th scope=col>balance</th><th scope=col>income</th><th scope=col>dft</th><th scope=col>stdt</th></tr></thead>\n",
       "<tbody>\n",
       "\t<tr><td>No       </td><td>No       </td><td> 729.5265</td><td>44361.625</td><td>0        </td><td>0        </td></tr>\n",
       "\t<tr><td>No       </td><td>Yes      </td><td> 817.1804</td><td>12106.135</td><td>0        </td><td>1        </td></tr>\n",
       "\t<tr><td>No       </td><td>No       </td><td>1073.5492</td><td>31767.139</td><td>0        </td><td>0        </td></tr>\n",
       "\t<tr><td>No       </td><td>No       </td><td> 529.2506</td><td>35704.494</td><td>0        </td><td>0        </td></tr>\n",
       "\t<tr><td>No       </td><td>No       </td><td> 785.6559</td><td>38463.496</td><td>0        </td><td>0        </td></tr>\n",
       "\t<tr><td>No       </td><td>Yes      </td><td> 919.5885</td><td> 7491.559</td><td>0        </td><td>1        </td></tr>\n",
       "</tbody>\n",
       "</table>\n"
      ],
      "text/latex": [
       "\\begin{tabular}{r|llllll}\n",
       " default & student & balance & income & dft & stdt\\\\\n",
       "\\hline\n",
       "\t No        & No        &  729.5265 & 44361.625 & 0         & 0        \\\\\n",
       "\t No        & Yes       &  817.1804 & 12106.135 & 0         & 1        \\\\\n",
       "\t No        & No        & 1073.5492 & 31767.139 & 0         & 0        \\\\\n",
       "\t No        & No        &  529.2506 & 35704.494 & 0         & 0        \\\\\n",
       "\t No        & No        &  785.6559 & 38463.496 & 0         & 0        \\\\\n",
       "\t No        & Yes       &  919.5885 &  7491.559 & 0         & 1        \\\\\n",
       "\\end{tabular}\n"
      ],
      "text/markdown": [
       "\n",
       "default | student | balance | income | dft | stdt | \n",
       "|---|---|---|---|---|---|\n",
       "| No        | No        |  729.5265 | 44361.625 | 0         | 0         | \n",
       "| No        | Yes       |  817.1804 | 12106.135 | 0         | 1         | \n",
       "| No        | No        | 1073.5492 | 31767.139 | 0         | 0         | \n",
       "| No        | No        |  529.2506 | 35704.494 | 0         | 0         | \n",
       "| No        | No        |  785.6559 | 38463.496 | 0         | 0         | \n",
       "| No        | Yes       |  919.5885 |  7491.559 | 0         | 1         | \n",
       "\n",
       "\n"
      ],
      "text/plain": [
       "  default student balance   income    dft stdt\n",
       "1 No      No       729.5265 44361.625 0   0   \n",
       "2 No      Yes      817.1804 12106.135 0   1   \n",
       "3 No      No      1073.5492 31767.139 0   0   \n",
       "4 No      No       529.2506 35704.494 0   0   \n",
       "5 No      No       785.6559 38463.496 0   0   \n",
       "6 No      Yes      919.5885  7491.559 0   1   "
      ]
     },
     "metadata": {},
     "output_type": "display_data"
    }
   ],
   "source": [
    "df <- cbind(Default)\n",
    "df$dft <- ifelse(df$default == \"Yes\", 1, 0)\n",
    "df$stdt <- ifelse(df$student == \"Yes\", 1, 0)\n",
    "head(df)"
   ]
  },
  {
   "cell_type": "markdown",
   "metadata": {},
   "source": [
    "Let's do some exploratory data analysis before we model anything."
   ]
  },
  {
   "cell_type": "code",
   "execution_count": 130,
   "metadata": {},
   "outputs": [
    {
     "data": {},
     "metadata": {},
     "output_type": "display_data"
    },
    {
     "data": {
      "image/png": "[encoded data removed]",
      "text/plain": [
       "plot without title"
      ]
     },
     "metadata": {},
     "output_type": "display_data"
    }
   ],
   "source": [
    "ggplot(Default, aes(x=balance, y=income, col=default)) + geom_point() + ggtitle(\"Income vs. Balance (Default in Blue)\") + theme(plot.title = element_text(size = 10, face = \"bold\", hjust = 0.5))"
   ]
  },
  {
   "cell_type": "code",
   "execution_count": 131,
   "metadata": {},
   "outputs": [
    {
     "data": {
      "image/png": "[encoded data removed]",
      "text/plain": [
       "Plot with title \"Boxplot for Balance vs. Default Status\""
      ]
     },
     "metadata": {},
     "output_type": "display_data"
    }
   ],
   "source": [
    "boxplot(balance~default,Default, names = c('No', 'Yes'), main='Boxplot for Balance vs. Default Status',ylab='Balance',xlab='Default')"
   ]
  },
  {
   "cell_type": "markdown",
   "metadata": {},
   "source": [
    "Both plots seem to indicate that those who defaulted had higher account balances."
   ]
  },
  {
   "cell_type": "markdown",
   "metadata": {},
   "source": [
    "## Default Models\n",
    "\n",
    "Let's build the following models:\n",
    "\n",
    "1. No features $$logit(p) = b_{0}$$\n",
    "2. One binary feature $$logit(p) = b_{0}+b_{1}stdt$$\n",
    "3. One continuous feature $$logit(p) = b_{0}+b_{1}balance$$\n",
    "4. All predictors $$logit(p) = b_{0}+b_{1}balance+b_{2}income+b_{3}stdt$$\n",
    "\n",
    "Where $p = \\frac{\\text{Odds for}}{1 + \\text{Odds for}}$, or the probability that default=\"Yes\", and $logit(p)=log\\left(\\frac{p}{(1-p)}\\right)$"
   ]
  },
  {
   "cell_type": "markdown",
   "metadata": {},
   "source": [
    "### Model 1: No features\n",
    "\n",
    "$logit(p) = b_{0}$"
   ]
  },
  {
   "cell_type": "code",
   "execution_count": 132,
   "metadata": {},
   "outputs": [
    {
     "data": {
      "text/plain": [
       "\n",
       "Call:\n",
       "glm(formula = dft ~ 1, family = binomial(link = \"logit\"), data = df)\n",
       "\n",
       "Deviance Residuals: \n",
       "    Min       1Q   Median       3Q      Max  \n",
       "-0.2603  -0.2603  -0.2603  -0.2603   2.6085  \n",
       "\n",
       "Coefficients:\n",
       "            Estimate Std. Error z value Pr(>|z|)    \n",
       "(Intercept) -3.36833    0.05574  -60.43   <2e-16 ***\n",
       "---\n",
       "Signif. codes:  0 '***' 0.001 '**' 0.01 '*' 0.05 '.' 0.1 ' ' 1\n",
       "\n",
       "(Dispersion parameter for binomial family taken to be 1)\n",
       "\n",
       "    Null deviance: 2920.6  on 9999  degrees of freedom\n",
       "Residual deviance: 2920.6  on 9999  degrees of freedom\n",
       "AIC: 2922.6\n",
       "\n",
       "Number of Fisher Scoring iterations: 6\n"
      ]
     },
     "metadata": {},
     "output_type": "display_data"
    }
   ],
   "source": [
    "default_logistic_regression_a <- glm(dft~1,family=binomial(link='logit'),data=df)\n",
    "summary(default_logistic_regression_a)"
   ]
  },
  {
   "cell_type": "markdown",
   "metadata": {},
   "source": [
    "Model 1 with no features represents the estimated log odds of being in default for the whole population. Let's transform the log odds back to regular odds using the equation\n",
    "\n",
    "$$\n",
    "log\\left(\\frac{p}{(1-p)}\\right) = b_{0} = -3.36833\n",
    "$$\n",
    "\n",
    "Transforming the left side of the equation...\n",
    "\n",
    "$$\n",
    "\\text{Odds for = }e^{log\\left(\\frac{p}{(1-p)}\\right)} = e^{b_{0}} = e^{-3.36833}\n",
    "$$\n",
    "\n",
    "Yields...\n",
    "\n",
    "$$\n",
    "\\text{Odds for = } e^{-3.36833} = 0.03447\n",
    "$$\n",
    "\n",
    "Now we can transform our *Odds for* calculation to get the global population probability of default:\n",
    "\n",
    "$$\n",
    "p = \\frac{\\text{Odds for}}{1 + \\text{Odds for}} = \\frac{0.03447}{1+0.03447} = 0.0333\n",
    "$$\n",
    "\n",
    "Thus the global population probability of default is ***0.0333***. If we run a count on the `default` column of our original dataframe, lo and behold!"
   ]
  },
  {
   "cell_type": "code",
   "execution_count": 133,
   "metadata": {},
   "outputs": [
    {
     "data": {
      "text/plain": [
       "\n",
       "  No  Yes \n",
       "9667  333 "
      ]
     },
     "metadata": {},
     "output_type": "display_data"
    }
   ],
   "source": [
    "table(Default$default)"
   ]
  },
  {
   "cell_type": "markdown",
   "metadata": {},
   "source": [
    "Out of 10,000 records, 333 defaulted or $\\frac{333}{10000} = 0.0333$ Thus our logistic regression model with no features accurately describes the population default rate."
   ]
  },
  {
   "cell_type": "markdown",
   "metadata": {},
   "source": [
    "### Model 2: One binary feature\n",
    "\n",
    "$logit(p) = b_{0}+b_{1}stdt$"
   ]
  },
  {
   "cell_type": "code",
   "execution_count": 134,
   "metadata": {},
   "outputs": [
    {
     "data": {
      "text/plain": [
       "\n",
       "Call:\n",
       "glm(formula = dft ~ stdt, family = binomial(link = \"logit\"), \n",
       "    data = df)\n",
       "\n",
       "Deviance Residuals: \n",
       "    Min       1Q   Median       3Q      Max  \n",
       "-0.2970  -0.2970  -0.2434  -0.2434   2.6585  \n",
       "\n",
       "Coefficients:\n",
       "            Estimate Std. Error z value Pr(>|z|)    \n",
       "(Intercept) -3.50413    0.07071  -49.55  < 2e-16 ***\n",
       "stdt         0.40489    0.11502    3.52 0.000431 ***\n",
       "---\n",
       "Signif. codes:  0 '***' 0.001 '**' 0.01 '*' 0.05 '.' 0.1 ' ' 1\n",
       "\n",
       "(Dispersion parameter for binomial family taken to be 1)\n",
       "\n",
       "    Null deviance: 2920.6  on 9999  degrees of freedom\n",
       "Residual deviance: 2908.7  on 9998  degrees of freedom\n",
       "AIC: 2912.7\n",
       "\n",
       "Number of Fisher Scoring iterations: 6\n"
      ]
     },
     "metadata": {},
     "output_type": "display_data"
    }
   ],
   "source": [
    "default_logistic_regression_b <- glm(dft~stdt,family=binomial(link='logit'),data=df)\n",
    "summary(default_logistic_regression_b)"
   ]
  },
  {
   "cell_type": "markdown",
   "metadata": {},
   "source": [
    "#### Base case: non-students\n",
    "\n",
    "Just like linear regression, the parameter estimate for the intercept $b_{0}$ is the Log Odds for non-students since that is the base case (stdt = 0) we defined up front. \n",
    "\n",
    "Converting to normal Odds...\n",
    "\n",
    "$$\n",
    "log\\left(\\frac{p}{(1-p)}\\right) = b_{0} = -3.50413\n",
    "$$\n",
    "\n",
    "Transforming the left side of the equation...\n",
    "\n",
    "$$\n",
    "\\text{Odds for = }e^{log\\left(\\frac{p}{(1-p)}\\right)} = e^{b_{0}} = e^{-3.50413}\n",
    "$$\n",
    "\n",
    "Yields...\n",
    "\n",
    "$$\n",
    "\\text{Odds for = } e^{-3.50413} = 0.03007\n",
    "$$\n",
    "\n",
    "Now we can transform our *Odds for* calculation to get the probability of default for non-students:\n",
    "\n",
    "$$\n",
    "p = \\frac{\\text{Odds for}}{1 + \\text{Odds for}} = \\frac{0.03007}{1+0.03007} = 0.02919\n",
    "$$\n",
    "\n",
    "Thus the probability of default for non-students is ***0.02919***."
   ]
  },
  {
   "cell_type": "markdown",
   "metadata": {},
   "source": [
    "#### `stdt=1` Probability of default for students\n",
    "\n",
    "* Coefficient for student $(b_{1} = 0.40489)$ is the amount we must add to the intercept (or base case) to get the Log Odds for students:\n",
    "\n",
    "$$\n",
    "b_{0} + b_{1} = -3.50413 + 0.40489 = -3.09924\n",
    "$$\n",
    "\n",
    "Converting to normal Odds...\n",
    "\n",
    "$$\n",
    "log\\left(\\frac{p}{(1-p)}\\right) = b_{0} = -3.09924\n",
    "$$\n",
    "\n",
    "Transforming the left side of the equation...\n",
    "\n",
    "$$\n",
    "\\text{Odds for = }e^{log\\left(\\frac{p}{(1-p)}\\right)} = e^{b_{0}+b_{1}} = e^{-3.09924}\n",
    "$$\n",
    "\n",
    "Yields...\n",
    "\n",
    "$$\n",
    "\\text{Odds for = } e^{-3.09924} = 0.04508\n",
    "$$\n",
    "\n",
    "Now we can transform our *Odds for* calculation to get the probability of default for students:\n",
    "\n",
    "$$\n",
    "p = \\frac{\\text{Odds for}}{1 + \\text{Odds for}} = \\frac{0.04508}{1+0.04508} = 0.0431\n",
    "$$\n",
    "\n",
    "Thus the probability of default for students is ***0.0431***.\n",
    "\n",
    "Students have higher default probability (0.0431) than non-students (0.02919)!"
   ]
  },
  {
   "cell_type": "markdown",
   "metadata": {},
   "source": [
    "### Model 3: One continuous feature\n",
    "\n",
    "$logit(p) = b_{0}+b_{1}balance$"
   ]
  },
  {
   "cell_type": "code",
   "execution_count": 135,
   "metadata": {},
   "outputs": [
    {
     "data": {
      "text/plain": [
       "\n",
       "Call:\n",
       "glm(formula = dft ~ balance, family = binomial(link = \"logit\"), \n",
       "    data = df)\n",
       "\n",
       "Deviance Residuals: \n",
       "    Min       1Q   Median       3Q      Max  \n",
       "-2.2697  -0.1465  -0.0589  -0.0221   3.7589  \n",
       "\n",
       "Coefficients:\n",
       "              Estimate Std. Error z value Pr(>|z|)    \n",
       "(Intercept) -1.065e+01  3.612e-01  -29.49   <2e-16 ***\n",
       "balance      5.499e-03  2.204e-04   24.95   <2e-16 ***\n",
       "---\n",
       "Signif. codes:  0 '***' 0.001 '**' 0.01 '*' 0.05 '.' 0.1 ' ' 1\n",
       "\n",
       "(Dispersion parameter for binomial family taken to be 1)\n",
       "\n",
       "    Null deviance: 2920.6  on 9999  degrees of freedom\n",
       "Residual deviance: 1596.5  on 9998  degrees of freedom\n",
       "AIC: 1600.5\n",
       "\n",
       "Number of Fisher Scoring iterations: 8\n"
      ]
     },
     "metadata": {},
     "output_type": "display_data"
    }
   ],
   "source": [
    "default_logistic_regression_c <- glm(dft~balance,family=binomial(link='logit'),data=df)\n",
    "summary(default_logistic_regression_c)"
   ]
  },
  {
   "cell_type": "markdown",
   "metadata": {},
   "source": [
    "#### Effect of `balance` on `default`\n",
    "\n",
    "$b_{1}=0.0055$ so an increase in the balance is associated with increasing the log odds of default, hence the odds, hence the probability of default.\n",
    "* Adding $1 to the default increases the log odds of default by 0.0055"
   ]
  },
  {
   "cell_type": "markdown",
   "metadata": {},
   "source": [
    "### Making predictions $p(x) = \\text{probability of default}$ using Model 3\n",
    "\n",
    "$$\n",
    "p(x) = \\frac{e^{b_{0} + b_{1}x}}{1+e^{b_{0} + b_{1}x}}\n",
    "$$\n",
    "\n",
    "with $b_{0}=-10.65$ and $b_{1}=0.0055$\n",
    "\n",
    "So if x=$1000, then \n",
    "\n",
    "$$\n",
    "p(x) = \\frac{e^{-10.65 + 0.0055*1000}}{1+e^{-10.65 + 0.0055*1000}} = 0.00576\n",
    "$$\n",
    "\n",
    "which is less than a 1% chance of default. Let's try a few more\n",
    "\n",
    "If x=$1500, then \n",
    "\n",
    "$$\n",
    "p(x) = \\frac{e^{-10.65 + 0.0055*1500}}{1+e^{-10.65 + 0.0055*1500}} = 0.08317\n",
    "$$\n",
    "\n",
    "which is an 8.3% chance of default.\n",
    "\n",
    "If x=$2000, then \n",
    "\n",
    "$$\n",
    "p(x) = \\frac{e^{-10.65 + 0.0055*2000}}{1+e^{-10.65 + 0.0055*2000}} = 0.5866\n",
    "$$\n",
    "\n",
    "which is a 58.7% chance of default. We can define a test data point and use the `predict` function just as we would with linear regression."
   ]
  },
  {
   "cell_type": "code",
   "execution_count": 136,
   "metadata": {},
   "outputs": [
    {
     "data": {
      "text/html": [
       "<table>\n",
       "<thead><tr><th scope=col>balance</th></tr></thead>\n",
       "<tbody>\n",
       "\t<tr><td>2000</td></tr>\n",
       "</tbody>\n",
       "</table>\n"
      ],
      "text/latex": [
       "\\begin{tabular}{r|l}\n",
       " balance\\\\\n",
       "\\hline\n",
       "\t 2000\\\\\n",
       "\\end{tabular}\n"
      ],
      "text/markdown": [
       "\n",
       "balance | \n",
       "|---|\n",
       "| 2000 | \n",
       "\n",
       "\n"
      ],
      "text/plain": [
       "  balance\n",
       "1 2000   "
      ]
     },
     "metadata": {},
     "output_type": "display_data"
    }
   ],
   "source": [
    "test <- data.frame(balance=2000)\n",
    "test"
   ]
  },
  {
   "cell_type": "code",
   "execution_count": 137,
   "metadata": {},
   "outputs": [
    {
     "data": {
      "text/html": [
       "<strong>1:</strong> 0.346503247961177"
      ],
      "text/latex": [
       "\\textbf{1:} 0.346503247961177"
      ],
      "text/markdown": [
       "**1:** 0.346503247961177"
      ],
      "text/plain": [
       "        1 \n",
       "0.3465032 "
      ]
     },
     "metadata": {},
     "output_type": "display_data"
    }
   ],
   "source": [
    "predict(default_logistic_regression_c,test)"
   ]
  },
  {
   "cell_type": "markdown",
   "metadata": {},
   "source": [
    "***Note:***\n",
    "\n",
    "By default `predict` spits out the logit probability. We still must transform it to arrive at the probability $p$:\n",
    "\n",
    "$$\n",
    "\\text{Odds for = } e^{0.3465} = 1.414\n",
    "$$\n",
    "\n",
    "Now we can transform using our *Odds for* calculation to get the probability of default for students:\n",
    "\n",
    "$$\n",
    "p = \\frac{\\text{Odds for}}{1 + \\text{Odds for}} = \\frac{1.414}{1+1.414} = 0.5857\n",
    "$$\n",
    "\n",
    "Close enough. Either way we arrive at the same answer $p=58\\%$ probability of default for a balance of $2000. Alternatively, we can just specify the `type='response'` parameter to get straight to the answer without all these intermediate math steps. See the help function for `predict` to see all parameter options."
   ]
  },
  {
   "cell_type": "code",
   "execution_count": 138,
   "metadata": {},
   "outputs": [
    {
     "data": {
      "text/html": [
       "<strong>1:</strong> 0.58576936961535"
      ],
      "text/latex": [
       "\\textbf{1:} 0.58576936961535"
      ],
      "text/markdown": [
       "**1:** 0.58576936961535"
      ],
      "text/plain": [
       "        1 \n",
       "0.5857694 "
      ]
     },
     "metadata": {},
     "output_type": "display_data"
    }
   ],
   "source": [
    "predict(default_logistic_regression_c,test,type = 'response')"
   ]
  },
  {
   "cell_type": "raw",
   "metadata": {},
   "source": [
    "help(predict)"
   ]
  },
  {
   "cell_type": "markdown",
   "metadata": {},
   "source": [
    "### Model 4: All predictors \n",
    "\n",
    "$logit(p) = b_{0}+b_{1}balance+b_{2}income+b_{3}stdt$"
   ]
  },
  {
   "cell_type": "code",
   "execution_count": 139,
   "metadata": {},
   "outputs": [
    {
     "data": {
      "text/plain": [
       "\n",
       "Call:\n",
       "glm(formula = dft ~ balance + income + stdt, family = binomial(link = \"logit\"), \n",
       "    data = df)\n",
       "\n",
       "Deviance Residuals: \n",
       "    Min       1Q   Median       3Q      Max  \n",
       "-2.4691  -0.1418  -0.0557  -0.0203   3.7383  \n",
       "\n",
       "Coefficients:\n",
       "              Estimate Std. Error z value Pr(>|z|)    \n",
       "(Intercept) -1.087e+01  4.923e-01 -22.080  < 2e-16 ***\n",
       "balance      5.737e-03  2.319e-04  24.738  < 2e-16 ***\n",
       "income       3.033e-06  8.203e-06   0.370  0.71152    \n",
       "stdt        -6.468e-01  2.363e-01  -2.738  0.00619 ** \n",
       "---\n",
       "Signif. codes:  0 '***' 0.001 '**' 0.01 '*' 0.05 '.' 0.1 ' ' 1\n",
       "\n",
       "(Dispersion parameter for binomial family taken to be 1)\n",
       "\n",
       "    Null deviance: 2920.6  on 9999  degrees of freedom\n",
       "Residual deviance: 1571.5  on 9996  degrees of freedom\n",
       "AIC: 1579.5\n",
       "\n",
       "Number of Fisher Scoring iterations: 8\n"
      ]
     },
     "metadata": {},
     "output_type": "display_data"
    }
   ],
   "source": [
    "default_logistic_regression_d <- glm(dft~balance+income+stdt,family=binomial(link='logit'),data=df)\n",
    "summary(default_logistic_regression_d)"
   ]
  },
  {
   "cell_type": "markdown",
   "metadata": {},
   "source": [
    "* Note that $b_{0}=-10.87$,$b_{1}=0.0057$,$b_{2}=0.000003$,$b_{3}=-0.65$\n",
    "* An increase in the balance is associated with increasing the log odds of default hence the odds, and hence the probability of default\n",
    "* Adding $1 to the balance increases the log odds of default by 0.0057\n",
    "* The coefficient of student =-0.65 implies that at a fixed value of balance and income, students are less likely to default than non-students. ***This contrasts our results from model 2***"
   ]
  },
  {
   "cell_type": "code",
   "execution_count": 140,
   "metadata": {},
   "outputs": [
    {
     "data": {},
     "metadata": {},
     "output_type": "display_data"
    },
    {
     "data": {
      "image/png": "[encoded data removed]",
      "text/plain": [
       "plot without title"
      ]
     },
     "metadata": {},
     "output_type": "display_data"
    }
   ],
   "source": [
    "ggplot( df, aes(x=balance, y=dft,col=student)) +\n",
    "  geom_point() +\n",
    "  geom_hline(aes(yintercept=0.058), colour=\"blue\", linetype=\"dashed\")+\n",
    "  geom_hline(aes(yintercept=0.015), colour=\"#990000\", linetype=\"dashed\") + \n",
    "  geom_smooth(method = \"glm\", \n",
    "    method.args = list(family = \"binomial\"), \n",
    "    se = FALSE) "
   ]
  },
  {
   "cell_type": "markdown",
   "metadata": {},
   "source": [
    "At the same credit card balance, an individual student will have a lower probability of default than a non-student, holding all other features constant.\n",
    "\n",
    "However, students as a whole carry a higher balance on their credit cards, thus students (on average) default more on their credit cards, as evidenced by the dashed horizontal lines at the bottom of the plot. This phenomenon is called ***confounding***. For more info on [confounding](https://www.ncbi.nlm.nih.gov/pmc/articles/PMC4017459/).\n",
    "\n",
    "We have further evidence of the confounding effect when examining the difference in `balance` between students and non-students:"
   ]
  },
  {
   "cell_type": "code",
   "execution_count": 141,
   "metadata": {},
   "outputs": [
    {
     "data": {
      "image/png": "[encoded data removed]",
      "text/plain": [
       "Plot with title \"Boxplot for Balance vs. Student Status\""
      ]
     },
     "metadata": {},
     "output_type": "display_data"
    }
   ],
   "source": [
    "boxplot(balance~student,Default, main='Boxplot for Balance vs. Student Status',ylab='Balance',xlab='Student')"
   ]
  },
  {
   "cell_type": "markdown",
   "metadata": {},
   "source": [
    "### Making predictions using fitted model\n",
    "\n",
    "Following the same procedure as linear regression, we can specify a test data point and use the `predict` function with the `type = response` parameter to give us our probability for the given test data point. Armed with this probability, we can define our class seperation threshold and assign the test data point based on our threshold. 0.5 is a common starting value for the threshold."
   ]
  },
  {
   "cell_type": "code",
   "execution_count": 142,
   "metadata": {},
   "outputs": [
    {
     "data": {
      "text/html": [
       "<table>\n",
       "<thead><tr><th scope=col>balance</th><th scope=col>income</th><th scope=col>stdt</th></tr></thead>\n",
       "<tbody>\n",
       "\t<tr><td>2000 </td><td>40000</td><td>1    </td></tr>\n",
       "</tbody>\n",
       "</table>\n"
      ],
      "text/latex": [
       "\\begin{tabular}{r|lll}\n",
       " balance & income & stdt\\\\\n",
       "\\hline\n",
       "\t 2000  & 40000 & 1    \\\\\n",
       "\\end{tabular}\n"
      ],
      "text/markdown": [
       "\n",
       "balance | income | stdt | \n",
       "|---|\n",
       "| 2000  | 40000 | 1     | \n",
       "\n",
       "\n"
      ],
      "text/plain": [
       "  balance income stdt\n",
       "1 2000    40000  1   "
      ]
     },
     "metadata": {},
     "output_type": "display_data"
    }
   ],
   "source": [
    "test <- data.frame(balance=2000, income=40000, stdt=1)\n",
    "test"
   ]
  },
  {
   "cell_type": "code",
   "execution_count": 143,
   "metadata": {},
   "outputs": [
    {
     "data": {
      "text/html": [
       "<strong>1:</strong> 0.519621796308644"
      ],
      "text/latex": [
       "\\textbf{1:} 0.519621796308644"
      ],
      "text/markdown": [
       "**1:** 0.519621796308644"
      ],
      "text/plain": [
       "        1 \n",
       "0.5196218 "
      ]
     },
     "metadata": {},
     "output_type": "display_data"
    }
   ],
   "source": [
    "test_pred <- predict(default_logistic_regression_d, newdata = test, type = \"response\")\n",
    "test_pred"
   ]
  },
  {
   "cell_type": "code",
   "execution_count": 144,
   "metadata": {},
   "outputs": [
    {
     "data": {
      "text/html": [
       "<strong>1:</strong> 1"
      ],
      "text/latex": [
       "\\textbf{1:} 1"
      ],
      "text/markdown": [
       "**1:** 1"
      ],
      "text/plain": [
       "1 \n",
       "1 "
      ]
     },
     "metadata": {},
     "output_type": "display_data"
    }
   ],
   "source": [
    "threshold <- 0.5\n",
    "pred_outcome_model4 <- ifelse(test_pred >= threshold,1,0)\n",
    "pred_outcome_model4"
   ]
  },
  {
   "cell_type": "markdown",
   "metadata": {},
   "source": [
    "There you have it! In three steps we can use the fitted logistic regression model to assign a test data point to a given class."
   ]
  },
  {
   "cell_type": "markdown",
   "metadata": {},
   "source": [
    "## True Negative and False Positive\n",
    "\n",
    "Consider the case where $Y=0$ in reality.\n",
    "\n",
    "We'll denote the predicted value $\\hat{Y}$.\n",
    "\n",
    "* If $\\hat{Y} = Y = 0$ then we have a ***True Negative*** (Good)\n",
    "* If $\\hat{Y} = 1$ and $Y=0$ then we have a ***False Postivive*** (Bad)\n",
    "* If we increase the threshold *p*, denoted by the red line below, we will see an increase in the True Negative rate and a decrease in the False Positive rate"
   ]
  },
  {
   "cell_type": "code",
   "execution_count": 145,
   "metadata": {},
   "outputs": [],
   "source": [
    "x<-c(0,1,2,3,4,5)\n",
    "f<-function(x){return(-1* (x-2)^2 + 3)}\n",
    "y<-f(x)"
   ]
  },
  {
   "cell_type": "code",
   "execution_count": 146,
   "metadata": {},
   "outputs": [
    {
     "data": {
      "image/png": "[encoded data removed]",
      "text/plain": [
       "Plot with title \"Y=0\""
      ]
     },
     "metadata": {},
     "output_type": "display_data"
    }
   ],
   "source": [
    "v<-2\n",
    "plot(x,y,type='l',xlim = c(-1,5),ylim=c(0,3),main='Y=0',xaxt='n',yaxt='n',xlab='',ylab='')\n",
    "par(mar=c(5,3,2,2)+0.1)\n",
    "abline(v=v,col='red')\n",
    "polygon(c( x[x<=v], v ),  c(y[x<=v],0 ), col=\"grey\")"
   ]
  },
  {
   "cell_type": "code",
   "execution_count": 147,
   "metadata": {},
   "outputs": [
    {
     "data": {
      "image/png": "[encoded data removed]",
      "text/plain": [
       "Plot with title \"Y=0\""
      ]
     },
     "metadata": {},
     "output_type": "display_data"
    }
   ],
   "source": [
    "v<-3\n",
    "plot(x,y,type='l',xlim = c(-1,5),ylim=c(0,3),main='Y=0',xaxt='n',yaxt='n',xlab='',ylab='')\n",
    "par(mar=c(5,3,2,2)+0.1)\n",
    "abline(v=v,col='red')\n",
    "polygon(c( x[x<=v], v ),  c(y[x<=v],0 ), col=\"grey\")"
   ]
  },
  {
   "cell_type": "markdown",
   "metadata": {},
   "source": [
    "In the plots above the True Negative rate is shaded grey and the False Positive rate is shaded white. We can clearly see that increasing our threshold increases the True Negative rate and decreases the False Positive rate."
   ]
  },
  {
   "cell_type": "markdown",
   "metadata": {},
   "source": [
    "## True Positive and False Negative\n",
    "\n",
    "Consider the case where $Y=1$ in reality.\n",
    "\n",
    "We'll denote the predicted value $\\hat{Y}$.\n",
    "\n",
    "* If $\\hat{Y} = Y = 1$ then we have a ***True Positive*** (Good)\n",
    "* If $\\hat{Y} = 0$ and $Y=1$ then we have a ***False Negative*** (Bad)\n",
    "* If we increase the threshold *p*, denoted by the red line below, we will see an increase in the False Negative rate and a decrease in the True Positive rate"
   ]
  },
  {
   "cell_type": "code",
   "execution_count": 148,
   "metadata": {},
   "outputs": [
    {
     "data": {
      "image/png": "[encoded data removed]",
      "text/plain": [
       "Plot with title \"Y=1\""
      ]
     },
     "metadata": {},
     "output_type": "display_data"
    }
   ],
   "source": [
    "v<-1\n",
    "plot(x,y,type='l',xlim = c(-1,5),ylim=c(0,3),main='Y=1',xaxt='n',yaxt='n',xlab='',ylab='')\n",
    "par(mar=c(5,3,2,2)+0.1)\n",
    "abline(v=v,col='red')\n",
    "polygon(c( x[x>=v], v ),  c(y[x>=v],0 ), col=\"purple\")"
   ]
  },
  {
   "cell_type": "code",
   "execution_count": 149,
   "metadata": {},
   "outputs": [
    {
     "data": {
      "image/png": "[encoded data removed]",
      "text/plain": [
       "Plot with title \"Y=1\""
      ]
     },
     "metadata": {},
     "output_type": "display_data"
    }
   ],
   "source": [
    "v<-2\n",
    "plot(x,y,type='l',xlim = c(-1,5),ylim=c(0,3),main='Y=1',xaxt='n',yaxt='n',xlab='',ylab='')\n",
    "par(mar=c(5,3,2,2)+0.1)\n",
    "abline(v=v,col='red')\n",
    "polygon(c( x[x>=v], v ),  c(y[x>=v],0 ), col=\"purple\")"
   ]
  },
  {
   "cell_type": "markdown",
   "metadata": {},
   "source": [
    "In the plots above the True Positive rate is shaded purple and the False Negative rate is shaded white. We can clearly see that increasing our threshold increases the False Negative rate and decreases the True Positive rate."
   ]
  },
  {
   "cell_type": "markdown",
   "metadata": {},
   "source": [
    "## Confusion Matrix\n",
    "\n",
    "Used to record performance of a classification algorithm. We can use the R function `xtabs` to make the confusion matrix. But first let's split data into training and test sets so our confusion matrix is closer to reality."
   ]
  },
  {
   "cell_type": "raw",
   "metadata": {},
   "source": [
    "help(xtabs)\n",
    "\n",
    "Ex Usage:\n",
    "\n",
    "xtabs(~y + y_hat, data=data)"
   ]
  },
  {
   "cell_type": "markdown",
   "metadata": {},
   "source": [
    "### Split dataset into Training and Test sets\n",
    "\n",
    "Let's formally split the dataset into training and test sets to demonstrate the confusion matrix."
   ]
  },
  {
   "cell_type": "code",
   "execution_count": 150,
   "metadata": {},
   "outputs": [
    {
     "data": {
      "text/html": [
       "<strong>$names</strong> = <ol class=list-inline>\n",
       "\t<li>'train'</li>\n",
       "\t<li>'test'</li>\n",
       "</ol>\n"
      ],
      "text/latex": [
       "\\textbf{\\$names} = \\begin{enumerate*}\n",
       "\\item 'train'\n",
       "\\item 'test'\n",
       "\\end{enumerate*}\n"
      ],
      "text/markdown": [
       "**$names** = 1. 'train'\n",
       "2. 'test'\n",
       "\n",
       "\n"
      ],
      "text/plain": [
       "$names\n",
       "[1] \"train\" \"test\" \n"
      ]
     },
     "metadata": {},
     "output_type": "display_data"
    }
   ],
   "source": [
    "spec = c(train = .8, test = .2)\n",
    "\n",
    "g = sample(cut(\n",
    "  seq(nrow(df)), \n",
    "  nrow(df)*cumsum(c(0,spec)),\n",
    "  labels = names(spec)\n",
    "))\n",
    "\n",
    "split_data_set = split(df, g)\n",
    "attributes(split_data_set)"
   ]
  },
  {
   "cell_type": "code",
   "execution_count": 151,
   "metadata": {},
   "outputs": [
    {
     "data": {
      "text/html": [
       "<dl class=dl-horizontal>\n",
       "\t<dt>train</dt>\n",
       "\t\t<dd>0.8</dd>\n",
       "\t<dt>test</dt>\n",
       "\t\t<dd>0.2</dd>\n",
       "</dl>\n"
      ],
      "text/latex": [
       "\\begin{description*}\n",
       "\\item[train] 0.8\n",
       "\\item[test] 0.2\n",
       "\\end{description*}\n"
      ],
      "text/markdown": [
       "train\n",
       ":   0.8test\n",
       ":   0.2\n",
       "\n"
      ],
      "text/plain": [
       "train  test \n",
       "  0.8   0.2 "
      ]
     },
     "metadata": {},
     "output_type": "display_data"
    }
   ],
   "source": [
    "sapply(split_data_set, nrow)/nrow(df)"
   ]
  },
  {
   "cell_type": "markdown",
   "metadata": {},
   "source": [
    "We have an 80% training set and a 20% test set to train and make predictions on. Let's do this!"
   ]
  },
  {
   "cell_type": "code",
   "execution_count": 152,
   "metadata": {},
   "outputs": [],
   "source": [
    "default_logistic_regression_e <- glm( dft~balance+income+stdt, data = split_data_set$train, family = binomial(logit))"
   ]
  },
  {
   "cell_type": "code",
   "execution_count": 153,
   "metadata": {},
   "outputs": [],
   "source": [
    "split_data_set$test$predictions  <- predict(default_logistic_regression_e, newdata = split_data_set$test, type = \"response\")"
   ]
  },
  {
   "cell_type": "code",
   "execution_count": 154,
   "metadata": {},
   "outputs": [
    {
     "data": {
      "text/html": [
       "<table>\n",
       "<thead><tr><th></th><th scope=col>default</th><th scope=col>student</th><th scope=col>balance</th><th scope=col>income</th><th scope=col>dft</th><th scope=col>stdt</th><th scope=col>predictions</th></tr></thead>\n",
       "<tbody>\n",
       "\t<tr><th scope=row>6</th><td>No          </td><td>Yes         </td><td> 919.5885   </td><td> 7491.559   </td><td>0           </td><td>1           </td><td>2.018863e-03</td></tr>\n",
       "\t<tr><th scope=row>15</th><td>No          </td><td>No          </td><td>1112.9684   </td><td>23810.174   </td><td>0           </td><td>0           </td><td>1.146993e-02</td></tr>\n",
       "\t<tr><th scope=row>17</th><td>No          </td><td>No          </td><td>   0.0000   </td><td>50265.312   </td><td>0           </td><td>0           </td><td>1.785216e-05</td></tr>\n",
       "\t<tr><th scope=row>20</th><td>No          </td><td>No          </td><td>1095.0727   </td><td>26464.631   </td><td>0           </td><td>0           </td><td>1.038056e-02</td></tr>\n",
       "\t<tr><th scope=row>22</th><td>No          </td><td>No          </td><td> 954.2618   </td><td>32457.509   </td><td>0           </td><td>0           </td><td>4.618877e-03</td></tr>\n",
       "\t<tr><th scope=row>24</th><td>No          </td><td>No          </td><td> 641.9844   </td><td>30466.103   </td><td>0           </td><td>0           </td><td>7.430692e-04</td></tr>\n",
       "</tbody>\n",
       "</table>\n"
      ],
      "text/latex": [
       "\\begin{tabular}{r|lllllll}\n",
       "  & default & student & balance & income & dft & stdt & predictions\\\\\n",
       "\\hline\n",
       "\t6 & No           & Yes          &  919.5885    &  7491.559    & 0            & 1            & 2.018863e-03\\\\\n",
       "\t15 & No           & No           & 1112.9684    & 23810.174    & 0            & 0            & 1.146993e-02\\\\\n",
       "\t17 & No           & No           &    0.0000    & 50265.312    & 0            & 0            & 1.785216e-05\\\\\n",
       "\t20 & No           & No           & 1095.0727    & 26464.631    & 0            & 0            & 1.038056e-02\\\\\n",
       "\t22 & No           & No           &  954.2618    & 32457.509    & 0            & 0            & 4.618877e-03\\\\\n",
       "\t24 & No           & No           &  641.9844    & 30466.103    & 0            & 0            & 7.430692e-04\\\\\n",
       "\\end{tabular}\n"
      ],
      "text/markdown": [
       "\n",
       "| <!--/--> | default | student | balance | income | dft | stdt | predictions | \n",
       "|---|---|---|---|---|---|\n",
       "| 6 | No           | Yes          |  919.5885    |  7491.559    | 0            | 1            | 2.018863e-03 | \n",
       "| 15 | No           | No           | 1112.9684    | 23810.174    | 0            | 0            | 1.146993e-02 | \n",
       "| 17 | No           | No           |    0.0000    | 50265.312    | 0            | 0            | 1.785216e-05 | \n",
       "| 20 | No           | No           | 1095.0727    | 26464.631    | 0            | 0            | 1.038056e-02 | \n",
       "| 22 | No           | No           |  954.2618    | 32457.509    | 0            | 0            | 4.618877e-03 | \n",
       "| 24 | No           | No           |  641.9844    | 30466.103    | 0            | 0            | 7.430692e-04 | \n",
       "\n",
       "\n"
      ],
      "text/plain": [
       "   default student balance   income    dft stdt predictions \n",
       "6  No      Yes      919.5885  7491.559 0   1    2.018863e-03\n",
       "15 No      No      1112.9684 23810.174 0   0    1.146993e-02\n",
       "17 No      No         0.0000 50265.312 0   0    1.785216e-05\n",
       "20 No      No      1095.0727 26464.631 0   0    1.038056e-02\n",
       "22 No      No       954.2618 32457.509 0   0    4.618877e-03\n",
       "24 No      No       641.9844 30466.103 0   0    7.430692e-04"
      ]
     },
     "metadata": {},
     "output_type": "display_data"
    }
   ],
   "source": [
    "head(split_data_set$test)"
   ]
  },
  {
   "cell_type": "markdown",
   "metadata": {},
   "source": [
    "Let's use a threshold of 0.5 to classify our points."
   ]
  },
  {
   "cell_type": "code",
   "execution_count": 155,
   "metadata": {},
   "outputs": [],
   "source": [
    "split_data_set$test$pred_class0.5 <- ifelse(split_data_set$test$predictions>=0.5, 1, 0)"
   ]
  },
  {
   "cell_type": "code",
   "execution_count": 156,
   "metadata": {},
   "outputs": [
    {
     "data": {
      "text/html": [
       "<table>\n",
       "<thead><tr><th></th><th scope=col>default</th><th scope=col>student</th><th scope=col>balance</th><th scope=col>income</th><th scope=col>dft</th><th scope=col>stdt</th><th scope=col>predictions</th><th scope=col>pred_class0.5</th></tr></thead>\n",
       "<tbody>\n",
       "\t<tr><th scope=row>6</th><td>No          </td><td>Yes         </td><td> 919.5885   </td><td> 7491.559   </td><td>0           </td><td>1           </td><td>2.018863e-03</td><td>0           </td></tr>\n",
       "\t<tr><th scope=row>15</th><td>No          </td><td>No          </td><td>1112.9684   </td><td>23810.174   </td><td>0           </td><td>0           </td><td>1.146993e-02</td><td>0           </td></tr>\n",
       "\t<tr><th scope=row>17</th><td>No          </td><td>No          </td><td>   0.0000   </td><td>50265.312   </td><td>0           </td><td>0           </td><td>1.785216e-05</td><td>0           </td></tr>\n",
       "\t<tr><th scope=row>20</th><td>No          </td><td>No          </td><td>1095.0727   </td><td>26464.631   </td><td>0           </td><td>0           </td><td>1.038056e-02</td><td>0           </td></tr>\n",
       "\t<tr><th scope=row>22</th><td>No          </td><td>No          </td><td> 954.2618   </td><td>32457.509   </td><td>0           </td><td>0           </td><td>4.618877e-03</td><td>0           </td></tr>\n",
       "\t<tr><th scope=row>24</th><td>No          </td><td>No          </td><td> 641.9844   </td><td>30466.103   </td><td>0           </td><td>0           </td><td>7.430692e-04</td><td>0           </td></tr>\n",
       "</tbody>\n",
       "</table>\n"
      ],
      "text/latex": [
       "\\begin{tabular}{r|llllllll}\n",
       "  & default & student & balance & income & dft & stdt & predictions & pred\\_class0.5\\\\\n",
       "\\hline\n",
       "\t6 & No           & Yes          &  919.5885    &  7491.559    & 0            & 1            & 2.018863e-03 & 0           \\\\\n",
       "\t15 & No           & No           & 1112.9684    & 23810.174    & 0            & 0            & 1.146993e-02 & 0           \\\\\n",
       "\t17 & No           & No           &    0.0000    & 50265.312    & 0            & 0            & 1.785216e-05 & 0           \\\\\n",
       "\t20 & No           & No           & 1095.0727    & 26464.631    & 0            & 0            & 1.038056e-02 & 0           \\\\\n",
       "\t22 & No           & No           &  954.2618    & 32457.509    & 0            & 0            & 4.618877e-03 & 0           \\\\\n",
       "\t24 & No           & No           &  641.9844    & 30466.103    & 0            & 0            & 7.430692e-04 & 0           \\\\\n",
       "\\end{tabular}\n"
      ],
      "text/markdown": [
       "\n",
       "| <!--/--> | default | student | balance | income | dft | stdt | predictions | pred_class0.5 | \n",
       "|---|---|---|---|---|---|\n",
       "| 6 | No           | Yes          |  919.5885    |  7491.559    | 0            | 1            | 2.018863e-03 | 0            | \n",
       "| 15 | No           | No           | 1112.9684    | 23810.174    | 0            | 0            | 1.146993e-02 | 0            | \n",
       "| 17 | No           | No           |    0.0000    | 50265.312    | 0            | 0            | 1.785216e-05 | 0            | \n",
       "| 20 | No           | No           | 1095.0727    | 26464.631    | 0            | 0            | 1.038056e-02 | 0            | \n",
       "| 22 | No           | No           |  954.2618    | 32457.509    | 0            | 0            | 4.618877e-03 | 0            | \n",
       "| 24 | No           | No           |  641.9844    | 30466.103    | 0            | 0            | 7.430692e-04 | 0            | \n",
       "\n",
       "\n"
      ],
      "text/plain": [
       "   default student balance   income    dft stdt predictions  pred_class0.5\n",
       "6  No      Yes      919.5885  7491.559 0   1    2.018863e-03 0            \n",
       "15 No      No      1112.9684 23810.174 0   0    1.146993e-02 0            \n",
       "17 No      No         0.0000 50265.312 0   0    1.785216e-05 0            \n",
       "20 No      No      1095.0727 26464.631 0   0    1.038056e-02 0            \n",
       "22 No      No       954.2618 32457.509 0   0    4.618877e-03 0            \n",
       "24 No      No       641.9844 30466.103 0   0    7.430692e-04 0            "
      ]
     },
     "metadata": {},
     "output_type": "display_data"
    }
   ],
   "source": [
    "head(split_data_set$test)"
   ]
  },
  {
   "cell_type": "markdown",
   "metadata": {},
   "source": [
    "Now that we have the predicted classes $\\hat{y}$ `pred_class` and the real classes $y$ `dft` side-by-side in our dataframe, we can call `xtabs` to generate the confusion matrix."
   ]
  },
  {
   "cell_type": "code",
   "execution_count": 157,
   "metadata": {},
   "outputs": [
    {
     "data": {
      "text/plain": [
       "   pred_class0.5\n",
       "dft    0    1\n",
       "  0 1921   13\n",
       "  1   46   20"
      ]
     },
     "metadata": {},
     "output_type": "display_data"
    }
   ],
   "source": [
    "xtabs(~dft + pred_class0.5, data=split_data_set$test)"
   ]
  },
  {
   "cell_type": "markdown",
   "metadata": {},
   "source": [
    "The ***true values are always rows of confusion matrix*** while our ***predicted values are always columns in confusion matrix***.\n",
    "* True Negative (TN) values $\\hat{y} = y = 0$\n",
    "    * 1921 in this example\n",
    "* True Positive (TP) values $\\hat{y} = y = 1$\n",
    "    * 20 in this example\n",
    "* False Positive (FP) values $\\hat{y} = 1$ and $y=0$\n",
    "    * 13 in this example\n",
    "* False Negative (FN) values $\\hat{y} = 0$ and $y=1$\n",
    "    * 46 in this example\n",
    "\n",
    "More broadly speaking,\n",
    "\n",
    "False Positives are refered to as ***Type I*** errors\n",
    "* Increasing the threshold value decreases Type I error\n",
    "\n",
    "False negatives are referred to as ***Type II*** errors\n",
    "* Increasing the threshold increases Type II error\n",
    "\n",
    "Typically there is a cost associated with Type I and Type II errors - domain knowledge is needed to determine this cost and usually the cost is specific to the given context of the business problem.\n",
    "\n",
    "For example, imagine you are testing a patient for HIV - the cost of a false positive in this context is extremely high because you just misdiagnosed a healthy person as being HIV positive!! Doctors lose license to practice over misdiagnoses like this.\n",
    "\n",
    "On the flip side, if you are a bank predicting loan default - chances are the cost of a Type II error or the cost of predicting a person who is going to default on their loan as a non-defaulter far outweighs the cost of a Type I error.\n",
    "\n",
    "Using the confusion matrix we can define a bunch of metrics for how well our algorithm performs on the test set. These are defined below:"
   ]
  },
  {
   "cell_type": "markdown",
   "metadata": {},
   "source": [
    "## Sensitivity\n",
    "\n",
    "Sensitivity is also known as the ***True Positive Rate*** and is defined as follows:\n",
    "\n",
    "$$\n",
    "Sensitivity = \\frac{\\text{true positive}}{\\text{true positive + false negative}}\n",
    "$$\n",
    "\n",
    "Using our example above, we find the sensitivity to be\n",
    "\n",
    "$$\n",
    "Sensitivity = \\frac{20}{20+46} = 0.303\n",
    "$$"
   ]
  },
  {
   "cell_type": "markdown",
   "metadata": {},
   "source": [
    "## Specificity\n",
    "\n",
    "Specificity is also known as the ***True Negative Rate*** and is defined as follows:\n",
    "\n",
    "$$\n",
    "Specificity = \\frac{\\text{true negative}}{\\text{true negative + false positive}}\n",
    "$$\n",
    "\n",
    "Using our example above, we find the specificity to be\n",
    "\n",
    "$$\n",
    "Specificity =  \\frac{1921}{1921+13} = 0.993\n",
    "$$"
   ]
  },
  {
   "cell_type": "markdown",
   "metadata": {},
   "source": [
    "## False Positive Rate\n",
    "\n",
    "The false positive rate is equal to\n",
    "\n",
    "$$\n",
    "False \\: Positive \\: Rate = 1 - Specificity\n",
    "$$\n",
    "\n",
    "Using our example above, we find the false positive rate to be\n",
    "\n",
    "$$\n",
    "False \\: Positive \\: Rate =  1 - 0.993 = 0.007\n",
    "$$"
   ]
  },
  {
   "cell_type": "markdown",
   "metadata": {},
   "source": [
    "## Precision\n",
    "\n",
    "Precision is the probability that the real value is a certain class given the fact that we predicted that class or more formally\n",
    "\n",
    "$$\n",
    "P(Y=1\\:|\\:\\hat{Y}=1) = \\frac{\\text{true positive}}{\\text{true positive + false positive}}\n",
    "$$\n",
    "\n",
    "Using our example above, our precision is\n",
    "\n",
    "$$\n",
    "P(Y=1\\:|\\:\\hat{Y}=1) = \\frac{20}{20+13} = 0.606\n",
    "$$"
   ]
  },
  {
   "cell_type": "markdown",
   "metadata": {},
   "source": [
    "## Accuracy\n",
    "\n",
    "Accuracy is defined by the following formula:\n",
    "\n",
    "$$\n",
    "Accuracy = \\frac{\\text{true positive + true negative}}{\\text{true positive + false positive + true negative + false negative}}\n",
    "$$\n",
    "\n",
    "Using our example above, our accuracy is:\n",
    "\n",
    "$$\n",
    "Accuracy = \\frac{1921+20}{20+13+1921+46} = 0.971\n",
    "$$"
   ]
  },
  {
   "cell_type": "markdown",
   "metadata": {},
   "source": [
    "## Effects of increasing threshold $p$\n",
    "\n",
    "Let's use the same example above, but increase the threshold of 0.5 to 0.9 to classify our points. We will see that ***increasing the threshold $p$*** will \n",
    "* increase true negatives and decrease false positives\n",
    "* increase false negatives and decrease true positives"
   ]
  },
  {
   "cell_type": "code",
   "execution_count": 158,
   "metadata": {},
   "outputs": [],
   "source": [
    "split_data_set$test$pred_class0.9 <- ifelse(split_data_set$test$predictions>=0.9, 1, 0)"
   ]
  },
  {
   "cell_type": "code",
   "execution_count": 159,
   "metadata": {},
   "outputs": [
    {
     "data": {
      "text/html": [
       "<table>\n",
       "<thead><tr><th></th><th scope=col>default</th><th scope=col>student</th><th scope=col>balance</th><th scope=col>income</th><th scope=col>dft</th><th scope=col>stdt</th><th scope=col>predictions</th><th scope=col>pred_class0.5</th><th scope=col>pred_class0.9</th></tr></thead>\n",
       "<tbody>\n",
       "\t<tr><th scope=row>6</th><td>No          </td><td>Yes         </td><td> 919.5885   </td><td> 7491.559   </td><td>0           </td><td>1           </td><td>2.018863e-03</td><td>0           </td><td>0           </td></tr>\n",
       "\t<tr><th scope=row>15</th><td>No          </td><td>No          </td><td>1112.9684   </td><td>23810.174   </td><td>0           </td><td>0           </td><td>1.146993e-02</td><td>0           </td><td>0           </td></tr>\n",
       "\t<tr><th scope=row>17</th><td>No          </td><td>No          </td><td>   0.0000   </td><td>50265.312   </td><td>0           </td><td>0           </td><td>1.785216e-05</td><td>0           </td><td>0           </td></tr>\n",
       "\t<tr><th scope=row>20</th><td>No          </td><td>No          </td><td>1095.0727   </td><td>26464.631   </td><td>0           </td><td>0           </td><td>1.038056e-02</td><td>0           </td><td>0           </td></tr>\n",
       "\t<tr><th scope=row>22</th><td>No          </td><td>No          </td><td> 954.2618   </td><td>32457.509   </td><td>0           </td><td>0           </td><td>4.618877e-03</td><td>0           </td><td>0           </td></tr>\n",
       "\t<tr><th scope=row>24</th><td>No          </td><td>No          </td><td> 641.9844   </td><td>30466.103   </td><td>0           </td><td>0           </td><td>7.430692e-04</td><td>0           </td><td>0           </td></tr>\n",
       "</tbody>\n",
       "</table>\n"
      ],
      "text/latex": [
       "\\begin{tabular}{r|lllllllll}\n",
       "  & default & student & balance & income & dft & stdt & predictions & pred\\_class0.5 & pred\\_class0.9\\\\\n",
       "\\hline\n",
       "\t6 & No           & Yes          &  919.5885    &  7491.559    & 0            & 1            & 2.018863e-03 & 0            & 0           \\\\\n",
       "\t15 & No           & No           & 1112.9684    & 23810.174    & 0            & 0            & 1.146993e-02 & 0            & 0           \\\\\n",
       "\t17 & No           & No           &    0.0000    & 50265.312    & 0            & 0            & 1.785216e-05 & 0            & 0           \\\\\n",
       "\t20 & No           & No           & 1095.0727    & 26464.631    & 0            & 0            & 1.038056e-02 & 0            & 0           \\\\\n",
       "\t22 & No           & No           &  954.2618    & 32457.509    & 0            & 0            & 4.618877e-03 & 0            & 0           \\\\\n",
       "\t24 & No           & No           &  641.9844    & 30466.103    & 0            & 0            & 7.430692e-04 & 0            & 0           \\\\\n",
       "\\end{tabular}\n"
      ],
      "text/markdown": [
       "\n",
       "| <!--/--> | default | student | balance | income | dft | stdt | predictions | pred_class0.5 | pred_class0.9 | \n",
       "|---|---|---|---|---|---|\n",
       "| 6 | No           | Yes          |  919.5885    |  7491.559    | 0            | 1            | 2.018863e-03 | 0            | 0            | \n",
       "| 15 | No           | No           | 1112.9684    | 23810.174    | 0            | 0            | 1.146993e-02 | 0            | 0            | \n",
       "| 17 | No           | No           |    0.0000    | 50265.312    | 0            | 0            | 1.785216e-05 | 0            | 0            | \n",
       "| 20 | No           | No           | 1095.0727    | 26464.631    | 0            | 0            | 1.038056e-02 | 0            | 0            | \n",
       "| 22 | No           | No           |  954.2618    | 32457.509    | 0            | 0            | 4.618877e-03 | 0            | 0            | \n",
       "| 24 | No           | No           |  641.9844    | 30466.103    | 0            | 0            | 7.430692e-04 | 0            | 0            | \n",
       "\n",
       "\n"
      ],
      "text/plain": [
       "   default student balance   income    dft stdt predictions  pred_class0.5\n",
       "6  No      Yes      919.5885  7491.559 0   1    2.018863e-03 0            \n",
       "15 No      No      1112.9684 23810.174 0   0    1.146993e-02 0            \n",
       "17 No      No         0.0000 50265.312 0   0    1.785216e-05 0            \n",
       "20 No      No      1095.0727 26464.631 0   0    1.038056e-02 0            \n",
       "22 No      No       954.2618 32457.509 0   0    4.618877e-03 0            \n",
       "24 No      No       641.9844 30466.103 0   0    7.430692e-04 0            \n",
       "   pred_class0.9\n",
       "6  0            \n",
       "15 0            \n",
       "17 0            \n",
       "20 0            \n",
       "22 0            \n",
       "24 0            "
      ]
     },
     "metadata": {},
     "output_type": "display_data"
    }
   ],
   "source": [
    "head(split_data_set$test)"
   ]
  },
  {
   "cell_type": "markdown",
   "metadata": {},
   "source": [
    "Now that we have the predicted classes $\\hat{y}$ `pred_class` and the real classes $y$ `dft` side-by-side in our dataframe, we can call `xtabs` to generate the confusion matrix."
   ]
  },
  {
   "cell_type": "code",
   "execution_count": 160,
   "metadata": {},
   "outputs": [
    {
     "data": {
      "text/plain": [
       "   pred_class0.9\n",
       "dft    0    1\n",
       "  0 1934    0\n",
       "  1   61    5"
      ]
     },
     "metadata": {},
     "output_type": "display_data"
    }
   ],
   "source": [
    "xtabs(~dft + pred_class0.9, data=split_data_set$test)"
   ]
  },
  {
   "cell_type": "markdown",
   "metadata": {},
   "source": [
    "## Sensitivity increased $p$\n",
    "\n",
    "Using our example above, with a threshold $p=0.9$ we find the sensitivity to be\n",
    "\n",
    "$$\n",
    "Sensitivity = \\frac{\\text{true positive}}{\\text{true positive + false negative}} = \\frac{5}{5+61} = 0.077\n",
    "$$"
   ]
  },
  {
   "cell_type": "markdown",
   "metadata": {},
   "source": [
    "## Specificity increased $p$\n",
    "\n",
    "Using our example above, with a threshold $p=0.9$ we find the specificity to be\n",
    "\n",
    "$$\n",
    "Specificity = \\frac{\\text{true negative}}{\\text{true negative + false positive}} = \\frac{1934}{1934+0} = 1.0\n",
    "$$"
   ]
  },
  {
   "cell_type": "markdown",
   "metadata": {},
   "source": [
    "## ROC Curve\n",
    "\n",
    "Receiver Operating Characteristic (ROC) curve is used to show the diagnostic ability of a binary classifier as the threshold value $p$ is varied."
   ]
  },
  {
   "cell_type": "code",
   "execution_count": 161,
   "metadata": {},
   "outputs": [],
   "source": [
    "if (!require(ggExtra)) install.packages(\"ggExtra\")\n",
    "library(ggExtra)\n",
    "if (!require(ROCR)) install.packages(\"ROCR\")\n",
    "library(ROCR)"
   ]
  },
  {
   "cell_type": "markdown",
   "metadata": {},
   "source": [
    "First we must create a `prediction` object using the class probabilities from our logistic regression model"
   ]
  },
  {
   "cell_type": "raw",
   "metadata": {},
   "source": [
    "help(prediction)"
   ]
  },
  {
   "cell_type": "code",
   "execution_count": 162,
   "metadata": {},
   "outputs": [
    {
     "data": {
      "text/html": [
       "'prediction'"
      ],
      "text/latex": [
       "'prediction'"
      ],
      "text/markdown": [
       "'prediction'"
      ],
      "text/plain": [
       "[1] \"prediction\"\n",
       "attr(,\"package\")\n",
       "[1] \"ROCR\""
      ]
     },
     "metadata": {},
     "output_type": "display_data"
    }
   ],
   "source": [
    "pred <- prediction(split_data_set$test$predictions, split_data_set$test$dft)\n",
    "class(pred)"
   ]
  },
  {
   "cell_type": "markdown",
   "metadata": {},
   "source": [
    "Second we create a `performance` object passing the `prediction` object as the first parameter and `tpr` and `fpr` as the second and third arguments respectfully. \"tpr\" is True Positive Rate and \"fpr\" is the False Positive Rate."
   ]
  },
  {
   "cell_type": "raw",
   "metadata": {},
   "source": [
    "help(performance)"
   ]
  },
  {
   "cell_type": "code",
   "execution_count": 163,
   "metadata": {},
   "outputs": [
    {
     "data": {
      "image/png": "[encoded data removed]",
      "text/plain": [
       "plot without title"
      ]
     },
     "metadata": {},
     "output_type": "display_data"
    }
   ],
   "source": [
    "perf <- performance(pred, \"tpr\", \"fpr\")\n",
    "plot(perf, colorize=T)"
   ]
  },
  {
   "cell_type": "code",
   "execution_count": 164,
   "metadata": {},
   "outputs": [
    {
     "data": {
      "text/html": [
       "<ol>\n",
       "\t<li>0.940067688257966</li>\n",
       "</ol>\n"
      ],
      "text/latex": [
       "\\begin{enumerate}\n",
       "\\item 0.940067688257966\n",
       "\\end{enumerate}\n"
      ],
      "text/markdown": [
       "1. 0.940067688257966\n",
       "\n",
       "\n"
      ],
      "text/plain": [
       "[[1]]\n",
       "[1] 0.9400677\n"
      ]
     },
     "metadata": {},
     "output_type": "display_data"
    }
   ],
   "source": [
    "auc <- performance(pred, measure=\"auc\")\n",
    "auc@y.values"
   ]
  },
  {
   "cell_type": "markdown",
   "metadata": {},
   "source": [
    "Our AUC in this case is 0.94. This is great! Typically we want an AUC value greater than 0.5."
   ]
  }
 ],
 "metadata": {
  "kernelspec": {
   "display_name": "R [conda env:Anaconda3]",
   "language": "R",
   "name": "conda-env-Anaconda3-r"
  },
  "language_info": {
   "codemirror_mode": "r",
   "file_extension": ".r",
   "mimetype": "text/x-r-source",
   "name": "R",
   "pygments_lexer": "r",
   "version": "3.4.3"
  }
 },
 "nbformat": 4,
 "nbformat_minor": 2
}
