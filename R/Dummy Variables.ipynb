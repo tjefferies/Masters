{
 "cells": [
  {
   "cell_type": "markdown",
   "metadata": {},
   "source": [
    "# Week 4 Code Along\n",
    "\n",
    "This notebook deals almost exclusively with categorical variables and how to include them in our regression models.\n",
    "\n",
    "***Note:***\n",
    "\n",
    "This is a fake dataset and is only for demonstration purposes."
   ]
  },
  {
   "cell_type": "code",
   "execution_count": 73,
   "metadata": {},
   "outputs": [],
   "source": [
    "library(ggplot2)"
   ]
  },
  {
   "cell_type": "code",
   "execution_count": 74,
   "metadata": {},
   "outputs": [
    {
     "data": {
      "text/html": [
       "<table>\n",
       "<thead><tr><th scope=col>Education</th><th scope=col>Experience</th><th scope=col>Salary</th></tr></thead>\n",
       "<tbody>\n",
       "\t<tr><td>HS       </td><td> 2       </td><td> 34.43222</td></tr>\n",
       "\t<tr><td>HS       </td><td>14       </td><td> 59.15737</td></tr>\n",
       "\t<tr><td>HS       </td><td>36       </td><td>113.27017</td></tr>\n",
       "\t<tr><td>HS       </td><td>16       </td><td> 69.14739</td></tr>\n",
       "\t<tr><td>HS       </td><td>36       </td><td>106.01556</td></tr>\n",
       "\t<tr><td>HS       </td><td>33       </td><td> 58.63413</td></tr>\n",
       "\t<tr><td>HS       </td><td>36       </td><td>101.08130</td></tr>\n",
       "\t<tr><td>HS       </td><td> 8       </td><td> 51.32871</td></tr>\n",
       "\t<tr><td>HS       </td><td> 3       </td><td> 58.19683</td></tr>\n",
       "\t<tr><td>HS       </td><td>21       </td><td> 77.96433</td></tr>\n",
       "</tbody>\n",
       "</table>\n"
      ],
      "text/latex": [
       "\\begin{tabular}{r|lll}\n",
       " Education & Experience & Salary\\\\\n",
       "\\hline\n",
       "\t HS        &  2        &  34.43222\\\\\n",
       "\t HS        & 14        &  59.15737\\\\\n",
       "\t HS        & 36        & 113.27017\\\\\n",
       "\t HS        & 16        &  69.14739\\\\\n",
       "\t HS        & 36        & 106.01556\\\\\n",
       "\t HS        & 33        &  58.63413\\\\\n",
       "\t HS        & 36        & 101.08130\\\\\n",
       "\t HS        &  8        &  51.32871\\\\\n",
       "\t HS        &  3        &  58.19683\\\\\n",
       "\t HS        & 21        &  77.96433\\\\\n",
       "\\end{tabular}\n"
      ],
      "text/markdown": [
       "\n",
       "Education | Experience | Salary | \n",
       "|---|---|---|---|---|---|---|---|---|---|\n",
       "| HS        |  2        |  34.43222 | \n",
       "| HS        | 14        |  59.15737 | \n",
       "| HS        | 36        | 113.27017 | \n",
       "| HS        | 16        |  69.14739 | \n",
       "| HS        | 36        | 106.01556 | \n",
       "| HS        | 33        |  58.63413 | \n",
       "| HS        | 36        | 101.08130 | \n",
       "| HS        |  8        |  51.32871 | \n",
       "| HS        |  3        |  58.19683 | \n",
       "| HS        | 21        |  77.96433 | \n",
       "\n",
       "\n"
      ],
      "text/plain": [
       "   Education Experience Salary   \n",
       "1  HS         2          34.43222\n",
       "2  HS        14          59.15737\n",
       "3  HS        36         113.27017\n",
       "4  HS        16          69.14739\n",
       "5  HS        36         106.01556\n",
       "6  HS        33          58.63413\n",
       "7  HS        36         101.08130\n",
       "8  HS         8          51.32871\n",
       "9  HS         3          58.19683\n",
       "10 HS        21          77.96433"
      ]
     },
     "metadata": {},
     "output_type": "display_data"
    }
   ],
   "source": [
    "edsal_df <- read.csv('EDSAL.csv')\n",
    "head(edsal_df, 10)"
   ]
  },
  {
   "cell_type": "code",
   "execution_count": 75,
   "metadata": {},
   "outputs": [
    {
     "name": "stdout",
     "output_type": "stream",
     "text": [
      "'data.frame':\t300 obs. of  3 variables:\n",
      " $ Education : Factor w/ 3 levels \"GRAD\",\"HS\",\"UG\": 2 2 2 2 2 2 2 2 2 2 ...\n",
      " $ Experience: int  2 14 36 16 36 33 36 8 3 21 ...\n",
      " $ Salary    : num  34.4 59.2 113.3 69.1 106 ...\n"
     ]
    }
   ],
   "source": [
    "str(edsal_df)"
   ]
  },
  {
   "cell_type": "markdown",
   "metadata": {},
   "source": [
    "`Factor` is the R term for categorical variables."
   ]
  },
  {
   "cell_type": "markdown",
   "metadata": {},
   "source": [
    "## Salary Vs. Experience"
   ]
  },
  {
   "cell_type": "code",
   "execution_count": 76,
   "metadata": {},
   "outputs": [
    {
     "data": {
      "image/png": "[encoded data removed]",
      "text/plain": [
       "plot without title"
      ]
     },
     "metadata": {},
     "output_type": "display_data"
    }
   ],
   "source": [
    "plot(edsal_df$Experience, edsal_df$Salary)"
   ]
  },
  {
   "cell_type": "markdown",
   "metadata": {},
   "source": [
    "The greater the experience, the greater the salary."
   ]
  },
  {
   "cell_type": "code",
   "execution_count": 77,
   "metadata": {},
   "outputs": [],
   "source": [
    "salary_v_experience_lm <- lm(Salary~Experience, edsal_df)"
   ]
  },
  {
   "cell_type": "markdown",
   "metadata": {},
   "source": [
    "$Salary = b_{0} + b_{1}Experience$"
   ]
  },
  {
   "cell_type": "code",
   "execution_count": 78,
   "metadata": {},
   "outputs": [
    {
     "data": {
      "text/plain": [
       "\n",
       "Call:\n",
       "lm(formula = Salary ~ Experience, data = edsal_df)\n",
       "\n",
       "Residuals:\n",
       "   Min     1Q Median     3Q    Max \n",
       "-73.00 -12.82  -1.18  13.32  60.85 \n",
       "\n",
       "Coefficients:\n",
       "            Estimate Std. Error t value Pr(>|t|)    \n",
       "(Intercept)  29.4679     2.5673   11.48   <2e-16 ***\n",
       "Experience    3.0959     0.1113   27.81   <2e-16 ***\n",
       "---\n",
       "Signif. codes:  0 '***' 0.001 '**' 0.01 '*' 0.05 '.' 0.1 ' ' 1\n",
       "\n",
       "Residual standard error: 24.05 on 298 degrees of freedom\n",
       "Multiple R-squared:  0.7218,\tAdjusted R-squared:  0.7209 \n",
       "F-statistic: 773.2 on 1 and 298 DF,  p-value: < 2.2e-16\n"
      ]
     },
     "metadata": {},
     "output_type": "display_data"
    }
   ],
   "source": [
    "summary(salary_v_experience_lm)"
   ]
  },
  {
   "cell_type": "markdown",
   "metadata": {},
   "source": [
    "With an adjusted R-squared of 0.7209, we can see that Experience seems to be a good predictor for salary. This is an easy comparison to do as both values are continuous in nature. This begs the question - how do we include categorical variables in our regression models? Interpretted literally, we can see that for each additional year of experience, we can expect a $3090 increase in salary."
   ]
  },
  {
   "cell_type": "code",
   "execution_count": 79,
   "metadata": {},
   "outputs": [
    {
     "data": {
      "image/png": "[encoded data removed]",
      "text/plain": [
       "plot without title"
      ]
     },
     "metadata": {},
     "output_type": "display_data"
    }
   ],
   "source": [
    "with(edsal_df,plot(Experience, Salary))\n",
    "abline(salary_v_experience_lm, col=\"red\")"
   ]
  },
  {
   "cell_type": "markdown",
   "metadata": {},
   "source": [
    "## \"One-hot\" encoding categorical variables\n",
    "\n",
    "To use categorical variables in a regression model we must first represent them using dummy variables. To do this we must first define a \"base case\", then add columns to our dataset that as a whole, use this \"base case\" to replace the categorical variable."
   ]
  },
  {
   "cell_type": "code",
   "execution_count": 80,
   "metadata": {},
   "outputs": [
    {
     "data": {
      "text/html": [
       "<ol class=list-inline>\n",
       "\t<li>HS</li>\n",
       "\t<li>UG</li>\n",
       "\t<li>GRAD</li>\n",
       "</ol>\n"
      ],
      "text/latex": [
       "\\begin{enumerate*}\n",
       "\\item HS\n",
       "\\item UG\n",
       "\\item GRAD\n",
       "\\end{enumerate*}\n"
      ],
      "text/markdown": [
       "1. HS\n",
       "2. UG\n",
       "3. GRAD\n",
       "\n",
       "\n"
      ],
      "text/plain": [
       "[1] HS   UG   GRAD\n",
       "Levels: GRAD HS UG"
      ]
     },
     "metadata": {},
     "output_type": "display_data"
    }
   ],
   "source": [
    "unique(edsal_df$Education)"
   ]
  },
  {
   "cell_type": "markdown",
   "metadata": {},
   "source": [
    "We have three unique categories or Factors for our `Education` column. They are shown above. Given $n$ number of possible values in a categorical variable, we must create $n-1$ dummy variables to replace the categorical variable. In our case, we must create two dummy variables. Our dummy variables are binary in nature - that is they may only take on a value of 0 or 1.\n",
    "\n",
    "The \"base case\" refers to the case where all of our dummy variables are set equal to 0. Let's use `Education` = *UG* for our base case. We can use a truth table to describe our dummy variables:\n",
    "\n",
    "| Education | Education_HS | Education_GRAD |\n",
    "| --- | --- | --- |\n",
    "| UG | 0 | 0 |\n",
    "| HS | 1 | 0 |\n",
    "| GRAD | 0 | 1 |"
   ]
  },
  {
   "cell_type": "code",
   "execution_count": 81,
   "metadata": {},
   "outputs": [],
   "source": [
    "edsal_df$Education_HS <- ifelse(edsal_df$Education == \"HS\", 1, 0)\n",
    "edsal_df$Education_GRAD <- ifelse(edsal_df$Education == \"GRAD\", 1, 0)"
   ]
  },
  {
   "cell_type": "markdown",
   "metadata": {},
   "source": [
    "We are now ready to include the effects of the highest education level obtained by an individual into our linear regression model!"
   ]
  },
  {
   "cell_type": "markdown",
   "metadata": {},
   "source": [
    "## Salary Vs. Education"
   ]
  },
  {
   "cell_type": "code",
   "execution_count": 82,
   "metadata": {},
   "outputs": [],
   "source": [
    "salary_v_education_lm <- lm(Salary~Education_HS+Education_GRAD, edsal_df)"
   ]
  },
  {
   "cell_type": "markdown",
   "metadata": {},
   "source": [
    "$Salary = b_{0} + b_{1}HS + b_{2}GRAD$"
   ]
  },
  {
   "cell_type": "code",
   "execution_count": 83,
   "metadata": {},
   "outputs": [
    {
     "data": {
      "text/html": [
       "<table>\n",
       "<thead><tr><th></th><th scope=col>Estimate</th><th scope=col>Std. Error</th><th scope=col>t value</th><th scope=col>Pr(&gt;|t|)</th></tr></thead>\n",
       "<tbody>\n",
       "\t<tr><th scope=row>(Intercept)</th><td> 87.92324   </td><td>4.062096    </td><td>21.64480    </td><td>5.123948e-63</td></tr>\n",
       "\t<tr><th scope=row>Education_HS</th><td>-22.48734   </td><td>5.759015    </td><td>-3.90472    </td><td>1.168115e-04</td></tr>\n",
       "\t<tr><th scope=row>Education_GRAD</th><td> 27.51819   </td><td>5.773612    </td><td> 4.76620    </td><td>2.943242e-06</td></tr>\n",
       "</tbody>\n",
       "</table>\n"
      ],
      "text/latex": [
       "\\begin{tabular}{r|llll}\n",
       "  & Estimate & Std. Error & t value & Pr(>\\textbar{}t\\textbar{})\\\\\n",
       "\\hline\n",
       "\t(Intercept) &  87.92324    & 4.062096     & 21.64480     & 5.123948e-63\\\\\n",
       "\tEducation\\_HS & -22.48734    & 5.759015     & -3.90472     & 1.168115e-04\\\\\n",
       "\tEducation\\_GRAD &  27.51819    & 5.773612     &  4.76620     & 2.943242e-06\\\\\n",
       "\\end{tabular}\n"
      ],
      "text/markdown": [
       "\n",
       "| <!--/--> | Estimate | Std. Error | t value | Pr(>|t|) | \n",
       "|---|---|---|\n",
       "| (Intercept) |  87.92324    | 4.062096     | 21.64480     | 5.123948e-63 | \n",
       "| Education_HS | -22.48734    | 5.759015     | -3.90472     | 1.168115e-04 | \n",
       "| Education_GRAD |  27.51819    | 5.773612     |  4.76620     | 2.943242e-06 | \n",
       "\n",
       "\n"
      ],
      "text/plain": [
       "               Estimate  Std. Error t value  Pr(>|t|)    \n",
       "(Intercept)     87.92324 4.062096   21.64480 5.123948e-63\n",
       "Education_HS   -22.48734 5.759015   -3.90472 1.168115e-04\n",
       "Education_GRAD  27.51819 5.773612    4.76620 2.943242e-06"
      ]
     },
     "metadata": {},
     "output_type": "display_data"
    }
   ],
   "source": [
    "summary(salary_v_education_lm)$coefficients"
   ]
  },
  {
   "cell_type": "code",
   "execution_count": 84,
   "metadata": {},
   "outputs": [
    {
     "data": {
      "text/html": [
       "27.518187561512"
      ],
      "text/latex": [
       "27.518187561512"
      ],
      "text/markdown": [
       "27.518187561512"
      ],
      "text/plain": [
       "[1] 27.51819"
      ]
     },
     "metadata": {},
     "output_type": "display_data"
    }
   ],
   "source": [
    "summary(salary_v_education_lm)$coefficients[3]"
   ]
  },
  {
   "cell_type": "markdown",
   "metadata": {},
   "source": [
    "So how do we interpret these results? The ***(Intercept)*** in this case corresponds to our *base case* - that is an individual who's highest level of education obtained is an undergraduate degree.\n",
    "\n",
    "Since $$Salary = b_{0} + b_{1}HS + b_{2}GRAD$$\n",
    "\n",
    "and the intercept occurs when $b_{1}=0$ and $b_{2}=0$, we expect someone with an undergraduate degree to have an average salary of $87.92k.\n",
    "\n",
    "We expect someone with a high school degree to have an average salary of $b_{0} + b_{1} = 87.92 + (-22.49) = 65.43$ or $65.43k.\n",
    "\n",
    "Similarly, we can expect someone with a graduate degree to have an average salary of $b_{0} + b_{2} = 87.92 + 27.52 = 115.44$ or $115.44k.\n",
    "\n",
    "Remember - these are **average** values."
   ]
  },
  {
   "cell_type": "code",
   "execution_count": 152,
   "metadata": {},
   "outputs": [
    {
     "data": {
      "image/png": "[encoded data removed]",
      "text/plain": [
       "plot without title"
      ]
     },
     "metadata": {},
     "output_type": "display_data"
    }
   ],
   "source": [
    "with(edsal_df,plot(Education, Salary))\n",
    "abline(h=summary(salary_v_education_lm)$coefficients[1], col=\"blue\")\n",
    "abline(h=summary(salary_v_education_lm)$coefficients[1] + summary(salary_v_education_lm)$coefficients[2], col=\"red\")\n",
    "abline(h=summary(salary_v_education_lm)$coefficients[1] + summary(salary_v_education_lm)$coefficients[3], col=\"green\")\n",
    "cc <- coef(salary_v_education_lm)\n",
    "eqn <- paste(\"Y =\", paste(round(cc[1],2), paste(round(cc[-1],2), names(cc[-1]), sep=\" * \", collapse=\" + \"), sep=\" + \"), \"+ e\")\n",
    "mtext(eqn, 3)"
   ]
  },
  {
   "cell_type": "markdown",
   "metadata": {},
   "source": [
    "We can overlay these values on a box-whisker plot. The green line is for average graduate salary, red line for HS salary, and the blue line for undergraduate salary.\n",
    "\n",
    "***Note:***\n",
    "\n",
    "We do not need to explicitly create dummy variables to do linear regression in R. We could just as easily pass our Factor variable into the model directly as shown below:"
   ]
  },
  {
   "cell_type": "code",
   "execution_count": 86,
   "metadata": {},
   "outputs": [
    {
     "data": {
      "text/html": [
       "<table>\n",
       "<thead><tr><th></th><th scope=col>Estimate</th><th scope=col>Std. Error</th><th scope=col>t value</th><th scope=col>Pr(&gt;|t|)</th></tr></thead>\n",
       "<tbody>\n",
       "\t<tr><th scope=row>(Intercept)</th><td>115.44142   </td><td>4.102922    </td><td>28.136393   </td><td>9.117194e-86</td></tr>\n",
       "\t<tr><th scope=row>EducationHS</th><td>-50.00553   </td><td>5.787884    </td><td>-8.639691   </td><td>3.536470e-16</td></tr>\n",
       "\t<tr><th scope=row>EducationUG</th><td>-27.51819   </td><td>5.773612    </td><td>-4.766200   </td><td>2.943242e-06</td></tr>\n",
       "</tbody>\n",
       "</table>\n"
      ],
      "text/latex": [
       "\\begin{tabular}{r|llll}\n",
       "  & Estimate & Std. Error & t value & Pr(>\\textbar{}t\\textbar{})\\\\\n",
       "\\hline\n",
       "\t(Intercept) & 115.44142    & 4.102922     & 28.136393    & 9.117194e-86\\\\\n",
       "\tEducationHS & -50.00553    & 5.787884     & -8.639691    & 3.536470e-16\\\\\n",
       "\tEducationUG & -27.51819    & 5.773612     & -4.766200    & 2.943242e-06\\\\\n",
       "\\end{tabular}\n"
      ],
      "text/markdown": [
       "\n",
       "| <!--/--> | Estimate | Std. Error | t value | Pr(>|t|) | \n",
       "|---|---|---|\n",
       "| (Intercept) | 115.44142    | 4.102922     | 28.136393    | 9.117194e-86 | \n",
       "| EducationHS | -50.00553    | 5.787884     | -8.639691    | 3.536470e-16 | \n",
       "| EducationUG | -27.51819    | 5.773612     | -4.766200    | 2.943242e-06 | \n",
       "\n",
       "\n"
      ],
      "text/plain": [
       "            Estimate  Std. Error t value   Pr(>|t|)    \n",
       "(Intercept) 115.44142 4.102922   28.136393 9.117194e-86\n",
       "EducationHS -50.00553 5.787884   -8.639691 3.536470e-16\n",
       "EducationUG -27.51819 5.773612   -4.766200 2.943242e-06"
      ]
     },
     "metadata": {},
     "output_type": "display_data"
    }
   ],
   "source": [
    "summary(lm(Salary~Education, edsal_df))$coefficients"
   ]
  },
  {
   "cell_type": "markdown",
   "metadata": {},
   "source": [
    "However, this is dangerous as R will automatically choose a base case for us! It's not a big deal with only two or three categorical variables, but with many categorical variables it can be easy to lose track of what your base or reference case is. To automatically draw our truth table we can simply call the R function `contrasts` on our categorical column:"
   ]
  },
  {
   "cell_type": "code",
   "execution_count": 87,
   "metadata": {},
   "outputs": [
    {
     "data": {
      "text/html": [
       "<table>\n",
       "<thead><tr><th></th><th scope=col>HS</th><th scope=col>UG</th></tr></thead>\n",
       "<tbody>\n",
       "\t<tr><th scope=row>GRAD</th><td>0</td><td>0</td></tr>\n",
       "\t<tr><th scope=row>HS</th><td>1</td><td>0</td></tr>\n",
       "\t<tr><th scope=row>UG</th><td>0</td><td>1</td></tr>\n",
       "</tbody>\n",
       "</table>\n"
      ],
      "text/latex": [
       "\\begin{tabular}{r|ll}\n",
       "  & HS & UG\\\\\n",
       "\\hline\n",
       "\tGRAD & 0 & 0\\\\\n",
       "\tHS & 1 & 0\\\\\n",
       "\tUG & 0 & 1\\\\\n",
       "\\end{tabular}\n"
      ],
      "text/markdown": [
       "\n",
       "| <!--/--> | HS | UG | \n",
       "|---|---|---|\n",
       "| GRAD | 0 | 0 | \n",
       "| HS | 1 | 0 | \n",
       "| UG | 0 | 1 | \n",
       "\n",
       "\n"
      ],
      "text/plain": [
       "     HS UG\n",
       "GRAD 0  0 \n",
       "HS   1  0 \n",
       "UG   0  1 "
      ]
     },
     "metadata": {},
     "output_type": "display_data"
    }
   ],
   "source": [
    "contrasts(edsal_df$Education)"
   ]
  },
  {
   "cell_type": "markdown",
   "metadata": {},
   "source": [
    "## Salary Vs. Education + Experience"
   ]
  },
  {
   "cell_type": "code",
   "execution_count": 88,
   "metadata": {},
   "outputs": [],
   "source": [
    "salary_v_education_experience_lm <- lm(Salary~Experience + Education_HS+Education_GRAD, edsal_df)"
   ]
  },
  {
   "cell_type": "markdown",
   "metadata": {},
   "source": [
    "$Salary = b_{0} + b_{1}Experience + b_{2}HS + b_{3}GRAD$"
   ]
  },
  {
   "cell_type": "code",
   "execution_count": 89,
   "metadata": {},
   "outputs": [
    {
     "data": {
      "text/html": [
       "<table>\n",
       "<thead><tr><th></th><th scope=col>Estimate</th><th scope=col>Std. Error</th><th scope=col>t value</th><th scope=col>Pr(&gt;|t|)</th></tr></thead>\n",
       "<tbody>\n",
       "\t<tr><th scope=row>(Intercept)</th><td> 28.358742   </td><td>2.34783822   </td><td>12.078661    </td><td> 1.405221e-27</td></tr>\n",
       "\t<tr><th scope=row>Experience</th><td>  2.970871   </td><td>0.08011239   </td><td>37.083790    </td><td>2.822442e-113</td></tr>\n",
       "\t<tr><th scope=row>Education_HS</th><td>-15.061634   </td><td>2.43603448   </td><td>-6.182849    </td><td> 2.084640e-09</td></tr>\n",
       "\t<tr><th scope=row>Education_GRAD</th><td> 25.924750   </td><td>2.43432338   </td><td>10.649674    </td><td> 1.235379e-22</td></tr>\n",
       "</tbody>\n",
       "</table>\n"
      ],
      "text/latex": [
       "\\begin{tabular}{r|llll}\n",
       "  & Estimate & Std. Error & t value & Pr(>\\textbar{}t\\textbar{})\\\\\n",
       "\\hline\n",
       "\t(Intercept) &  28.358742    & 2.34783822    & 12.078661     &  1.405221e-27\\\\\n",
       "\tExperience &   2.970871    & 0.08011239    & 37.083790     & 2.822442e-113\\\\\n",
       "\tEducation\\_HS & -15.061634    & 2.43603448    & -6.182849     &  2.084640e-09\\\\\n",
       "\tEducation\\_GRAD &  25.924750    & 2.43432338    & 10.649674     &  1.235379e-22\\\\\n",
       "\\end{tabular}\n"
      ],
      "text/markdown": [
       "\n",
       "| <!--/--> | Estimate | Std. Error | t value | Pr(>|t|) | \n",
       "|---|---|---|---|\n",
       "| (Intercept) |  28.358742    | 2.34783822    | 12.078661     |  1.405221e-27 | \n",
       "| Experience |   2.970871    | 0.08011239    | 37.083790     | 2.822442e-113 | \n",
       "| Education_HS | -15.061634    | 2.43603448    | -6.182849     |  2.084640e-09 | \n",
       "| Education_GRAD |  25.924750    | 2.43432338    | 10.649674     |  1.235379e-22 | \n",
       "\n",
       "\n"
      ],
      "text/plain": [
       "               Estimate   Std. Error t value   Pr(>|t|)     \n",
       "(Intercept)     28.358742 2.34783822 12.078661  1.405221e-27\n",
       "Experience       2.970871 0.08011239 37.083790 2.822442e-113\n",
       "Education_HS   -15.061634 2.43603448 -6.182849  2.084640e-09\n",
       "Education_GRAD  25.924750 2.43432338 10.649674  1.235379e-22"
      ]
     },
     "metadata": {},
     "output_type": "display_data"
    }
   ],
   "source": [
    "summary(salary_v_education_experience_lm)$coefficients"
   ]
  },
  {
   "cell_type": "code",
   "execution_count": 90,
   "metadata": {},
   "outputs": [
    {
     "data": {},
     "metadata": {},
     "output_type": "display_data"
    },
    {
     "data": {
      "image/png": "[encoded data removed]",
      "text/plain": [
       "plot without title"
      ]
     },
     "metadata": {},
     "output_type": "display_data"
    }
   ],
   "source": [
    "cc <- coef(salary_v_education_experience_lm)\n",
    "eqn <- paste(\"Y =\", paste(round(cc[1],2), paste(round(cc[-1],2), names(cc[-1]), sep=\" * \", collapse=\" + \"), sep=\" + \"), \"+ e\")\n",
    "ggplot(edsal_df, aes(x=Experience, y=Salary, col=Education)) + geom_point() +\n",
    "            geom_smooth(method=\"lm\", se=FALSE) + ggtitle(eqn) + theme(plot.title = element_text(size = 10, face = \"bold\", hjust = 0.5))"
   ]
  },
  {
   "cell_type": "markdown",
   "metadata": {},
   "source": [
    "The thing to note here is that all three lines have the same slope given by $b_{1} = 2.971$. So the average salary for an undergraduate with no experience boils down to $Salary = b_{0} = 28.36$ or $28.36k."
   ]
  },
  {
   "cell_type": "markdown",
   "metadata": {},
   "source": [
    "## Interaction terms\n",
    "\n",
    "In the model above we assumed that slope was constant amongst the three categories of education. In reality this may not be the case! Interaction terms can be used to overcome this.\n",
    "\n",
    "Interaction terms are the product of two variables. Let's introduce two new variables to capture the interaction between education and experience level."
   ]
  },
  {
   "cell_type": "code",
   "execution_count": 91,
   "metadata": {},
   "outputs": [],
   "source": [
    "edsal_df$H_Exp <- edsal_df$Education_HS * edsal_df$Experience\n",
    "edsal_df$G_Exp <- edsal_df$Education_GRAD * edsal_df$Experience"
   ]
  },
  {
   "cell_type": "markdown",
   "metadata": {},
   "source": [
    "Our new regression model becomes:\n",
    "\n",
    "$$\n",
    "Salary = b_{0} + b_{1}Experience + b_{2}HS + b_{3}GRAD + b_{4}H_Exp + b_{5}G_Exp\n",
    "$$"
   ]
  },
  {
   "cell_type": "code",
   "execution_count": 92,
   "metadata": {},
   "outputs": [],
   "source": [
    "interactions_lm <- lm(Salary~Experience + Education_HS+Education_GRAD+H_Exp+G_Exp, edsal_df)"
   ]
  },
  {
   "cell_type": "code",
   "execution_count": 93,
   "metadata": {},
   "outputs": [
    {
     "data": {
      "text/html": [
       "<table>\n",
       "<thead><tr><th></th><th scope=col>Estimate</th><th scope=col>Std. Error</th><th scope=col>t value</th><th scope=col>Pr(&gt;|t|)</th></tr></thead>\n",
       "<tbody>\n",
       "\t<tr><th scope=row>(Intercept)</th><td>27.3347710   </td><td>1.91609974   </td><td> 14.2658393  </td><td> 1.888268e-35</td></tr>\n",
       "\t<tr><th scope=row>Experience</th><td> 3.0219432   </td><td>0.08087211   </td><td> 37.3669402  </td><td>1.110214e-113</td></tr>\n",
       "\t<tr><th scope=row>Education_HS</th><td>11.4755662   </td><td>2.63965591   </td><td>  4.3473720  </td><td> 1.900948e-05</td></tr>\n",
       "\t<tr><th scope=row>Education_GRAD</th><td> 0.3044409   </td><td>2.75592085   </td><td>  0.1104679  </td><td> 9.121137e-01</td></tr>\n",
       "\t<tr><th scope=row>H_Exp</th><td>-1.5048174   </td><td>0.11757787   </td><td>-12.7984746  </td><td> 4.126352e-30</td></tr>\n",
       "\t<tr><th scope=row>G_Exp</th><td> 1.2432280   </td><td>0.11528103   </td><td> 10.7843246  </td><td> 4.554062e-23</td></tr>\n",
       "</tbody>\n",
       "</table>\n"
      ],
      "text/latex": [
       "\\begin{tabular}{r|llll}\n",
       "  & Estimate & Std. Error & t value & Pr(>\\textbar{}t\\textbar{})\\\\\n",
       "\\hline\n",
       "\t(Intercept) & 27.3347710    & 1.91609974    &  14.2658393   &  1.888268e-35\\\\\n",
       "\tExperience &  3.0219432    & 0.08087211    &  37.3669402   & 1.110214e-113\\\\\n",
       "\tEducation\\_HS & 11.4755662    & 2.63965591    &   4.3473720   &  1.900948e-05\\\\\n",
       "\tEducation\\_GRAD &  0.3044409    & 2.75592085    &   0.1104679   &  9.121137e-01\\\\\n",
       "\tH\\_Exp & -1.5048174    & 0.11757787    & -12.7984746   &  4.126352e-30\\\\\n",
       "\tG\\_Exp &  1.2432280    & 0.11528103    &  10.7843246   &  4.554062e-23\\\\\n",
       "\\end{tabular}\n"
      ],
      "text/markdown": [
       "\n",
       "| <!--/--> | Estimate | Std. Error | t value | Pr(>|t|) | \n",
       "|---|---|---|---|---|---|\n",
       "| (Intercept) | 27.3347710    | 1.91609974    |  14.2658393   |  1.888268e-35 | \n",
       "| Experience |  3.0219432    | 0.08087211    |  37.3669402   | 1.110214e-113 | \n",
       "| Education_HS | 11.4755662    | 2.63965591    |   4.3473720   |  1.900948e-05 | \n",
       "| Education_GRAD |  0.3044409    | 2.75592085    |   0.1104679   |  9.121137e-01 | \n",
       "| H_Exp | -1.5048174    | 0.11757787    | -12.7984746   |  4.126352e-30 | \n",
       "| G_Exp |  1.2432280    | 0.11528103    |  10.7843246   |  4.554062e-23 | \n",
       "\n",
       "\n"
      ],
      "text/plain": [
       "               Estimate   Std. Error t value     Pr(>|t|)     \n",
       "(Intercept)    27.3347710 1.91609974  14.2658393  1.888268e-35\n",
       "Experience      3.0219432 0.08087211  37.3669402 1.110214e-113\n",
       "Education_HS   11.4755662 2.63965591   4.3473720  1.900948e-05\n",
       "Education_GRAD  0.3044409 2.75592085   0.1104679  9.121137e-01\n",
       "H_Exp          -1.5048174 0.11757787 -12.7984746  4.126352e-30\n",
       "G_Exp           1.2432280 0.11528103  10.7843246  4.554062e-23"
      ]
     },
     "metadata": {},
     "output_type": "display_data"
    }
   ],
   "source": [
    "summary(interactions_lm)$coefficients"
   ]
  },
  {
   "cell_type": "markdown",
   "metadata": {},
   "source": [
    "How do we interpret the coefficients for `H_Exp` and `G_Exp`? Since they are interaction terms with `Experience`, the coefficient $b_{4}$ for `H_Exp` is the amount we must add to coefficient $b_{1}$ to get the slope for individuals with HS education.\n",
    "\n",
    "In this example the effect of experience for individuals with HS education is $b_{1} + b_{4} = 3.02 + (-1.50) = 1.52$ or an increase in salary of $1.52k per year of experience. \n",
    "\n",
    "Contrast this to the base case effect of experience for individuals with undergraduate experience $b_{1} = 3.02$ or an increase in salary of $3.02k per year of experience.\n",
    "\n",
    "Graduate degrees take the cake with an increase in salary per year of experience of $b_{1} + b_{5} = 3.02 + 1.24 = 4.26$ or $4.26k."
   ]
  },
  {
   "cell_type": "code",
   "execution_count": 95,
   "metadata": {},
   "outputs": [],
   "source": [
    "HS <- function(x){(27.33+11.48)+((3.02+(-1.50))*x)}\n",
    "UG <- function(x){27.33+(3.02*x)}\n",
    "GRAD <- function(x){(27.33+0.30)+((3.02+(1.24))*x)}"
   ]
  },
  {
   "cell_type": "code",
   "execution_count": 109,
   "metadata": {},
   "outputs": [
    {
     "data": {
      "image/png": "[encoded data removed]",
      "text/plain": [
       "plot without title"
      ]
     },
     "metadata": {},
     "output_type": "display_data"
    }
   ],
   "source": [
    "plot(UG(0:45), type='l', xlab=\"Experience\", ylab=\"Salary\")\n",
    "abline(a=(27.33+11.48), b=(3.02+(-1.50)), col=\"red\")\n",
    "abline(a=(27.33+0.30), b=(3.02+(1.24)), col=\"green\")\n",
    "legend(1, 120, legend=c(\"Undergraduate\", \"High School\", \"Graduate\"),\n",
    "       col=c(\"black\", \"red\", \"green\"), lty=1:1:1, cex=0.8)"
   ]
  },
  {
   "cell_type": "markdown",
   "metadata": {},
   "source": [
    "As we can see in this fake dataset, the effects of getting a graduate degree outpace the alternative education options!"
   ]
  },
  {
   "cell_type": "markdown",
   "metadata": {},
   "source": [
    "## Application\n",
    "\n",
    "Let's transition to a real world dataset pulled from [insideairbnb.com](http://insideairbnb.com/get-the-data.html) to put what we've learned to use!"
   ]
  },
  {
   "cell_type": "markdown",
   "metadata": {},
   "source": [
    "reference: https://stackoverflow.com/a/25455968"
   ]
  },
  {
   "cell_type": "code",
   "execution_count": 120,
   "metadata": {},
   "outputs": [],
   "source": [
    "loadRData <- function(fileName){\n",
    "#loads an RData file, and returns it\n",
    "    load(fileName)\n",
    "    get(ls()[ls() != \"fileName\"])\n",
    "}"
   ]
  },
  {
   "cell_type": "code",
   "execution_count": 136,
   "metadata": {},
   "outputs": [],
   "source": [
    "la_listings <- loadRData(\"la_listing_full.RData\")"
   ]
  },
  {
   "cell_type": "markdown",
   "metadata": {},
   "source": [
    "Let's subset the dataset to only look at certain columns of interest."
   ]
  },
  {
   "cell_type": "code",
   "execution_count": 137,
   "metadata": {},
   "outputs": [],
   "source": [
    "la_listings <- la_listings[c('price','number_of_reviews','beds','bathrooms','accommodates','reviews_per_month', 'room_type', 'review_scores_rating')]"
   ]
  },
  {
   "cell_type": "code",
   "execution_count": 138,
   "metadata": {},
   "outputs": [
    {
     "data": {
      "text/html": [
       "<table>\n",
       "<thead><tr><th scope=col>price</th><th scope=col>number_of_reviews</th><th scope=col>beds</th><th scope=col>bathrooms</th><th scope=col>accommodates</th><th scope=col>reviews_per_month</th><th scope=col>room_type</th><th scope=col>review_scores_rating</th></tr></thead>\n",
       "<tbody>\n",
       "\t<tr><td>$3,000.00      </td><td> 0             </td><td>5              </td><td>7              </td><td>10             </td><td>  NA           </td><td>Entire home/apt</td><td> NA            </td></tr>\n",
       "\t<tr><td>$50.00         </td><td>33             </td><td>1              </td><td>1              </td><td> 2             </td><td>1.91           </td><td>Private room   </td><td> 93            </td></tr>\n",
       "\t<tr><td>$55.00         </td><td>14             </td><td>1              </td><td>1              </td><td> 2             </td><td>1.72           </td><td>Private room   </td><td>100            </td></tr>\n",
       "\t<tr><td>$150.00        </td><td>22             </td><td>3              </td><td>1              </td><td> 6             </td><td>2.12           </td><td>Entire home/apt</td><td>100            </td></tr>\n",
       "\t<tr><td>$30.00         </td><td> 3             </td><td>1              </td><td>1              </td><td> 1             </td><td>0.18           </td><td>Private room   </td><td> 93            </td></tr>\n",
       "\t<tr><td>$35.00         </td><td> 0             </td><td>1              </td><td>1              </td><td> 1             </td><td>  NA           </td><td>Private room   </td><td> NA            </td></tr>\n",
       "</tbody>\n",
       "</table>\n"
      ],
      "text/latex": [
       "\\begin{tabular}{r|llllllll}\n",
       " price & number\\_of\\_reviews & beds & bathrooms & accommodates & reviews\\_per\\_month & room\\_type & review\\_scores\\_rating\\\\\n",
       "\\hline\n",
       "\t \\$3,000.00     &  0              & 5               & 7               & 10              &   NA            & Entire home/apt &  NA            \\\\\n",
       "\t \\$50.00        & 33              & 1               & 1               &  2              & 1.91            & Private room    &  93            \\\\\n",
       "\t \\$55.00        & 14              & 1               & 1               &  2              & 1.72            & Private room    & 100            \\\\\n",
       "\t \\$150.00       & 22              & 3               & 1               &  6              & 2.12            & Entire home/apt & 100            \\\\\n",
       "\t \\$30.00        &  3              & 1               & 1               &  1              & 0.18            & Private room    &  93            \\\\\n",
       "\t \\$35.00        &  0              & 1               & 1               &  1              &   NA            & Private room    &  NA            \\\\\n",
       "\\end{tabular}\n"
      ],
      "text/markdown": [
       "\n",
       "price | number_of_reviews | beds | bathrooms | accommodates | reviews_per_month | room_type | review_scores_rating | \n",
       "|---|---|---|---|---|---|\n",
       "| $3,000.00       |  0              | 5               | 7               | 10              |   NA            | Entire home/apt |  NA             | \n",
       "| $50.00          | 33              | 1               | 1               |  2              | 1.91            | Private room    |  93             | \n",
       "| $55.00          | 14              | 1               | 1               |  2              | 1.72            | Private room    | 100             | \n",
       "| $150.00         | 22              | 3               | 1               |  6              | 2.12            | Entire home/apt | 100             | \n",
       "| $30.00          |  3              | 1               | 1               |  1              | 0.18            | Private room    |  93             | \n",
       "| $35.00          |  0              | 1               | 1               |  1              |   NA            | Private room    |  NA             | \n",
       "\n",
       "\n"
      ],
      "text/plain": [
       "  price     number_of_reviews beds bathrooms accommodates reviews_per_month\n",
       "1 $3,000.00  0                5    7         10             NA             \n",
       "2 $50.00    33                1    1          2           1.91             \n",
       "3 $55.00    14                1    1          2           1.72             \n",
       "4 $150.00   22                3    1          6           2.12             \n",
       "5 $30.00     3                1    1          1           0.18             \n",
       "6 $35.00     0                1    1          1             NA             \n",
       "  room_type       review_scores_rating\n",
       "1 Entire home/apt  NA                 \n",
       "2 Private room     93                 \n",
       "3 Private room    100                 \n",
       "4 Entire home/apt 100                 \n",
       "5 Private room     93                 \n",
       "6 Private room     NA                 "
      ]
     },
     "metadata": {},
     "output_type": "display_data"
    }
   ],
   "source": [
    "head(la_listings)"
   ]
  },
  {
   "cell_type": "code",
   "execution_count": 140,
   "metadata": {},
   "outputs": [],
   "source": [
    "la_listings$price <- as.numeric(gsub('[$,]', '', la_listings$price))\n",
    "la_listings$room_type <- as.factor(la_listings$room_type)"
   ]
  },
  {
   "cell_type": "code",
   "execution_count": 144,
   "metadata": {},
   "outputs": [
    {
     "name": "stdout",
     "output_type": "stream",
     "text": [
      "Classes 'tbl_df', 'tbl' and 'data.frame':\t31253 obs. of  8 variables:\n",
      " $ price               : num  3000 50 55 150 30 35 45 56 350 80 ...\n",
      " $ number_of_reviews   : int  0 33 14 22 3 0 38 23 0 42 ...\n",
      " $ beds                : int  5 1 1 3 1 1 1 1 1 2 ...\n",
      " $ bathrooms           : num  7 1 1 1 1 1 1 NA 1.5 1.5 ...\n",
      " $ accommodates        : int  10 2 2 6 1 1 2 2 2 2 ...\n",
      " $ reviews_per_month   : num  NA 1.91 1.72 2.12 0.18 NA 7.92 0.41 NA 1.89 ...\n",
      " $ room_type           : Factor w/ 3 levels \"Entire home/apt\",..: 1 2 2 1 2 2 2 2 1 2 ...\n",
      " $ review_scores_rating: int  NA 93 100 100 93 NA 98 89 NA 99 ...\n"
     ]
    }
   ],
   "source": [
    "str(la_listings)"
   ]
  },
  {
   "cell_type": "markdown",
   "metadata": {},
   "source": [
    "Let's subset the dataset to exclude prices greater than $1000."
   ]
  },
  {
   "cell_type": "code",
   "execution_count": 145,
   "metadata": {},
   "outputs": [
    {
     "data": {
      "text/html": [
       "<table>\n",
       "<thead><tr><th scope=col>price</th><th scope=col>number_of_reviews</th><th scope=col>beds</th><th scope=col>bathrooms</th><th scope=col>accommodates</th><th scope=col>reviews_per_month</th><th scope=col>room_type</th><th scope=col>review_scores_rating</th></tr></thead>\n",
       "<tbody>\n",
       "\t<tr><td> 50            </td><td>33             </td><td>1              </td><td>1              </td><td>2              </td><td>1.91           </td><td>Private room   </td><td> 93            </td></tr>\n",
       "\t<tr><td> 55            </td><td>14             </td><td>1              </td><td>1              </td><td>2              </td><td>1.72           </td><td>Private room   </td><td>100            </td></tr>\n",
       "\t<tr><td>150            </td><td>22             </td><td>3              </td><td>1              </td><td>6              </td><td>2.12           </td><td>Entire home/apt</td><td>100            </td></tr>\n",
       "\t<tr><td> 30            </td><td> 3             </td><td>1              </td><td>1              </td><td>1              </td><td>0.18           </td><td>Private room   </td><td> 93            </td></tr>\n",
       "\t<tr><td> 35            </td><td> 0             </td><td>1              </td><td>1              </td><td>1              </td><td>  NA           </td><td>Private room   </td><td> NA            </td></tr>\n",
       "\t<tr><td> 45            </td><td>38             </td><td>1              </td><td>1              </td><td>2              </td><td>7.92           </td><td>Private room   </td><td> 98            </td></tr>\n",
       "</tbody>\n",
       "</table>\n"
      ],
      "text/latex": [
       "\\begin{tabular}{r|llllllll}\n",
       " price & number\\_of\\_reviews & beds & bathrooms & accommodates & reviews\\_per\\_month & room\\_type & review\\_scores\\_rating\\\\\n",
       "\\hline\n",
       "\t  50             & 33              & 1               & 1               & 2               & 1.91            & Private room    &  93            \\\\\n",
       "\t  55             & 14              & 1               & 1               & 2               & 1.72            & Private room    & 100            \\\\\n",
       "\t 150             & 22              & 3               & 1               & 6               & 2.12            & Entire home/apt & 100            \\\\\n",
       "\t  30             &  3              & 1               & 1               & 1               & 0.18            & Private room    &  93            \\\\\n",
       "\t  35             &  0              & 1               & 1               & 1               &   NA            & Private room    &  NA            \\\\\n",
       "\t  45             & 38              & 1               & 1               & 2               & 7.92            & Private room    &  98            \\\\\n",
       "\\end{tabular}\n"
      ],
      "text/markdown": [
       "\n",
       "price | number_of_reviews | beds | bathrooms | accommodates | reviews_per_month | room_type | review_scores_rating | \n",
       "|---|---|---|---|---|---|\n",
       "|  50             | 33              | 1               | 1               | 2               | 1.91            | Private room    |  93             | \n",
       "|  55             | 14              | 1               | 1               | 2               | 1.72            | Private room    | 100             | \n",
       "| 150             | 22              | 3               | 1               | 6               | 2.12            | Entire home/apt | 100             | \n",
       "|  30             |  3              | 1               | 1               | 1               | 0.18            | Private room    |  93             | \n",
       "|  35             |  0              | 1               | 1               | 1               |   NA            | Private room    |  NA             | \n",
       "|  45             | 38              | 1               | 1               | 2               | 7.92            | Private room    |  98             | \n",
       "\n",
       "\n"
      ],
      "text/plain": [
       "  price number_of_reviews beds bathrooms accommodates reviews_per_month\n",
       "1  50   33                1    1         2            1.91             \n",
       "2  55   14                1    1         2            1.72             \n",
       "3 150   22                3    1         6            2.12             \n",
       "4  30    3                1    1         1            0.18             \n",
       "5  35    0                1    1         1              NA             \n",
       "6  45   38                1    1         2            7.92             \n",
       "  room_type       review_scores_rating\n",
       "1 Private room     93                 \n",
       "2 Private room    100                 \n",
       "3 Entire home/apt 100                 \n",
       "4 Private room     93                 \n",
       "5 Private room     NA                 \n",
       "6 Private room     98                 "
      ]
     },
     "metadata": {},
     "output_type": "display_data"
    }
   ],
   "source": [
    "la_listings <- subset(la_listings, price<=1000)\n",
    "head(la_listings)"
   ]
  },
  {
   "cell_type": "markdown",
   "metadata": {},
   "source": [
    "Now we're ready to conduct our analysis!\n",
    "\n",
    "In particular let's focus on the dependent variable `price` and begin to ask questions like:\n",
    "\n",
    "* If the property `accommodates` more people, is the `price` greater?\n",
    "* Does the `room_type` have an effect on price?"
   ]
  },
  {
   "cell_type": "markdown",
   "metadata": {},
   "source": [
    "## Airbnb model 1\n",
    "\n",
    "$price = b_{0} + b_{1}accommodates$"
   ]
  },
  {
   "cell_type": "code",
   "execution_count": 147,
   "metadata": {},
   "outputs": [
    {
     "data": {
      "text/plain": [
       "\n",
       "Call:\n",
       "lm(formula = price ~ accommodates, data = la_listings)\n",
       "\n",
       "Residuals:\n",
       "    Min      1Q  Median      3Q     Max \n",
       "-549.31  -46.40  -16.95   22.05  937.50 \n",
       "\n",
       "Coefficients:\n",
       "             Estimate Std. Error t value Pr(>|t|)    \n",
       "(Intercept)   28.0423     1.0591   26.48   <2e-16 ***\n",
       "accommodates  34.4540     0.2604  132.29   <2e-16 ***\n",
       "---\n",
       "Signif. codes:  0 '***' 0.001 '**' 0.01 '*' 0.05 '.' 0.1 ' ' 1\n",
       "\n",
       "Residual standard error: 106.5 on 30779 degrees of freedom\n",
       "Multiple R-squared:  0.3625,\tAdjusted R-squared:  0.3625 \n",
       "F-statistic: 1.75e+04 on 1 and 30779 DF,  p-value: < 2.2e-16\n"
      ]
     },
     "metadata": {},
     "output_type": "display_data"
    }
   ],
   "source": [
    "airbnb1 <- lm(price~accommodates,la_listings)\n",
    "summary(airbnb1)"
   ]
  },
  {
   "cell_type": "code",
   "execution_count": 154,
   "metadata": {},
   "outputs": [
    {
     "data": {
      "image/png": "[encoded data removed]",
      "text/plain": [
       "plot without title"
      ]
     },
     "metadata": {},
     "output_type": "display_data"
    }
   ],
   "source": [
    "with(la_listings,plot(accommodates, price))\n",
    "abline(airbnb1, col=\"red\")\n",
    "cc <- coef(airbnb1)\n",
    "eqn <- paste(\"price =\", paste(round(cc[1],2), paste(round(cc[-1],2), names(cc[-1]), sep=\" * \", collapse=\" + \"), sep=\" + \"), \"+ e\")\n",
    "mtext(eqn, 3)"
   ]
  },
  {
   "cell_type": "markdown",
   "metadata": {},
   "source": [
    "It makes sense that a property owner will charge more if they have more rooms available!"
   ]
  },
  {
   "cell_type": "markdown",
   "metadata": {},
   "source": [
    "## Airbnb model 2\n",
    "\n",
    "$price = b_{0} + b_{1}room\\_type$\n",
    "\n",
    "First we need to make our dummy variables! Let's call the `contrasts` function and use the R selected base case."
   ]
  },
  {
   "cell_type": "code",
   "execution_count": 155,
   "metadata": {},
   "outputs": [
    {
     "data": {
      "text/html": [
       "<table>\n",
       "<thead><tr><th></th><th scope=col>Private room</th><th scope=col>Shared room</th></tr></thead>\n",
       "<tbody>\n",
       "\t<tr><th scope=row>Entire home/apt</th><td>0</td><td>0</td></tr>\n",
       "\t<tr><th scope=row>Private room</th><td>1</td><td>0</td></tr>\n",
       "\t<tr><th scope=row>Shared room</th><td>0</td><td>1</td></tr>\n",
       "</tbody>\n",
       "</table>\n"
      ],
      "text/latex": [
       "\\begin{tabular}{r|ll}\n",
       "  & Private room & Shared room\\\\\n",
       "\\hline\n",
       "\tEntire home/apt & 0 & 0\\\\\n",
       "\tPrivate room & 1 & 0\\\\\n",
       "\tShared room & 0 & 1\\\\\n",
       "\\end{tabular}\n"
      ],
      "text/markdown": [
       "\n",
       "| <!--/--> | Private room | Shared room | \n",
       "|---|---|---|\n",
       "| Entire home/apt | 0 | 0 | \n",
       "| Private room | 1 | 0 | \n",
       "| Shared room | 0 | 1 | \n",
       "\n",
       "\n"
      ],
      "text/plain": [
       "                Private room Shared room\n",
       "Entire home/apt 0            0          \n",
       "Private room    1            0          \n",
       "Shared room     0            1          "
      ]
     },
     "metadata": {},
     "output_type": "display_data"
    }
   ],
   "source": [
    "contrasts(la_listings$room_type)"
   ]
  },
  {
   "cell_type": "markdown",
   "metadata": {},
   "source": [
    "Entire home/apt is the base case selected by R."
   ]
  },
  {
   "cell_type": "code",
   "execution_count": 156,
   "metadata": {},
   "outputs": [
    {
     "data": {
      "text/plain": [
       "\n",
       "Call:\n",
       "lm(formula = price ~ room_type, data = la_listings)\n",
       "\n",
       "Residuals:\n",
       "    Min      1Q  Median      3Q     Max \n",
       "-183.16  -63.16  -20.16   14.89  938.91 \n",
       "\n",
       "Coefficients:\n",
       "                       Estimate Std. Error t value Pr(>|t|)    \n",
       "(Intercept)            193.1584     0.9052  213.39   <2e-16 ***\n",
       "room_typePrivate room -113.0462     1.4349  -78.78   <2e-16 ***\n",
       "room_typeShared room  -145.0683     3.1042  -46.73   <2e-16 ***\n",
       "---\n",
       "Signif. codes:  0 '***' 0.001 '**' 0.01 '*' 0.05 '.' 0.1 ' ' 1\n",
       "\n",
       "Residual standard error: 119.9 on 30778 degrees of freedom\n",
       "Multiple R-squared:  0.1913,\tAdjusted R-squared:  0.1913 \n",
       "F-statistic:  3641 on 2 and 30778 DF,  p-value: < 2.2e-16\n"
      ]
     },
     "metadata": {},
     "output_type": "display_data"
    }
   ],
   "source": [
    "airbnb2 <- lm(price~room_type,la_listings)\n",
    "summary(airbnb2)"
   ]
  },
  {
   "cell_type": "code",
   "execution_count": 158,
   "metadata": {},
   "outputs": [
    {
     "data": {
      "image/png": "[encoded data removed]",
      "text/plain": [
       "plot without title"
      ]
     },
     "metadata": {},
     "output_type": "display_data"
    }
   ],
   "source": [
    "with(la_listings,plot(room_type, price))\n",
    "abline(h=summary(airbnb2)$coefficients[1], col=\"blue\")\n",
    "abline(h=summary(airbnb2)$coefficients[1] + summary(airbnb2)$coefficients[2], col=\"red\")\n",
    "abline(h=summary(airbnb2)$coefficients[1] + summary(airbnb2)$coefficients[3], col=\"green\")\n",
    "cc <- coef(airbnb2)\n",
    "eqn <- paste(\"price =\", paste(round(cc[1],2), paste(round(cc[-1],2), names(cc[-1]), sep=\" * \", collapse=\" + \"), sep=\" + \"), \"+ e\")\n",
    "mtext(eqn, 3, cex=0.9)"
   ]
  },
  {
   "cell_type": "markdown",
   "metadata": {},
   "source": [
    "Thus we expect an Entire home/apt to get on average $b_{0}=$ $193.16 per night.\n",
    "\n",
    "Thus we expect a Private room to get on average $b_{0} + b_{1}=193.16+(-113.05)$ or $80.11 per night.\n",
    "\n",
    "And we expect a Shared room to get on average $b_{0} + b_{2}=193.16+(-145.07)$ or $48.09 per night."
   ]
  },
  {
   "cell_type": "markdown",
   "metadata": {},
   "source": [
    "## Airbnb model 3\n",
    "\n",
    "$price = b_{0} + b_{1}accommodates + b_{2}room\\_type$"
   ]
  },
  {
   "cell_type": "code",
   "execution_count": 161,
   "metadata": {},
   "outputs": [
    {
     "data": {
      "text/plain": [
       "\n",
       "Call:\n",
       "lm(formula = price ~ accommodates + room_type, data = la_listings)\n",
       "\n",
       "Residuals:\n",
       "    Min      1Q  Median      3Q     Max \n",
       "-449.65  -45.92  -12.98   20.02  970.49 \n",
       "\n",
       "Coefficients:\n",
       "                      Estimate Std. Error t value Pr(>|t|)    \n",
       "(Intercept)            68.0060     1.4585   46.63   <2e-16 ***\n",
       "accommodates           29.2280     0.2873  101.72   <2e-16 ***\n",
       "room_typePrivate room -48.4788     1.3943  -34.77   <2e-16 ***\n",
       "room_typeShared room  -80.7194     2.7590  -29.26   <2e-16 ***\n",
       "---\n",
       "Signif. codes:  0 '***' 0.001 '**' 0.01 '*' 0.05 '.' 0.1 ' ' 1\n",
       "\n",
       "Residual standard error: 103.7 on 30777 degrees of freedom\n",
       "Multiple R-squared:  0.3948,\tAdjusted R-squared:  0.3947 \n",
       "F-statistic:  6692 on 3 and 30777 DF,  p-value: < 2.2e-16\n"
      ]
     },
     "metadata": {},
     "output_type": "display_data"
    }
   ],
   "source": [
    "airbnb3 <- lm(price~accommodates+room_type,la_listings)\n",
    "summary(airbnb3)"
   ]
  },
  {
   "cell_type": "code",
   "execution_count": 163,
   "metadata": {},
   "outputs": [
    {
     "data": {},
     "metadata": {},
     "output_type": "display_data"
    },
    {
     "data": {
      "image/png": "[encoded data removed]",
      "text/plain": [
       "plot without title"
      ]
     },
     "metadata": {},
     "output_type": "display_data"
    }
   ],
   "source": [
    "cc <- coef(airbnb3)\n",
    "eqn <- paste(\"Y =\", paste(round(cc[1],2), paste(round(cc[-1],2), names(cc[-1]), sep=\" * \", collapse=\" + \"), sep=\" + \"), \"+ e\")\n",
    "ggplot(la_listings, aes(x=accommodates, y=price, col=room_type)) + geom_point() +\n",
    "            geom_smooth(method=\"lm\", se=FALSE) + ggtitle(eqn) + theme(plot.title = element_text(size = 8, face = \"bold\", hjust = 0.5))"
   ]
  },
  {
   "cell_type": "markdown",
   "metadata": {},
   "source": [
    "Notice all three lines have slope $b_{1}=\\$29.23$ for each additional room."
   ]
  }
 ],
 "metadata": {
  "kernelspec": {
   "display_name": "R",
   "language": "R",
   "name": "ir"
  },
  "language_info": {
   "codemirror_mode": "r",
   "file_extension": ".r",
   "mimetype": "text/x-r-source",
   "name": "R",
   "pygments_lexer": "r",
   "version": "3.4.3"
  }
 },
 "nbformat": 4,
 "nbformat_minor": 2
}
