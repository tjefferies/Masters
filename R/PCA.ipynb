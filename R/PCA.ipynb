{
 "cells": [
  {
   "cell_type": "markdown",
   "metadata": {},
   "source": [
    "# PCA\n",
    "\n",
    "Using the trusty UCI repo and the crime data set http://www.statsci.org/data/general/uscrime.txt data dictionary at http://www.statsci.org/data/general/uscrime.html I will conduct a prinicpal component analysis of the attributes and then deploy a linear regression model."
   ]
  },
  {
   "cell_type": "markdown",
   "metadata": {},
   "source": [
    "\n",
    "\n",
    "### Load libraries and set seed\n",
    "\n"
   ]
  },
  {
   "cell_type": "code",
   "execution_count": 1,
   "metadata": {},
   "outputs": [],
   "source": [
    "options(jupyter.plot_mimetypes = c(\"text/plain\", \"image/png\" ))\n",
    "set.seed(37)"
   ]
  },
  {
   "cell_type": "markdown",
   "metadata": {},
   "source": [
    "\n",
    "\n",
    "### Load data\n",
    "\n"
   ]
  },
  {
   "cell_type": "code",
   "execution_count": 2,
   "metadata": {},
   "outputs": [
    {
     "data": {
      "text/html": [
       "<table>\n",
       "<thead><tr><th scope=col>M</th><th scope=col>So</th><th scope=col>Ed</th><th scope=col>Po1</th><th scope=col>Po2</th><th scope=col>LF</th><th scope=col>M.F</th><th scope=col>Pop</th><th scope=col>NW</th><th scope=col>U1</th><th scope=col>U2</th><th scope=col>Wealth</th><th scope=col>Ineq</th><th scope=col>Prob</th><th scope=col>Time</th><th scope=col>Crime</th></tr></thead>\n",
       "<tbody>\n",
       "\t<tr><td>15.1    </td><td>1       </td><td> 9.1    </td><td> 5.8    </td><td> 5.6    </td><td>0.510   </td><td> 95.0   </td><td> 33     </td><td>30.1    </td><td>0.108   </td><td>4.1     </td><td>3940    </td><td>26.1    </td><td>0.084602</td><td>26.2011 </td><td> 791    </td></tr>\n",
       "\t<tr><td>14.3    </td><td>0       </td><td>11.3    </td><td>10.3    </td><td> 9.5    </td><td>0.583   </td><td>101.2   </td><td> 13     </td><td>10.2    </td><td>0.096   </td><td>3.6     </td><td>5570    </td><td>19.4    </td><td>0.029599</td><td>25.2999 </td><td>1635    </td></tr>\n",
       "\t<tr><td>14.2    </td><td>1       </td><td> 8.9    </td><td> 4.5    </td><td> 4.4    </td><td>0.533   </td><td> 96.9   </td><td> 18     </td><td>21.9    </td><td>0.094   </td><td>3.3     </td><td>3180    </td><td>25.0    </td><td>0.083401</td><td>24.3006 </td><td> 578    </td></tr>\n",
       "\t<tr><td>13.6    </td><td>0       </td><td>12.1    </td><td>14.9    </td><td>14.1    </td><td>0.577   </td><td> 99.4   </td><td>157     </td><td> 8.0    </td><td>0.102   </td><td>3.9     </td><td>6730    </td><td>16.7    </td><td>0.015801</td><td>29.9012 </td><td>1969    </td></tr>\n",
       "\t<tr><td>14.1    </td><td>0       </td><td>12.1    </td><td>10.9    </td><td>10.1    </td><td>0.591   </td><td> 98.5   </td><td> 18     </td><td> 3.0    </td><td>0.091   </td><td>2.0     </td><td>5780    </td><td>17.4    </td><td>0.041399</td><td>21.2998 </td><td>1234    </td></tr>\n",
       "\t<tr><td>12.1    </td><td>0       </td><td>11.0    </td><td>11.8    </td><td>11.5    </td><td>0.547   </td><td> 96.4   </td><td> 25     </td><td> 4.4    </td><td>0.084   </td><td>2.9     </td><td>6890    </td><td>12.6    </td><td>0.034201</td><td>20.9995 </td><td> 682    </td></tr>\n",
       "</tbody>\n",
       "</table>\n"
      ],
      "text/latex": [
       "\\begin{tabular}{r|llllllllllllllll}\n",
       " M & So & Ed & Po1 & Po2 & LF & M.F & Pop & NW & U1 & U2 & Wealth & Ineq & Prob & Time & Crime\\\\\n",
       "\\hline\n",
       "\t 15.1     & 1        &  9.1     &  5.8     &  5.6     & 0.510    &  95.0    &  33      & 30.1     & 0.108    & 4.1      & 3940     & 26.1     & 0.084602 & 26.2011  &  791    \\\\\n",
       "\t 14.3     & 0        & 11.3     & 10.3     &  9.5     & 0.583    & 101.2    &  13      & 10.2     & 0.096    & 3.6      & 5570     & 19.4     & 0.029599 & 25.2999  & 1635    \\\\\n",
       "\t 14.2     & 1        &  8.9     &  4.5     &  4.4     & 0.533    &  96.9    &  18      & 21.9     & 0.094    & 3.3      & 3180     & 25.0     & 0.083401 & 24.3006  &  578    \\\\\n",
       "\t 13.6     & 0        & 12.1     & 14.9     & 14.1     & 0.577    &  99.4    & 157      &  8.0     & 0.102    & 3.9      & 6730     & 16.7     & 0.015801 & 29.9012  & 1969    \\\\\n",
       "\t 14.1     & 0        & 12.1     & 10.9     & 10.1     & 0.591    &  98.5    &  18      &  3.0     & 0.091    & 2.0      & 5780     & 17.4     & 0.041399 & 21.2998  & 1234    \\\\\n",
       "\t 12.1     & 0        & 11.0     & 11.8     & 11.5     & 0.547    &  96.4    &  25      &  4.4     & 0.084    & 2.9      & 6890     & 12.6     & 0.034201 & 20.9995  &  682    \\\\\n",
       "\\end{tabular}\n"
      ],
      "text/markdown": [
       "\n",
       "M | So | Ed | Po1 | Po2 | LF | M.F | Pop | NW | U1 | U2 | Wealth | Ineq | Prob | Time | Crime | \n",
       "|---|---|---|---|---|---|\n",
       "| 15.1     | 1        |  9.1     |  5.8     |  5.6     | 0.510    |  95.0    |  33      | 30.1     | 0.108    | 4.1      | 3940     | 26.1     | 0.084602 | 26.2011  |  791     | \n",
       "| 14.3     | 0        | 11.3     | 10.3     |  9.5     | 0.583    | 101.2    |  13      | 10.2     | 0.096    | 3.6      | 5570     | 19.4     | 0.029599 | 25.2999  | 1635     | \n",
       "| 14.2     | 1        |  8.9     |  4.5     |  4.4     | 0.533    |  96.9    |  18      | 21.9     | 0.094    | 3.3      | 3180     | 25.0     | 0.083401 | 24.3006  |  578     | \n",
       "| 13.6     | 0        | 12.1     | 14.9     | 14.1     | 0.577    |  99.4    | 157      |  8.0     | 0.102    | 3.9      | 6730     | 16.7     | 0.015801 | 29.9012  | 1969     | \n",
       "| 14.1     | 0        | 12.1     | 10.9     | 10.1     | 0.591    |  98.5    |  18      |  3.0     | 0.091    | 2.0      | 5780     | 17.4     | 0.041399 | 21.2998  | 1234     | \n",
       "| 12.1     | 0        | 11.0     | 11.8     | 11.5     | 0.547    |  96.4    |  25      |  4.4     | 0.084    | 2.9      | 6890     | 12.6     | 0.034201 | 20.9995  |  682     | \n",
       "\n",
       "\n"
      ],
      "text/plain": [
       "  M    So Ed   Po1  Po2  LF    M.F   Pop NW   U1    U2  Wealth Ineq Prob    \n",
       "1 15.1 1   9.1  5.8  5.6 0.510  95.0  33 30.1 0.108 4.1 3940   26.1 0.084602\n",
       "2 14.3 0  11.3 10.3  9.5 0.583 101.2  13 10.2 0.096 3.6 5570   19.4 0.029599\n",
       "3 14.2 1   8.9  4.5  4.4 0.533  96.9  18 21.9 0.094 3.3 3180   25.0 0.083401\n",
       "4 13.6 0  12.1 14.9 14.1 0.577  99.4 157  8.0 0.102 3.9 6730   16.7 0.015801\n",
       "5 14.1 0  12.1 10.9 10.1 0.591  98.5  18  3.0 0.091 2.0 5780   17.4 0.041399\n",
       "6 12.1 0  11.0 11.8 11.5 0.547  96.4  25  4.4 0.084 2.9 6890   12.6 0.034201\n",
       "  Time    Crime\n",
       "1 26.2011  791 \n",
       "2 25.2999 1635 \n",
       "3 24.3006  578 \n",
       "4 29.9012 1969 \n",
       "5 21.2998 1234 \n",
       "6 20.9995  682 "
      ]
     },
     "metadata": {},
     "output_type": "display_data"
    }
   ],
   "source": [
    "data <- read.table('uscrime (2).txt', header = T)\n",
    "head(data)"
   ]
  },
  {
   "cell_type": "markdown",
   "metadata": {},
   "source": [
    "\n",
    "\n",
    "### Check str of data\n",
    "\n"
   ]
  },
  {
   "cell_type": "code",
   "execution_count": 3,
   "metadata": {},
   "outputs": [
    {
     "name": "stdout",
     "output_type": "stream",
     "text": [
      "'data.frame':\t47 obs. of  16 variables:\n",
      " $ M     : num  15.1 14.3 14.2 13.6 14.1 12.1 12.7 13.1 15.7 14 ...\n",
      " $ So    : int  1 0 1 0 0 0 1 1 1 0 ...\n",
      " $ Ed    : num  9.1 11.3 8.9 12.1 12.1 11 11.1 10.9 9 11.8 ...\n",
      " $ Po1   : num  5.8 10.3 4.5 14.9 10.9 11.8 8.2 11.5 6.5 7.1 ...\n",
      " $ Po2   : num  5.6 9.5 4.4 14.1 10.1 11.5 7.9 10.9 6.2 6.8 ...\n",
      " $ LF    : num  0.51 0.583 0.533 0.577 0.591 0.547 0.519 0.542 0.553 0.632 ...\n",
      " $ M.F   : num  95 101.2 96.9 99.4 98.5 ...\n",
      " $ Pop   : int  33 13 18 157 18 25 4 50 39 7 ...\n",
      " $ NW    : num  30.1 10.2 21.9 8 3 4.4 13.9 17.9 28.6 1.5 ...\n",
      " $ U1    : num  0.108 0.096 0.094 0.102 0.091 0.084 0.097 0.079 0.081 0.1 ...\n",
      " $ U2    : num  4.1 3.6 3.3 3.9 2 2.9 3.8 3.5 2.8 2.4 ...\n",
      " $ Wealth: int  3940 5570 3180 6730 5780 6890 6200 4720 4210 5260 ...\n",
      " $ Ineq  : num  26.1 19.4 25 16.7 17.4 12.6 16.8 20.6 23.9 17.4 ...\n",
      " $ Prob  : num  0.0846 0.0296 0.0834 0.0158 0.0414 ...\n",
      " $ Time  : num  26.2 25.3 24.3 29.9 21.3 ...\n",
      " $ Crime : int  791 1635 578 1969 1234 682 963 1555 856 705 ...\n"
     ]
    }
   ],
   "source": [
    "str(data)"
   ]
  },
  {
   "cell_type": "markdown",
   "metadata": {},
   "source": [
    "\n",
    "\n",
    "### Check summary of data\n",
    "\n"
   ]
  },
  {
   "cell_type": "code",
   "execution_count": 4,
   "metadata": {},
   "outputs": [
    {
     "data": {
      "text/plain": [
       "       M               So               Ed             Po1       \n",
       " Min.   :11.90   Min.   :0.0000   Min.   : 8.70   Min.   : 4.50  \n",
       " 1st Qu.:13.00   1st Qu.:0.0000   1st Qu.: 9.75   1st Qu.: 6.25  \n",
       " Median :13.60   Median :0.0000   Median :10.80   Median : 7.80  \n",
       " Mean   :13.86   Mean   :0.3404   Mean   :10.56   Mean   : 8.50  \n",
       " 3rd Qu.:14.60   3rd Qu.:1.0000   3rd Qu.:11.45   3rd Qu.:10.45  \n",
       " Max.   :17.70   Max.   :1.0000   Max.   :12.20   Max.   :16.60  \n",
       "      Po2               LF              M.F              Pop        \n",
       " Min.   : 4.100   Min.   :0.4800   Min.   : 93.40   Min.   :  3.00  \n",
       " 1st Qu.: 5.850   1st Qu.:0.5305   1st Qu.: 96.45   1st Qu.: 10.00  \n",
       " Median : 7.300   Median :0.5600   Median : 97.70   Median : 25.00  \n",
       " Mean   : 8.023   Mean   :0.5612   Mean   : 98.30   Mean   : 36.62  \n",
       " 3rd Qu.: 9.700   3rd Qu.:0.5930   3rd Qu.: 99.20   3rd Qu.: 41.50  \n",
       " Max.   :15.700   Max.   :0.6410   Max.   :107.10   Max.   :168.00  \n",
       "       NW              U1                U2            Wealth    \n",
       " Min.   : 0.20   Min.   :0.07000   Min.   :2.000   Min.   :2880  \n",
       " 1st Qu.: 2.40   1st Qu.:0.08050   1st Qu.:2.750   1st Qu.:4595  \n",
       " Median : 7.60   Median :0.09200   Median :3.400   Median :5370  \n",
       " Mean   :10.11   Mean   :0.09547   Mean   :3.398   Mean   :5254  \n",
       " 3rd Qu.:13.25   3rd Qu.:0.10400   3rd Qu.:3.850   3rd Qu.:5915  \n",
       " Max.   :42.30   Max.   :0.14200   Max.   :5.800   Max.   :6890  \n",
       "      Ineq            Prob              Time           Crime       \n",
       " Min.   :12.60   Min.   :0.00690   Min.   :12.20   Min.   : 342.0  \n",
       " 1st Qu.:16.55   1st Qu.:0.03270   1st Qu.:21.60   1st Qu.: 658.5  \n",
       " Median :17.60   Median :0.04210   Median :25.80   Median : 831.0  \n",
       " Mean   :19.40   Mean   :0.04709   Mean   :26.60   Mean   : 905.1  \n",
       " 3rd Qu.:22.75   3rd Qu.:0.05445   3rd Qu.:30.45   3rd Qu.:1057.5  \n",
       " Max.   :27.60   Max.   :0.11980   Max.   :44.00   Max.   :1993.0  "
      ]
     },
     "metadata": {},
     "output_type": "display_data"
    }
   ],
   "source": [
    "summary(data)"
   ]
  },
  {
   "cell_type": "markdown",
   "metadata": {},
   "source": [
    "\n",
    "\n",
    "### Calculating PCA Manually\n",
    "\n",
    "First let's do the PCA transformation manually. Then we will use base package `prcomp`. Before we can do PCA it is important to z-scale the individual features to mean 0 and stdev 1 because each feature is on a different unit scale as evidenced by the summary cell above. For example, Wealth is measured in the thousands while Prob is measured in percentages. Before we do that let's look at the variance of each individual feature.\n",
    "\n"
   ]
  },
  {
   "cell_type": "code",
   "execution_count": 5,
   "metadata": {},
   "outputs": [
    {
     "data": {
      "text/html": [
       "<dl class=dl-horizontal>\n",
       "\t<dt>M</dt>\n",
       "\t\t<dd>1.57945420906568</dd>\n",
       "\t<dt>So</dt>\n",
       "\t\t<dd>0.229417206290472</dd>\n",
       "\t<dt>Ed</dt>\n",
       "\t\t<dd>1.25148936170213</dd>\n",
       "\t<dt>Po1</dt>\n",
       "\t\t<dd>8.83217391304348</dd>\n",
       "\t<dt>Po2</dt>\n",
       "\t\t<dd>7.81835337650324</dd>\n",
       "\t<dt>LF</dt>\n",
       "\t\t<dd>0.00163311470860314</dd>\n",
       "\t<dt>M.F</dt>\n",
       "\t\t<dd>8.68325624421832</dd>\n",
       "\t<dt>Pop</dt>\n",
       "\t\t<dd>1449.41535615171</dd>\n",
       "\t<dt>NW</dt>\n",
       "\t\t<dd>105.737659574468</dd>\n",
       "\t<dt>U1</dt>\n",
       "\t\t<dd>0.000325037002775208</dd>\n",
       "\t<dt>U2</dt>\n",
       "\t\t<dd>0.713256244218316</dd>\n",
       "\t<dt>Wealth</dt>\n",
       "\t\t<dd>931050.231267345</dd>\n",
       "\t<dt>Ineq</dt>\n",
       "\t\t<dd>15.9169565217391</dd>\n",
       "\t<dt>Prob</dt>\n",
       "\t\t<dd>0.000516969905111008</dd>\n",
       "\t<dt>Time</dt>\n",
       "\t\t<dd>50.2240834812766</dd>\n",
       "\t<dt>Crime</dt>\n",
       "\t\t<dd>149585.383903793</dd>\n",
       "</dl>\n"
      ],
      "text/latex": [
       "\\begin{description*}\n",
       "\\item[M] 1.57945420906568\n",
       "\\item[So] 0.229417206290472\n",
       "\\item[Ed] 1.25148936170213\n",
       "\\item[Po1] 8.83217391304348\n",
       "\\item[Po2] 7.81835337650324\n",
       "\\item[LF] 0.00163311470860314\n",
       "\\item[M.F] 8.68325624421832\n",
       "\\item[Pop] 1449.41535615171\n",
       "\\item[NW] 105.737659574468\n",
       "\\item[U1] 0.000325037002775208\n",
       "\\item[U2] 0.713256244218316\n",
       "\\item[Wealth] 931050.231267345\n",
       "\\item[Ineq] 15.9169565217391\n",
       "\\item[Prob] 0.000516969905111008\n",
       "\\item[Time] 50.2240834812766\n",
       "\\item[Crime] 149585.383903793\n",
       "\\end{description*}\n"
      ],
      "text/markdown": [
       "M\n",
       ":   1.57945420906568So\n",
       ":   0.229417206290472Ed\n",
       ":   1.25148936170213Po1\n",
       ":   8.83217391304348Po2\n",
       ":   7.81835337650324LF\n",
       ":   0.00163311470860314M.F\n",
       ":   8.68325624421832Pop\n",
       ":   1449.41535615171NW\n",
       ":   105.737659574468U1\n",
       ":   0.000325037002775208U2\n",
       ":   0.713256244218316Wealth\n",
       ":   931050.231267345Ineq\n",
       ":   15.9169565217391Prob\n",
       ":   0.000516969905111008Time\n",
       ":   50.2240834812766Crime\n",
       ":   149585.383903793\n",
       "\n"
      ],
      "text/plain": [
       "           M           So           Ed          Po1          Po2           LF \n",
       "1.579454e+00 2.294172e-01 1.251489e+00 8.832174e+00 7.818353e+00 1.633115e-03 \n",
       "         M.F          Pop           NW           U1           U2       Wealth \n",
       "8.683256e+00 1.449415e+03 1.057377e+02 3.250370e-04 7.132562e-01 9.310502e+05 \n",
       "        Ineq         Prob         Time        Crime \n",
       "1.591696e+01 5.169699e-04 5.022408e+01 1.495854e+05 "
      ]
     },
     "metadata": {},
     "output_type": "display_data"
    }
   ],
   "source": [
    "# reference: http://uc-r.github.io/pca\n",
    "\n",
    "apply(data, 2, var)"
   ]
  },
  {
   "cell_type": "markdown",
   "metadata": {},
   "source": [
    "\n",
    "\n",
    "Holy cow that's a lot of variances in our variances!! Further evidence for the need to z-scale the data. Remember that z-scaling the data involves setting the mean to zero and the standard deviation to one. We accomplish this by using the following formula on every element in each column of the input feature data:\n",
    "\n",
    "$$\n",
    "z = \\frac{\\left (x - \\mu_{p}   \\right )}{\\sigma_{p}}\n",
    "$$\n",
    "\n",
    "Where z is the scaled value of x and p is the feature being considered. See reference below:\n",
    "\n",
    "reference: https://gerardnico.com/data_mining/z_scale\n",
    "\n"
   ]
  },
  {
   "cell_type": "code",
   "execution_count": 6,
   "metadata": {},
   "outputs": [
    {
     "data": {
      "text/html": [
       "<table>\n",
       "<thead><tr><th scope=col>M</th><th scope=col>So</th><th scope=col>Ed</th><th scope=col>Po1</th><th scope=col>Po2</th><th scope=col>LF</th><th scope=col>M.F</th><th scope=col>Pop</th><th scope=col>NW</th><th scope=col>U1</th><th scope=col>U2</th><th scope=col>Wealth</th><th scope=col>Ineq</th><th scope=col>Prob</th><th scope=col>Time</th></tr></thead>\n",
       "<tbody>\n",
       "\t<tr><td> 0.9886930  </td><td> 1.3770536  </td><td>-1.3085099  </td><td>-0.9085105  </td><td>-0.8666988  </td><td>-1.2667456  </td><td>-1.12060499 </td><td>-0.09500679 </td><td> 1.943738564</td><td> 0.69510600 </td><td> 0.8313680  </td><td>-1.3616094  </td><td> 1.6793638  </td><td> 1.6497631  </td><td>-0.05599367 </td></tr>\n",
       "\t<tr><td> 0.3521372  </td><td>-0.7107373  </td><td> 0.6580587  </td><td> 0.6056737  </td><td> 0.5280852  </td><td> 0.5396568  </td><td> 0.98341752 </td><td>-0.62033844 </td><td> 0.008483424</td><td> 0.02950365 </td><td> 0.2393332  </td><td> 0.3276683  </td><td> 0.0000000  </td><td>-0.7693365  </td><td>-0.18315796 </td></tr>\n",
       "\t<tr><td> 0.2725678  </td><td> 1.3770536  </td><td>-1.4872888  </td><td>-1.3459415  </td><td>-1.2958632  </td><td>-0.6976051  </td><td>-0.47582390 </td><td>-0.48900552 </td><td> 1.146296747</td><td>-0.08143007 </td><td>-0.1158877  </td><td>-2.1492481  </td><td> 1.4036474  </td><td> 1.5969416  </td><td>-0.32416470 </td></tr>\n",
       "\t<tr><td>-0.2048491  </td><td>-0.7107373  </td><td> 1.3731746  </td><td> 2.1535064  </td><td> 2.1732150  </td><td> 0.3911854  </td><td> 0.37257228 </td><td> 3.16204944 </td><td>-0.205464381</td><td> 0.36230482 </td><td> 0.5945541  </td><td> 1.5298536  </td><td>-0.6767585  </td><td>-1.3761895  </td><td> 0.46611085 </td></tr>\n",
       "\t<tr><td> 0.1929983  </td><td>-0.7107373  </td><td> 1.3731746  </td><td> 0.8075649  </td><td> 0.7426673  </td><td> 0.7376187  </td><td> 0.06714965 </td><td>-0.48900552 </td><td>-0.691709391</td><td>-0.24783066 </td><td>-1.6551781  </td><td> 0.5453053  </td><td>-0.5013026  </td><td>-0.2503580  </td><td>-0.74759413 </td></tr>\n",
       "\t<tr><td>-1.3983912  </td><td>-0.7107373  </td><td> 0.3898903  </td><td> 1.1104017  </td><td> 1.2433590  </td><td>-0.3511718  </td><td>-0.64550313 </td><td>-0.30513945 </td><td>-0.555560788</td><td>-0.63609870 </td><td>-0.5895155  </td><td> 1.6956723  </td><td>-1.7044289  </td><td>-0.5669349  </td><td>-0.78996812 </td></tr>\n",
       "</tbody>\n",
       "</table>\n"
      ],
      "text/latex": [
       "\\begin{tabular}{lllllllllllllll}\n",
       " M & So & Ed & Po1 & Po2 & LF & M.F & Pop & NW & U1 & U2 & Wealth & Ineq & Prob & Time\\\\\n",
       "\\hline\n",
       "\t  0.9886930   &  1.3770536   & -1.3085099   & -0.9085105   & -0.8666988   & -1.2667456   & -1.12060499  & -0.09500679  &  1.943738564 &  0.69510600  &  0.8313680   & -1.3616094   &  1.6793638   &  1.6497631   & -0.05599367 \\\\\n",
       "\t  0.3521372   & -0.7107373   &  0.6580587   &  0.6056737   &  0.5280852   &  0.5396568   &  0.98341752  & -0.62033844  &  0.008483424 &  0.02950365  &  0.2393332   &  0.3276683   &  0.0000000   & -0.7693365   & -0.18315796 \\\\\n",
       "\t  0.2725678   &  1.3770536   & -1.4872888   & -1.3459415   & -1.2958632   & -0.6976051   & -0.47582390  & -0.48900552  &  1.146296747 & -0.08143007  & -0.1158877   & -2.1492481   &  1.4036474   &  1.5969416   & -0.32416470 \\\\\n",
       "\t -0.2048491   & -0.7107373   &  1.3731746   &  2.1535064   &  2.1732150   &  0.3911854   &  0.37257228  &  3.16204944  & -0.205464381 &  0.36230482  &  0.5945541   &  1.5298536   & -0.6767585   & -1.3761895   &  0.46611085 \\\\\n",
       "\t  0.1929983   & -0.7107373   &  1.3731746   &  0.8075649   &  0.7426673   &  0.7376187   &  0.06714965  & -0.48900552  & -0.691709391 & -0.24783066  & -1.6551781   &  0.5453053   & -0.5013026   & -0.2503580   & -0.74759413 \\\\\n",
       "\t -1.3983912   & -0.7107373   &  0.3898903   &  1.1104017   &  1.2433590   & -0.3511718   & -0.64550313  & -0.30513945  & -0.555560788 & -0.63609870  & -0.5895155   &  1.6956723   & -1.7044289   & -0.5669349   & -0.78996812 \\\\\n",
       "\\end{tabular}\n"
      ],
      "text/markdown": [
       "\n",
       "M | So | Ed | Po1 | Po2 | LF | M.F | Pop | NW | U1 | U2 | Wealth | Ineq | Prob | Time | \n",
       "|---|---|---|---|---|---|\n",
       "|  0.9886930   |  1.3770536   | -1.3085099   | -0.9085105   | -0.8666988   | -1.2667456   | -1.12060499  | -0.09500679  |  1.943738564 |  0.69510600  |  0.8313680   | -1.3616094   |  1.6793638   |  1.6497631   | -0.05599367  | \n",
       "|  0.3521372   | -0.7107373   |  0.6580587   |  0.6056737   |  0.5280852   |  0.5396568   |  0.98341752  | -0.62033844  |  0.008483424 |  0.02950365  |  0.2393332   |  0.3276683   |  0.0000000   | -0.7693365   | -0.18315796  | \n",
       "|  0.2725678   |  1.3770536   | -1.4872888   | -1.3459415   | -1.2958632   | -0.6976051   | -0.47582390  | -0.48900552  |  1.146296747 | -0.08143007  | -0.1158877   | -2.1492481   |  1.4036474   |  1.5969416   | -0.32416470  | \n",
       "| -0.2048491   | -0.7107373   |  1.3731746   |  2.1535064   |  2.1732150   |  0.3911854   |  0.37257228  |  3.16204944  | -0.205464381 |  0.36230482  |  0.5945541   |  1.5298536   | -0.6767585   | -1.3761895   |  0.46611085  | \n",
       "|  0.1929983   | -0.7107373   |  1.3731746   |  0.8075649   |  0.7426673   |  0.7376187   |  0.06714965  | -0.48900552  | -0.691709391 | -0.24783066  | -1.6551781   |  0.5453053   | -0.5013026   | -0.2503580   | -0.74759413  | \n",
       "| -1.3983912   | -0.7107373   |  0.3898903   |  1.1104017   |  1.2433590   | -0.3511718   | -0.64550313  | -0.30513945  | -0.555560788 | -0.63609870  | -0.5895155   |  1.6956723   | -1.7044289   | -0.5669349   | -0.78996812  | \n",
       "\n",
       "\n"
      ],
      "text/plain": [
       "     M          So         Ed         Po1        Po2        LF        \n",
       "[1,]  0.9886930  1.3770536 -1.3085099 -0.9085105 -0.8666988 -1.2667456\n",
       "[2,]  0.3521372 -0.7107373  0.6580587  0.6056737  0.5280852  0.5396568\n",
       "[3,]  0.2725678  1.3770536 -1.4872888 -1.3459415 -1.2958632 -0.6976051\n",
       "[4,] -0.2048491 -0.7107373  1.3731746  2.1535064  2.1732150  0.3911854\n",
       "[5,]  0.1929983 -0.7107373  1.3731746  0.8075649  0.7426673  0.7376187\n",
       "[6,] -1.3983912 -0.7107373  0.3898903  1.1104017  1.2433590 -0.3511718\n",
       "     M.F         Pop         NW           U1          U2         Wealth    \n",
       "[1,] -1.12060499 -0.09500679  1.943738564  0.69510600  0.8313680 -1.3616094\n",
       "[2,]  0.98341752 -0.62033844  0.008483424  0.02950365  0.2393332  0.3276683\n",
       "[3,] -0.47582390 -0.48900552  1.146296747 -0.08143007 -0.1158877 -2.1492481\n",
       "[4,]  0.37257228  3.16204944 -0.205464381  0.36230482  0.5945541  1.5298536\n",
       "[5,]  0.06714965 -0.48900552 -0.691709391 -0.24783066 -1.6551781  0.5453053\n",
       "[6,] -0.64550313 -0.30513945 -0.555560788 -0.63609870 -0.5895155  1.6956723\n",
       "     Ineq       Prob       Time       \n",
       "[1,]  1.6793638  1.6497631 -0.05599367\n",
       "[2,]  0.0000000 -0.7693365 -0.18315796\n",
       "[3,]  1.4036474  1.5969416 -0.32416470\n",
       "[4,] -0.6767585 -1.3761895  0.46611085\n",
       "[5,] -0.5013026 -0.2503580 -0.74759413\n",
       "[6,] -1.7044289 -0.5669349 -0.78996812"
      ]
     },
     "metadata": {},
     "output_type": "display_data"
    }
   ],
   "source": [
    "# scale input data\n",
    "\n",
    "scaled_data <- apply(data[-16], 2, scale)\n",
    "head(scaled_data)"
   ]
  },
  {
   "cell_type": "markdown",
   "metadata": {},
   "source": [
    "\n",
    "\n",
    "Principal Component Analysis is a neat idea when we have potentially thousands of input features in our data. PCA finds a low-dimensional representation of the input data that contains as much of the variation as possible. Each dimension contains a linear combination of the input features. Dimensions are orthogonal to one another and thus *uncorrelated* - this is important because we can boil down an input dataset to fewer features that contain the same amount of information as the input set. This is very advantageous in applications where our feature matrices can become very sparse like in text analytics. Our first principal component is of the form:\n",
    "\n",
    "$$\n",
    "Z_{1} = \\phi_{11} X_{1} +  \\phi_{21} X_{2} +  \\phi_{p1} X_{p}\n",
    "$$\n",
    "\n",
    "By design our first principal component will contain the most variance. The phi coefficients are called the *loadings* of the principal component. Our second principal component is of the form:\n",
    "\n",
    "$$\n",
    "Z_{2} = \\phi_{12} X_{1} +  \\phi_{22} X_{2} +  \\phi_{p2} X_{p}\n",
    "$$\n",
    "\n",
    "And on and on until all variance in our input dataset is accounted for. Remember that consecutive components are orthogonal to one another and thus uncorrelated. Now that we have the theory down, lets begin by calculating the eigenvalues and eigenvectors of our scaled input data. First we must find the covariance matrix.\n",
    "\n"
   ]
  },
  {
   "cell_type": "code",
   "execution_count": 7,
   "metadata": {},
   "outputs": [
    {
     "name": "stdout",
     "output_type": "stream",
     "text": [
      "List of 2\n",
      " $ values : num [1:15] 6.019 2.802 2.005 1.162 0.958 ...\n",
      " $ vectors: num [1:15, 1:15] -0.304 -0.331 0.34 0.309 0.311 ...\n",
      " - attr(*, \"class\")= chr \"eigen\"\n"
     ]
    }
   ],
   "source": [
    "# covariance matrix\n",
    "\n",
    "data_cov <- cov(scaled_data)\n",
    "\n",
    "# eigenvalues and eigenvectors\n",
    "\n",
    "data_eigen <- eigen(data_cov)\n",
    "str(data_eigen)"
   ]
  },
  {
   "cell_type": "code",
   "execution_count": 8,
   "metadata": {},
   "outputs": [],
   "source": [
    "data_eigenvalues <- data_eigen$values\n",
    "data_eigenvectors <- data_eigen$vectors"
   ]
  },
  {
   "cell_type": "markdown",
   "metadata": {},
   "source": [
    "\n",
    "\n",
    "Now that we have our eigenvalues and eigenvectors, lets extract the loadings for each feature in our dataset. R by default calculates eigenvectors that point in the negative direction - to skirt this let's multiply the eigenvectors by -1. We'll limit it to the first two principal components.\n",
    "\n"
   ]
  },
  {
   "cell_type": "code",
   "execution_count": 9,
   "metadata": {},
   "outputs": [
    {
     "data": {
      "text/html": [
       "<table>\n",
       "<thead><tr><th></th><th scope=col>PC1</th><th scope=col>PC2</th></tr></thead>\n",
       "<tbody>\n",
       "\t<tr><th scope=row>M</th><td> 0.30371194</td><td>-0.06280357</td></tr>\n",
       "\t<tr><th scope=row>So</th><td> 0.33088129</td><td> 0.15837219</td></tr>\n",
       "\t<tr><th scope=row>Ed</th><td>-0.33962148</td><td>-0.21461152</td></tr>\n",
       "\t<tr><th scope=row>Po1</th><td>-0.30863412</td><td> 0.26981761</td></tr>\n",
       "\t<tr><th scope=row>Po2</th><td>-0.31099285</td><td> 0.26396300</td></tr>\n",
       "\t<tr><th scope=row>LF</th><td>-0.17617757</td><td>-0.31943042</td></tr>\n",
       "\t<tr><th scope=row>M.F</th><td>-0.11638221</td><td>-0.39434428</td></tr>\n",
       "\t<tr><th scope=row>Pop</th><td>-0.11307836</td><td> 0.46723456</td></tr>\n",
       "\t<tr><th scope=row>NW</th><td> 0.29358647</td><td> 0.22801119</td></tr>\n",
       "\t<tr><th scope=row>U1</th><td>-0.04050137</td><td>-0.00807439</td></tr>\n",
       "\t<tr><th scope=row>U2</th><td>-0.01812228</td><td> 0.27971336</td></tr>\n",
       "\t<tr><th scope=row>Wealth</th><td>-0.37970331</td><td> 0.07718862</td></tr>\n",
       "\t<tr><th scope=row>Ineq</th><td> 0.36579778</td><td> 0.02752240</td></tr>\n",
       "\t<tr><th scope=row>Prob</th><td> 0.25888661</td><td>-0.15831708</td></tr>\n",
       "\t<tr><th scope=row>Time</th><td> 0.02062867</td><td> 0.38014836</td></tr>\n",
       "</tbody>\n",
       "</table>\n"
      ],
      "text/latex": [
       "\\begin{tabular}{r|ll}\n",
       "  & PC1 & PC2\\\\\n",
       "\\hline\n",
       "\tM &  0.30371194 & -0.06280357\\\\\n",
       "\tSo &  0.33088129 &  0.15837219\\\\\n",
       "\tEd & -0.33962148 & -0.21461152\\\\\n",
       "\tPo1 & -0.30863412 &  0.26981761\\\\\n",
       "\tPo2 & -0.31099285 &  0.26396300\\\\\n",
       "\tLF & -0.17617757 & -0.31943042\\\\\n",
       "\tM.F & -0.11638221 & -0.39434428\\\\\n",
       "\tPop & -0.11307836 &  0.46723456\\\\\n",
       "\tNW &  0.29358647 &  0.22801119\\\\\n",
       "\tU1 & -0.04050137 & -0.00807439\\\\\n",
       "\tU2 & -0.01812228 &  0.27971336\\\\\n",
       "\tWealth & -0.37970331 &  0.07718862\\\\\n",
       "\tIneq &  0.36579778 &  0.02752240\\\\\n",
       "\tProb &  0.25888661 & -0.15831708\\\\\n",
       "\tTime &  0.02062867 &  0.38014836\\\\\n",
       "\\end{tabular}\n"
      ],
      "text/markdown": [
       "\n",
       "| <!--/--> | PC1 | PC2 | \n",
       "|---|---|---|---|---|---|---|---|---|---|---|---|---|---|---|\n",
       "| M |  0.30371194 | -0.06280357 | \n",
       "| So |  0.33088129 |  0.15837219 | \n",
       "| Ed | -0.33962148 | -0.21461152 | \n",
       "| Po1 | -0.30863412 |  0.26981761 | \n",
       "| Po2 | -0.31099285 |  0.26396300 | \n",
       "| LF | -0.17617757 | -0.31943042 | \n",
       "| M.F | -0.11638221 | -0.39434428 | \n",
       "| Pop | -0.11307836 |  0.46723456 | \n",
       "| NW |  0.29358647 |  0.22801119 | \n",
       "| U1 | -0.04050137 | -0.00807439 | \n",
       "| U2 | -0.01812228 |  0.27971336 | \n",
       "| Wealth | -0.37970331 |  0.07718862 | \n",
       "| Ineq |  0.36579778 |  0.02752240 | \n",
       "| Prob |  0.25888661 | -0.15831708 | \n",
       "| Time |  0.02062867 |  0.38014836 | \n",
       "\n",
       "\n"
      ],
      "text/plain": [
       "       PC1         PC2        \n",
       "M       0.30371194 -0.06280357\n",
       "So      0.33088129  0.15837219\n",
       "Ed     -0.33962148 -0.21461152\n",
       "Po1    -0.30863412  0.26981761\n",
       "Po2    -0.31099285  0.26396300\n",
       "LF     -0.17617757 -0.31943042\n",
       "M.F    -0.11638221 -0.39434428\n",
       "Pop    -0.11307836  0.46723456\n",
       "NW      0.29358647  0.22801119\n",
       "U1     -0.04050137 -0.00807439\n",
       "U2     -0.01812228  0.27971336\n",
       "Wealth -0.37970331  0.07718862\n",
       "Ineq    0.36579778  0.02752240\n",
       "Prob    0.25888661 -0.15831708\n",
       "Time    0.02062867  0.38014836"
      ]
     },
     "metadata": {},
     "output_type": "display_data"
    }
   ],
   "source": [
    "loadings <- -1*data_eigenvectors[,1:2]\n",
    "row.names(loadings) <- colnames(data[-16])\n",
    "colnames(loadings) <- c(\"PC1\",\"PC2\")\n",
    "loadings"
   ]
  },
  {
   "cell_type": "markdown",
   "metadata": {},
   "source": [
    "\n",
    "\n",
    "Reading the values in PC1 and PC2 top to bottom, we can infer that PC1 roughly corresponds to:\n",
    "* rate of income inequality *Ineq*\n",
    "* a states position in the South *So*\n",
    "* percentage of males aged 14-24 *M*\n",
    "\n",
    "PC2 roughly corresponds to:\n",
    "* state population in 1960 in hundred thousands *Pop*\n",
    "* average time in months served by offenders in state prisons before their first release *Time*\n",
    "* unemployment rate of urban males 35–39 *U2*\n",
    "\n"
   ]
  },
  {
   "cell_type": "markdown",
   "metadata": {},
   "source": [
    "\n",
    "\n",
    "### Proportion of Variance Explained\n",
    "\n",
    "Ok so now we have a way of extracting principal components, but *how many* principal components should we extract? There are a few different selection criteria we may use, but the most common way is to determine how much variance we want our principal components to account for. We can figure this out by deciding how much variance our principal components capture in the input data set. This is done by calculating the proportion of variance explained (PVE):\n",
    "\n",
    "$$\n",
    "PVE = \\frac{\\sum_{i=1}^{n} \\left ( \\sum_{j=1}^{p} \\phi_{jm}X_{ij}\\right )^{2}}{\\sum_{j=1}^{p}\\sum_{i=1}^{n}x_{ij}^{2}}\n",
    "$$\n",
    "\n",
    "Believe it or not this is rather trivial! We just divide each eigenvalue by the sum of our eigenvalues.\n",
    "\n"
   ]
  },
  {
   "cell_type": "code",
   "execution_count": 10,
   "metadata": {},
   "outputs": [
    {
     "data": {
      "text/html": [
       "<ol class=list-inline>\n",
       "\t<li>0.4</li>\n",
       "\t<li>0.19</li>\n",
       "\t<li>0.13</li>\n",
       "\t<li>0.08</li>\n",
       "\t<li>0.06</li>\n",
       "\t<li>0.04</li>\n",
       "\t<li>0.02</li>\n",
       "\t<li>0.02</li>\n",
       "\t<li>0.02</li>\n",
       "\t<li>0.01</li>\n",
       "\t<li>0.01</li>\n",
       "\t<li>0.01</li>\n",
       "\t<li>0</li>\n",
       "\t<li>0</li>\n",
       "\t<li>0</li>\n",
       "</ol>\n"
      ],
      "text/latex": [
       "\\begin{enumerate*}\n",
       "\\item 0.4\n",
       "\\item 0.19\n",
       "\\item 0.13\n",
       "\\item 0.08\n",
       "\\item 0.06\n",
       "\\item 0.04\n",
       "\\item 0.02\n",
       "\\item 0.02\n",
       "\\item 0.02\n",
       "\\item 0.01\n",
       "\\item 0.01\n",
       "\\item 0.01\n",
       "\\item 0\n",
       "\\item 0\n",
       "\\item 0\n",
       "\\end{enumerate*}\n"
      ],
      "text/markdown": [
       "1. 0.4\n",
       "2. 0.19\n",
       "3. 0.13\n",
       "4. 0.08\n",
       "5. 0.06\n",
       "6. 0.04\n",
       "7. 0.02\n",
       "8. 0.02\n",
       "9. 0.02\n",
       "10. 0.01\n",
       "11. 0.01\n",
       "12. 0.01\n",
       "13. 0\n",
       "14. 0\n",
       "15. 0\n",
       "\n",
       "\n"
      ],
      "text/plain": [
       " [1] 0.40 0.19 0.13 0.08 0.06 0.04 0.02 0.02 0.02 0.01 0.01 0.01 0.00 0.00 0.00"
      ]
     },
     "metadata": {},
     "output_type": "display_data"
    }
   ],
   "source": [
    "PVE <- round(data_eigenvalues / sum(data_eigenvalues), 2)\n",
    "PVE"
   ]
  },
  {
   "cell_type": "markdown",
   "metadata": {},
   "source": [
    "\n",
    "\n",
    "Now let's write a little function to define the percent of variance we want explained by our model. Common values for PVE are 0.8 and 0.9. We'll use 0.9 for this model.\n",
    "\n"
   ]
  },
  {
   "cell_type": "code",
   "execution_count": 11,
   "metadata": {
    "collapsed": true
   },
   "outputs": [],
   "source": [
    "percent_variance_explained_pca <- function(PVEs, desired_PVE){\n",
    "    PVE <- 0\n",
    "    number_of_PCs_to_use <- 0\n",
    "    while (PVE < desired_PVE) {\n",
    "        number_of_PCs_to_use <- number_of_PCs_to_use+1\n",
    "        PVE <- sum(PVEs[1:number_of_PCs_to_use])\n",
    "    }\n",
    "    return(PVEs[1:number_of_PCs_to_use])\n",
    "}"
   ]
  },
  {
   "cell_type": "code",
   "execution_count": 12,
   "metadata": {},
   "outputs": [
    {
     "data": {
      "text/html": [
       "<ol class=list-inline>\n",
       "\t<li>0.4</li>\n",
       "\t<li>0.19</li>\n",
       "\t<li>0.13</li>\n",
       "\t<li>0.08</li>\n",
       "\t<li>0.06</li>\n",
       "\t<li>0.04</li>\n",
       "</ol>\n"
      ],
      "text/latex": [
       "\\begin{enumerate*}\n",
       "\\item 0.4\n",
       "\\item 0.19\n",
       "\\item 0.13\n",
       "\\item 0.08\n",
       "\\item 0.06\n",
       "\\item 0.04\n",
       "\\end{enumerate*}\n"
      ],
      "text/markdown": [
       "1. 0.4\n",
       "2. 0.19\n",
       "3. 0.13\n",
       "4. 0.08\n",
       "5. 0.06\n",
       "6. 0.04\n",
       "\n",
       "\n"
      ],
      "text/plain": [
       "[1] 0.40 0.19 0.13 0.08 0.06 0.04"
      ]
     },
     "metadata": {},
     "output_type": "display_data"
    }
   ],
   "source": [
    "# Our first six PCs explain 90% of the variance\n",
    "\n",
    "percent_variance_explained_pca(PVE, 0.9)"
   ]
  },
  {
   "cell_type": "code",
   "execution_count": 13,
   "metadata": {},
   "outputs": [
    {
     "data": {
      "text/html": [
       "0.9"
      ],
      "text/latex": [
       "0.9"
      ],
      "text/markdown": [
       "0.9"
      ],
      "text/plain": [
       "[1] 0.9"
      ]
     },
     "metadata": {},
     "output_type": "display_data"
    }
   ],
   "source": [
    "# check\n",
    "\n",
    "sum(percent_variance_explained_pca(PVE, 0.9))"
   ]
  },
  {
   "cell_type": "markdown",
   "metadata": {},
   "source": [
    "\n",
    "\n",
    "There you have it! We have successfully done PCA the manual, hard way. Up next we will do it with the `prcomp` library, then we will use the PCs to make a prediction for the crime rate.\n",
    "\n"
   ]
  },
  {
   "cell_type": "markdown",
   "metadata": {},
   "source": [
    "\n",
    "\n",
    "### Using base R function `prcomp`\n",
    "\n",
    "Next let's do the Principal Component Analysis (PCA) with the base R function `prcomp`.\n",
    "\n"
   ]
  },
  {
   "cell_type": "code",
   "execution_count": 14,
   "metadata": {
    "collapsed": true
   },
   "outputs": [],
   "source": [
    "help(prcomp)"
   ]
  },
  {
   "cell_type": "code",
   "execution_count": 15,
   "metadata": {
    "collapsed": true
   },
   "outputs": [],
   "source": [
    "pca <- prcomp(data[-16], scale = TRUE)"
   ]
  },
  {
   "cell_type": "markdown",
   "metadata": {},
   "source": [
    "\n",
    "\n",
    "Remember, variance is just standard deviation squared.\n",
    "\n"
   ]
  },
  {
   "cell_type": "code",
   "execution_count": 16,
   "metadata": {},
   "outputs": [
    {
     "data": {
      "text/html": [
       "<ol class=list-inline>\n",
       "\t<li>6.01895265650583</li>\n",
       "\t<li>2.801847026483</li>\n",
       "\t<li>2.0049443337507</li>\n",
       "\t<li>1.16220780064104</li>\n",
       "\t<li>0.958298971721856</li>\n",
       "\t<li>0.553193899686551</li>\n",
       "\t<li>0.321818687025562</li>\n",
       "\t<li>0.307401270140503</li>\n",
       "\t<li>0.235155292075271</li>\n",
       "\t<li>0.19988093081482</li>\n",
       "\t<li>0.175685402581489</li>\n",
       "\t<li>0.128190107426395</li>\n",
       "\t<li>0.0693416913365942</li>\n",
       "\t<li>0.058467765048427</li>\n",
       "\t<li>0.00461416476196681</li>\n",
       "</ol>\n"
      ],
      "text/latex": [
       "\\begin{enumerate*}\n",
       "\\item 6.01895265650583\n",
       "\\item 2.801847026483\n",
       "\\item 2.0049443337507\n",
       "\\item 1.16220780064104\n",
       "\\item 0.958298971721856\n",
       "\\item 0.553193899686551\n",
       "\\item 0.321818687025562\n",
       "\\item 0.307401270140503\n",
       "\\item 0.235155292075271\n",
       "\\item 0.19988093081482\n",
       "\\item 0.175685402581489\n",
       "\\item 0.128190107426395\n",
       "\\item 0.0693416913365942\n",
       "\\item 0.058467765048427\n",
       "\\item 0.00461416476196681\n",
       "\\end{enumerate*}\n"
      ],
      "text/markdown": [
       "1. 6.01895265650583\n",
       "2. 2.801847026483\n",
       "3. 2.0049443337507\n",
       "4. 1.16220780064104\n",
       "5. 0.958298971721856\n",
       "6. 0.553193899686551\n",
       "7. 0.321818687025562\n",
       "8. 0.307401270140503\n",
       "9. 0.235155292075271\n",
       "10. 0.19988093081482\n",
       "11. 0.175685402581489\n",
       "12. 0.128190107426395\n",
       "13. 0.0693416913365942\n",
       "14. 0.058467765048427\n",
       "15. 0.00461416476196681\n",
       "\n",
       "\n"
      ],
      "text/plain": [
       " [1] 6.018952657 2.801847026 2.004944334 1.162207801 0.958298972 0.553193900\n",
       " [7] 0.321818687 0.307401270 0.235155292 0.199880931 0.175685403 0.128190107\n",
       "[13] 0.069341691 0.058467765 0.004614165"
      ]
     },
     "metadata": {},
     "output_type": "display_data"
    }
   ],
   "source": [
    "pca_variances <- pca$sdev^2\n",
    "pca_variances"
   ]
  },
  {
   "cell_type": "code",
   "execution_count": 17,
   "metadata": {},
   "outputs": [
    {
     "data": {
      "text/html": [
       "15"
      ],
      "text/latex": [
       "15"
      ],
      "text/markdown": [
       "15"
      ],
      "text/plain": [
       "[1] 15"
      ]
     },
     "metadata": {},
     "output_type": "display_data"
    }
   ],
   "source": [
    "# sum of variances - 15 features * 1 = 15 due to z-scaling\n",
    "\n",
    "sum_of_pca_variances <- sum(pca$sdev^2)\n",
    "sum_of_pca_variances"
   ]
  },
  {
   "cell_type": "markdown",
   "metadata": {},
   "source": [
    "\n",
    "\n",
    "So what is this mysterious `pca sdev^2` value that we are calling the pca_variance? None other then the eigenvalues of our z-scaled covariance matrix! See below for proof:\n",
    "\n",
    "***Note:*** Due to floating point rounding error, I rounded the values to the 12th decimal point before doing the comparison, but for all intensive purposes they're equal (as evidenced by the comparison between the sum of variances and the sum of the eigenvalues below).\n",
    "\n"
   ]
  },
  {
   "cell_type": "code",
   "execution_count": 18,
   "metadata": {},
   "outputs": [
    {
     "data": {
      "text/html": [
       "<ol class=list-inline>\n",
       "\t<li>TRUE</li>\n",
       "\t<li>TRUE</li>\n",
       "\t<li>TRUE</li>\n",
       "\t<li>TRUE</li>\n",
       "\t<li>TRUE</li>\n",
       "\t<li>TRUE</li>\n",
       "\t<li>TRUE</li>\n",
       "\t<li>TRUE</li>\n",
       "\t<li>TRUE</li>\n",
       "\t<li>TRUE</li>\n",
       "\t<li>TRUE</li>\n",
       "\t<li>TRUE</li>\n",
       "\t<li>TRUE</li>\n",
       "\t<li>TRUE</li>\n",
       "\t<li>TRUE</li>\n",
       "</ol>\n"
      ],
      "text/latex": [
       "\\begin{enumerate*}\n",
       "\\item TRUE\n",
       "\\item TRUE\n",
       "\\item TRUE\n",
       "\\item TRUE\n",
       "\\item TRUE\n",
       "\\item TRUE\n",
       "\\item TRUE\n",
       "\\item TRUE\n",
       "\\item TRUE\n",
       "\\item TRUE\n",
       "\\item TRUE\n",
       "\\item TRUE\n",
       "\\item TRUE\n",
       "\\item TRUE\n",
       "\\item TRUE\n",
       "\\end{enumerate*}\n"
      ],
      "text/markdown": [
       "1. TRUE\n",
       "2. TRUE\n",
       "3. TRUE\n",
       "4. TRUE\n",
       "5. TRUE\n",
       "6. TRUE\n",
       "7. TRUE\n",
       "8. TRUE\n",
       "9. TRUE\n",
       "10. TRUE\n",
       "11. TRUE\n",
       "12. TRUE\n",
       "13. TRUE\n",
       "14. TRUE\n",
       "15. TRUE\n",
       "\n",
       "\n"
      ],
      "text/plain": [
       " [1] TRUE TRUE TRUE TRUE TRUE TRUE TRUE TRUE TRUE TRUE TRUE TRUE TRUE TRUE TRUE"
      ]
     },
     "metadata": {},
     "output_type": "display_data"
    }
   ],
   "source": [
    "round(data_eigenvalues,12) == round(pca_variances,12)"
   ]
  },
  {
   "cell_type": "code",
   "execution_count": 19,
   "metadata": {},
   "outputs": [
    {
     "data": {
      "text/html": [
       "TRUE"
      ],
      "text/latex": [
       "TRUE"
      ],
      "text/markdown": [
       "TRUE"
      ],
      "text/plain": [
       "[1] TRUE"
      ]
     },
     "metadata": {},
     "output_type": "display_data"
    }
   ],
   "source": [
    "round(sum_of_pca_variances, 12) == round(sum(data_eigenvalues), 12)"
   ]
  },
  {
   "cell_type": "markdown",
   "metadata": {},
   "source": [
    "\n",
    "\n",
    "Our percentage of variance explained function is identical to the one we did manually above. No surprise it yields us the exact same results.\n",
    "\n"
   ]
  },
  {
   "cell_type": "code",
   "execution_count": 20,
   "metadata": {},
   "outputs": [
    {
     "data": {
      "text/html": [
       "<ol class=list-inline>\n",
       "\t<li>0.4</li>\n",
       "\t<li>0.19</li>\n",
       "\t<li>0.13</li>\n",
       "\t<li>0.08</li>\n",
       "\t<li>0.06</li>\n",
       "\t<li>0.04</li>\n",
       "\t<li>0.02</li>\n",
       "\t<li>0.02</li>\n",
       "\t<li>0.02</li>\n",
       "\t<li>0.01</li>\n",
       "\t<li>0.01</li>\n",
       "\t<li>0.01</li>\n",
       "\t<li>0</li>\n",
       "\t<li>0</li>\n",
       "\t<li>0</li>\n",
       "</ol>\n"
      ],
      "text/latex": [
       "\\begin{enumerate*}\n",
       "\\item 0.4\n",
       "\\item 0.19\n",
       "\\item 0.13\n",
       "\\item 0.08\n",
       "\\item 0.06\n",
       "\\item 0.04\n",
       "\\item 0.02\n",
       "\\item 0.02\n",
       "\\item 0.02\n",
       "\\item 0.01\n",
       "\\item 0.01\n",
       "\\item 0.01\n",
       "\\item 0\n",
       "\\item 0\n",
       "\\item 0\n",
       "\\end{enumerate*}\n"
      ],
      "text/markdown": [
       "1. 0.4\n",
       "2. 0.19\n",
       "3. 0.13\n",
       "4. 0.08\n",
       "5. 0.06\n",
       "6. 0.04\n",
       "7. 0.02\n",
       "8. 0.02\n",
       "9. 0.02\n",
       "10. 0.01\n",
       "11. 0.01\n",
       "12. 0.01\n",
       "13. 0\n",
       "14. 0\n",
       "15. 0\n",
       "\n",
       "\n"
      ],
      "text/plain": [
       " [1] 0.40 0.19 0.13 0.08 0.06 0.04 0.02 0.02 0.02 0.01 0.01 0.01 0.00 0.00 0.00"
      ]
     },
     "metadata": {},
     "output_type": "display_data"
    }
   ],
   "source": [
    "# plotting percentage of variances explained by each principal component\n",
    "\n",
    "percent_variance_pcas <- round(pca_variances/sum_of_pca_variances,2)\n",
    "percent_variance_pcas"
   ]
  },
  {
   "cell_type": "markdown",
   "metadata": {},
   "source": [
    "\n",
    "\n",
    "### Scree Plot\n",
    "\n",
    "Let's plot the Scree plot of the PVE vs Principal Component and the Cumulative PVE vs Principal Component side-by-side. For more information on the Scree plot see awesome reference below:\n",
    "\n",
    "reference: http://www.improvedoutcomes.com/docs/WebSiteDocs/PCA/Creating_a_Scree_Plot.htm\n",
    "\n"
   ]
  },
  {
   "cell_type": "code",
   "execution_count": 21,
   "metadata": {},
   "outputs": [
    {
     "data": {
      "image/png": "[encoded data removed]",
      "text/plain": [
       "Plot with title \"Cumulative Scree Plot\""
      ]
     },
     "metadata": {},
     "output_type": "display_data"
    }
   ],
   "source": [
    "par(mfrow=c(1,2))\n",
    "\n",
    "plot(percent_variance_pcas,\n",
    "     type='b',\n",
    "     main=\"Scree Plot\", \n",
    "     xlab=\"Principal Component\",\n",
    "     ylab=\"Percentage of Variance Explained\")\n",
    "\n",
    "plot(cumsum(percent_variance_pcas),\n",
    "     type='b',\n",
    "     main=\"Cumulative Scree Plot\", \n",
    "     xlab=\"Principal Component\",\n",
    "     ylab=\"Cumulative Percentage of Variance Explained\")"
   ]
  },
  {
   "cell_type": "markdown",
   "metadata": {},
   "source": [
    "\n",
    "\n",
    "The Scree plot above is plotting the variance (standard deviation squared) vs the principal component. An easier way to create the Scree plot is just to plot the pca object returned by the `prcomp` function (see plot below). I prefer our manual way because we can see the cumulative variance represented by the addition of each principal component. This gives us a quick visual cue to aid in deciding how much variance we want explained by our principal components. Common values are 0.8 or 0.9 as mentioned above. In addition to the base Scree Plot, I have added the variance cutoff point of one defined by Kaiser. Acording to Kaiser, any principal component whose variance is greater than one, we include in our model. This provides slightly different results than using PVE as feature selection criteria (Kaiser would use 4 PCs compared to 6 PCs determined by PVE). Feature selection criteria is a massive topic in-of-itself, but these two are common techniques. Like all things in analytics, the given context should determine the technique. See reference below for more details:\n",
    "\n",
    "reference: http://www.real-statistics.com/multivariate-statistics/factor-analysis/determining-number-of-factors/\n"
   ]
  },
  {
   "cell_type": "code",
   "execution_count": 22,
   "metadata": {},
   "outputs": [
    {
     "data": {
      "image/png": "[encoded data removed]",
      "text/plain": [
       "Plot with title \"Scree Plot of PCA Transformed Crime Data\""
      ]
     },
     "metadata": {},
     "output_type": "display_data"
    }
   ],
   "source": [
    "plot(pca,\n",
    "     main=\"Scree Plot of PCA Transformed Crime Data\", \n",
    "     xlab=\"Principal Component\")\n",
    "abline(h=1)\n",
    "axis(1)"
   ]
  },
  {
   "cell_type": "markdown",
   "metadata": {},
   "source": [
    "\n",
    "\n",
    "Now that we have beat PCA to death, lets use the principal components to make a prediction for Crime! I will perform the linear regression using the PVE approach.\n",
    "\n"
   ]
  },
  {
   "cell_type": "markdown",
   "metadata": {},
   "source": [
    "\n",
    "\n",
    "### Linear regression using PVE feature selection criteria\n",
    "\n",
    "Let's use 6 PCs and create a dataframe with our PCs as features and Crime as our target variable.\n",
    "\n"
   ]
  },
  {
   "cell_type": "code",
   "execution_count": 23,
   "metadata": {
    "collapsed": true
   },
   "outputs": [],
   "source": [
    "data_pca_6_PCs <- as.data.frame(cbind(pca$x[,1:6], data[16]))"
   ]
  },
  {
   "cell_type": "markdown",
   "metadata": {},
   "source": [
    "\n",
    "\n",
    "### Linear regression\n",
    "\n"
   ]
  },
  {
   "cell_type": "code",
   "execution_count": 24,
   "metadata": {},
   "outputs": [
    {
     "data": {
      "text/plain": [
       "\n",
       "Call:\n",
       "lm(formula = Crime ~ ., data = data_pca_6_PCs)\n",
       "\n",
       "Residuals:\n",
       "    Min      1Q  Median      3Q     Max \n",
       "-377.15 -172.23   25.81  132.10  480.38 \n",
       "\n",
       "Coefficients:\n",
       "            Estimate Std. Error t value Pr(>|t|)    \n",
       "(Intercept)   905.09      35.35  25.604  < 2e-16 ***\n",
       "PC1            65.22      14.56   4.478 6.14e-05 ***\n",
       "PC2           -70.08      21.35  -3.283  0.00214 ** \n",
       "PC3            25.19      25.23   0.998  0.32409    \n",
       "PC4            69.45      33.14   2.095  0.04252 *  \n",
       "PC5          -229.04      36.50  -6.275 1.94e-07 ***\n",
       "PC6           -60.21      48.04  -1.253  0.21734    \n",
       "---\n",
       "Signif. codes:  0 '***' 0.001 '**' 0.01 '*' 0.05 '.' 0.1 ' ' 1\n",
       "\n",
       "Residual standard error: 242.3 on 40 degrees of freedom\n",
       "Multiple R-squared:  0.6586,\tAdjusted R-squared:  0.6074 \n",
       "F-statistic: 12.86 on 6 and 40 DF,  p-value: 4.869e-08\n"
      ]
     },
     "metadata": {},
     "output_type": "display_data"
    }
   ],
   "source": [
    "pca_6_PCs_regression_model <- lm(Crime~., data = data_pca_6_PCs)\n",
    "summary(pca_6_PCs_regression_model)"
   ]
  },
  {
   "cell_type": "code",
   "execution_count": 25,
   "metadata": {},
   "outputs": [
    {
     "data": {
      "text/html": [
       "0.607392676988062"
      ],
      "text/latex": [
       "0.607392676988062"
      ],
      "text/markdown": [
       "0.607392676988062"
      ],
      "text/plain": [
       "[1] 0.6073927"
      ]
     },
     "metadata": {},
     "output_type": "display_data"
    }
   ],
   "source": [
    "# model fit\n",
    "\n",
    "summary(pca_6_PCs_regression_model)$adj.r.squared"
   ]
  },
  {
   "cell_type": "code",
   "execution_count": 26,
   "metadata": {},
   "outputs": [
    {
     "data": {
      "text/html": [
       "<strong>(Intercept):</strong> 905.085106382979"
      ],
      "text/latex": [
       "\\textbf{(Intercept):} 905.085106382979"
      ],
      "text/markdown": [
       "**(Intercept):** 905.085106382979"
      ],
      "text/plain": [
       "(Intercept) \n",
       "   905.0851 "
      ]
     },
     "metadata": {},
     "output_type": "display_data"
    }
   ],
   "source": [
    "# Coefficients for 6 PCs linear regression model\n",
    "\n",
    "pca_6_PCs_regression_model_intercept <- pca_6_PCs_regression_model$coefficients[1]\n",
    "pca_6_PCs_regression_model_intercept"
   ]
  },
  {
   "cell_type": "code",
   "execution_count": 27,
   "metadata": {},
   "outputs": [
    {
     "data": {
      "text/html": [
       "<dl class=dl-horizontal>\n",
       "\t<dt>PC1</dt>\n",
       "\t\t<dd>65.215930138666</dd>\n",
       "\t<dt>PC2</dt>\n",
       "\t\t<dd>-70.0831185497858</dd>\n",
       "\t<dt>PC3</dt>\n",
       "\t\t<dd>25.1940780425772</dd>\n",
       "\t<dt>PC4</dt>\n",
       "\t\t<dd>69.4460307968389</dd>\n",
       "\t<dt>PC5</dt>\n",
       "\t\t<dd>-229.042822001686</dd>\n",
       "\t<dt>PC6</dt>\n",
       "\t\t<dd>-60.2132861756709</dd>\n",
       "</dl>\n"
      ],
      "text/latex": [
       "\\begin{description*}\n",
       "\\item[PC1] 65.215930138666\n",
       "\\item[PC2] -70.0831185497858\n",
       "\\item[PC3] 25.1940780425772\n",
       "\\item[PC4] 69.4460307968389\n",
       "\\item[PC5] -229.042822001686\n",
       "\\item[PC6] -60.2132861756709\n",
       "\\end{description*}\n"
      ],
      "text/markdown": [
       "PC1\n",
       ":   65.215930138666PC2\n",
       ":   -70.0831185497858PC3\n",
       ":   25.1940780425772PC4\n",
       ":   69.4460307968389PC5\n",
       ":   -229.042822001686PC6\n",
       ":   -60.2132861756709\n",
       "\n"
      ],
      "text/plain": [
       "       PC1        PC2        PC3        PC4        PC5        PC6 \n",
       "  65.21593  -70.08312   25.19408   69.44603 -229.04282  -60.21329 "
      ]
     },
     "metadata": {},
     "output_type": "display_data"
    }
   ],
   "source": [
    "pca_6_PCs_regression_model_coeffs <- pca_6_PCs_regression_model$coefficients[-1]\n",
    "pca_6_PCs_regression_model_coeffs"
   ]
  },
  {
   "cell_type": "markdown",
   "metadata": {},
   "source": [
    "\n",
    "\n",
    "Having the coefficients for our principal components does not do us much good. Let's convert the principal components back to the original input features.\n",
    "\n"
   ]
  },
  {
   "cell_type": "code",
   "execution_count": 28,
   "metadata": {},
   "outputs": [
    {
     "data": {
      "text/html": [
       "<table>\n",
       "<thead><tr><th scope=col>M</th><th scope=col>So</th><th scope=col>Ed</th><th scope=col>Po1</th><th scope=col>Po2</th><th scope=col>LF</th><th scope=col>M.F</th><th scope=col>Pop</th><th scope=col>NW</th><th scope=col>U1</th><th scope=col>U2</th><th scope=col>Wealth</th><th scope=col>Ineq</th><th scope=col>Prob</th><th scope=col>Time</th></tr></thead>\n",
       "<tbody>\n",
       "\t<tr><td>87.83811</td><td>43.89972</td><td>20.46387</td><td>123.1119</td><td>118.6478</td><td>45.8933 </td><td>112.6126</td><td>25.93763</td><td>94.98769</td><td>1.819916</td><td>29.44592</td><td>45.24734</td><td>5.724056</td><td>-51.7129</td><td>36.12882</td></tr>\n",
       "</tbody>\n",
       "</table>\n"
      ],
      "text/latex": [
       "\\begin{tabular}{lllllllllllllll}\n",
       " M & So & Ed & Po1 & Po2 & LF & M.F & Pop & NW & U1 & U2 & Wealth & Ineq & Prob & Time\\\\\n",
       "\\hline\n",
       "\t 87.83811 & 43.89972 & 20.46387 & 123.1119 & 118.6478 & 45.8933  & 112.6126 & 25.93763 & 94.98769 & 1.819916 & 29.44592 & 45.24734 & 5.724056 & -51.7129 & 36.12882\\\\\n",
       "\\end{tabular}\n"
      ],
      "text/markdown": [
       "\n",
       "M | So | Ed | Po1 | Po2 | LF | M.F | Pop | NW | U1 | U2 | Wealth | Ineq | Prob | Time | \n",
       "|---|\n",
       "| 87.83811 | 43.89972 | 20.46387 | 123.1119 | 118.6478 | 45.8933  | 112.6126 | 25.93763 | 94.98769 | 1.819916 | 29.44592 | 45.24734 | 5.724056 | -51.7129 | 36.12882 | \n",
       "\n",
       "\n"
      ],
      "text/plain": [
       "     M        So       Ed       Po1      Po2      LF      M.F      Pop     \n",
       "[1,] 87.83811 43.89972 20.46387 123.1119 118.6478 45.8933 112.6126 25.93763\n",
       "     NW       U1       U2       Wealth   Ineq     Prob     Time    \n",
       "[1,] 94.98769 1.819916 29.44592 45.24734 5.724056 -51.7129 36.12882"
      ]
     },
     "metadata": {},
     "output_type": "display_data"
    }
   ],
   "source": [
    "pca_6_PCs_regression_model_alphas <- pca$rotation[,1:6] %*% \n",
    "                                     pca_6_PCs_regression_model_coeffs\n",
    "t(pca_6_PCs_regression_model_alphas)"
   ]
  },
  {
   "cell_type": "markdown",
   "metadata": {},
   "source": [
    "\n",
    "\n",
    "The alpha values shown above are *scaled* features (z) by default. We must undo the z-scaling done by the `prcomp` function."
   ]
  },
  {
   "cell_type": "code",
   "execution_count": 29,
   "metadata": {},
   "outputs": [],
   "source": [
    "pca_6_PCs_regression_model_unscaled_intercept <-\n",
    "    pca_6_PCs_regression_model_intercept - \n",
    "        sum(pca_6_PCs_regression_model_alphas*\n",
    "                sapply(data[-16],mean)/sapply(data[-16],sd))\n",
    "\n",
    "pca_6_PCs_regression_model_input_alphas <- \n",
    "    pca_6_PCs_regression_model_alphas/sapply(data[-16],sd)"
   ]
  },
  {
   "cell_type": "code",
   "execution_count": 30,
   "metadata": {},
   "outputs": [
    {
     "data": {
      "text/html": [
       "<table>\n",
       "<thead><tr><th scope=col>(Intercept)</th></tr></thead>\n",
       "<tbody>\n",
       "\t<tr><td>-5923.647</td></tr>\n",
       "</tbody>\n",
       "</table>\n"
      ],
      "text/latex": [
       "\\begin{tabular}{l}\n",
       " (Intercept)\\\\\n",
       "\\hline\n",
       "\t -5923.647\\\\\n",
       "\\end{tabular}\n"
      ],
      "text/markdown": [
       "\n",
       "(Intercept) | \n",
       "|---|\n",
       "| -5923.647 | \n",
       "\n",
       "\n"
      ],
      "text/plain": [
       "     (Intercept)\n",
       "[1,] -5923.647  "
      ]
     },
     "metadata": {},
     "output_type": "display_data"
    }
   ],
   "source": [
    "# unscaled intercept\n",
    "\n",
    "t(pca_6_PCs_regression_model_unscaled_intercept)"
   ]
  },
  {
   "cell_type": "code",
   "execution_count": 31,
   "metadata": {},
   "outputs": [
    {
     "data": {
      "text/html": [
       "<table>\n",
       "<thead><tr><th scope=col>M</th><th scope=col>So</th><th scope=col>Ed</th><th scope=col>Po1</th><th scope=col>Po2</th><th scope=col>LF</th><th scope=col>M.F</th><th scope=col>Pop</th><th scope=col>NW</th><th scope=col>U1</th><th scope=col>U2</th><th scope=col>Wealth</th><th scope=col>Ineq</th><th scope=col>Prob</th><th scope=col>Time</th></tr></thead>\n",
       "<tbody>\n",
       "\t<tr><td>69.89232  </td><td>91.65344  </td><td>18.29254  </td><td>41.42536  </td><td>42.43282  </td><td>1135.641  </td><td>38.21603  </td><td>0.681293  </td><td>9.237458  </td><td>100.945   </td><td>34.86602  </td><td>0.04689284</td><td>1.434742  </td><td>-2274.397 </td><td>5.097975  </td></tr>\n",
       "</tbody>\n",
       "</table>\n"
      ],
      "text/latex": [
       "\\begin{tabular}{lllllllllllllll}\n",
       " M & So & Ed & Po1 & Po2 & LF & M.F & Pop & NW & U1 & U2 & Wealth & Ineq & Prob & Time\\\\\n",
       "\\hline\n",
       "\t 69.89232   & 91.65344   & 18.29254   & 41.42536   & 42.43282   & 1135.641   & 38.21603   & 0.681293   & 9.237458   & 100.945    & 34.86602   & 0.04689284 & 1.434742   & -2274.397  & 5.097975  \\\\\n",
       "\\end{tabular}\n"
      ],
      "text/markdown": [
       "\n",
       "M | So | Ed | Po1 | Po2 | LF | M.F | Pop | NW | U1 | U2 | Wealth | Ineq | Prob | Time | \n",
       "|---|\n",
       "| 69.89232   | 91.65344   | 18.29254   | 41.42536   | 42.43282   | 1135.641   | 38.21603   | 0.681293   | 9.237458   | 100.945    | 34.86602   | 0.04689284 | 1.434742   | -2274.397  | 5.097975   | \n",
       "\n",
       "\n"
      ],
      "text/plain": [
       "     M        So       Ed       Po1      Po2      LF       M.F      Pop     \n",
       "[1,] 69.89232 91.65344 18.29254 41.42536 42.43282 1135.641 38.21603 0.681293\n",
       "     NW       U1      U2       Wealth     Ineq     Prob      Time    \n",
       "[1,] 9.237458 100.945 34.86602 0.04689284 1.434742 -2274.397 5.097975"
      ]
     },
     "metadata": {},
     "output_type": "display_data"
    }
   ],
   "source": [
    "# unscaled alpha values\n",
    "\n",
    "t(pca_6_PCs_regression_model_input_alphas)"
   ]
  },
  {
   "cell_type": "markdown",
   "metadata": {},
   "source": [
    "\n",
    "\n",
    "### Crime estimates using 6 PCs\n",
    "\n",
    "Now that we have unscaled values for alpha and a model intercept, let's evaluate our model performance!\n",
    "\n"
   ]
  },
  {
   "cell_type": "code",
   "execution_count": 32,
   "metadata": {},
   "outputs": [],
   "source": [
    "pca_6_PCs_regression_model_estimates <- (as.matrix(data[-16]) %*% \n",
    "    pca_6_PCs_regression_model_input_alphas) + \n",
    "        pca_6_PCs_regression_model_unscaled_intercept"
   ]
  },
  {
   "cell_type": "markdown",
   "metadata": {},
   "source": [
    "\n",
    "\n",
    "### Model R^2 and Adjusted R^2 Values\n",
    "\n"
   ]
  },
  {
   "cell_type": "code",
   "execution_count": 33,
   "metadata": {},
   "outputs": [
    {
     "name": "stdout",
     "output_type": "stream",
     "text": [
      "Multiple R-Squared: 0.6586023"
     ]
    }
   ],
   "source": [
    "pca_6_PCs_regression_model_SSE <- \n",
    "    sum((pca_6_PCs_regression_model_estimates - data[,16])^2)\n",
    "\n",
    "pca_6_PCs_regression_model_SStot <- sum((data[,16] - mean(data[,16]))^2)\n",
    "\n",
    "cat('Multiple R-Squared: ')\n",
    "cat(1 - pca_6_PCs_regression_model_SSE/pca_6_PCs_regression_model_SStot)"
   ]
  },
  {
   "cell_type": "code",
   "execution_count": 34,
   "metadata": {},
   "outputs": [
    {
     "name": "stdout",
     "output_type": "stream",
     "text": [
      "Adjusted R-Squared: 0.6073927"
     ]
    }
   ],
   "source": [
    "pca_6_PCs_regression_model_R2 <-\n",
    "    1 - pca_6_PCs_regression_model_SSE/pca_6_PCs_regression_model_SStot\n",
    "\n",
    "cat('Adjusted R-Squared: ')\n",
    "cat(pca_6_PCs_regression_model_R2 - \n",
    "    (1 - pca_6_PCs_regression_model_R2)*6/(nrow(data)-6-1))"
   ]
  },
  {
   "cell_type": "markdown",
   "metadata": {},
   "source": [
    "\n",
    "\n",
    "Notice how our R^2 values for the linear regression model built with the PCs matches the R^2 value for the model built using the unscaled features - this is a good thing and confirms that we have successfully reversed our PCs to the original features. Now let's use a test point and make a prediction for crime!\n",
    "\n"
   ]
  },
  {
   "cell_type": "markdown",
   "metadata": {},
   "source": [
    "\n",
    "\n",
    "### Crime prediction on test point\n",
    "\n"
   ]
  },
  {
   "cell_type": "code",
   "execution_count": 35,
   "metadata": {},
   "outputs": [
    {
     "data": {
      "text/html": [
       "<table>\n",
       "<thead><tr><th scope=col>M</th><th scope=col>So</th><th scope=col>Ed</th><th scope=col>Po1</th><th scope=col>Po2</th><th scope=col>LF</th><th scope=col>M.F</th><th scope=col>Pop</th><th scope=col>NW</th><th scope=col>U1</th><th scope=col>U2</th><th scope=col>Wealth</th><th scope=col>Ineq</th><th scope=col>Prob</th><th scope=col>Time</th></tr></thead>\n",
       "<tbody>\n",
       "\t<tr><td>14  </td><td>0   </td><td>10  </td><td>12  </td><td>15.5</td><td>0.64</td><td>94  </td><td>150 </td><td>1.1 </td><td>0.12</td><td>3.6 </td><td>3200</td><td>20.1</td><td>0.04</td><td>39  </td></tr>\n",
       "</tbody>\n",
       "</table>\n"
      ],
      "text/latex": [
       "\\begin{tabular}{r|lllllllllllllll}\n",
       " M & So & Ed & Po1 & Po2 & LF & M.F & Pop & NW & U1 & U2 & Wealth & Ineq & Prob & Time\\\\\n",
       "\\hline\n",
       "\t 14   & 0    & 10   & 12   & 15.5 & 0.64 & 94   & 150  & 1.1  & 0.12 & 3.6  & 3200 & 20.1 & 0.04 & 39  \\\\\n",
       "\\end{tabular}\n"
      ],
      "text/markdown": [
       "\n",
       "M | So | Ed | Po1 | Po2 | LF | M.F | Pop | NW | U1 | U2 | Wealth | Ineq | Prob | Time | \n",
       "|---|\n",
       "| 14   | 0    | 10   | 12   | 15.5 | 0.64 | 94   | 150  | 1.1  | 0.12 | 3.6  | 3200 | 20.1 | 0.04 | 39   | \n",
       "\n",
       "\n"
      ],
      "text/plain": [
       "  M  So Ed Po1 Po2  LF   M.F Pop NW  U1   U2  Wealth Ineq Prob Time\n",
       "1 14 0  10 12  15.5 0.64 94  150 1.1 0.12 3.6 3200   20.1 0.04 39  "
      ]
     },
     "metadata": {},
     "output_type": "display_data"
    }
   ],
   "source": [
    "# test set\n",
    "test <- data.frame(M = 14.0,\n",
    "                   So = 0,\n",
    "                   Ed = 10.0,\n",
    "                   Po1 = 12.0,\n",
    "                   Po2 = 15.5,\n",
    "                   LF = 0.640,\n",
    "                   M.F = 94.0,\n",
    "                   Pop = 150,\n",
    "                   NW = 1.1,\n",
    "                   U1 = 0.120,\n",
    "                   U2 = 3.6,\n",
    "                   Wealth = 3200,\n",
    "                   Ineq = 20.1,\n",
    "                   Prob = 0.04,\n",
    "                   Time = 39.0)\n",
    "test"
   ]
  },
  {
   "cell_type": "code",
   "execution_count": 36,
   "metadata": {},
   "outputs": [
    {
     "name": "stdout",
     "output_type": "stream",
     "text": [
      "Test data Crime rate estimate: 1248.427"
     ]
    }
   ],
   "source": [
    "test_point_estimate <- (as.matrix(test) %*% \n",
    "    pca_6_PCs_regression_model_input_alphas) + \n",
    "        pca_6_PCs_regression_model_unscaled_intercept\n",
    "\n",
    "cat(\"Test data Crime rate estimate: \")\n",
    "cat(test_point_estimate)"
   ]
  },
  {
   "cell_type": "markdown",
   "metadata": {},
   "source": [
    "\n",
    "\n",
    "### Fin!\n",
    "\n",
    "Our test point estimate passes the sanity check as it is in the ballpark of reasonable."
   ]
  }
 ],
 "metadata": {
  "anaconda-cloud": {},
  "kernelspec": {
   "display_name": "R",
   "language": "R",
   "name": "ir"
  },
  "language_info": {
   "codemirror_mode": "r",
   "file_extension": ".r",
   "mimetype": "text/x-r-source",
   "name": "R",
   "pygments_lexer": "r",
   "version": "3.4.3"
  }
 },
 "nbformat": 4,
 "nbformat_minor": 2
}
