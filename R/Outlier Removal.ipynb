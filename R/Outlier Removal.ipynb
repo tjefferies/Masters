{
 "cells": [
  {
   "cell_type": "markdown",
   "metadata": {},
   "source": [
    "# Outlier removal\n",
    "\n",
    "In this notebook, I cover the basics of removing outliers using the `grubbs` test. The dataset used is the famous crime dataset from the UCI repository http://www.statsci.org/data/general/uscrime.txt data dictionary available at http://www.statsci.org/data/general/uscrime.html."
   ]
  },
  {
   "cell_type": "markdown",
   "metadata": {},
   "source": [
    "\n",
    "\n",
    "### Load library and set seed\n",
    "\n"
   ]
  },
  {
   "cell_type": "code",
   "execution_count": 4,
   "metadata": {
    "collapsed": true
   },
   "outputs": [],
   "source": [
    "# install.packages('outliers')\n",
    "library(outliers)\n",
    "library(\"IRdisplay\")\n",
    "require(outliers)\n",
    "set.seed(37)"
   ]
  },
  {
   "cell_type": "markdown",
   "metadata": {},
   "source": [
    "\n",
    "\n",
    "### Load data and check head\n",
    "\n"
   ]
  },
  {
   "cell_type": "code",
   "execution_count": 2,
   "metadata": {
    "collapsed": true
   },
   "outputs": [],
   "source": [
    "data <- read.table(\"uscrime.txt\", header=T)"
   ]
  },
  {
   "cell_type": "code",
   "execution_count": 3,
   "metadata": {},
   "outputs": [
    {
     "data": {
      "text/html": [
       "<table>\n",
       "<thead><tr><th scope=col>M</th><th scope=col>So</th><th scope=col>Ed</th><th scope=col>Po1</th><th scope=col>Po2</th><th scope=col>LF</th><th scope=col>M.F</th><th scope=col>Pop</th><th scope=col>NW</th><th scope=col>U1</th><th scope=col>U2</th><th scope=col>Wealth</th><th scope=col>Ineq</th><th scope=col>Prob</th><th scope=col>Time</th><th scope=col>Crime</th></tr></thead>\n",
       "<tbody>\n",
       "\t<tr><td>15.1    </td><td>1       </td><td> 9.1    </td><td> 5.8    </td><td> 5.6    </td><td>0.510   </td><td> 95.0   </td><td> 33     </td><td>30.1    </td><td>0.108   </td><td>4.1     </td><td>3940    </td><td>26.1    </td><td>0.084602</td><td>26.2011 </td><td> 791    </td></tr>\n",
       "\t<tr><td>14.3    </td><td>0       </td><td>11.3    </td><td>10.3    </td><td> 9.5    </td><td>0.583   </td><td>101.2   </td><td> 13     </td><td>10.2    </td><td>0.096   </td><td>3.6     </td><td>5570    </td><td>19.4    </td><td>0.029599</td><td>25.2999 </td><td>1635    </td></tr>\n",
       "\t<tr><td>14.2    </td><td>1       </td><td> 8.9    </td><td> 4.5    </td><td> 4.4    </td><td>0.533   </td><td> 96.9   </td><td> 18     </td><td>21.9    </td><td>0.094   </td><td>3.3     </td><td>3180    </td><td>25.0    </td><td>0.083401</td><td>24.3006 </td><td> 578    </td></tr>\n",
       "\t<tr><td>13.6    </td><td>0       </td><td>12.1    </td><td>14.9    </td><td>14.1    </td><td>0.577   </td><td> 99.4   </td><td>157     </td><td> 8.0    </td><td>0.102   </td><td>3.9     </td><td>6730    </td><td>16.7    </td><td>0.015801</td><td>29.9012 </td><td>1969    </td></tr>\n",
       "\t<tr><td>14.1    </td><td>0       </td><td>12.1    </td><td>10.9    </td><td>10.1    </td><td>0.591   </td><td> 98.5   </td><td> 18     </td><td> 3.0    </td><td>0.091   </td><td>2.0     </td><td>5780    </td><td>17.4    </td><td>0.041399</td><td>21.2998 </td><td>1234    </td></tr>\n",
       "\t<tr><td>12.1    </td><td>0       </td><td>11.0    </td><td>11.8    </td><td>11.5    </td><td>0.547   </td><td> 96.4   </td><td> 25     </td><td> 4.4    </td><td>0.084   </td><td>2.9     </td><td>6890    </td><td>12.6    </td><td>0.034201</td><td>20.9995 </td><td> 682    </td></tr>\n",
       "</tbody>\n",
       "</table>\n"
      ],
      "text/latex": [
       "\\begin{tabular}{r|llllllllllllllll}\n",
       " M & So & Ed & Po1 & Po2 & LF & M.F & Pop & NW & U1 & U2 & Wealth & Ineq & Prob & Time & Crime\\\\\n",
       "\\hline\n",
       "\t 15.1     & 1        &  9.1     &  5.8     &  5.6     & 0.510    &  95.0    &  33      & 30.1     & 0.108    & 4.1      & 3940     & 26.1     & 0.084602 & 26.2011  &  791    \\\\\n",
       "\t 14.3     & 0        & 11.3     & 10.3     &  9.5     & 0.583    & 101.2    &  13      & 10.2     & 0.096    & 3.6      & 5570     & 19.4     & 0.029599 & 25.2999  & 1635    \\\\\n",
       "\t 14.2     & 1        &  8.9     &  4.5     &  4.4     & 0.533    &  96.9    &  18      & 21.9     & 0.094    & 3.3      & 3180     & 25.0     & 0.083401 & 24.3006  &  578    \\\\\n",
       "\t 13.6     & 0        & 12.1     & 14.9     & 14.1     & 0.577    &  99.4    & 157      &  8.0     & 0.102    & 3.9      & 6730     & 16.7     & 0.015801 & 29.9012  & 1969    \\\\\n",
       "\t 14.1     & 0        & 12.1     & 10.9     & 10.1     & 0.591    &  98.5    &  18      &  3.0     & 0.091    & 2.0      & 5780     & 17.4     & 0.041399 & 21.2998  & 1234    \\\\\n",
       "\t 12.1     & 0        & 11.0     & 11.8     & 11.5     & 0.547    &  96.4    &  25      &  4.4     & 0.084    & 2.9      & 6890     & 12.6     & 0.034201 & 20.9995  &  682    \\\\\n",
       "\\end{tabular}\n"
      ],
      "text/markdown": [
       "\n",
       "M | So | Ed | Po1 | Po2 | LF | M.F | Pop | NW | U1 | U2 | Wealth | Ineq | Prob | Time | Crime | \n",
       "|---|---|---|---|---|---|\n",
       "| 15.1     | 1        |  9.1     |  5.8     |  5.6     | 0.510    |  95.0    |  33      | 30.1     | 0.108    | 4.1      | 3940     | 26.1     | 0.084602 | 26.2011  |  791     | \n",
       "| 14.3     | 0        | 11.3     | 10.3     |  9.5     | 0.583    | 101.2    |  13      | 10.2     | 0.096    | 3.6      | 5570     | 19.4     | 0.029599 | 25.2999  | 1635     | \n",
       "| 14.2     | 1        |  8.9     |  4.5     |  4.4     | 0.533    |  96.9    |  18      | 21.9     | 0.094    | 3.3      | 3180     | 25.0     | 0.083401 | 24.3006  |  578     | \n",
       "| 13.6     | 0        | 12.1     | 14.9     | 14.1     | 0.577    |  99.4    | 157      |  8.0     | 0.102    | 3.9      | 6730     | 16.7     | 0.015801 | 29.9012  | 1969     | \n",
       "| 14.1     | 0        | 12.1     | 10.9     | 10.1     | 0.591    |  98.5    |  18      |  3.0     | 0.091    | 2.0      | 5780     | 17.4     | 0.041399 | 21.2998  | 1234     | \n",
       "| 12.1     | 0        | 11.0     | 11.8     | 11.5     | 0.547    |  96.4    |  25      |  4.4     | 0.084    | 2.9      | 6890     | 12.6     | 0.034201 | 20.9995  |  682     | \n",
       "\n",
       "\n"
      ],
      "text/plain": [
       "  M    So Ed   Po1  Po2  LF    M.F   Pop NW   U1    U2  Wealth Ineq Prob    \n",
       "1 15.1 1   9.1  5.8  5.6 0.510  95.0  33 30.1 0.108 4.1 3940   26.1 0.084602\n",
       "2 14.3 0  11.3 10.3  9.5 0.583 101.2  13 10.2 0.096 3.6 5570   19.4 0.029599\n",
       "3 14.2 1   8.9  4.5  4.4 0.533  96.9  18 21.9 0.094 3.3 3180   25.0 0.083401\n",
       "4 13.6 0  12.1 14.9 14.1 0.577  99.4 157  8.0 0.102 3.9 6730   16.7 0.015801\n",
       "5 14.1 0  12.1 10.9 10.1 0.591  98.5  18  3.0 0.091 2.0 5780   17.4 0.041399\n",
       "6 12.1 0  11.0 11.8 11.5 0.547  96.4  25  4.4 0.084 2.9 6890   12.6 0.034201\n",
       "  Time    Crime\n",
       "1 26.2011  791 \n",
       "2 25.2999 1635 \n",
       "3 24.3006  578 \n",
       "4 29.9012 1969 \n",
       "5 21.2998 1234 \n",
       "6 20.9995  682 "
      ]
     },
     "metadata": {},
     "output_type": "display_data"
    }
   ],
   "source": [
    "head(data)"
   ]
  },
  {
   "cell_type": "markdown",
   "metadata": {},
   "source": [
    "\n",
    "\n",
    "### Check length of crime rate vector\n",
    "\n",
    "Let's check the initial length of the crime rate per 100,000 people vector present in the raw data. This will tell us how many observations our data initially has. After running the grubbs test we can definitively see how many data points were considered \"outliers\" and were removed from our raw data.\n",
    "\n"
   ]
  },
  {
   "cell_type": "code",
   "execution_count": 4,
   "metadata": {},
   "outputs": [
    {
     "data": {
      "text/html": [
       "47"
      ],
      "text/latex": [
       "47"
      ],
      "text/markdown": [
       "47"
      ],
      "text/plain": [
       "[1] 47"
      ]
     },
     "metadata": {},
     "output_type": "display_data"
    }
   ],
   "source": [
    "raw_data_length <- length(data$Crime)\n",
    "raw_data_length"
   ]
  },
  {
   "cell_type": "markdown",
   "metadata": {},
   "source": [
    "\n",
    "\n",
    "### Plot raw data\n",
    "\n",
    "On the plot I've highlighted the min and max points in red.\n",
    "\n"
   ]
  },
  {
   "cell_type": "code",
   "execution_count": 5,
   "metadata": {},
   "outputs": [
    {
     "data": {
      "image/png": "[encoded data removed]",
      "text/plain": [
       "Plot with title \"US States Crime Rate per 100,000 People\""
      ]
     },
     "metadata": {},
     "output_type": "display_data"
    }
   ],
   "source": [
    "plot(data$Crime, \n",
    "    main=\"US States Crime Rate per 100,000 People\",\n",
    "    ylab=\"Crime Rate per 100,000 People\",\n",
    "    pch=20, cex=1.7,\n",
    "    col=ifelse(data$Crime==min(data$Crime) |\n",
    "               data$Crime==max(data$Crime),\n",
    "              \"darkred\",\"darkgreen\"))\n",
    "text(which(data$Crime==min(data$Crime)),\n",
    "     min(data$Crime),labels=\"min\",pos=2)\n",
    "text(which(data$Crime==max(data$Crime)),\n",
    "     max(data$Crime),labels=\"max\",pos=2)"
   ]
  },
  {
   "cell_type": "code",
   "execution_count": 6,
   "metadata": {},
   "outputs": [
    {
     "data": {
      "text/html": [
       "342"
      ],
      "text/latex": [
       "342"
      ],
      "text/markdown": [
       "342"
      ],
      "text/plain": [
       "[1] 342"
      ]
     },
     "metadata": {},
     "output_type": "display_data"
    }
   ],
   "source": [
    "min(data$Crime)"
   ]
  },
  {
   "cell_type": "code",
   "execution_count": 7,
   "metadata": {},
   "outputs": [
    {
     "data": {
      "text/html": [
       "1993"
      ],
      "text/latex": [
       "1993"
      ],
      "text/markdown": [
       "1993"
      ],
      "text/plain": [
       "[1] 1993"
      ]
     },
     "metadata": {},
     "output_type": "display_data"
    }
   ],
   "source": [
    "max(data$Crime)"
   ]
  },
  {
   "cell_type": "markdown",
   "metadata": {},
   "source": [
    "\n",
    "\n",
    "### Boxplot raw data\n",
    "\n"
   ]
  },
  {
   "cell_type": "code",
   "execution_count": 8,
   "metadata": {},
   "outputs": [
    {
     "data": {
      "image/png": "[encoded data removed]",
      "text/plain": [
       "Plot with title \"US States Crime Rate per 100,000 People\""
      ]
     },
     "metadata": {},
     "output_type": "display_data"
    }
   ],
   "source": [
    "# reference: https://www.rdocumentation.org/packages/graphics/versions/3.4.3/topics/boxplot\n",
    "\n",
    "boxplot(data$Crime, horizontal = T,\n",
    "        xlab=\"Crime Rate per 100,000 People\",\n",
    "        main=\"US States Crime Rate per 100,000 People\")"
   ]
  },
  {
   "cell_type": "markdown",
   "metadata": {},
   "source": [
    "\n",
    "\n",
    "### Histogram raw data\n",
    "\n",
    "On the histogram I have added two lines (one for the mean and one for the median). This will tell us if the raw data is skewed one way or another. A key assumption to using the Grubbs test is that the input data is normally distributed. Plotting the data in histogram form will give us a quick visual check of the normality present in our input dataset.\n",
    "\n"
   ]
  },
  {
   "cell_type": "code",
   "execution_count": 9,
   "metadata": {},
   "outputs": [
    {
     "data": {
      "image/png": "[encoded data removed]",
      "text/plain": [
       "Plot with title \"Histogram of data$Crime\""
      ]
     },
     "metadata": {},
     "output_type": "display_data"
    }
   ],
   "source": [
    "# reference: https://www.r-bloggers.com/adding-measures-of-central-tendency-to-histograms-in-r/\n",
    "\n",
    "hist(data$Crime, probability = T,\n",
    "     col = \"peachpuff\",\n",
    "     xlab=\"Crime Rate per 100,000 People\")\n",
    "lines(density(data$Crime), # density plot\n",
    " lwd = 2, # thickness of line\n",
    " col = \"chocolate3\")\n",
    "abline(v = mean(data$Crime),\n",
    " col = \"royalblue\",\n",
    " lwd = 2)\n",
    "abline(v = median(data$Crime),\n",
    " col = \"red\",\n",
    " lwd = 2)\n",
    "legend(x = \"topright\", # location of legend within plot area\n",
    " c(\"Density plot\", \"Mean\", \"Median\"),\n",
    " col = c(\"chocolate3\", \"royalblue\", \"red\"),\n",
    " lwd = c(2, 2, 2))"
   ]
  },
  {
   "cell_type": "markdown",
   "metadata": {},
   "source": [
    "\n",
    "\n",
    "As we can see from the histogram above, the raw data is clearly normally distributed, but skewed towards higher crime rates per capita (mean value is greater than the median value). See excellent reference below:\n",
    "\n",
    "http://davidmlane.com/hyperstat/A92403.html\n",
    "\n"
   ]
  },
  {
   "cell_type": "code",
   "execution_count": 10,
   "metadata": {},
   "outputs": [
    {
     "data": {
      "text/html": [
       "74.0851063829788"
      ],
      "text/latex": [
       "74.0851063829788"
      ],
      "text/markdown": [
       "74.0851063829788"
      ],
      "text/plain": [
       "[1] 74.08511"
      ]
     },
     "metadata": {},
     "output_type": "display_data"
    }
   ],
   "source": [
    "raw_skew_measure <- mean(data$Crime) - median(data$Crime)\n",
    "raw_skew_measure"
   ]
  },
  {
   "cell_type": "markdown",
   "metadata": {},
   "source": [
    "\n",
    "\n",
    "### Q-Q plot raw data\n",
    "\n",
    "A Q-Q plot tests our input data for normality. If the data is normally distributed, we should be able to draw a line through all the data points that intercepts at the origin.\n",
    "\n"
   ]
  },
  {
   "cell_type": "code",
   "execution_count": 11,
   "metadata": {},
   "outputs": [
    {
     "data": {
      "image/png": "[encoded data removed]",
      "text/plain": [
       "Plot with title \"Normal Q-Q Plot\""
      ]
     },
     "metadata": {},
     "output_type": "display_data"
    }
   ],
   "source": [
    "qqnorm(scale(data$Crime))"
   ]
  },
  {
   "cell_type": "markdown",
   "metadata": {},
   "source": [
    "\n",
    "\n",
    "While not perfectly normally distributed (the tail at the high end is skewing our data), we can tell from the histogram and the Q-Q plot above that our data passes the normality test. We may proceed with the Grubbs test!\n",
    "\n"
   ]
  },
  {
   "cell_type": "markdown",
   "metadata": {},
   "source": [
    "\n",
    "\n",
    "### Recursively eliminate outliers\n",
    "\n",
    "The recursive function below works in the following way:\n",
    "\n",
    "* Grubbs test is performed on the input vector (type=10 - only testing for one outlier)\n",
    "    * Testing occurs at both ends of the tails\n",
    "* If the p-value returned by Grubbs test is below a user defined threshold (alpha), the following steps occur:\n",
    "    * The outlier returned by Grubbs test is identified using regex\n",
    "    * The outlier returned by Grubbs test is removed from the vector\n",
    "    * A function call is made back to the Grubbs test with overwritten vector\n",
    "* Else if p-value is above threshold alpha, the function returns the last vector created\n",
    "\n"
   ]
  },
  {
   "cell_type": "code",
   "execution_count": 12,
   "metadata": {
    "collapsed": true
   },
   "outputs": [],
   "source": [
    "# reference: http://stackoverflow.com/a/24397936\n",
    "# reference: http://www.regular-expressions.info/rlanguage.html\n",
    "# reference: http://regex101.com/\n",
    "# reference: http://stackoverflow.com/q/9665984\n",
    "\n",
    "eliminate_outliers_grubbs_test <- function(vector, alpha){\n",
    "    grubbs_test <- grubbs.test(vector, type = 10)\n",
    "    if (grubbs_test$p.value <= alpha) {\n",
    "        m <- regexpr(\"(\\\\d+)\", grubbs_test$alternative, perl=TRUE)\n",
    "        val_to_remove <- as.numeric(regmatches(grubbs_test$alternative, m))\n",
    "        remove <- c(val_to_remove)\n",
    "        vector <- vector[!vector %in% remove]\n",
    "        eliminate_outliers_grubbs_test(vector, alpha)\n",
    "    } else{\n",
    "        return(vector)\n",
    "    }\n",
    "}"
   ]
  },
  {
   "cell_type": "markdown",
   "metadata": {},
   "source": [
    "\n",
    "\n",
    "### eliminate_outliers_grubbs_test with 0.1 p-value threshold (alpha)\n",
    "\n"
   ]
  },
  {
   "cell_type": "code",
   "execution_count": 13,
   "metadata": {
    "collapsed": true
   },
   "outputs": [],
   "source": [
    "crime_outliers_removed.1 <- eliminate_outliers_grubbs_test(data$Crime,\n",
    "                                                         0.1)"
   ]
  },
  {
   "cell_type": "markdown",
   "metadata": {},
   "source": [
    "\n",
    "\n",
    "### Check difference between length of raw data and length of returned vector\n",
    "\n",
    "This will tell us how many outliers the Grubbs test found/removed from the input vector.\n",
    "\n"
   ]
  },
  {
   "cell_type": "code",
   "execution_count": 14,
   "metadata": {},
   "outputs": [
    {
     "data": {
      "text/html": [
       "2"
      ],
      "text/latex": [
       "2"
      ],
      "text/markdown": [
       "2"
      ],
      "text/plain": [
       "[1] 2"
      ]
     },
     "metadata": {},
     "output_type": "display_data"
    }
   ],
   "source": [
    "crime_outliers_removed.1_length <- length(crime_outliers_removed.1)\n",
    "raw_data_length - crime_outliers_removed.1_length"
   ]
  },
  {
   "cell_type": "markdown",
   "metadata": {},
   "source": [
    "\n",
    "\n",
    "Grubbs test found/removed two outliers with returned p-value less than or equal to alpha=0.1.\n",
    "\n"
   ]
  },
  {
   "cell_type": "markdown",
   "metadata": {},
   "source": [
    "\n",
    "\n",
    "### Scatterplot vector with outliers removed\n",
    "\n"
   ]
  },
  {
   "cell_type": "code",
   "execution_count": 32,
   "metadata": {},
   "outputs": [
    {
     "data": {
      "image/png": "[encoded data removed]",
      "text/plain": [
       "Plot with title \"US States Crime Rate per 100,000 People (Outliers Removed a=0.1)\""
      ]
     },
     "metadata": {},
     "output_type": "display_data"
    }
   ],
   "source": [
    "plot(crime_outliers_removed.1, \n",
    "    main=\"US States Crime Rate per 100,000 People (Outliers Removed a=0.1)\",\n",
    "    ylab=\"Crime Rate per 100,000 People\",\n",
    "    pch=20, cex=1.7,\n",
    "    col=ifelse(crime_outliers_removed.1==min(crime_outliers_removed.1) |\n",
    "               crime_outliers_removed.1==max(crime_outliers_removed.1),\n",
    "              \"darkred\",\"darkgreen\"))\n",
    "text(which(crime_outliers_removed.1==min(crime_outliers_removed.1)),\n",
    "     min(crime_outliers_removed.1),labels=\"min\",pos=2)\n",
    "text(which(crime_outliers_removed.1==max(crime_outliers_removed.1)),\n",
    "     max(crime_outliers_removed.1),labels=\"max\",pos=4)"
   ]
  },
  {
   "cell_type": "code",
   "execution_count": 16,
   "metadata": {},
   "outputs": [
    {
     "data": {
      "text/html": [
       "342"
      ],
      "text/latex": [
       "342"
      ],
      "text/markdown": [
       "342"
      ],
      "text/plain": [
       "[1] 342"
      ]
     },
     "metadata": {},
     "output_type": "display_data"
    }
   ],
   "source": [
    "min(crime_outliers_removed.1)"
   ]
  },
  {
   "cell_type": "code",
   "execution_count": 17,
   "metadata": {},
   "outputs": [
    {
     "data": {
      "text/html": [
       "1674"
      ],
      "text/latex": [
       "1674"
      ],
      "text/markdown": [
       "1674"
      ],
      "text/plain": [
       "[1] 1674"
      ]
     },
     "metadata": {},
     "output_type": "display_data"
    }
   ],
   "source": [
    "max(crime_outliers_removed.1)"
   ]
  },
  {
   "cell_type": "markdown",
   "metadata": {},
   "source": [
    "\n",
    "\n",
    "### Boxplot vector with outliers removed\n",
    "\n"
   ]
  },
  {
   "cell_type": "code",
   "execution_count": 31,
   "metadata": {},
   "outputs": [
    {
     "data": {
      "image/png": "[encoded data removed]",
      "text/plain": [
       "Plot with title \"US States Crime Rate per 100,000 People (Outliers Removed a=0.1)\""
      ]
     },
     "metadata": {},
     "output_type": "display_data"
    }
   ],
   "source": [
    "# reference: https://www.rdocumentation.org/packages/graphics/versions/3.4.3/topics/boxplot\n",
    "\n",
    "boxplot(crime_outliers_removed.1, horizontal = T,\n",
    "        xlab=\"Crime Rate per 100,000 People\",\n",
    "        main=\"US States Crime Rate per 100,000 People (Outliers Removed a=0.1)\")"
   ]
  },
  {
   "cell_type": "markdown",
   "metadata": {},
   "source": [
    "\n",
    "\n",
    "### Histogram vector with outliers removed\n",
    "\n",
    "On the histogram I have added two lines (one for the mean and one for the median). This will tell us if the transformed data is still skewed one way or another.\n",
    "\n"
   ]
  },
  {
   "cell_type": "code",
   "execution_count": 19,
   "metadata": {},
   "outputs": [
    {
     "data": {
      "image/png": "[encoded data removed]",
      "text/plain": [
       "Plot with title \"Histogram of crime_outliers_removed.1\""
      ]
     },
     "metadata": {},
     "output_type": "display_data"
    }
   ],
   "source": [
    "# reference: https://www.r-bloggers.com/adding-measures-of-central-tendency-to-histograms-in-r/\n",
    "\n",
    "hist(crime_outliers_removed.1, probability = T,\n",
    "     col = \"peachpuff\",\n",
    "     xlab=\"Crime Rate per 100,000 People\")\n",
    "lines(density(crime_outliers_removed.1), # density plot\n",
    " lwd = 2, # thickness of line\n",
    " col = \"chocolate3\")\n",
    "abline(v = mean(crime_outliers_removed.1),\n",
    " col = \"royalblue\",\n",
    " lwd = 2)\n",
    "abline(v = median(crime_outliers_removed.1),\n",
    " col = \"red\",\n",
    " lwd = 2)\n",
    "legend(x = \"topright\", # location of legend within plot area\n",
    " c(\"Density plot\", \"Mean\", \"Median\"),\n",
    " col = c(\"chocolate3\", \"royalblue\", \"red\"),\n",
    " lwd = c(2, 2, 2))"
   ]
  },
  {
   "cell_type": "code",
   "execution_count": 20,
   "metadata": {},
   "outputs": [
    {
     "data": {
      "text/html": [
       "31.2666666666667"
      ],
      "text/latex": [
       "31.2666666666667"
      ],
      "text/markdown": [
       "31.2666666666667"
      ],
      "text/plain": [
       "[1] 31.26667"
      ]
     },
     "metadata": {},
     "output_type": "display_data"
    }
   ],
   "source": [
    "transformed_skew_measure <- mean(crime_outliers_removed.1) - \n",
    "                            median(crime_outliers_removed.1)\n",
    "transformed_skew_measure"
   ]
  },
  {
   "cell_type": "code",
   "execution_count": 21,
   "metadata": {},
   "outputs": [
    {
     "data": {
      "text/html": [
       "TRUE"
      ],
      "text/latex": [
       "TRUE"
      ],
      "text/markdown": [
       "TRUE"
      ],
      "text/plain": [
       "[1] TRUE"
      ]
     },
     "metadata": {},
     "output_type": "display_data"
    }
   ],
   "source": [
    "transformed_skew_measure < raw_skew_measure"
   ]
  },
  {
   "cell_type": "markdown",
   "metadata": {},
   "source": [
    "\n",
    "\n",
    "As we can see from the histogram/calculations above, the large positive skew present in the raw data has been drastically reduced, just by removing the two high-end outliers.\n",
    "\n"
   ]
  },
  {
   "cell_type": "markdown",
   "metadata": {},
   "source": [
    "\n",
    "\n",
    "### Explicit comparison\n",
    "\n",
    "\n",
    "Let's compare explicitly which values were removed from the raw data after running it through our recursive Grubbs Test function with 0.1 p-value threshold (alpha).\n",
    "\n"
   ]
  },
  {
   "cell_type": "code",
   "execution_count": 22,
   "metadata": {
    "collapsed": true
   },
   "outputs": [],
   "source": [
    "# reference: https://stackoverflow.com/a/3695700\n",
    "# reference: https://stackoverflow.com/a/14949751\n",
    "\n",
    "union_raw_transformed.1 <- intersect(data$Crime,\n",
    "                                     crime_outliers_removed.1)\n",
    "removed_from_raw.1 <- setdiff(data$Crime,\n",
    "                              crime_outliers_removed.1)"
   ]
  },
  {
   "cell_type": "code",
   "execution_count": 23,
   "metadata": {},
   "outputs": [
    {
     "data": {
      "text/html": [
       "<ol class=list-inline>\n",
       "\t<li>791</li>\n",
       "\t<li>1635</li>\n",
       "\t<li>578</li>\n",
       "\t<li>1234</li>\n",
       "\t<li>682</li>\n",
       "\t<li>963</li>\n",
       "\t<li>1555</li>\n",
       "\t<li>856</li>\n",
       "\t<li>705</li>\n",
       "\t<li>1674</li>\n",
       "\t<li>849</li>\n",
       "\t<li>511</li>\n",
       "\t<li>664</li>\n",
       "\t<li>798</li>\n",
       "\t<li>946</li>\n",
       "\t<li>539</li>\n",
       "\t<li>929</li>\n",
       "\t<li>750</li>\n",
       "\t<li>1225</li>\n",
       "\t<li>742</li>\n",
       "\t<li>439</li>\n",
       "\t<li>1216</li>\n",
       "\t<li>968</li>\n",
       "\t<li>523</li>\n",
       "\t<li>342</li>\n",
       "\t<li>1043</li>\n",
       "\t<li>696</li>\n",
       "\t<li>373</li>\n",
       "\t<li>754</li>\n",
       "\t<li>1072</li>\n",
       "\t<li>923</li>\n",
       "\t<li>653</li>\n",
       "\t<li>1272</li>\n",
       "\t<li>831</li>\n",
       "\t<li>566</li>\n",
       "\t<li>826</li>\n",
       "\t<li>1151</li>\n",
       "\t<li>880</li>\n",
       "\t<li>542</li>\n",
       "\t<li>823</li>\n",
       "\t<li>1030</li>\n",
       "\t<li>455</li>\n",
       "\t<li>508</li>\n",
       "</ol>\n"
      ],
      "text/latex": [
       "\\begin{enumerate*}\n",
       "\\item 791\n",
       "\\item 1635\n",
       "\\item 578\n",
       "\\item 1234\n",
       "\\item 682\n",
       "\\item 963\n",
       "\\item 1555\n",
       "\\item 856\n",
       "\\item 705\n",
       "\\item 1674\n",
       "\\item 849\n",
       "\\item 511\n",
       "\\item 664\n",
       "\\item 798\n",
       "\\item 946\n",
       "\\item 539\n",
       "\\item 929\n",
       "\\item 750\n",
       "\\item 1225\n",
       "\\item 742\n",
       "\\item 439\n",
       "\\item 1216\n",
       "\\item 968\n",
       "\\item 523\n",
       "\\item 342\n",
       "\\item 1043\n",
       "\\item 696\n",
       "\\item 373\n",
       "\\item 754\n",
       "\\item 1072\n",
       "\\item 923\n",
       "\\item 653\n",
       "\\item 1272\n",
       "\\item 831\n",
       "\\item 566\n",
       "\\item 826\n",
       "\\item 1151\n",
       "\\item 880\n",
       "\\item 542\n",
       "\\item 823\n",
       "\\item 1030\n",
       "\\item 455\n",
       "\\item 508\n",
       "\\end{enumerate*}\n"
      ],
      "text/markdown": [
       "1. 791\n",
       "2. 1635\n",
       "3. 578\n",
       "4. 1234\n",
       "5. 682\n",
       "6. 963\n",
       "7. 1555\n",
       "8. 856\n",
       "9. 705\n",
       "10. 1674\n",
       "11. 849\n",
       "12. 511\n",
       "13. 664\n",
       "14. 798\n",
       "15. 946\n",
       "16. 539\n",
       "17. 929\n",
       "18. 750\n",
       "19. 1225\n",
       "20. 742\n",
       "21. 439\n",
       "22. 1216\n",
       "23. 968\n",
       "24. 523\n",
       "25. 342\n",
       "26. 1043\n",
       "27. 696\n",
       "28. 373\n",
       "29. 754\n",
       "30. 1072\n",
       "31. 923\n",
       "32. 653\n",
       "33. 1272\n",
       "34. 831\n",
       "35. 566\n",
       "36. 826\n",
       "37. 1151\n",
       "38. 880\n",
       "39. 542\n",
       "40. 823\n",
       "41. 1030\n",
       "42. 455\n",
       "43. 508\n",
       "\n",
       "\n"
      ],
      "text/plain": [
       " [1]  791 1635  578 1234  682  963 1555  856  705 1674  849  511  664  798  946\n",
       "[16]  539  929  750 1225  742  439 1216  968  523  342 1043  696  373  754 1072\n",
       "[31]  923  653 1272  831  566  826 1151  880  542  823 1030  455  508"
      ]
     },
     "metadata": {},
     "output_type": "display_data"
    }
   ],
   "source": [
    "union_raw_transformed.1"
   ]
  },
  {
   "cell_type": "code",
   "execution_count": 24,
   "metadata": {},
   "outputs": [
    {
     "data": {
      "text/html": [
       "<ol class=list-inline>\n",
       "\t<li>1969</li>\n",
       "\t<li>1993</li>\n",
       "</ol>\n"
      ],
      "text/latex": [
       "\\begin{enumerate*}\n",
       "\\item 1969\n",
       "\\item 1993\n",
       "\\end{enumerate*}\n"
      ],
      "text/markdown": [
       "1. 1969\n",
       "2. 1993\n",
       "\n",
       "\n"
      ],
      "text/plain": [
       "[1] 1969 1993"
      ]
     },
     "metadata": {},
     "output_type": "display_data"
    }
   ],
   "source": [
    "removed_from_raw.1"
   ]
  },
  {
   "cell_type": "markdown",
   "metadata": {},
   "source": [
    "\n",
    "\n",
    "### Sanity check\n",
    "\n",
    "As a built-in sanity check, let's see if the minimum point in our dataset is also an outlier as Grubbs seems to only be considering the high-end crime rates.\n",
    "\n"
   ]
  },
  {
   "cell_type": "code",
   "execution_count": 25,
   "metadata": {},
   "outputs": [
    {
     "data": {
      "text/plain": [
       "\n",
       "\tGrubbs test for one outlier\n",
       "\n",
       "data:  data$Crime\n",
       "G = 1.45590, U = 0.95292, p-value = 1\n",
       "alternative hypothesis: lowest value 342 is an outlier\n"
      ]
     },
     "metadata": {},
     "output_type": "display_data"
    }
   ],
   "source": [
    "grubbs.test(data$Crime, type = 10, opposite = TRUE)"
   ]
  },
  {
   "cell_type": "markdown",
   "metadata": {},
   "source": [
    "\n",
    "\n",
    "The city with the lowest crime rate is ***NOT*** an outlier according to Grubbs test with alpha set to 0.1. The two cities with the highest crime rates ***ARE*** considered outliers according to Grubbs test with alpha set to 0.1.\n",
    "\n"
   ]
  },
  {
   "cell_type": "markdown",
   "metadata": {},
   "source": [
    "\n",
    "\n",
    "### Testing at alpha=0.05\n",
    "\n",
    "Now let's repeat the test with a p-value threshold (alpha) set to 0.05. We should expect fewer points to be removed from the input dataset because we are defining a higher significance threshold for outlier removal.\n",
    "\n"
   ]
  },
  {
   "cell_type": "code",
   "execution_count": 26,
   "metadata": {
    "collapsed": true
   },
   "outputs": [],
   "source": [
    "crime_outliers_removed.05 <- eliminate_outliers_grubbs_test(data$Crime,\n",
    "                                                         0.05)"
   ]
  },
  {
   "cell_type": "markdown",
   "metadata": {},
   "source": [
    "\n",
    "\n",
    "### Check length of returned vector\n",
    "\n",
    "This will tell us how many outliers the Grubbs test found/removed from the input vector.\n",
    "\n"
   ]
  },
  {
   "cell_type": "code",
   "execution_count": 27,
   "metadata": {},
   "outputs": [
    {
     "data": {
      "text/html": [
       "0"
      ],
      "text/latex": [
       "0"
      ],
      "text/markdown": [
       "0"
      ],
      "text/plain": [
       "[1] 0"
      ]
     },
     "metadata": {},
     "output_type": "display_data"
    }
   ],
   "source": [
    "crime_outliers_removed.05_length <- length(crime_outliers_removed.05)\n",
    "raw_data_length - crime_outliers_removed.05_length"
   ]
  },
  {
   "cell_type": "markdown",
   "metadata": {},
   "source": [
    "\n",
    "\n",
    "Grubbs test found/removed zero outliers with returned p-value less than or equal to initial alpha = 0.05.\n",
    "\n"
   ]
  },
  {
   "cell_type": "markdown",
   "metadata": {},
   "source": [
    "\n",
    "\n",
    "### Sanity check\n",
    "\n",
    "Let's run the Grubbs test and observe the returned p-value directly as a sanity check to the recursive function employed above.\n",
    "\n"
   ]
  },
  {
   "cell_type": "code",
   "execution_count": 28,
   "metadata": {},
   "outputs": [
    {
     "data": {
      "text/plain": [
       "\n",
       "\tGrubbs test for one outlier\n",
       "\n",
       "data:  data$Crime\n",
       "G = 2.81290, U = 0.82426, p-value = 0.07887\n",
       "alternative hypothesis: highest value 1993 is an outlier\n"
      ]
     },
     "metadata": {},
     "output_type": "display_data"
    }
   ],
   "source": [
    "grubbs.test(data$Crime, type = 10)"
   ]
  },
  {
   "cell_type": "markdown",
   "metadata": {},
   "source": [
    "\n",
    "\n",
    "There you have it! Outliers were only removed from the dataset with an initial alpha set to 0.1.\n",
    "\n"
   ]
  }
 ],
 "metadata": {
  "kernelspec": {
   "display_name": "R",
   "language": "R",
   "name": "ir"
  },
  "language_info": {
   "codemirror_mode": "r",
   "file_extension": ".r",
   "mimetype": "text/x-r-source",
   "name": "R",
   "pygments_lexer": "r",
   "version": "3.4.3"
  }
 },
 "nbformat": 4,
 "nbformat_minor": 2
}
