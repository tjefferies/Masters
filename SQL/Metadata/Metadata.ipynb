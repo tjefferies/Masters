{
 "cells": [
  {
   "cell_type": "markdown",
   "metadata": {},
   "source": [
    "# Spring 2019 | CS 6400\n",
    "\n",
    "## Archival Metadata\n",
    "\n",
    "Author: Travis Jefferies<br>\n",
    "Last Updated: 04272019\n",
    "\n",
    "Archival metadata is an important type of metadata, required for information interchange.<br>\n",
    "Answers the fundamental question<br>*How do you insure you can read what you created in 100 years?*\n",
    "\n",
    "### Preservation Metadata OAIS Information Model\n",
    "\n",
    "International Organization for Standardization (ISO) Consultative Committee Space Data Systems (CCSDS) started developing an archive standard for long term storage of data in digital form.\n",
    "\n",
    "An initial [report](https://www.oclc.org/content/dam/research/activities/pmwg/pm_framework.pdf) with subsequent Open Archive and Information System (OAIS) information preservation model was reseleased in 1999. Other contributors include:\n",
    "* Library of Congress\n",
    "* National Archives and Records Administration\n",
    "\n",
    "#### OAIS Information Model\n",
    "\n",
    "![](p1.svg)\n",
    "\n",
    "Three so-called information packages are important when digital data is archived:\n",
    "1. Submission Information Package (SIP): information, that submitted together with the data, will be archived at the point in time that the archive receives this information\n",
    "2. Archival Information Package (AIP): information package that's used by the archive during the period of time the data is in the archive\n",
    "3. Dissemination Information Package (DIP): metadata package that's used as portions of the information in the archive is shared with others\n",
    "\n",
    "Each information package consists of:\n",
    "* Content information\n",
    "* Preservation Description\n",
    "* Packaging Information\n",
    "* Descriptive Information\n",
    "\n",
    "##### Content Information\n",
    "\n",
    "![](p2.svg)"
   ]
  }
 ],
 "metadata": {
  "kernelspec": {
   "display_name": "Python [default]",
   "language": "python",
   "name": "python3"
  },
  "language_info": {
   "codemirror_mode": {
    "name": "ipython",
    "version": 3
   },
   "file_extension": ".py",
   "mimetype": "text/x-python",
   "name": "python",
   "nbconvert_exporter": "python",
   "pygments_lexer": "ipython3",
   "version": "3.6.1"
  }
 },
 "nbformat": 4,
 "nbformat_minor": 2
}
