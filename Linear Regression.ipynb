{
 "cells": [
  {
   "cell_type": "markdown",
   "metadata": {},
   "source": [
    "# Linear regression\n",
    "\n",
    "In this notebook I deploy a linear rgression model using the crime dataset from UCI http://www.statsci.org/data/general/uscrime.txt data dictionary available at http://www.statsci.org/data/general/uscrime.html"
   ]
  },
  {
   "cell_type": "markdown",
   "metadata": {},
   "source": [
    "A test point for the model is listed below:\n",
    "\n",
    "* M = 14.0\n",
    "* So = 0\n",
    "* Ed = 10.0\n",
    "* Po1 = 12.0\n",
    "* Po2 = 15.5\n",
    "* LF = 0.640\n",
    "* M.F = 94.0\n",
    "* Pop = 150\n",
    "* NW = 1.1\n",
    "* U1 = 0.120\n",
    "* U2 = 3.6\n",
    "* Wealth = 3200\n",
    "* Ineq = 20.1\n",
    "* Prob = 0.04\n",
    "* Time = 39.0"
   ]
  },
  {
   "cell_type": "markdown",
   "metadata": {},
   "source": [
    "\n",
    "\n",
    "### Load libraries and set seed\n",
    "\n"
   ]
  },
  {
   "cell_type": "code",
   "execution_count": 1,
   "metadata": {},
   "outputs": [
    {
     "name": "stderr",
     "output_type": "stream",
     "text": [
      "Warning message:\n",
      "\"package 'ggplot2' was built under R version 3.4.3\"Warning message:\n",
      "\"package 'dplyr' was built under R version 3.4.3\"\n",
      "Attaching package: 'dplyr'\n",
      "\n",
      "The following objects are masked from 'package:stats':\n",
      "\n",
      "    filter, lag\n",
      "\n",
      "The following objects are masked from 'package:base':\n",
      "\n",
      "    intersect, setdiff, setequal, union\n",
      "\n",
      "Warning message:\n",
      "\"package 'corrplot' was built under R version 3.4.3\"corrplot 0.84 loaded\n",
      "Warning message:\n",
      "\"package 'corrgram' was built under R version 3.4.3\"Loading required package: lattice\n",
      "Warning message:\n",
      "\"package 'lattice' was built under R version 3.4.3\""
     ]
    }
   ],
   "source": [
    "library(ggplot2)\n",
    "library(dplyr)\n",
    "library(corrplot)\n",
    "library(corrgram)\n",
    "library(outliers)\n",
    "library(caret)\n",
    "set.seed(37)"
   ]
  },
  {
   "cell_type": "markdown",
   "metadata": {},
   "source": [
    "\n",
    "\n",
    "### Load data and check head\n",
    "\n"
   ]
  },
  {
   "cell_type": "code",
   "execution_count": 2,
   "metadata": {},
   "outputs": [
    {
     "data": {
      "text/html": [
       "<table>\n",
       "<thead><tr><th scope=col>M</th><th scope=col>So</th><th scope=col>Ed</th><th scope=col>Po1</th><th scope=col>Po2</th><th scope=col>LF</th><th scope=col>M.F</th><th scope=col>Pop</th><th scope=col>NW</th><th scope=col>U1</th><th scope=col>U2</th><th scope=col>Wealth</th><th scope=col>Ineq</th><th scope=col>Prob</th><th scope=col>Time</th><th scope=col>Crime</th></tr></thead>\n",
       "<tbody>\n",
       "\t<tr><td>15.1    </td><td>1       </td><td> 9.1    </td><td> 5.8    </td><td> 5.6    </td><td>0.510   </td><td> 95.0   </td><td> 33     </td><td>30.1    </td><td>0.108   </td><td>4.1     </td><td>3940    </td><td>26.1    </td><td>0.084602</td><td>26.2011 </td><td> 791    </td></tr>\n",
       "\t<tr><td>14.3    </td><td>0       </td><td>11.3    </td><td>10.3    </td><td> 9.5    </td><td>0.583   </td><td>101.2   </td><td> 13     </td><td>10.2    </td><td>0.096   </td><td>3.6     </td><td>5570    </td><td>19.4    </td><td>0.029599</td><td>25.2999 </td><td>1635    </td></tr>\n",
       "\t<tr><td>14.2    </td><td>1       </td><td> 8.9    </td><td> 4.5    </td><td> 4.4    </td><td>0.533   </td><td> 96.9   </td><td> 18     </td><td>21.9    </td><td>0.094   </td><td>3.3     </td><td>3180    </td><td>25.0    </td><td>0.083401</td><td>24.3006 </td><td> 578    </td></tr>\n",
       "\t<tr><td>13.6    </td><td>0       </td><td>12.1    </td><td>14.9    </td><td>14.1    </td><td>0.577   </td><td> 99.4   </td><td>157     </td><td> 8.0    </td><td>0.102   </td><td>3.9     </td><td>6730    </td><td>16.7    </td><td>0.015801</td><td>29.9012 </td><td>1969    </td></tr>\n",
       "\t<tr><td>14.1    </td><td>0       </td><td>12.1    </td><td>10.9    </td><td>10.1    </td><td>0.591   </td><td> 98.5   </td><td> 18     </td><td> 3.0    </td><td>0.091   </td><td>2.0     </td><td>5780    </td><td>17.4    </td><td>0.041399</td><td>21.2998 </td><td>1234    </td></tr>\n",
       "\t<tr><td>12.1    </td><td>0       </td><td>11.0    </td><td>11.8    </td><td>11.5    </td><td>0.547   </td><td> 96.4   </td><td> 25     </td><td> 4.4    </td><td>0.084   </td><td>2.9     </td><td>6890    </td><td>12.6    </td><td>0.034201</td><td>20.9995 </td><td> 682    </td></tr>\n",
       "</tbody>\n",
       "</table>\n"
      ],
      "text/latex": [
       "\\begin{tabular}{r|llllllllllllllll}\n",
       " M & So & Ed & Po1 & Po2 & LF & M.F & Pop & NW & U1 & U2 & Wealth & Ineq & Prob & Time & Crime\\\\\n",
       "\\hline\n",
       "\t 15.1     & 1        &  9.1     &  5.8     &  5.6     & 0.510    &  95.0    &  33      & 30.1     & 0.108    & 4.1      & 3940     & 26.1     & 0.084602 & 26.2011  &  791    \\\\\n",
       "\t 14.3     & 0        & 11.3     & 10.3     &  9.5     & 0.583    & 101.2    &  13      & 10.2     & 0.096    & 3.6      & 5570     & 19.4     & 0.029599 & 25.2999  & 1635    \\\\\n",
       "\t 14.2     & 1        &  8.9     &  4.5     &  4.4     & 0.533    &  96.9    &  18      & 21.9     & 0.094    & 3.3      & 3180     & 25.0     & 0.083401 & 24.3006  &  578    \\\\\n",
       "\t 13.6     & 0        & 12.1     & 14.9     & 14.1     & 0.577    &  99.4    & 157      &  8.0     & 0.102    & 3.9      & 6730     & 16.7     & 0.015801 & 29.9012  & 1969    \\\\\n",
       "\t 14.1     & 0        & 12.1     & 10.9     & 10.1     & 0.591    &  98.5    &  18      &  3.0     & 0.091    & 2.0      & 5780     & 17.4     & 0.041399 & 21.2998  & 1234    \\\\\n",
       "\t 12.1     & 0        & 11.0     & 11.8     & 11.5     & 0.547    &  96.4    &  25      &  4.4     & 0.084    & 2.9      & 6890     & 12.6     & 0.034201 & 20.9995  &  682    \\\\\n",
       "\\end{tabular}\n"
      ],
      "text/markdown": [
       "\n",
       "M | So | Ed | Po1 | Po2 | LF | M.F | Pop | NW | U1 | U2 | Wealth | Ineq | Prob | Time | Crime | \n",
       "|---|---|---|---|---|---|\n",
       "| 15.1     | 1        |  9.1     |  5.8     |  5.6     | 0.510    |  95.0    |  33      | 30.1     | 0.108    | 4.1      | 3940     | 26.1     | 0.084602 | 26.2011  |  791     | \n",
       "| 14.3     | 0        | 11.3     | 10.3     |  9.5     | 0.583    | 101.2    |  13      | 10.2     | 0.096    | 3.6      | 5570     | 19.4     | 0.029599 | 25.2999  | 1635     | \n",
       "| 14.2     | 1        |  8.9     |  4.5     |  4.4     | 0.533    |  96.9    |  18      | 21.9     | 0.094    | 3.3      | 3180     | 25.0     | 0.083401 | 24.3006  |  578     | \n",
       "| 13.6     | 0        | 12.1     | 14.9     | 14.1     | 0.577    |  99.4    | 157      |  8.0     | 0.102    | 3.9      | 6730     | 16.7     | 0.015801 | 29.9012  | 1969     | \n",
       "| 14.1     | 0        | 12.1     | 10.9     | 10.1     | 0.591    |  98.5    |  18      |  3.0     | 0.091    | 2.0      | 5780     | 17.4     | 0.041399 | 21.2998  | 1234     | \n",
       "| 12.1     | 0        | 11.0     | 11.8     | 11.5     | 0.547    |  96.4    |  25      |  4.4     | 0.084    | 2.9      | 6890     | 12.6     | 0.034201 | 20.9995  |  682     | \n",
       "\n",
       "\n"
      ],
      "text/plain": [
       "  M    So Ed   Po1  Po2  LF    M.F   Pop NW   U1    U2  Wealth Ineq Prob    \n",
       "1 15.1 1   9.1  5.8  5.6 0.510  95.0  33 30.1 0.108 4.1 3940   26.1 0.084602\n",
       "2 14.3 0  11.3 10.3  9.5 0.583 101.2  13 10.2 0.096 3.6 5570   19.4 0.029599\n",
       "3 14.2 1   8.9  4.5  4.4 0.533  96.9  18 21.9 0.094 3.3 3180   25.0 0.083401\n",
       "4 13.6 0  12.1 14.9 14.1 0.577  99.4 157  8.0 0.102 3.9 6730   16.7 0.015801\n",
       "5 14.1 0  12.1 10.9 10.1 0.591  98.5  18  3.0 0.091 2.0 5780   17.4 0.041399\n",
       "6 12.1 0  11.0 11.8 11.5 0.547  96.4  25  4.4 0.084 2.9 6890   12.6 0.034201\n",
       "  Time    Crime\n",
       "1 26.2011  791 \n",
       "2 25.2999 1635 \n",
       "3 24.3006  578 \n",
       "4 29.9012 1969 \n",
       "5 21.2998 1234 \n",
       "6 20.9995  682 "
      ]
     },
     "metadata": {},
     "output_type": "display_data"
    }
   ],
   "source": [
    "data <- read.table('uscrime.txt', header=T)\n",
    "head(data)"
   ]
  },
  {
   "cell_type": "markdown",
   "metadata": {},
   "source": [
    "\n",
    "\n",
    "### Check str of data\n",
    "\n"
   ]
  },
  {
   "cell_type": "code",
   "execution_count": 3,
   "metadata": {},
   "outputs": [
    {
     "name": "stdout",
     "output_type": "stream",
     "text": [
      "'data.frame':\t47 obs. of  16 variables:\n",
      " $ M     : num  15.1 14.3 14.2 13.6 14.1 12.1 12.7 13.1 15.7 14 ...\n",
      " $ So    : int  1 0 1 0 0 0 1 1 1 0 ...\n",
      " $ Ed    : num  9.1 11.3 8.9 12.1 12.1 11 11.1 10.9 9 11.8 ...\n",
      " $ Po1   : num  5.8 10.3 4.5 14.9 10.9 11.8 8.2 11.5 6.5 7.1 ...\n",
      " $ Po2   : num  5.6 9.5 4.4 14.1 10.1 11.5 7.9 10.9 6.2 6.8 ...\n",
      " $ LF    : num  0.51 0.583 0.533 0.577 0.591 0.547 0.519 0.542 0.553 0.632 ...\n",
      " $ M.F   : num  95 101.2 96.9 99.4 98.5 ...\n",
      " $ Pop   : int  33 13 18 157 18 25 4 50 39 7 ...\n",
      " $ NW    : num  30.1 10.2 21.9 8 3 4.4 13.9 17.9 28.6 1.5 ...\n",
      " $ U1    : num  0.108 0.096 0.094 0.102 0.091 0.084 0.097 0.079 0.081 0.1 ...\n",
      " $ U2    : num  4.1 3.6 3.3 3.9 2 2.9 3.8 3.5 2.8 2.4 ...\n",
      " $ Wealth: int  3940 5570 3180 6730 5780 6890 6200 4720 4210 5260 ...\n",
      " $ Ineq  : num  26.1 19.4 25 16.7 17.4 12.6 16.8 20.6 23.9 17.4 ...\n",
      " $ Prob  : num  0.0846 0.0296 0.0834 0.0158 0.0414 ...\n",
      " $ Time  : num  26.2 25.3 24.3 29.9 21.3 ...\n",
      " $ Crime : int  791 1635 578 1969 1234 682 963 1555 856 705 ...\n"
     ]
    }
   ],
   "source": [
    "str(data)"
   ]
  },
  {
   "cell_type": "markdown",
   "metadata": {},
   "source": [
    "\n",
    "\n",
    "### Check summary of data\n",
    "\n"
   ]
  },
  {
   "cell_type": "code",
   "execution_count": 4,
   "metadata": {},
   "outputs": [
    {
     "data": {
      "text/plain": [
       "       M               So               Ed             Po1       \n",
       " Min.   :11.90   Min.   :0.0000   Min.   : 8.70   Min.   : 4.50  \n",
       " 1st Qu.:13.00   1st Qu.:0.0000   1st Qu.: 9.75   1st Qu.: 6.25  \n",
       " Median :13.60   Median :0.0000   Median :10.80   Median : 7.80  \n",
       " Mean   :13.86   Mean   :0.3404   Mean   :10.56   Mean   : 8.50  \n",
       " 3rd Qu.:14.60   3rd Qu.:1.0000   3rd Qu.:11.45   3rd Qu.:10.45  \n",
       " Max.   :17.70   Max.   :1.0000   Max.   :12.20   Max.   :16.60  \n",
       "      Po2               LF              M.F              Pop        \n",
       " Min.   : 4.100   Min.   :0.4800   Min.   : 93.40   Min.   :  3.00  \n",
       " 1st Qu.: 5.850   1st Qu.:0.5305   1st Qu.: 96.45   1st Qu.: 10.00  \n",
       " Median : 7.300   Median :0.5600   Median : 97.70   Median : 25.00  \n",
       " Mean   : 8.023   Mean   :0.5612   Mean   : 98.30   Mean   : 36.62  \n",
       " 3rd Qu.: 9.700   3rd Qu.:0.5930   3rd Qu.: 99.20   3rd Qu.: 41.50  \n",
       " Max.   :15.700   Max.   :0.6410   Max.   :107.10   Max.   :168.00  \n",
       "       NW              U1                U2            Wealth    \n",
       " Min.   : 0.20   Min.   :0.07000   Min.   :2.000   Min.   :2880  \n",
       " 1st Qu.: 2.40   1st Qu.:0.08050   1st Qu.:2.750   1st Qu.:4595  \n",
       " Median : 7.60   Median :0.09200   Median :3.400   Median :5370  \n",
       " Mean   :10.11   Mean   :0.09547   Mean   :3.398   Mean   :5254  \n",
       " 3rd Qu.:13.25   3rd Qu.:0.10400   3rd Qu.:3.850   3rd Qu.:5915  \n",
       " Max.   :42.30   Max.   :0.14200   Max.   :5.800   Max.   :6890  \n",
       "      Ineq            Prob              Time           Crime       \n",
       " Min.   :12.60   Min.   :0.00690   Min.   :12.20   Min.   : 342.0  \n",
       " 1st Qu.:16.55   1st Qu.:0.03270   1st Qu.:21.60   1st Qu.: 658.5  \n",
       " Median :17.60   Median :0.04210   Median :25.80   Median : 831.0  \n",
       " Mean   :19.40   Mean   :0.04709   Mean   :26.60   Mean   : 905.1  \n",
       " 3rd Qu.:22.75   3rd Qu.:0.05445   3rd Qu.:30.45   3rd Qu.:1057.5  \n",
       " Max.   :27.60   Max.   :0.11980   Max.   :44.00   Max.   :1993.0  "
      ]
     },
     "metadata": {},
     "output_type": "display_data"
    }
   ],
   "source": [
    "summary(data)"
   ]
  },
  {
   "cell_type": "markdown",
   "metadata": {},
   "source": [
    "\n",
    "\n",
    "### Exploratory data analysis\n",
    "\n",
    "First lets start with some exploratory data analysis. Let's explore the target variable `Crime`  first. Then we'll look at the correlation between predictor variables.\n",
    "\n"
   ]
  },
  {
   "cell_type": "markdown",
   "metadata": {},
   "source": [
    "\n",
    "\n",
    "### Histogram of target variable `Crime`\n",
    "\n"
   ]
  },
  {
   "cell_type": "code",
   "execution_count": 5,
   "metadata": {},
   "outputs": [
    {
     "data": {
      "image/png": "[encoded data removed]",
      "text/plain": [
       "Plot with title \"Histogram of data$Crime\""
      ]
     },
     "metadata": {},
     "output_type": "display_data"
    }
   ],
   "source": [
    "# reference: https://www.r-bloggers.com/adding-measures-of-central-tendency-to-histograms-in-r/\n",
    "\n",
    "hist(data$Crime, probability = T,\n",
    "     col = \"peachpuff\",\n",
    "     xlab=\"Crime Rate per 100,000 People\")\n",
    "lines(density(data$Crime), # density plot\n",
    " lwd = 2, # thickness of line\n",
    " col = \"chocolate3\")\n",
    "abline(v = mean(data$Crime),\n",
    " col = \"royalblue\",\n",
    " lwd = 2)\n",
    "abline(v = median(data$Crime),\n",
    " col = \"red\",\n",
    " lwd = 2)\n",
    "legend(x = \"topright\", # location of legend within plot area\n",
    " c(\"Density plot\", \"Mean\", \"Median\"),\n",
    " col = c(\"chocolate3\", \"royalblue\", \"red\"),\n",
    " lwd = c(2, 2, 2))"
   ]
  },
  {
   "cell_type": "markdown",
   "metadata": {},
   "source": [
    "\n",
    "\n",
    "### Box-and-Whisker plot of target variable `Crime`\n",
    "\n",
    "reference: https://www.rdocumentation.org/packages/graphics/versions/3.4.3/topics/boxplot\n"
   ]
  },
  {
   "cell_type": "code",
   "execution_count": 6,
   "metadata": {},
   "outputs": [
    {
     "data": {
      "image/png": "[encoded data removed]",
      "text/plain": [
       "Plot with title \"US States Crime Rate per 100,000 People\""
      ]
     },
     "metadata": {},
     "output_type": "display_data"
    }
   ],
   "source": [
    "# reference: https://www.rdocumentation.org/packages/graphics/versions/3.4.3/topics/boxplot\n",
    "\n",
    "boxplot(data$Crime, horizontal = T,\n",
    "        xlab=\"Crime Rate per 100,000 People\",\n",
    "        main=\"US States Crime Rate per 100,000 People\")"
   ]
  },
  {
   "cell_type": "markdown",
   "metadata": {},
   "source": [
    "\n",
    "\n",
    "### Q-Q plot of target variable `Crime`\n",
    "\n",
    "A Q-Q plot tests our input data for normality. If the data is normally distributed, we should be able to draw a line through all the data points that intercepts at the origin.\n",
    "\n"
   ]
  },
  {
   "cell_type": "code",
   "execution_count": 7,
   "metadata": {},
   "outputs": [
    {
     "data": {
      "image/png": "[encoded data removed]",
      "text/plain": [
       "Plot with title \"Normal Q-Q Plot\""
      ]
     },
     "metadata": {},
     "output_type": "display_data"
    }
   ],
   "source": [
    "qqnorm(scale(data$Crime))"
   ]
  },
  {
   "cell_type": "markdown",
   "metadata": {},
   "source": [
    "\n",
    "\n",
    "From the visual evidence provided above, we can definitely prove that we have some high-end outliers present in our target variable `Crime`. Now that we have explored the target variable, lets turn our focus to the predictor variables.\n",
    "\n"
   ]
  },
  {
   "cell_type": "markdown",
   "metadata": {},
   "source": [
    "\n",
    "\n",
    "Our crime data is skewed towards the high-end. The histogram above proves this observation as the mean is greater than the median. The tail on the right-hand side of the normal distribution further illustrates the skew present in our data. A box-and-whisker and Q-Q plot will further help to identify outliers present. Outliers leave us with a decision to make:\n",
    "\n",
    "*Do we throw out the outliers for the purposes of our linear regression model?*\n",
    "\n",
    "The answer to this question is highly dependent on the given context the linear regression model is being built for. For the purposes of this model, we will build models with the high-end outliers present to compare different model's performance. Including the highend outliers for crime rates depends on the original intent of the study. If one was trying to discover what drove higher crime rates, including high-end outliers in one model and removing them in another model and comparing the differences in model output would be an appropriate approach.\n",
    "\n"
   ]
  },
  {
   "cell_type": "markdown",
   "metadata": {},
   "source": [
    "\n",
    "\n",
    "### Correlation between predictors\n",
    "\n"
   ]
  },
  {
   "cell_type": "code",
   "execution_count": 8,
   "metadata": {},
   "outputs": [
    {
     "data": {
      "text/html": [
       "<table>\n",
       "<thead><tr><th></th><th scope=col>M</th><th scope=col>So</th><th scope=col>Ed</th><th scope=col>Po1</th><th scope=col>Po2</th><th scope=col>LF</th><th scope=col>M.F</th><th scope=col>Pop</th><th scope=col>NW</th><th scope=col>U1</th><th scope=col>U2</th><th scope=col>Wealth</th><th scope=col>Ineq</th><th scope=col>Prob</th><th scope=col>Time</th><th scope=col>Crime</th></tr></thead>\n",
       "<tbody>\n",
       "\t<tr><th scope=row>M</th><td> 1.00000000  </td><td> 0.58435534  </td><td>-0.53023964  </td><td>-0.50573690  </td><td>-0.51317336  </td><td>-0.1609488   </td><td>-0.02867993  </td><td>-0.28063762  </td><td> 0.59319826  </td><td>-0.224380599 </td><td>-0.24484339  </td><td>-0.6700550558</td><td> 0.63921138  </td><td> 0.361116408 </td><td> 0.1145107190</td><td>-0.08947240  </td></tr>\n",
       "\t<tr><th scope=row>So</th><td> 0.58435534  </td><td> 1.00000000  </td><td>-0.70274132  </td><td>-0.37263633  </td><td>-0.37616753  </td><td>-0.5054695   </td><td>-0.31473291  </td><td>-0.04991832  </td><td> 0.76710262  </td><td>-0.172419305 </td><td> 0.07169289  </td><td>-0.6369454328</td><td> 0.73718106  </td><td> 0.530861993 </td><td> 0.0668128312</td><td>-0.09063696  </td></tr>\n",
       "\t<tr><th scope=row>Ed</th><td>-0.53023964  </td><td>-0.70274132  </td><td> 1.00000000  </td><td> 0.48295213  </td><td> 0.49940958  </td><td> 0.5611780   </td><td> 0.43691492  </td><td>-0.01722740  </td><td>-0.66488190  </td><td> 0.018103454 </td><td>-0.21568155  </td><td> 0.7359970363</td><td>-0.76865789  </td><td>-0.389922862 </td><td>-0.2539735471</td><td> 0.32283487  </td></tr>\n",
       "\t<tr><th scope=row>Po1</th><td>-0.50573690  </td><td>-0.37263633  </td><td> 0.48295213  </td><td> 1.00000000  </td><td> 0.99358648  </td><td> 0.1214932   </td><td> 0.03376027  </td><td> 0.52628358  </td><td>-0.21370878  </td><td>-0.043697608 </td><td> 0.18509304  </td><td> 0.7872252807</td><td>-0.63050025  </td><td>-0.473247036 </td><td> 0.1033577449</td><td> 0.68760446  </td></tr>\n",
       "\t<tr><th scope=row>Po2</th><td>-0.51317336  </td><td>-0.37616753  </td><td> 0.49940958  </td><td> 0.99358648  </td><td> 1.00000000  </td><td> 0.1063496   </td><td> 0.02284250  </td><td> 0.51378940  </td><td>-0.21876821  </td><td>-0.051711989 </td><td> 0.16922422  </td><td> 0.7942620503</td><td>-0.64815183  </td><td>-0.473027293 </td><td> 0.0756266536</td><td> 0.66671414  </td></tr>\n",
       "\t<tr><th scope=row>LF</th><td>-0.16094882  </td><td>-0.50546948  </td><td> 0.56117795  </td><td> 0.12149320  </td><td> 0.10634960  </td><td> 1.0000000   </td><td> 0.51355879  </td><td>-0.12367222  </td><td>-0.34121444  </td><td>-0.229399684 </td><td>-0.42076249  </td><td> 0.2946323090</td><td>-0.26988646  </td><td>-0.250086098 </td><td>-0.1236404364</td><td> 0.18886635  </td></tr>\n",
       "\t<tr><th scope=row>M.F</th><td>-0.02867993  </td><td>-0.31473291  </td><td> 0.43691492  </td><td> 0.03376027  </td><td> 0.02284250  </td><td> 0.5135588   </td><td> 1.00000000  </td><td>-0.41062750  </td><td>-0.32730454  </td><td> 0.351891900 </td><td>-0.01869169  </td><td> 0.1796086363</td><td>-0.16708869  </td><td>-0.050858258 </td><td>-0.4276973791</td><td> 0.21391426  </td></tr>\n",
       "\t<tr><th scope=row>Pop</th><td>-0.28063762  </td><td>-0.04991832  </td><td>-0.01722740  </td><td> 0.52628358  </td><td> 0.51378940  </td><td>-0.1236722   </td><td>-0.41062750  </td><td> 1.00000000  </td><td> 0.09515301  </td><td>-0.038119948 </td><td> 0.27042159  </td><td> 0.3082627091</td><td>-0.12629357  </td><td>-0.347289063 </td><td> 0.4642104596</td><td> 0.33747406  </td></tr>\n",
       "\t<tr><th scope=row>NW</th><td> 0.59319826  </td><td> 0.76710262  </td><td>-0.66488190  </td><td>-0.21370878  </td><td>-0.21876821  </td><td>-0.3412144   </td><td>-0.32730454  </td><td> 0.09515301  </td><td> 1.00000000  </td><td>-0.156450020 </td><td> 0.08090829  </td><td>-0.5901070652</td><td> 0.67731286  </td><td> 0.428059153 </td><td> 0.2303984071</td><td> 0.03259884  </td></tr>\n",
       "\t<tr><th scope=row>U1</th><td>-0.22438060  </td><td>-0.17241931  </td><td> 0.01810345  </td><td>-0.04369761  </td><td>-0.05171199  </td><td>-0.2293997   </td><td> 0.35189190  </td><td>-0.03811995  </td><td>-0.15645002  </td><td> 1.000000000 </td><td> 0.74592482  </td><td> 0.0448572017</td><td>-0.06383218  </td><td>-0.007469032 </td><td>-0.1698528383</td><td>-0.05047792  </td></tr>\n",
       "\t<tr><th scope=row>U2</th><td>-0.24484339  </td><td> 0.07169289  </td><td>-0.21568155  </td><td> 0.18509304  </td><td> 0.16922422  </td><td>-0.4207625   </td><td>-0.01869169  </td><td> 0.27042159  </td><td> 0.08090829  </td><td> 0.745924815 </td><td> 1.00000000  </td><td> 0.0920716601</td><td> 0.01567818  </td><td>-0.061592474 </td><td> 0.1013583270</td><td> 0.17732065  </td></tr>\n",
       "\t<tr><th scope=row>Wealth</th><td>-0.67005506  </td><td>-0.63694543  </td><td> 0.73599704  </td><td> 0.78722528  </td><td> 0.79426205  </td><td> 0.2946323   </td><td> 0.17960864  </td><td> 0.30826271  </td><td>-0.59010707  </td><td> 0.044857202 </td><td> 0.09207166  </td><td> 1.0000000000</td><td>-0.88399728  </td><td>-0.555334708 </td><td> 0.0006485587</td><td> 0.44131995  </td></tr>\n",
       "\t<tr><th scope=row>Ineq</th><td> 0.63921138  </td><td> 0.73718106  </td><td>-0.76865789  </td><td>-0.63050025  </td><td>-0.64815183  </td><td>-0.2698865   </td><td>-0.16708869  </td><td>-0.12629357  </td><td> 0.67731286  </td><td>-0.063832178 </td><td> 0.01567818  </td><td>-0.8839972758</td><td> 1.00000000  </td><td> 0.465321920 </td><td> 0.1018228182</td><td>-0.17902373  </td></tr>\n",
       "\t<tr><th scope=row>Prob</th><td> 0.36111641  </td><td> 0.53086199  </td><td>-0.38992286  </td><td>-0.47324704  </td><td>-0.47302729  </td><td>-0.2500861   </td><td>-0.05085826  </td><td>-0.34728906  </td><td> 0.42805915  </td><td>-0.007469032 </td><td>-0.06159247  </td><td>-0.5553347075</td><td> 0.46532192  </td><td> 1.000000000 </td><td>-0.4362462614</td><td>-0.42742219  </td></tr>\n",
       "\t<tr><th scope=row>Time</th><td> 0.11451072  </td><td> 0.06681283  </td><td>-0.25397355  </td><td> 0.10335774  </td><td> 0.07562665  </td><td>-0.1236404   </td><td>-0.42769738  </td><td> 0.46421046  </td><td> 0.23039841  </td><td>-0.169852838 </td><td> 0.10135833  </td><td> 0.0006485587</td><td> 0.10182282  </td><td>-0.436246261 </td><td> 1.0000000000</td><td> 0.14986606  </td></tr>\n",
       "\t<tr><th scope=row>Crime</th><td>-0.08947240  </td><td>-0.09063696  </td><td> 0.32283487  </td><td> 0.68760446  </td><td> 0.66671414  </td><td> 0.1888663   </td><td> 0.21391426  </td><td> 0.33747406  </td><td> 0.03259884  </td><td>-0.050477918 </td><td> 0.17732065  </td><td> 0.4413199490</td><td>-0.17902373  </td><td>-0.427422188 </td><td> 0.1498660617</td><td> 1.00000000  </td></tr>\n",
       "</tbody>\n",
       "</table>\n"
      ],
      "text/latex": [
       "\\begin{tabular}{r|llllllllllllllll}\n",
       "  & M & So & Ed & Po1 & Po2 & LF & M.F & Pop & NW & U1 & U2 & Wealth & Ineq & Prob & Time & Crime\\\\\n",
       "\\hline\n",
       "\tM &  1.00000000   &  0.58435534   & -0.53023964   & -0.50573690   & -0.51317336   & -0.1609488    & -0.02867993   & -0.28063762   &  0.59319826   & -0.224380599  & -0.24484339   & -0.6700550558 &  0.63921138   &  0.361116408  &  0.1145107190 & -0.08947240  \\\\\n",
       "\tSo &  0.58435534   &  1.00000000   & -0.70274132   & -0.37263633   & -0.37616753   & -0.5054695    & -0.31473291   & -0.04991832   &  0.76710262   & -0.172419305  &  0.07169289   & -0.6369454328 &  0.73718106   &  0.530861993  &  0.0668128312 & -0.09063696  \\\\\n",
       "\tEd & -0.53023964   & -0.70274132   &  1.00000000   &  0.48295213   &  0.49940958   &  0.5611780    &  0.43691492   & -0.01722740   & -0.66488190   &  0.018103454  & -0.21568155   &  0.7359970363 & -0.76865789   & -0.389922862  & -0.2539735471 &  0.32283487  \\\\\n",
       "\tPo1 & -0.50573690   & -0.37263633   &  0.48295213   &  1.00000000   &  0.99358648   &  0.1214932    &  0.03376027   &  0.52628358   & -0.21370878   & -0.043697608  &  0.18509304   &  0.7872252807 & -0.63050025   & -0.473247036  &  0.1033577449 &  0.68760446  \\\\\n",
       "\tPo2 & -0.51317336   & -0.37616753   &  0.49940958   &  0.99358648   &  1.00000000   &  0.1063496    &  0.02284250   &  0.51378940   & -0.21876821   & -0.051711989  &  0.16922422   &  0.7942620503 & -0.64815183   & -0.473027293  &  0.0756266536 &  0.66671414  \\\\\n",
       "\tLF & -0.16094882   & -0.50546948   &  0.56117795   &  0.12149320   &  0.10634960   &  1.0000000    &  0.51355879   & -0.12367222   & -0.34121444   & -0.229399684  & -0.42076249   &  0.2946323090 & -0.26988646   & -0.250086098  & -0.1236404364 &  0.18886635  \\\\\n",
       "\tM.F & -0.02867993   & -0.31473291   &  0.43691492   &  0.03376027   &  0.02284250   &  0.5135588    &  1.00000000   & -0.41062750   & -0.32730454   &  0.351891900  & -0.01869169   &  0.1796086363 & -0.16708869   & -0.050858258  & -0.4276973791 &  0.21391426  \\\\\n",
       "\tPop & -0.28063762   & -0.04991832   & -0.01722740   &  0.52628358   &  0.51378940   & -0.1236722    & -0.41062750   &  1.00000000   &  0.09515301   & -0.038119948  &  0.27042159   &  0.3082627091 & -0.12629357   & -0.347289063  &  0.4642104596 &  0.33747406  \\\\\n",
       "\tNW &  0.59319826   &  0.76710262   & -0.66488190   & -0.21370878   & -0.21876821   & -0.3412144    & -0.32730454   &  0.09515301   &  1.00000000   & -0.156450020  &  0.08090829   & -0.5901070652 &  0.67731286   &  0.428059153  &  0.2303984071 &  0.03259884  \\\\\n",
       "\tU1 & -0.22438060   & -0.17241931   &  0.01810345   & -0.04369761   & -0.05171199   & -0.2293997    &  0.35189190   & -0.03811995   & -0.15645002   &  1.000000000  &  0.74592482   &  0.0448572017 & -0.06383218   & -0.007469032  & -0.1698528383 & -0.05047792  \\\\\n",
       "\tU2 & -0.24484339   &  0.07169289   & -0.21568155   &  0.18509304   &  0.16922422   & -0.4207625    & -0.01869169   &  0.27042159   &  0.08090829   &  0.745924815  &  1.00000000   &  0.0920716601 &  0.01567818   & -0.061592474  &  0.1013583270 &  0.17732065  \\\\\n",
       "\tWealth & -0.67005506   & -0.63694543   &  0.73599704   &  0.78722528   &  0.79426205   &  0.2946323    &  0.17960864   &  0.30826271   & -0.59010707   &  0.044857202  &  0.09207166   &  1.0000000000 & -0.88399728   & -0.555334708  &  0.0006485587 &  0.44131995  \\\\\n",
       "\tIneq &  0.63921138   &  0.73718106   & -0.76865789   & -0.63050025   & -0.64815183   & -0.2698865    & -0.16708869   & -0.12629357   &  0.67731286   & -0.063832178  &  0.01567818   & -0.8839972758 &  1.00000000   &  0.465321920  &  0.1018228182 & -0.17902373  \\\\\n",
       "\tProb &  0.36111641   &  0.53086199   & -0.38992286   & -0.47324704   & -0.47302729   & -0.2500861    & -0.05085826   & -0.34728906   &  0.42805915   & -0.007469032  & -0.06159247   & -0.5553347075 &  0.46532192   &  1.000000000  & -0.4362462614 & -0.42742219  \\\\\n",
       "\tTime &  0.11451072   &  0.06681283   & -0.25397355   &  0.10335774   &  0.07562665   & -0.1236404    & -0.42769738   &  0.46421046   &  0.23039841   & -0.169852838  &  0.10135833   &  0.0006485587 &  0.10182282   & -0.436246261  &  1.0000000000 &  0.14986606  \\\\\n",
       "\tCrime & -0.08947240   & -0.09063696   &  0.32283487   &  0.68760446   &  0.66671414   &  0.1888663    &  0.21391426   &  0.33747406   &  0.03259884   & -0.050477918  &  0.17732065   &  0.4413199490 & -0.17902373   & -0.427422188  &  0.1498660617 &  1.00000000  \\\\\n",
       "\\end{tabular}\n"
      ],
      "text/markdown": [
       "\n",
       "| <!--/--> | M | So | Ed | Po1 | Po2 | LF | M.F | Pop | NW | U1 | U2 | Wealth | Ineq | Prob | Time | Crime | \n",
       "|---|---|---|---|---|---|---|---|---|---|---|---|---|---|---|---|\n",
       "| M |  1.00000000   |  0.58435534   | -0.53023964   | -0.50573690   | -0.51317336   | -0.1609488    | -0.02867993   | -0.28063762   |  0.59319826   | -0.224380599  | -0.24484339   | -0.6700550558 |  0.63921138   |  0.361116408  |  0.1145107190 | -0.08947240   | \n",
       "| So |  0.58435534   |  1.00000000   | -0.70274132   | -0.37263633   | -0.37616753   | -0.5054695    | -0.31473291   | -0.04991832   |  0.76710262   | -0.172419305  |  0.07169289   | -0.6369454328 |  0.73718106   |  0.530861993  |  0.0668128312 | -0.09063696   | \n",
       "| Ed | -0.53023964   | -0.70274132   |  1.00000000   |  0.48295213   |  0.49940958   |  0.5611780    |  0.43691492   | -0.01722740   | -0.66488190   |  0.018103454  | -0.21568155   |  0.7359970363 | -0.76865789   | -0.389922862  | -0.2539735471 |  0.32283487   | \n",
       "| Po1 | -0.50573690   | -0.37263633   |  0.48295213   |  1.00000000   |  0.99358648   |  0.1214932    |  0.03376027   |  0.52628358   | -0.21370878   | -0.043697608  |  0.18509304   |  0.7872252807 | -0.63050025   | -0.473247036  |  0.1033577449 |  0.68760446   | \n",
       "| Po2 | -0.51317336   | -0.37616753   |  0.49940958   |  0.99358648   |  1.00000000   |  0.1063496    |  0.02284250   |  0.51378940   | -0.21876821   | -0.051711989  |  0.16922422   |  0.7942620503 | -0.64815183   | -0.473027293  |  0.0756266536 |  0.66671414   | \n",
       "| LF | -0.16094882   | -0.50546948   |  0.56117795   |  0.12149320   |  0.10634960   |  1.0000000    |  0.51355879   | -0.12367222   | -0.34121444   | -0.229399684  | -0.42076249   |  0.2946323090 | -0.26988646   | -0.250086098  | -0.1236404364 |  0.18886635   | \n",
       "| M.F | -0.02867993   | -0.31473291   |  0.43691492   |  0.03376027   |  0.02284250   |  0.5135588    |  1.00000000   | -0.41062750   | -0.32730454   |  0.351891900  | -0.01869169   |  0.1796086363 | -0.16708869   | -0.050858258  | -0.4276973791 |  0.21391426   | \n",
       "| Pop | -0.28063762   | -0.04991832   | -0.01722740   |  0.52628358   |  0.51378940   | -0.1236722    | -0.41062750   |  1.00000000   |  0.09515301   | -0.038119948  |  0.27042159   |  0.3082627091 | -0.12629357   | -0.347289063  |  0.4642104596 |  0.33747406   | \n",
       "| NW |  0.59319826   |  0.76710262   | -0.66488190   | -0.21370878   | -0.21876821   | -0.3412144    | -0.32730454   |  0.09515301   |  1.00000000   | -0.156450020  |  0.08090829   | -0.5901070652 |  0.67731286   |  0.428059153  |  0.2303984071 |  0.03259884   | \n",
       "| U1 | -0.22438060   | -0.17241931   |  0.01810345   | -0.04369761   | -0.05171199   | -0.2293997    |  0.35189190   | -0.03811995   | -0.15645002   |  1.000000000  |  0.74592482   |  0.0448572017 | -0.06383218   | -0.007469032  | -0.1698528383 | -0.05047792   | \n",
       "| U2 | -0.24484339   |  0.07169289   | -0.21568155   |  0.18509304   |  0.16922422   | -0.4207625    | -0.01869169   |  0.27042159   |  0.08090829   |  0.745924815  |  1.00000000   |  0.0920716601 |  0.01567818   | -0.061592474  |  0.1013583270 |  0.17732065   | \n",
       "| Wealth | -0.67005506   | -0.63694543   |  0.73599704   |  0.78722528   |  0.79426205   |  0.2946323    |  0.17960864   |  0.30826271   | -0.59010707   |  0.044857202  |  0.09207166   |  1.0000000000 | -0.88399728   | -0.555334708  |  0.0006485587 |  0.44131995   | \n",
       "| Ineq |  0.63921138   |  0.73718106   | -0.76865789   | -0.63050025   | -0.64815183   | -0.2698865    | -0.16708869   | -0.12629357   |  0.67731286   | -0.063832178  |  0.01567818   | -0.8839972758 |  1.00000000   |  0.465321920  |  0.1018228182 | -0.17902373   | \n",
       "| Prob |  0.36111641   |  0.53086199   | -0.38992286   | -0.47324704   | -0.47302729   | -0.2500861    | -0.05085826   | -0.34728906   |  0.42805915   | -0.007469032  | -0.06159247   | -0.5553347075 |  0.46532192   |  1.000000000  | -0.4362462614 | -0.42742219   | \n",
       "| Time |  0.11451072   |  0.06681283   | -0.25397355   |  0.10335774   |  0.07562665   | -0.1236404    | -0.42769738   |  0.46421046   |  0.23039841   | -0.169852838  |  0.10135833   |  0.0006485587 |  0.10182282   | -0.436246261  |  1.0000000000 |  0.14986606   | \n",
       "| Crime | -0.08947240   | -0.09063696   |  0.32283487   |  0.68760446   |  0.66671414   |  0.1888663    |  0.21391426   |  0.33747406   |  0.03259884   | -0.050477918  |  0.17732065   |  0.4413199490 | -0.17902373   | -0.427422188  |  0.1498660617 |  1.00000000   | \n",
       "\n",
       "\n"
      ],
      "text/plain": [
       "       M           So          Ed          Po1         Po2         LF        \n",
       "M       1.00000000  0.58435534 -0.53023964 -0.50573690 -0.51317336 -0.1609488\n",
       "So      0.58435534  1.00000000 -0.70274132 -0.37263633 -0.37616753 -0.5054695\n",
       "Ed     -0.53023964 -0.70274132  1.00000000  0.48295213  0.49940958  0.5611780\n",
       "Po1    -0.50573690 -0.37263633  0.48295213  1.00000000  0.99358648  0.1214932\n",
       "Po2    -0.51317336 -0.37616753  0.49940958  0.99358648  1.00000000  0.1063496\n",
       "LF     -0.16094882 -0.50546948  0.56117795  0.12149320  0.10634960  1.0000000\n",
       "M.F    -0.02867993 -0.31473291  0.43691492  0.03376027  0.02284250  0.5135588\n",
       "Pop    -0.28063762 -0.04991832 -0.01722740  0.52628358  0.51378940 -0.1236722\n",
       "NW      0.59319826  0.76710262 -0.66488190 -0.21370878 -0.21876821 -0.3412144\n",
       "U1     -0.22438060 -0.17241931  0.01810345 -0.04369761 -0.05171199 -0.2293997\n",
       "U2     -0.24484339  0.07169289 -0.21568155  0.18509304  0.16922422 -0.4207625\n",
       "Wealth -0.67005506 -0.63694543  0.73599704  0.78722528  0.79426205  0.2946323\n",
       "Ineq    0.63921138  0.73718106 -0.76865789 -0.63050025 -0.64815183 -0.2698865\n",
       "Prob    0.36111641  0.53086199 -0.38992286 -0.47324704 -0.47302729 -0.2500861\n",
       "Time    0.11451072  0.06681283 -0.25397355  0.10335774  0.07562665 -0.1236404\n",
       "Crime  -0.08947240 -0.09063696  0.32283487  0.68760446  0.66671414  0.1888663\n",
       "       M.F         Pop         NW          U1           U2         \n",
       "M      -0.02867993 -0.28063762  0.59319826 -0.224380599 -0.24484339\n",
       "So     -0.31473291 -0.04991832  0.76710262 -0.172419305  0.07169289\n",
       "Ed      0.43691492 -0.01722740 -0.66488190  0.018103454 -0.21568155\n",
       "Po1     0.03376027  0.52628358 -0.21370878 -0.043697608  0.18509304\n",
       "Po2     0.02284250  0.51378940 -0.21876821 -0.051711989  0.16922422\n",
       "LF      0.51355879 -0.12367222 -0.34121444 -0.229399684 -0.42076249\n",
       "M.F     1.00000000 -0.41062750 -0.32730454  0.351891900 -0.01869169\n",
       "Pop    -0.41062750  1.00000000  0.09515301 -0.038119948  0.27042159\n",
       "NW     -0.32730454  0.09515301  1.00000000 -0.156450020  0.08090829\n",
       "U1      0.35189190 -0.03811995 -0.15645002  1.000000000  0.74592482\n",
       "U2     -0.01869169  0.27042159  0.08090829  0.745924815  1.00000000\n",
       "Wealth  0.17960864  0.30826271 -0.59010707  0.044857202  0.09207166\n",
       "Ineq   -0.16708869 -0.12629357  0.67731286 -0.063832178  0.01567818\n",
       "Prob   -0.05085826 -0.34728906  0.42805915 -0.007469032 -0.06159247\n",
       "Time   -0.42769738  0.46421046  0.23039841 -0.169852838  0.10135833\n",
       "Crime   0.21391426  0.33747406  0.03259884 -0.050477918  0.17732065\n",
       "       Wealth        Ineq        Prob         Time          Crime      \n",
       "M      -0.6700550558  0.63921138  0.361116408  0.1145107190 -0.08947240\n",
       "So     -0.6369454328  0.73718106  0.530861993  0.0668128312 -0.09063696\n",
       "Ed      0.7359970363 -0.76865789 -0.389922862 -0.2539735471  0.32283487\n",
       "Po1     0.7872252807 -0.63050025 -0.473247036  0.1033577449  0.68760446\n",
       "Po2     0.7942620503 -0.64815183 -0.473027293  0.0756266536  0.66671414\n",
       "LF      0.2946323090 -0.26988646 -0.250086098 -0.1236404364  0.18886635\n",
       "M.F     0.1796086363 -0.16708869 -0.050858258 -0.4276973791  0.21391426\n",
       "Pop     0.3082627091 -0.12629357 -0.347289063  0.4642104596  0.33747406\n",
       "NW     -0.5901070652  0.67731286  0.428059153  0.2303984071  0.03259884\n",
       "U1      0.0448572017 -0.06383218 -0.007469032 -0.1698528383 -0.05047792\n",
       "U2      0.0920716601  0.01567818 -0.061592474  0.1013583270  0.17732065\n",
       "Wealth  1.0000000000 -0.88399728 -0.555334708  0.0006485587  0.44131995\n",
       "Ineq   -0.8839972758  1.00000000  0.465321920  0.1018228182 -0.17902373\n",
       "Prob   -0.5553347075  0.46532192  1.000000000 -0.4362462614 -0.42742219\n",
       "Time    0.0006485587  0.10182282 -0.436246261  1.0000000000  0.14986606\n",
       "Crime   0.4413199490 -0.17902373 -0.427422188  0.1498660617  1.00000000"
      ]
     },
     "metadata": {},
     "output_type": "display_data"
    }
   ],
   "source": [
    "# Grab only numeric columns\n",
    "numeric_columns <- sapply(data, is.numeric)\n",
    "\n",
    "# Filter to numeric columns for correlation\n",
    "data_for_corr_plot <- cor(data[,numeric_columns])\n",
    "\n",
    "data_for_corr_plot"
   ]
  },
  {
   "cell_type": "markdown",
   "metadata": {},
   "source": [
    "\n",
    "\n",
    "\n",
    "This is hard to look at and doesn't provide much value to the user without going line-by-line! Let's color it using the `corrplot`  function. For more on `corrplot`  see the documentation: https://cran.r-project.org/web/packages/corrplot/vignettes/corrplot-intro.html\n",
    "\n"
   ]
  },
  {
   "cell_type": "code",
   "execution_count": 9,
   "metadata": {},
   "outputs": [
    {
     "data": {
      "image/png": "[encoded data removed]",
      "text/plain": [
       "Plot with title \"\""
      ]
     },
     "metadata": {},
     "output_type": "display_data"
    }
   ],
   "source": [
    "corrplot(data_for_corr_plot,method='number')"
   ]
  },
  {
   "cell_type": "code",
   "execution_count": 10,
   "metadata": {},
   "outputs": [
    {
     "data": {
      "image/png": "[encoded data removed]",
      "text/plain": [
       "plot without title"
      ]
     },
     "metadata": {},
     "output_type": "display_data"
    }
   ],
   "source": [
    "corrgram(data,order=TRUE, lower.panel=panel.shade,\n",
    "  upper.panel=panel.pie, text.panel=panel.txt)"
   ]
  },
  {
   "cell_type": "markdown",
   "metadata": {},
   "source": [
    "\n",
    "\n",
    "Tt appears that Po1 , Po2 , Wealth , and Ed are the most highly correlated predictors with crime.\n",
    "\n",
    "We can also see from the corrplots above, that Po1 and Po2 are highly correlated with each other and with regards to the target variable `Crime`. Because, of this we can eliminate one variable or the other without significant decrement to model prediction accuracy. This is because both variables are contributing nearly identical information (Po1 is per-capita police force expenditures in 1960 and Po2 is per-capita police force expenditures in 1959) to the model. This also tells us that Po1 and Po2 spending did not increase significantly from 1959 to 1960. Let's confirm this visually below:\n",
    "\n"
   ]
  },
  {
   "cell_type": "code",
   "execution_count": 11,
   "metadata": {},
   "outputs": [
    {
     "data": {
      "image/png": "[encoded data removed]",
      "text/plain": [
       "Plot with title \"Police-force Expenditures 1959-1960\""
      ]
     },
     "metadata": {},
     "output_type": "display_data"
    }
   ],
   "source": [
    "# reference: https://stackoverflow.com/a/2564276\n",
    "# http://www.sthda.com/english/wiki/add-legends-to-plots-in-r-software-the-easiest-way\n",
    "\n",
    "plot(data$Po1, type='b', col='blue',\n",
    "     main='Police-force Expenditures 1959-1960',\n",
    "     ylab='Expenditures')\n",
    "lines(data$Po2, col='red', type='b')\n",
    "legend(x='topright', legend=c(\"1960\", \"1959\"),\n",
    "       col=c(\"blue\", \"red\"), lty=1:2)"
   ]
  },
  {
   "cell_type": "markdown",
   "metadata": {},
   "source": [
    "\n",
    "\n",
    "### Linear regression model building: split data\n",
    "\n",
    "First let's split the data into training, validation, and test sets. I will use a 85-15 split and a cross-validated approach using caret.\n",
    "\n",
    "reference: https://stackoverflow.com/a/36069362\n",
    "\n"
   ]
  },
  {
   "cell_type": "markdown",
   "metadata": {},
   "source": [
    "\n",
    "\n",
    "### Manual 85-15 data split\n",
    "\n"
   ]
  },
  {
   "cell_type": "code",
   "execution_count": 12,
   "metadata": {
    "collapsed": true
   },
   "outputs": [],
   "source": [
    "spec = c(train = .85,\n",
    "         validate = .15)\n",
    "\n",
    "g = sample(cut(\n",
    "  seq(nrow(data)), \n",
    "  nrow(data)*cumsum(c(0,spec)),\n",
    "  labels = names(spec)\n",
    "))\n",
    "\n",
    "split_data_set = split(data, g)"
   ]
  },
  {
   "cell_type": "code",
   "execution_count": 13,
   "metadata": {},
   "outputs": [
    {
     "data": {
      "text/html": [
       "<strong>$names</strong> = <ol class=list-inline>\n",
       "\t<li>'train'</li>\n",
       "\t<li>'validate'</li>\n",
       "</ol>\n"
      ],
      "text/latex": [
       "\\textbf{\\$names} = \\begin{enumerate*}\n",
       "\\item 'train'\n",
       "\\item 'validate'\n",
       "\\end{enumerate*}\n"
      ],
      "text/markdown": [
       "**$names** = 1. 'train'\n",
       "2. 'validate'\n",
       "\n",
       "\n"
      ],
      "text/plain": [
       "$names\n",
       "[1] \"train\"    \"validate\"\n"
      ]
     },
     "metadata": {},
     "output_type": "display_data"
    }
   ],
   "source": [
    "attributes(split_data_set)"
   ]
  },
  {
   "cell_type": "code",
   "execution_count": 14,
   "metadata": {},
   "outputs": [
    {
     "data": {
      "text/html": [
       "<dl class=dl-horizontal>\n",
       "\t<dt>train</dt>\n",
       "\t\t<dd>0.829787234042553</dd>\n",
       "\t<dt>validate</dt>\n",
       "\t\t<dd>0.170212765957447</dd>\n",
       "</dl>\n"
      ],
      "text/latex": [
       "\\begin{description*}\n",
       "\\item[train] 0.829787234042553\n",
       "\\item[validate] 0.170212765957447\n",
       "\\end{description*}\n"
      ],
      "text/markdown": [
       "train\n",
       ":   0.829787234042553validate\n",
       ":   0.170212765957447\n",
       "\n"
      ],
      "text/plain": [
       "    train  validate \n",
       "0.8297872 0.1702128 "
      ]
     },
     "metadata": {},
     "output_type": "display_data"
    }
   ],
   "source": [
    "sapply(split_data_set, nrow)/nrow(data)"
   ]
  },
  {
   "cell_type": "markdown",
   "metadata": {},
   "source": [
    "\n",
    "\n",
    "### Cross-validated approach using `caret`\n",
    "\n"
   ]
  },
  {
   "cell_type": "code",
   "execution_count": 15,
   "metadata": {
    "collapsed": true
   },
   "outputs": [],
   "source": [
    "# set cross_validation parameters\n",
    "train_control<- trainControl(method=\"repeatedcv\", number=10, repeats=5)"
   ]
  },
  {
   "cell_type": "markdown",
   "metadata": {},
   "source": [
    "\n",
    "\n",
    "### Linear regression model building: all features\n",
    "\n",
    "Our first linear regression model will be the model that includes all features. This model should have a high prediction accuracy since we are considering all features. Using all features will also tell us which attributes contribute the most to predicting our target variable `Crime`. Manual data split model will be evaluated and then the cross-validated model.\n",
    "\n"
   ]
  },
  {
   "cell_type": "code",
   "execution_count": 16,
   "metadata": {
    "collapsed": true
   },
   "outputs": [],
   "source": [
    "m1_all_features_train_model <- lm(Crime ~ .,\n",
    "                                  split_data_set$train)"
   ]
  },
  {
   "cell_type": "code",
   "execution_count": 17,
   "metadata": {},
   "outputs": [
    {
     "data": {
      "text/html": [
       "<dl>\n",
       "\t<dt>$names</dt>\n",
       "\t\t<dd><ol class=list-inline>\n",
       "\t<li>'coefficients'</li>\n",
       "\t<li>'residuals'</li>\n",
       "\t<li>'effects'</li>\n",
       "\t<li>'rank'</li>\n",
       "\t<li>'fitted.values'</li>\n",
       "\t<li>'assign'</li>\n",
       "\t<li>'qr'</li>\n",
       "\t<li>'df.residual'</li>\n",
       "\t<li>'xlevels'</li>\n",
       "\t<li>'call'</li>\n",
       "\t<li>'terms'</li>\n",
       "\t<li>'model'</li>\n",
       "</ol>\n",
       "</dd>\n",
       "\t<dt>$class</dt>\n",
       "\t\t<dd>'lm'</dd>\n",
       "</dl>\n"
      ],
      "text/latex": [
       "\\begin{description}\n",
       "\\item[\\$names] \\begin{enumerate*}\n",
       "\\item 'coefficients'\n",
       "\\item 'residuals'\n",
       "\\item 'effects'\n",
       "\\item 'rank'\n",
       "\\item 'fitted.values'\n",
       "\\item 'assign'\n",
       "\\item 'qr'\n",
       "\\item 'df.residual'\n",
       "\\item 'xlevels'\n",
       "\\item 'call'\n",
       "\\item 'terms'\n",
       "\\item 'model'\n",
       "\\end{enumerate*}\n",
       "\n",
       "\\item[\\$class] 'lm'\n",
       "\\end{description}\n"
      ],
      "text/markdown": [
       "$names\n",
       ":   1. 'coefficients'\n",
       "2. 'residuals'\n",
       "3. 'effects'\n",
       "4. 'rank'\n",
       "5. 'fitted.values'\n",
       "6. 'assign'\n",
       "7. 'qr'\n",
       "8. 'df.residual'\n",
       "9. 'xlevels'\n",
       "10. 'call'\n",
       "11. 'terms'\n",
       "12. 'model'\n",
       "\n",
       "\n",
       "\n",
       "$class\n",
       ":   'lm'\n",
       "\n",
       "\n"
      ],
      "text/plain": [
       "$names\n",
       " [1] \"coefficients\"  \"residuals\"     \"effects\"       \"rank\"         \n",
       " [5] \"fitted.values\" \"assign\"        \"qr\"            \"df.residual\"  \n",
       " [9] \"xlevels\"       \"call\"          \"terms\"         \"model\"        \n",
       "\n",
       "$class\n",
       "[1] \"lm\"\n"
      ]
     },
     "metadata": {},
     "output_type": "display_data"
    }
   ],
   "source": [
    "attributes(m1_all_features_train_model)"
   ]
  },
  {
   "cell_type": "markdown",
   "metadata": {},
   "source": [
    "\n",
    "\n",
    "### All features linear regression model plots\n",
    "\n"
   ]
  },
  {
   "cell_type": "code",
   "execution_count": 18,
   "metadata": {},
   "outputs": [
    {
     "data": {
      "image/png": "[encoded data removed]",
      "text/plain": [
       "Plot with title \"\""
      ]
     },
     "metadata": {},
     "output_type": "display_data"
    },
    {
     "data": {
      "image/png": "[encoded data removed]",
      "text/plain": [
       "Plot with title \"\""
      ]
     },
     "metadata": {},
     "output_type": "display_data"
    },
    {
     "data": {
      "image/png": "[encoded data removed]",
      "text/plain": [
       "Plot with title \"\""
      ]
     },
     "metadata": {},
     "output_type": "display_data"
    },
    {
     "data": {
      "image/png": "[encoded data removed]",
      "text/plain": [
       "Plot with title \"\""
      ]
     },
     "metadata": {},
     "output_type": "display_data"
    }
   ],
   "source": [
    "plot(m1_all_features_train_model)"
   ]
  },
  {
   "cell_type": "markdown",
   "metadata": {},
   "source": [
    "\n",
    "\n",
    "### All features linear regresssion model summary\n",
    "\n"
   ]
  },
  {
   "cell_type": "code",
   "execution_count": 19,
   "metadata": {},
   "outputs": [
    {
     "data": {
      "text/plain": [
       "\n",
       "Call:\n",
       "lm(formula = Crime ~ ., data = split_data_set$train)\n",
       "\n",
       "Residuals:\n",
       "   Min     1Q Median     3Q    Max \n",
       "-277.2 -107.4  -10.3  102.4  420.8 \n",
       "\n",
       "Coefficients:\n",
       "              Estimate Std. Error t value Pr(>|t|)    \n",
       "(Intercept) -7748.3403  1871.2820  -4.141 0.000397 ***\n",
       "M              78.8164    45.3423   1.738 0.095538 .  \n",
       "So            -21.9733   166.2354  -0.132 0.895990    \n",
       "Ed            232.2737    64.0293   3.628 0.001411 ** \n",
       "Po1           218.5369   110.5289   1.977 0.060127 .  \n",
       "Po2          -143.8749   118.6797  -1.212 0.237706    \n",
       "LF          -2419.6839  1606.8639  -1.506 0.145719    \n",
       "M.F            32.2196    23.4877   1.372 0.183371    \n",
       "Pop            -1.3922     1.3687  -1.017 0.319672    \n",
       "NW              1.0718    10.8211   0.099 0.921956    \n",
       "U1          -8547.4548  4627.0875  -1.847 0.077613 .  \n",
       "U2            210.5943    87.7046   2.401 0.024821 *  \n",
       "Wealth          0.1415     0.1065   1.329 0.196834    \n",
       "Ineq          100.3967    24.1645   4.155 0.000383 ***\n",
       "Prob        -2503.6505  2408.6695  -1.039 0.309408    \n",
       "Time            8.5421     8.2685   1.033 0.312302    \n",
       "---\n",
       "Signif. codes:  0 '***' 0.001 '**' 0.01 '*' 0.05 '.' 0.1 ' ' 1\n",
       "\n",
       "Residual standard error: 191.6 on 23 degrees of freedom\n",
       "Multiple R-squared:  0.8341,\tAdjusted R-squared:  0.7259 \n",
       "F-statistic:  7.71 on 15 and 23 DF,  p-value: 9.116e-06\n"
      ]
     },
     "metadata": {},
     "output_type": "display_data"
    }
   ],
   "source": [
    "m1_model_summary <- summary(m1_all_features_train_model)\n",
    "m1_model_summary"
   ]
  },
  {
   "cell_type": "markdown",
   "metadata": {},
   "source": [
    "\n",
    "\n",
    "### Signficant predictors\n",
    "\n",
    "Let's extract the most statistically significant predictors from the linear regression model.\n",
    "\n",
    "reference: https://stackoverflow.com/a/40206080"
   ]
  },
  {
   "cell_type": "code",
   "execution_count": 20,
   "metadata": {},
   "outputs": [
    {
     "data": {
      "text/html": [
       "<ol class=list-inline>\n",
       "\t<li>'Ineq'</li>\n",
       "\t<li>'Ed'</li>\n",
       "\t<li>'U2'</li>\n",
       "\t<li>'Po1'</li>\n",
       "\t<li>'U1'</li>\n",
       "</ol>\n"
      ],
      "text/latex": [
       "\\begin{enumerate*}\n",
       "\\item 'Ineq'\n",
       "\\item 'Ed'\n",
       "\\item 'U2'\n",
       "\\item 'Po1'\n",
       "\\item 'U1'\n",
       "\\end{enumerate*}\n"
      ],
      "text/markdown": [
       "1. 'Ineq'\n",
       "2. 'Ed'\n",
       "3. 'U2'\n",
       "4. 'Po1'\n",
       "5. 'U1'\n",
       "\n",
       "\n"
      ],
      "text/plain": [
       "[1] \"Ineq\" \"Ed\"   \"U2\"   \"Po1\"  \"U1\"  "
      ]
     },
     "metadata": {},
     "output_type": "display_data"
    }
   ],
   "source": [
    "# reference: https://stackoverflow.com/a/40206080\n",
    "\n",
    "m1_cc <- coef(m1_model_summary)  ## coefficient table\n",
    "m1_t5_significant_predictors <- names(sort(m1_cc[-1,\"Pr(>|t|)\"])[c(1:5)])\n",
    "m1_t5_significant_predictors"
   ]
  },
  {
   "cell_type": "markdown",
   "metadata": {},
   "source": [
    "\n",
    "\n",
    "The most significant predictors by p-value measure in descending order:\n",
    "\n",
    "* Ineq: Income inequality (percentage of families earning below half the median income)\n",
    "* Ed: Mean years of schooling of the population aged 25 years or over\n",
    "* U2: Unemployment rate of urban males 35–39\n",
    "* Po1: Per capita expenditure on police protection in 1960\n",
    "* U1: Unemployment rate of urban males 18–24\n",
    "\n",
    "\n"
   ]
  },
  {
   "cell_type": "markdown",
   "metadata": {},
   "source": [
    "\n",
    "\n",
    "### Interpret all features linear regression model coefficients\n",
    "\n"
   ]
  },
  {
   "cell_type": "code",
   "execution_count": 21,
   "metadata": {},
   "outputs": [
    {
     "data": {
      "text/html": [
       "<dl class=dl-horizontal>\n",
       "\t<dt>Ed</dt>\n",
       "\t\t<dd>232.273672964961</dd>\n",
       "\t<dt>Po1</dt>\n",
       "\t\t<dd>218.536911240718</dd>\n",
       "\t<dt>U2</dt>\n",
       "\t\t<dd>210.594272507477</dd>\n",
       "\t<dt>Ineq</dt>\n",
       "\t\t<dd>100.39668498128</dd>\n",
       "\t<dt>M</dt>\n",
       "\t\t<dd>78.816447746632</dd>\n",
       "\t<dt>M.F</dt>\n",
       "\t\t<dd>32.2195943829694</dd>\n",
       "\t<dt>Time</dt>\n",
       "\t\t<dd>8.54213261717942</dd>\n",
       "\t<dt>NW</dt>\n",
       "\t\t<dd>1.07183353384028</dd>\n",
       "\t<dt>Wealth</dt>\n",
       "\t\t<dd>0.141527097769715</dd>\n",
       "\t<dt>Pop</dt>\n",
       "\t\t<dd>-1.39215585671651</dd>\n",
       "\t<dt>So</dt>\n",
       "\t\t<dd>-21.9733155070437</dd>\n",
       "\t<dt>Po2</dt>\n",
       "\t\t<dd>-143.874861511408</dd>\n",
       "\t<dt>LF</dt>\n",
       "\t\t<dd>-2419.68387122493</dd>\n",
       "\t<dt>Prob</dt>\n",
       "\t\t<dd>-2503.65048308864</dd>\n",
       "\t<dt>(Intercept)</dt>\n",
       "\t\t<dd>-7748.34032959827</dd>\n",
       "\t<dt>U1</dt>\n",
       "\t\t<dd>-8547.45483876543</dd>\n",
       "</dl>\n"
      ],
      "text/latex": [
       "\\begin{description*}\n",
       "\\item[Ed] 232.273672964961\n",
       "\\item[Po1] 218.536911240718\n",
       "\\item[U2] 210.594272507477\n",
       "\\item[Ineq] 100.39668498128\n",
       "\\item[M] 78.816447746632\n",
       "\\item[M.F] 32.2195943829694\n",
       "\\item[Time] 8.54213261717942\n",
       "\\item[NW] 1.07183353384028\n",
       "\\item[Wealth] 0.141527097769715\n",
       "\\item[Pop] -1.39215585671651\n",
       "\\item[So] -21.9733155070437\n",
       "\\item[Po2] -143.874861511408\n",
       "\\item[LF] -2419.68387122493\n",
       "\\item[Prob] -2503.65048308864\n",
       "\\item[(Intercept)] -7748.34032959827\n",
       "\\item[U1] -8547.45483876543\n",
       "\\end{description*}\n"
      ],
      "text/markdown": [
       "Ed\n",
       ":   232.273672964961Po1\n",
       ":   218.536911240718U2\n",
       ":   210.594272507477Ineq\n",
       ":   100.39668498128M\n",
       ":   78.816447746632M.F\n",
       ":   32.2195943829694Time\n",
       ":   8.54213261717942NW\n",
       ":   1.07183353384028Wealth\n",
       ":   0.141527097769715Pop\n",
       ":   -1.39215585671651So\n",
       ":   -21.9733155070437Po2\n",
       ":   -143.874861511408LF\n",
       ":   -2419.68387122493Prob\n",
       ":   -2503.65048308864(Intercept)\n",
       ":   -7748.34032959827U1\n",
       ":   -8547.45483876543\n",
       "\n"
      ],
      "text/plain": [
       "           Ed           Po1            U2          Ineq             M \n",
       "  232.2736730   218.5369112   210.5942725   100.3966850    78.8164477 \n",
       "          M.F          Time            NW        Wealth           Pop \n",
       "   32.2195944     8.5421326     1.0718335     0.1415271    -1.3921559 \n",
       "           So           Po2            LF          Prob   (Intercept) \n",
       "  -21.9733155  -143.8748615 -2419.6838712 -2503.6504831 -7748.3403296 \n",
       "           U1 \n",
       "-8547.4548388 "
      ]
     },
     "metadata": {},
     "output_type": "display_data"
    }
   ],
   "source": [
    "sort(m1_all_features_train_model$coefficients,\n",
    "     decreasing=T)\n",
    "\n",
    "m1_t5_highest_coefficients <-\n",
    "    names(sort(m1_all_features_train_model$coefficients,\n",
    "               decreasing = T)[c(1:5)])"
   ]
  },
  {
   "cell_type": "markdown",
   "metadata": {},
   "source": [
    "\n",
    "\n",
    "The top five contributing predictors to the target variable `Crime`  by coefficient are listed below:\n",
    "\n",
    "* U2: Unemployment rate of urban males 35–39\n",
    "* Po1: Per capita expenditure on police protection in 1960\n",
    "* Ed: Mean years of schooling of the population aged 25 years or over\n",
    "* M: Percentage of males aged 14–24 in total state population\n",
    "* Ineq: Income inequality (percentage of families earning below half the median income)\n",
    "\n",
    "\n",
    "The least contributing predictors to the target variable `Crime`  by coefficient (descending order) include:\n",
    "\n",
    "* Prob: Probability of imprisonment (ratio of number of commitments to number of offenses)\n",
    "* LF: Labour force participation rate of civilian urban males in the age-group 14-24\n",
    "\n"
   ]
  },
  {
   "cell_type": "markdown",
   "metadata": {},
   "source": [
    "\n",
    "\n",
    "\n",
    "### All features linear regression model error\n",
    "\n"
   ]
  },
  {
   "cell_type": "code",
   "execution_count": 22,
   "metadata": {},
   "outputs": [
    {
     "data": {
      "text/html": [
       "<table>\n",
       "<thead><tr><th></th><th scope=col>pred</th><th scope=col>real</th></tr></thead>\n",
       "<tbody>\n",
       "\t<tr><th scope=row>13</th><td> 920.8030</td><td> 511     </td></tr>\n",
       "\t<tr><th scope=row>15</th><td>1155.7308</td><td> 798     </td></tr>\n",
       "\t<tr><th scope=row>16</th><td>1096.1873</td><td> 946     </td></tr>\n",
       "\t<tr><th scope=row>22</th><td> 962.0626</td><td> 439     </td></tr>\n",
       "\t<tr><th scope=row>26</th><td>2017.7279</td><td>1993     </td></tr>\n",
       "\t<tr><th scope=row>39</th><td> 992.4403</td><td> 826     </td></tr>\n",
       "\t<tr><th scope=row>43</th><td>1381.9134</td><td> 823     </td></tr>\n",
       "\t<tr><th scope=row>45</th><td> 967.4951</td><td> 455     </td></tr>\n",
       "</tbody>\n",
       "</table>\n"
      ],
      "text/latex": [
       "\\begin{tabular}{r|ll}\n",
       "  & pred & real\\\\\n",
       "\\hline\n",
       "\t13 &  920.8030 &  511     \\\\\n",
       "\t15 & 1155.7308 &  798     \\\\\n",
       "\t16 & 1096.1873 &  946     \\\\\n",
       "\t22 &  962.0626 &  439     \\\\\n",
       "\t26 & 2017.7279 & 1993     \\\\\n",
       "\t39 &  992.4403 &  826     \\\\\n",
       "\t43 & 1381.9134 &  823     \\\\\n",
       "\t45 &  967.4951 &  455     \\\\\n",
       "\\end{tabular}\n"
      ],
      "text/markdown": [
       "\n",
       "| <!--/--> | pred | real | \n",
       "|---|---|---|---|---|---|---|---|\n",
       "| 13 |  920.8030 |  511      | \n",
       "| 15 | 1155.7308 |  798      | \n",
       "| 16 | 1096.1873 |  946      | \n",
       "| 22 |  962.0626 |  439      | \n",
       "| 26 | 2017.7279 | 1993      | \n",
       "| 39 |  992.4403 |  826      | \n",
       "| 43 | 1381.9134 |  823      | \n",
       "| 45 |  967.4951 |  455      | \n",
       "\n",
       "\n"
      ],
      "text/plain": [
       "   pred      real\n",
       "13  920.8030  511\n",
       "15 1155.7308  798\n",
       "16 1096.1873  946\n",
       "22  962.0626  439\n",
       "26 2017.7279 1993\n",
       "39  992.4403  826\n",
       "43 1381.9134  823\n",
       "45  967.4951  455"
      ]
     },
     "metadata": {},
     "output_type": "display_data"
    }
   ],
   "source": [
    "# Model prediction MSE on validation set\n",
    "\n",
    "m1_all_features_model_validation_preds <- \n",
    "    predict(m1_all_features_train_model,\n",
    "            split_data_set$validate[-16])\n",
    "\n",
    "m1_all_features_validation_results <-\n",
    "    cbind(m1_all_features_model_validation_preds,\n",
    "          split_data_set$validate[16]) \n",
    "\n",
    "colnames(m1_all_features_validation_results) <- c('pred','real')\n",
    "\n",
    "m1_all_features_validation_results <-\n",
    "    as.data.frame(m1_all_features_validation_results)\n",
    "m1_all_features_validation_results\n",
    "\n",
    "validation_real_Crime <- m1_all_features_validation_results$real\n",
    "m1_validation_pred_Crime <- m1_all_features_validation_results$pred"
   ]
  },
  {
   "cell_type": "code",
   "execution_count": 23,
   "metadata": {},
   "outputs": [
    {
     "name": "stdout",
     "output_type": "stream",
     "text": [
      "Model MSE:  149426.2"
     ]
    }
   ],
   "source": [
    "# Mean squared error\n",
    "\n",
    "m1_all_features_mse <-\n",
    "    mean((validation_real_Crime-m1_validation_pred_Crime)^2)\n",
    "cat(\"Model MSE: \",m1_all_features_mse)"
   ]
  },
  {
   "cell_type": "code",
   "execution_count": 24,
   "metadata": {},
   "outputs": [
    {
     "name": "stdout",
     "output_type": "stream",
     "text": [
      "Model Root MSE:  386.5569"
     ]
    }
   ],
   "source": [
    "# Root mean squared error\n",
    "cat(\"Model Root MSE: \",m1_all_features_mse ^ 0.5)"
   ]
  },
  {
   "cell_type": "markdown",
   "metadata": {},
   "source": [
    "\n",
    "\n",
    "### Plot all features linear regression model residuals\n",
    "\n"
   ]
  },
  {
   "cell_type": "code",
   "execution_count": 25,
   "metadata": {},
   "outputs": [
    {
     "data": {
      "image/png": "[encoded data removed]",
      "text/plain": [
       "Plot with title \"Histogram of All Features Linear Regression Model 1 Residuals\""
      ]
     },
     "metadata": {},
     "output_type": "display_data"
    }
   ],
   "source": [
    "# Get residuals\n",
    "res <- residuals(m1_all_features_train_model)\n",
    "\n",
    "# Convert to numeric for hist\n",
    "res <- as.numeric(res)\n",
    "\n",
    "hist(res, probability = T,\n",
    "     main = \"Histogram of All Features Linear Regression Model 1 Residuals\",\n",
    "     col = \"peachpuff\",\n",
    "     xlab=\"All Features Linear Regression Model 1 Residuals\")\n",
    "lines(density(res), # density plot\n",
    " lwd = 2, # thickness of line\n",
    " col = \"chocolate3\")\n",
    "abline(v = mean(res),\n",
    " col = \"royalblue\",\n",
    " lwd = 2)\n",
    "abline(v = median(res),\n",
    " col = \"red\",\n",
    " lwd = 2)\n",
    "legend(x = \"topright\", # location of legend within plot area\n",
    " c(\"Density plot\", \"Mean\", \"Median\"),\n",
    " col = c(\"chocolate3\", \"royalblue\", \"red\"),\n",
    " lwd = c(2, 2, 2))"
   ]
  },
  {
   "cell_type": "markdown",
   "metadata": {},
   "source": [
    "\n",
    "\n",
    "Our residuals are being skewed slightly towards the high-end (median < mean) by an outlier (tail on right hand side), but are more or less normally distributed.\n",
    "\n"
   ]
  },
  {
   "cell_type": "markdown",
   "metadata": {},
   "source": [
    "\n",
    "\n",
    "## Cross-validated linear regression model 1\n",
    "\n",
    "reference: https://www.r-bloggers.com/a-quick-introduction-to-machine-learning-in-r-with-caret/"
   ]
  },
  {
   "cell_type": "code",
   "execution_count": 26,
   "metadata": {
    "collapsed": true
   },
   "outputs": [],
   "source": [
    "m2_all_features_model_cv <- train(Crime ~ .,\n",
    "                                  rbind(split_data_set$train,\n",
    "                                        split_data_set$validate),\n",
    "                                        method = \"lm\",\n",
    "                                        trControl=train_control)"
   ]
  },
  {
   "cell_type": "markdown",
   "metadata": {},
   "source": [
    "\n",
    "\n",
    "### Cross-validation training set\n",
    "\n"
   ]
  },
  {
   "cell_type": "code",
   "execution_count": 27,
   "metadata": {},
   "outputs": [
    {
     "data": {
      "text/plain": [
       "Linear Regression \n",
       "\n",
       "47 samples\n",
       "15 predictors\n",
       "\n",
       "No pre-processing\n",
       "Resampling: Cross-Validated (10 fold, repeated 5 times) \n",
       "Summary of sample sizes: 43, 41, 42, 43, 42, 43, ... \n",
       "Resampling results:\n",
       "\n",
       "  RMSE      Rsquared \n",
       "  256.2904  0.5984653\n",
       "\n",
       "Tuning parameter 'intercept' was held constant at a value of TRUE"
      ]
     },
     "metadata": {},
     "output_type": "display_data"
    }
   ],
   "source": [
    "m2_all_features_model_cv"
   ]
  },
  {
   "cell_type": "markdown",
   "metadata": {},
   "source": [
    "\n",
    "\n",
    "### Cross-validated model 1 training accuracy\n",
    "\n"
   ]
  },
  {
   "cell_type": "code",
   "execution_count": 28,
   "metadata": {},
   "outputs": [
    {
     "data": {
      "text/html": [
       "0.598465301260192"
      ],
      "text/latex": [
       "0.598465301260192"
      ],
      "text/markdown": [
       "0.598465301260192"
      ],
      "text/plain": [
       "[1] 0.5984653"
      ]
     },
     "metadata": {},
     "output_type": "display_data"
    }
   ],
   "source": [
    "m2_all_features_model_cv$results$Rsquared"
   ]
  },
  {
   "cell_type": "markdown",
   "metadata": {},
   "source": [
    "\n",
    "\n",
    "### Cross-validated model 1 training error\n",
    "\n"
   ]
  },
  {
   "cell_type": "code",
   "execution_count": 29,
   "metadata": {},
   "outputs": [
    {
     "data": {
      "text/html": [
       "0.401534698739808"
      ],
      "text/latex": [
       "0.401534698739808"
      ],
      "text/markdown": [
       "0.401534698739808"
      ],
      "text/plain": [
       "[1] 0.4015347"
      ]
     },
     "metadata": {},
     "output_type": "display_data"
    }
   ],
   "source": [
    "1-m2_all_features_model_cv$results$Rsquared"
   ]
  },
  {
   "cell_type": "markdown",
   "metadata": {},
   "source": [
    "\n",
    "\n",
    "### Cross-validated model 1 important attributes\n",
    "\n"
   ]
  },
  {
   "cell_type": "code",
   "execution_count": 30,
   "metadata": {},
   "outputs": [
    {
     "data": {},
     "metadata": {},
     "output_type": "display_data"
    },
    {
     "data": {
      "image/png": "[encoded data removed]",
      "text/plain": [
       "plot without title"
      ]
     },
     "metadata": {},
     "output_type": "display_data"
    }
   ],
   "source": [
    "plot(varImp(object=m2_all_features_model_cv),\n",
    "     main=\"10-fold Cross Validated Linear Regression Model 1 Attribute Importance\")"
   ]
  },
  {
   "cell_type": "markdown",
   "metadata": {},
   "source": [
    "\n",
    "\n",
    "The top five contributing predictors to the target variable `Crime`  by coefficient are listed below:\n",
    "\n",
    "* Ineq: Income inequality (percentage of families earning below half the median income)\n",
    "* Ed: Mean years of schooling of the population aged 25 years or over\n",
    "* Prob: Probability of imprisonment (ratio of number of commitments to number of offenses)\n",
    "* M: Percentage of males aged 14–24 in total state population\n",
    "* U2: Unemployment rate of urban males 35–39\n",
    "\n"
   ]
  },
  {
   "cell_type": "code",
   "execution_count": 31,
   "metadata": {
    "collapsed": true
   },
   "outputs": [],
   "source": [
    "cv_t5_features <- c(\"Ineq\", \"Ed\", \"Prob\", \"M\", \"U2\")"
   ]
  },
  {
   "cell_type": "markdown",
   "metadata": {},
   "source": [
    "\n",
    "\n",
    "### Plot all features CV linear regression model residuals\n",
    "\n"
   ]
  },
  {
   "cell_type": "code",
   "execution_count": 32,
   "metadata": {},
   "outputs": [
    {
     "data": {
      "image/png": "[encoded data removed]",
      "text/plain": [
       "Plot with title \"Histogram of All Features CV Linear Regression Model 1 Residuals\""
      ]
     },
     "metadata": {},
     "output_type": "display_data"
    }
   ],
   "source": [
    "# Grab residuals\n",
    "res <- residuals(m2_all_features_model_cv)\n",
    "\n",
    "# Convert to numeric for hist\n",
    "res <- as.numeric(res)\n",
    "\n",
    "hist(res, probability = T,\n",
    "     main = \"Histogram of All Features CV Linear Regression Model 1 Residuals\",\n",
    "     col = \"peachpuff\",\n",
    "     xlab=\"All Features CV Linear Regression Model 1 Residuals\")\n",
    "lines(density(res), # density plot\n",
    " lwd = 2, # thickness of line\n",
    " col = \"chocolate3\")\n",
    "abline(v = mean(res),\n",
    " col = \"royalblue\",\n",
    " lwd = 2)\n",
    "abline(v = median(res),\n",
    " col = \"red\",\n",
    " lwd = 2)\n",
    "legend(x = \"topright\", # location of legend within plot area\n",
    " c(\"Density plot\", \"Mean\", \"Median\"),\n",
    " col = c(\"chocolate3\", \"royalblue\", \"red\"),\n",
    " lwd = c(2, 2, 2))"
   ]
  },
  {
   "cell_type": "markdown",
   "metadata": {
    "collapsed": true
   },
   "source": [
    "\n",
    "\n",
    "### Commentary\n",
    "\n",
    "Both the cross-validated approach and the manual data split approach used in model 1 m1 point to the contributions of the attributes:\n",
    "\n",
    "* Ineq\n",
    "* Ed\n",
    "* U2\n",
    "* M\n",
    "\n"
   ]
  },
  {
   "cell_type": "markdown",
   "metadata": {},
   "source": [
    "\n",
    "\n",
    "## Linear regression model building: important features\n",
    "\n",
    "Our second linear regression model will include only important features and without any outliers removed. My hypothesis is that our model's MSE error will increase only slightly because we are still using the most important predictors to predict the target variable `Crime`. Remember that any model built with all n predictors will have a lower MSE then a model built with n-k predictors where k is the number of predictors removed. I will be using predictor variable coeffecients from our original model m1 that included all features to determine predictor importance.\n",
    "\n"
   ]
  },
  {
   "cell_type": "markdown",
   "metadata": {},
   "source": [
    "\n",
    "\n",
    "### Manual Split\n",
    "\n"
   ]
  },
  {
   "cell_type": "markdown",
   "metadata": {},
   "source": [
    "\n",
    "\n",
    "### Only use important features from first linear regression model\n",
    "\n"
   ]
  },
  {
   "cell_type": "code",
   "execution_count": 33,
   "metadata": {},
   "outputs": [
    {
     "data": {
      "text/html": [
       "<ol class=list-inline>\n",
       "\t<li>'Ed'</li>\n",
       "\t<li>'Po1'</li>\n",
       "\t<li>'U2'</li>\n",
       "\t<li>'Ineq'</li>\n",
       "\t<li>'M'</li>\n",
       "</ol>\n"
      ],
      "text/latex": [
       "\\begin{enumerate*}\n",
       "\\item 'Ed'\n",
       "\\item 'Po1'\n",
       "\\item 'U2'\n",
       "\\item 'Ineq'\n",
       "\\item 'M'\n",
       "\\end{enumerate*}\n"
      ],
      "text/markdown": [
       "1. 'Ed'\n",
       "2. 'Po1'\n",
       "3. 'U2'\n",
       "4. 'Ineq'\n",
       "5. 'M'\n",
       "\n",
       "\n"
      ],
      "text/plain": [
       "[1] \"Ed\"   \"Po1\"  \"U2\"   \"Ineq\" \"M\"   "
      ]
     },
     "metadata": {},
     "output_type": "display_data"
    }
   ],
   "source": [
    "m1_t5_highest_coefficients"
   ]
  },
  {
   "cell_type": "code",
   "execution_count": 34,
   "metadata": {},
   "outputs": [
    {
     "data": {
      "text/html": [
       "<span style=white-space:pre-wrap>'Crime~  Ed+Po1+U2+Ineq+M'</span>"
      ],
      "text/latex": [
       "'Crime\\textasciitilde{}  Ed+Po1+U2+Ineq+M'"
      ],
      "text/markdown": [
       "<span style=white-space:pre-wrap>'Crime~  Ed+Po1+U2+Ineq+M'</span>"
      ],
      "text/plain": [
       "[1] \"Crime~  Ed+Po1+U2+Ineq+M\""
      ]
     },
     "metadata": {},
     "output_type": "display_data"
    }
   ],
   "source": [
    "t5_Coeff_features_regression_formula <- paste(m1_t5_highest_coefficients,collapse='+')\n",
    "t5_Coeff_features_regression_formula <- paste(\"Crime~ \",\n",
    "                                              t5_Coeff_features_regression_formula,\n",
    "                                              sep=' ')\n",
    "t5_Coeff_features_regression_formula"
   ]
  },
  {
   "cell_type": "code",
   "execution_count": 35,
   "metadata": {
    "collapsed": true
   },
   "outputs": [],
   "source": [
    "m3_t5_important_features_all_data_train_model <-\n",
    "    lm(t5_Coeff_features_regression_formula,\n",
    "       split_data_set$train)"
   ]
  },
  {
   "cell_type": "markdown",
   "metadata": {},
   "source": [
    "\n",
    "\n",
    "### Top 5 important features linear regression training model summary\n",
    "\n"
   ]
  },
  {
   "cell_type": "code",
   "execution_count": 36,
   "metadata": {},
   "outputs": [
    {
     "data": {
      "text/plain": [
       "\n",
       "Call:\n",
       "lm(formula = t5_Coeff_features_regression_formula, data = split_data_set$train)\n",
       "\n",
       "Residuals:\n",
       "   Min     1Q Median     3Q    Max \n",
       "-402.8  -98.8  -22.7  120.3  638.6 \n",
       "\n",
       "Coefficients:\n",
       "            Estimate Std. Error t value Pr(>|t|)    \n",
       "(Intercept) -5317.41    1006.50  -5.283 8.00e-06 ***\n",
       "Ed            201.28      49.34   4.079 0.000269 ***\n",
       "Po1           117.09      15.59   7.511 1.23e-08 ***\n",
       "U2            103.08      48.77   2.114 0.042175 *  \n",
       "Ineq           74.15      15.87   4.673 4.82e-05 ***\n",
       "M              96.88      38.36   2.525 0.016538 *  \n",
       "---\n",
       "Signif. codes:  0 '***' 0.001 '**' 0.01 '*' 0.05 '.' 0.1 ' ' 1\n",
       "\n",
       "Residual standard error: 213.2 on 33 degrees of freedom\n",
       "Multiple R-squared:  0.7053,\tAdjusted R-squared:  0.6606 \n",
       "F-statistic: 15.79 on 5 and 33 DF,  p-value: 6.076e-08\n"
      ]
     },
     "metadata": {},
     "output_type": "display_data"
    }
   ],
   "source": [
    "summary(m3_t5_important_features_all_data_train_model)"
   ]
  },
  {
   "cell_type": "code",
   "execution_count": 37,
   "metadata": {},
   "outputs": [
    {
     "data": {
      "text/html": [
       "0.910042705606833"
      ],
      "text/latex": [
       "0.910042705606833"
      ],
      "text/markdown": [
       "0.910042705606833"
      ],
      "text/plain": [
       "[1] 0.9100427"
      ]
     },
     "metadata": {},
     "output_type": "display_data"
    }
   ],
   "source": [
    "# Model with most important features present performance vs model with all attributes performance\n",
    "\n",
    "0.6606/0.7259"
   ]
  },
  {
   "cell_type": "markdown",
   "metadata": {},
   "source": [
    "\n",
    "\n",
    "From the summaries of both our first model m1 and our third model m3, we can see that the model m3 which contains only the top 5 predictors (determined by coefficient values) captures ~ 91% of the behavior of model m1 as evidenced by their adjusted R squared value (0.6606/0.7259) on the training data set. Adjusted R squared should not be the only model selection criteria used to determine the optimal model, however, it gives us an easy means to quickly compare two models performance. For more on model selection see awesome reference below:\n",
    "\n",
    "http://statweb.stanford.edu/~jtaylo/courses/stats203/notes/selection.pdf\n",
    "\n"
   ]
  },
  {
   "cell_type": "markdown",
   "metadata": {},
   "source": [
    "\n",
    "\n",
    "### Top 5 important features linear regression training model plots\n",
    "\n"
   ]
  },
  {
   "cell_type": "code",
   "execution_count": 38,
   "metadata": {},
   "outputs": [
    {
     "data": {
      "image/png": "[encoded data removed]",
      "text/plain": [
       "Plot with title \"\""
      ]
     },
     "metadata": {},
     "output_type": "display_data"
    },
    {
     "data": {
      "image/png": "[encoded data removed]",
      "text/plain": [
       "Plot with title \"\""
      ]
     },
     "metadata": {},
     "output_type": "display_data"
    },
    {
     "data": {
      "image/png": "[encoded data removed]",
      "text/plain": [
       "Plot with title \"\""
      ]
     },
     "metadata": {},
     "output_type": "display_data"
    },
    {
     "data": {
      "image/png": "[encoded data removed]",
      "text/plain": [
       "Plot with title \"\""
      ]
     },
     "metadata": {},
     "output_type": "display_data"
    }
   ],
   "source": [
    "plot(m3_t5_important_features_all_data_train_model)"
   ]
  },
  {
   "cell_type": "markdown",
   "metadata": {},
   "source": [
    "\n",
    "\n",
    "### Top 5 important features linear regression model prediction error on validation set\n",
    "\n",
    "Now we are ready to make predictions on our validation dataset. Models m1 and m3 are to be compared based on their performance on the validation dataset. I will use root MSE to compare the two, but first let's calculate MSE for model m3.\n",
    "\n"
   ]
  },
  {
   "cell_type": "code",
   "execution_count": 39,
   "metadata": {},
   "outputs": [
    {
     "data": {
      "text/html": [
       "<table>\n",
       "<thead><tr><th></th><th scope=col>pred</th><th scope=col>real</th></tr></thead>\n",
       "<tbody>\n",
       "\t<tr><th scope=row>13</th><td> 766.7992</td><td> 511     </td></tr>\n",
       "\t<tr><th scope=row>15</th><td> 974.4994</td><td> 798     </td></tr>\n",
       "\t<tr><th scope=row>16</th><td>1093.9337</td><td> 946     </td></tr>\n",
       "\t<tr><th scope=row>22</th><td> 942.3151</td><td> 439     </td></tr>\n",
       "\t<tr><th scope=row>26</th><td>1810.3020</td><td>1993     </td></tr>\n",
       "\t<tr><th scope=row>39</th><td> 833.5371</td><td> 826     </td></tr>\n",
       "\t<tr><th scope=row>43</th><td>1062.1351</td><td> 823     </td></tr>\n",
       "\t<tr><th scope=row>45</th><td> 731.7522</td><td> 455     </td></tr>\n",
       "</tbody>\n",
       "</table>\n"
      ],
      "text/latex": [
       "\\begin{tabular}{r|ll}\n",
       "  & pred & real\\\\\n",
       "\\hline\n",
       "\t13 &  766.7992 &  511     \\\\\n",
       "\t15 &  974.4994 &  798     \\\\\n",
       "\t16 & 1093.9337 &  946     \\\\\n",
       "\t22 &  942.3151 &  439     \\\\\n",
       "\t26 & 1810.3020 & 1993     \\\\\n",
       "\t39 &  833.5371 &  826     \\\\\n",
       "\t43 & 1062.1351 &  823     \\\\\n",
       "\t45 &  731.7522 &  455     \\\\\n",
       "\\end{tabular}\n"
      ],
      "text/markdown": [
       "\n",
       "| <!--/--> | pred | real | \n",
       "|---|---|---|---|---|---|---|---|\n",
       "| 13 |  766.7992 |  511      | \n",
       "| 15 |  974.4994 |  798      | \n",
       "| 16 | 1093.9337 |  946      | \n",
       "| 22 |  942.3151 |  439      | \n",
       "| 26 | 1810.3020 | 1993      | \n",
       "| 39 |  833.5371 |  826      | \n",
       "| 43 | 1062.1351 |  823      | \n",
       "| 45 |  731.7522 |  455      | \n",
       "\n",
       "\n"
      ],
      "text/plain": [
       "   pred      real\n",
       "13  766.7992  511\n",
       "15  974.4994  798\n",
       "16 1093.9337  946\n",
       "22  942.3151  439\n",
       "26 1810.3020 1993\n",
       "39  833.5371  826\n",
       "43 1062.1351  823\n",
       "45  731.7522  455"
      ]
     },
     "metadata": {},
     "output_type": "display_data"
    },
    {
     "name": "stdout",
     "output_type": "stream",
     "text": [
      "Model MSE:  67376.06"
     ]
    }
   ],
   "source": [
    "m3_t5_significant_features_model_validation_preds <-\n",
    "    predict(m3_t5_important_features_all_data_train_model,\n",
    "            split_data_set$validate[-16])\n",
    "\n",
    "m3_t5_significant_features_model_validation_results <-\n",
    "    cbind(m3_t5_significant_features_model_validation_preds,\n",
    "          split_data_set$validate[16]) \n",
    "\n",
    "colnames(m3_t5_significant_features_model_validation_results) <-\n",
    "    c('pred','real')\n",
    "\n",
    "m3_t5_significant_features_results <-\n",
    "    as.data.frame(m3_t5_significant_features_model_validation_results)\n",
    "m3_t5_significant_features_model_validation_results\n",
    "\n",
    "m3_t5_significant_features_model_mse <-\n",
    "    mean((m3_t5_significant_features_model_validation_results$real-\n",
    "          m3_t5_significant_features_model_validation_results$pred)^2)\n",
    "\n",
    "cat(\"Model MSE: \",m3_t5_significant_features_model_mse)"
   ]
  },
  {
   "cell_type": "code",
   "execution_count": 40,
   "metadata": {},
   "outputs": [
    {
     "name": "stdout",
     "output_type": "stream",
     "text": [
      "Model Root MSE:  259.569"
     ]
    }
   ],
   "source": [
    "# Model mean squared error\n",
    "cat(\"Model Root MSE: \",m3_t5_significant_features_model_mse ^ 0.5)"
   ]
  },
  {
   "cell_type": "markdown",
   "metadata": {},
   "source": [
    "\n",
    "\n",
    "## Cross-validated model 4\n",
    "\n"
   ]
  },
  {
   "cell_type": "code",
   "execution_count": 41,
   "metadata": {},
   "outputs": [
    {
     "data": {
      "text/html": [
       "<ol class=list-inline>\n",
       "\t<li>'Ed'</li>\n",
       "\t<li>'Po1'</li>\n",
       "\t<li>'U2'</li>\n",
       "\t<li>'Ineq'</li>\n",
       "\t<li>'M'</li>\n",
       "</ol>\n"
      ],
      "text/latex": [
       "\\begin{enumerate*}\n",
       "\\item 'Ed'\n",
       "\\item 'Po1'\n",
       "\\item 'U2'\n",
       "\\item 'Ineq'\n",
       "\\item 'M'\n",
       "\\end{enumerate*}\n"
      ],
      "text/markdown": [
       "1. 'Ed'\n",
       "2. 'Po1'\n",
       "3. 'U2'\n",
       "4. 'Ineq'\n",
       "5. 'M'\n",
       "\n",
       "\n"
      ],
      "text/plain": [
       "[1] \"Ed\"   \"Po1\"  \"U2\"   \"Ineq\" \"M\"   "
      ]
     },
     "metadata": {},
     "output_type": "display_data"
    }
   ],
   "source": [
    "m1_t5_highest_coefficients"
   ]
  },
  {
   "cell_type": "code",
   "execution_count": 42,
   "metadata": {},
   "outputs": [
    {
     "data": {
      "text/html": [
       "<span style=white-space:pre-wrap>'Crime~  Ed+Po1+U2+Ineq+M'</span>"
      ],
      "text/latex": [
       "'Crime\\textasciitilde{}  Ed+Po1+U2+Ineq+M'"
      ],
      "text/markdown": [
       "<span style=white-space:pre-wrap>'Crime~  Ed+Po1+U2+Ineq+M'</span>"
      ],
      "text/plain": [
       "[1] \"Crime~  Ed+Po1+U2+Ineq+M\""
      ]
     },
     "metadata": {},
     "output_type": "display_data"
    }
   ],
   "source": [
    "t5_Coeff_features_regression_formula"
   ]
  },
  {
   "cell_type": "code",
   "execution_count": 43,
   "metadata": {
    "collapsed": true
   },
   "outputs": [],
   "source": [
    "m4_t5_significant_features_model_cv <- train(Crime~ U2+Po1+Ed+M+Ineq,\n",
    "                                            rbind(split_data_set$train,\n",
    "                                            split_data_set$validate),\n",
    "                                            method = \"lm\",\n",
    "                                            trControl=train_control)"
   ]
  },
  {
   "cell_type": "code",
   "execution_count": 44,
   "metadata": {},
   "outputs": [
    {
     "data": {
      "text/plain": [
       "Linear Regression \n",
       "\n",
       "47 samples\n",
       " 5 predictor\n",
       "\n",
       "No pre-processing\n",
       "Resampling: Cross-Validated (10 fold, repeated 5 times) \n",
       "Summary of sample sizes: 41, 43, 43, 42, 43, 43, ... \n",
       "Resampling results:\n",
       "\n",
       "  RMSE      Rsquared \n",
       "  213.5381  0.6685979\n",
       "\n",
       "Tuning parameter 'intercept' was held constant at a value of TRUE"
      ]
     },
     "metadata": {},
     "output_type": "display_data"
    }
   ],
   "source": [
    "m4_t5_significant_features_model_cv"
   ]
  },
  {
   "cell_type": "markdown",
   "metadata": {},
   "source": [
    "\n",
    "\n",
    "### Cross-validated all features linear regression model 4 training model summary\n",
    "\n"
   ]
  },
  {
   "cell_type": "code",
   "execution_count": 45,
   "metadata": {},
   "outputs": [
    {
     "data": {
      "text/plain": [
       "\n",
       "Call:\n",
       "lm(formula = .outcome ~ ., data = dat)\n",
       "\n",
       "Residuals:\n",
       "    Min      1Q  Median      3Q     Max \n",
       "-453.44  -98.59  -18.07  106.03  629.64 \n",
       "\n",
       "Coefficients:\n",
       "            Estimate Std. Error t value Pr(>|t|)    \n",
       "(Intercept) -5243.74     951.16  -5.513 2.13e-06 ***\n",
       "U2             91.36      43.41   2.105 0.041496 *  \n",
       "Po1           123.31      14.16   8.706 7.26e-11 ***\n",
       "Ed            203.08      47.42   4.283 0.000109 ***\n",
       "M             101.98      35.32   2.887 0.006175 ** \n",
       "Ineq           63.49      14.68   4.324 9.56e-05 ***\n",
       "---\n",
       "Signif. codes:  0 '***' 0.001 '**' 0.01 '*' 0.05 '.' 0.1 ' ' 1\n",
       "\n",
       "Residual standard error: 213 on 41 degrees of freedom\n",
       "Multiple R-squared:  0.7296,\tAdjusted R-squared:  0.6967 \n",
       "F-statistic: 22.13 on 5 and 41 DF,  p-value: 1.105e-10\n"
      ]
     },
     "metadata": {},
     "output_type": "display_data"
    }
   ],
   "source": [
    "summary(m4_t5_significant_features_model_cv)"
   ]
  },
  {
   "cell_type": "markdown",
   "metadata": {},
   "source": [
    "\n",
    "\n",
    "### Cross-validated model 4 accuracy\n",
    "\n"
   ]
  },
  {
   "cell_type": "code",
   "execution_count": 46,
   "metadata": {},
   "outputs": [
    {
     "data": {
      "text/html": [
       "0.668597886986643"
      ],
      "text/latex": [
       "0.668597886986643"
      ],
      "text/markdown": [
       "0.668597886986643"
      ],
      "text/plain": [
       "[1] 0.6685979"
      ]
     },
     "metadata": {},
     "output_type": "display_data"
    }
   ],
   "source": [
    "m4_t5_significant_features_model_cv$results$Rsquared"
   ]
  },
  {
   "cell_type": "markdown",
   "metadata": {},
   "source": [
    "\n",
    "\n",
    "### Cross-validated model 4 error\n",
    "\n"
   ]
  },
  {
   "cell_type": "code",
   "execution_count": 47,
   "metadata": {},
   "outputs": [
    {
     "data": {
      "text/html": [
       "0.331402113013357"
      ],
      "text/latex": [
       "0.331402113013357"
      ],
      "text/markdown": [
       "0.331402113013357"
      ],
      "text/plain": [
       "[1] 0.3314021"
      ]
     },
     "metadata": {},
     "output_type": "display_data"
    }
   ],
   "source": [
    "1-m4_t5_significant_features_model_cv$results$Rsquared"
   ]
  },
  {
   "cell_type": "markdown",
   "metadata": {},
   "source": [
    "\n",
    "\n",
    "### Comparing all features model with top 5 features model performance\n",
    "\n"
   ]
  },
  {
   "cell_type": "code",
   "execution_count": 48,
   "metadata": {},
   "outputs": [
    {
     "name": "stdout",
     "output_type": "stream",
     "text": [
      "Split data models: \n",
      "\n",
      "Model 1 All Features Split Data Root MSE:  386.5569\n",
      "Model 3 Top 5 Features Split Data Root MSE:  259.569\n",
      "\n",
      "Cross-validation models: \n",
      "\n",
      "Model 2 All Features Cross-Validated Rsquared:  0.5984653\n",
      "Model 4 Top 5 Features Cross-Validated RSquared:  0.6685979"
     ]
    }
   ],
   "source": [
    "\n",
    "\n",
    "### Comparing all features model with top 5 features model performance\n",
    "\n",
    "# Root mean squared error\n",
    "cat('Split data models: \\n\\n')\n",
    "cat(\"Model 1 All Features Split Data Root MSE: \",\n",
    "    m1_all_features_mse ^ 0.5)\n",
    "cat('\\n')\n",
    "cat(\"Model 3 Top 5 Features Split Data Root MSE: \",\n",
    "    m3_t5_significant_features_model_mse ^ 0.5)\n",
    "cat('\\n\\nCross-validation models: \\n\\n')\n",
    "cat(\"Model 2 All Features Cross-Validated Rsquared: \",\n",
    "    m2_all_features_model_cv$results$Rsquared)\n",
    "cat('\\n')\n",
    "cat(\"Model 4 Top 5 Features Cross-Validated RSquared: \",\n",
    "    m4_t5_significant_features_model_cv$results$Rsquared)"
   ]
  },
  {
   "cell_type": "markdown",
   "metadata": {},
   "source": [
    "\n",
    "\n",
    "## Linear regression model all features trained on all data points performance on test set\n",
    "\n",
    "Let's use all data and all features in the linear rgeression model and train. After training we will predict on the test point.\n",
    "\n"
   ]
  },
  {
   "cell_type": "code",
   "execution_count": 49,
   "metadata": {},
   "outputs": [
    {
     "data": {
      "text/html": [
       "<table>\n",
       "<thead><tr><th scope=col>M</th><th scope=col>So</th><th scope=col>Ed</th><th scope=col>Po1</th><th scope=col>Po2</th><th scope=col>LF</th><th scope=col>M.F</th><th scope=col>Pop</th><th scope=col>NW</th><th scope=col>U1</th><th scope=col>U2</th><th scope=col>Wealth</th><th scope=col>Ineq</th><th scope=col>Prob</th><th scope=col>Time</th></tr></thead>\n",
       "<tbody>\n",
       "\t<tr><td>14  </td><td>0   </td><td>10  </td><td>12  </td><td>15.5</td><td>0.64</td><td>94  </td><td>150 </td><td>1.1 </td><td>0.12</td><td>3.6 </td><td>3200</td><td>20.1</td><td>0.04</td><td>39  </td></tr>\n",
       "</tbody>\n",
       "</table>\n"
      ],
      "text/latex": [
       "\\begin{tabular}{r|lllllllllllllll}\n",
       " M & So & Ed & Po1 & Po2 & LF & M.F & Pop & NW & U1 & U2 & Wealth & Ineq & Prob & Time\\\\\n",
       "\\hline\n",
       "\t 14   & 0    & 10   & 12   & 15.5 & 0.64 & 94   & 150  & 1.1  & 0.12 & 3.6  & 3200 & 20.1 & 0.04 & 39  \\\\\n",
       "\\end{tabular}\n"
      ],
      "text/markdown": [
       "\n",
       "M | So | Ed | Po1 | Po2 | LF | M.F | Pop | NW | U1 | U2 | Wealth | Ineq | Prob | Time | \n",
       "|---|\n",
       "| 14   | 0    | 10   | 12   | 15.5 | 0.64 | 94   | 150  | 1.1  | 0.12 | 3.6  | 3200 | 20.1 | 0.04 | 39   | \n",
       "\n",
       "\n"
      ],
      "text/plain": [
       "  M  So Ed Po1 Po2  LF   M.F Pop NW  U1   U2  Wealth Ineq Prob Time\n",
       "1 14 0  10 12  15.5 0.64 94  150 1.1 0.12 3.6 3200   20.1 0.04 39  "
      ]
     },
     "metadata": {},
     "output_type": "display_data"
    }
   ],
   "source": [
    "# test set\n",
    "test <- data.frame(M = 14.0,\n",
    "                   So = 0,\n",
    "                   Ed = 10.0,\n",
    "                   Po1 = 12.0,\n",
    "                   Po2 = 15.5,\n",
    "                   LF = 0.640,\n",
    "                   M.F = 94.0,\n",
    "                   Pop = 150,\n",
    "                   NW = 1.1,\n",
    "                   U1 = 0.120,\n",
    "                   U2 = 3.6,\n",
    "                   Wealth = 3200,\n",
    "                   Ineq = 20.1,\n",
    "                   Prob = 0.04,\n",
    "                   Time = 39.0)\n",
    "test"
   ]
  },
  {
   "cell_type": "code",
   "execution_count": 50,
   "metadata": {
    "collapsed": true
   },
   "outputs": [],
   "source": [
    "m5_final_model_all_features <- lm(Crime~ .,data)\n",
    "m5_final_model_t5_features <- lm(Crime~ U2+Po1+Ed+M+Ineq,data)"
   ]
  },
  {
   "cell_type": "code",
   "execution_count": 51,
   "metadata": {},
   "outputs": [
    {
     "name": "stdout",
     "output_type": "stream",
     "text": [
      "All features Test point Crime:  155.4349"
     ]
    }
   ],
   "source": [
    "m5_final_model_all_feats_test_pred <-\n",
    "    predict(m5_final_model_all_features,test)\n",
    "\n",
    "cat(\"All features Test point Crime: \",m5_final_model_all_feats_test_pred)"
   ]
  },
  {
   "cell_type": "markdown",
   "metadata": {},
   "source": [
    "\n",
    "\n",
    "The predicted value for Crime from the model with all features is way too low compared to the model output of the top 5 features linear regression model. More evidence for better feature selection.\n",
    "\n"
   ]
  },
  {
   "cell_type": "markdown",
   "metadata": {},
   "source": [
    "\n",
    "\n",
    "## Linear regression model t5 features trained on all data points performance on test set\n",
    "\n",
    "Let's use all data and only the top 5 contributing features in the linear regression model and train. After training we will predict on the test point.\n",
    "\n"
   ]
  },
  {
   "cell_type": "code",
   "execution_count": 52,
   "metadata": {},
   "outputs": [
    {
     "data": {
      "text/html": [
       "<table>\n",
       "<thead><tr><th scope=col>M</th><th scope=col>Ed</th><th scope=col>Po1</th><th scope=col>U2</th><th scope=col>Ineq</th></tr></thead>\n",
       "<tbody>\n",
       "\t<tr><td>14  </td><td>10  </td><td>12  </td><td>3.6 </td><td>20.1</td></tr>\n",
       "</tbody>\n",
       "</table>\n"
      ],
      "text/latex": [
       "\\begin{tabular}{r|lllll}\n",
       " M & Ed & Po1 & U2 & Ineq\\\\\n",
       "\\hline\n",
       "\t 14   & 10   & 12   & 3.6  & 20.1\\\\\n",
       "\\end{tabular}\n"
      ],
      "text/markdown": [
       "\n",
       "M | Ed | Po1 | U2 | Ineq | \n",
       "|---|\n",
       "| 14   | 10   | 12   | 3.6  | 20.1 | \n",
       "\n",
       "\n"
      ],
      "text/plain": [
       "  M  Ed Po1 U2  Ineq\n",
       "1 14 10 12  3.6 20.1"
      ]
     },
     "metadata": {},
     "output_type": "display_data"
    }
   ],
   "source": [
    "test_points_t5_attributes <-\n",
    "    test[colnames(test) %in% m1_t5_highest_coefficients]\n",
    "\n",
    "test_points_t5_attributes"
   ]
  },
  {
   "cell_type": "code",
   "execution_count": 53,
   "metadata": {
    "collapsed": true
   },
   "outputs": [],
   "source": [
    "m6_final_model_t5_features <-\n",
    "    lm(t5_Coeff_features_regression_formula,data)"
   ]
  },
  {
   "cell_type": "markdown",
   "metadata": {},
   "source": [
    "\n",
    "\n",
    "### Final t5 feature model summary\n",
    "\n"
   ]
  },
  {
   "cell_type": "code",
   "execution_count": 54,
   "metadata": {},
   "outputs": [
    {
     "data": {
      "text/plain": [
       "\n",
       "Call:\n",
       "lm(formula = t5_Coeff_features_regression_formula, data = data)\n",
       "\n",
       "Residuals:\n",
       "    Min      1Q  Median      3Q     Max \n",
       "-453.44  -98.59  -18.07  106.03  629.64 \n",
       "\n",
       "Coefficients:\n",
       "            Estimate Std. Error t value Pr(>|t|)    \n",
       "(Intercept) -5243.74     951.16  -5.513 2.13e-06 ***\n",
       "Ed            203.08      47.42   4.283 0.000109 ***\n",
       "Po1           123.31      14.16   8.706 7.26e-11 ***\n",
       "U2             91.36      43.41   2.105 0.041496 *  \n",
       "Ineq           63.49      14.68   4.324 9.56e-05 ***\n",
       "M             101.98      35.32   2.887 0.006175 ** \n",
       "---\n",
       "Signif. codes:  0 '***' 0.001 '**' 0.01 '*' 0.05 '.' 0.1 ' ' 1\n",
       "\n",
       "Residual standard error: 213 on 41 degrees of freedom\n",
       "Multiple R-squared:  0.7296,\tAdjusted R-squared:  0.6967 \n",
       "F-statistic: 22.13 on 5 and 41 DF,  p-value: 1.105e-10\n"
      ]
     },
     "metadata": {},
     "output_type": "display_data"
    }
   ],
   "source": [
    "summary(m6_final_model_t5_features)"
   ]
  },
  {
   "cell_type": "code",
   "execution_count": 56,
   "metadata": {},
   "outputs": [
    {
     "name": "stdout",
     "output_type": "stream",
     "text": [
      "All features Test point Crime:  155.4349\n",
      "Top 5 features Test point Crime:  1299.626"
     ]
    }
   ],
   "source": [
    "cat(\"All features Test point Crime: \",m5_final_model_all_feats_test_pred)\n",
    "cat(\"\\n\")\n",
    "\n",
    "cat(\"Top 5 features Test point Crime: \",m6_final_model_t5_pred)"
   ]
  },
  {
   "cell_type": "markdown",
   "metadata": {
    "collapsed": true
   },
   "source": [
    "\n",
    "\n",
    "This value seems much more consistent with its nearest neighbors predictions for crime. The main takeaways from this exercise are always perform cross-validation to minimize bias and the chance of overfitting and strive to create simpler models that rely on fewer attributes. Our optimal model ended up being the model that used the top 5 contributing features to `Crime`. One final takeaway is to holistically evaluate models and not just conduct model selection using a single value of model accuracy. Our optimal model still had to pass the sanity check for the `Crime` value predicted.\n",
    "\n"
   ]
  }
 ],
 "metadata": {
  "anaconda-cloud": {},
  "kernelspec": {
   "display_name": "R",
   "language": "R",
   "name": "ir"
  },
  "language_info": {
   "codemirror_mode": "r",
   "file_extension": ".r",
   "mimetype": "text/x-r-source",
   "name": "R",
   "pygments_lexer": "r",
   "version": "3.4.3"
  }
 },
 "nbformat": 4,
 "nbformat_minor": 2
}
